{
 "cells": [
  {
   "cell_type": "code",
   "execution_count": 168,
   "metadata": {},
   "outputs": [],
   "source": [
    "import time\n",
    "import pandas as pd\n",
    "import numpy as np\n",
    "from tqdm import tqdm\n",
    "import os\n",
    "import utils # written by author\n",
    "from glob import glob\n",
    "from datetime import datetime\n",
    "import gc # for automatic releasing memory"
   ]
  },
  {
   "cell_type": "code",
   "execution_count": 98,
   "metadata": {},
   "outputs": [
    {
     "name": "stderr",
     "output_type": "stream",
     "text": [
      "100%|██████████| 4/4 [00:30<00:00,  7.74s/it]\n"
     ]
    }
   ],
   "source": [
    "##################################################\n",
    "# Load transaction \n",
    "##################################################\n",
    "col = ['msno','transaction_date','membership_expire_date','is_cancel']\n",
    "transactions = utils.read_multiple_csv('../input/preprocessed_data/transactions', col)\n"
   ]
  },
  {
   "cell_type": "code",
   "execution_count": 99,
   "metadata": {},
   "outputs": [
    {
     "data": {
      "text/html": [
       "<div>\n",
       "<style scoped>\n",
       "    .dataframe tbody tr th:only-of-type {\n",
       "        vertical-align: middle;\n",
       "    }\n",
       "\n",
       "    .dataframe tbody tr th {\n",
       "        vertical-align: top;\n",
       "    }\n",
       "\n",
       "    .dataframe thead th {\n",
       "        text-align: right;\n",
       "    }\n",
       "</style>\n",
       "<table border=\"1\" class=\"dataframe\">\n",
       "  <thead>\n",
       "    <tr style=\"text-align: right;\">\n",
       "      <th></th>\n",
       "      <th>msno</th>\n",
       "      <th>transaction_date</th>\n",
       "      <th>membership_expire_date</th>\n",
       "      <th>is_cancel</th>\n",
       "    </tr>\n",
       "  </thead>\n",
       "  <tbody>\n",
       "    <tr>\n",
       "      <th>654</th>\n",
       "      <td>++7Fx1LQKDAsjctHxn6p+YoSDe9iniEhjosrxBNFR6A=</td>\n",
       "      <td>2015-07-25</td>\n",
       "      <td>2015-08-25</td>\n",
       "      <td>0</td>\n",
       "    </tr>\n",
       "    <tr>\n",
       "      <th>655</th>\n",
       "      <td>++7Fx1LQKDAsjctHxn6p+YoSDe9iniEhjosrxBNFR6A=</td>\n",
       "      <td>2015-08-25</td>\n",
       "      <td>2015-09-25</td>\n",
       "      <td>0</td>\n",
       "    </tr>\n",
       "    <tr>\n",
       "      <th>656</th>\n",
       "      <td>++7Fx1LQKDAsjctHxn6p+YoSDe9iniEhjosrxBNFR6A=</td>\n",
       "      <td>2015-09-25</td>\n",
       "      <td>2015-10-25</td>\n",
       "      <td>0</td>\n",
       "    </tr>\n",
       "    <tr>\n",
       "      <th>657</th>\n",
       "      <td>++7Fx1LQKDAsjctHxn6p+YoSDe9iniEhjosrxBNFR6A=</td>\n",
       "      <td>2015-10-25</td>\n",
       "      <td>2015-11-25</td>\n",
       "      <td>0</td>\n",
       "    </tr>\n",
       "    <tr>\n",
       "      <th>658</th>\n",
       "      <td>++7Fx1LQKDAsjctHxn6p+YoSDe9iniEhjosrxBNFR6A=</td>\n",
       "      <td>2015-11-25</td>\n",
       "      <td>2015-12-25</td>\n",
       "      <td>0</td>\n",
       "    </tr>\n",
       "    <tr>\n",
       "      <th>659</th>\n",
       "      <td>++7Fx1LQKDAsjctHxn6p+YoSDe9iniEhjosrxBNFR6A=</td>\n",
       "      <td>2015-12-25</td>\n",
       "      <td>2016-01-25</td>\n",
       "      <td>0</td>\n",
       "    </tr>\n",
       "    <tr>\n",
       "      <th>660</th>\n",
       "      <td>++7Fx1LQKDAsjctHxn6p+YoSDe9iniEhjosrxBNFR6A=</td>\n",
       "      <td>2016-01-25</td>\n",
       "      <td>2016-02-25</td>\n",
       "      <td>0</td>\n",
       "    </tr>\n",
       "    <tr>\n",
       "      <th>661</th>\n",
       "      <td>++7Fx1LQKDAsjctHxn6p+YoSDe9iniEhjosrxBNFR6A=</td>\n",
       "      <td>2016-02-25</td>\n",
       "      <td>2016-03-25</td>\n",
       "      <td>0</td>\n",
       "    </tr>\n",
       "    <tr>\n",
       "      <th>662</th>\n",
       "      <td>++7Fx1LQKDAsjctHxn6p+YoSDe9iniEhjosrxBNFR6A=</td>\n",
       "      <td>2016-03-25</td>\n",
       "      <td>2016-04-25</td>\n",
       "      <td>0</td>\n",
       "    </tr>\n",
       "    <tr>\n",
       "      <th>663</th>\n",
       "      <td>++7Fx1LQKDAsjctHxn6p+YoSDe9iniEhjosrxBNFR6A=</td>\n",
       "      <td>2016-04-25</td>\n",
       "      <td>2016-05-25</td>\n",
       "      <td>0</td>\n",
       "    </tr>\n",
       "    <tr>\n",
       "      <th>664</th>\n",
       "      <td>++7Fx1LQKDAsjctHxn6p+YoSDe9iniEhjosrxBNFR6A=</td>\n",
       "      <td>2016-05-25</td>\n",
       "      <td>2016-06-25</td>\n",
       "      <td>0</td>\n",
       "    </tr>\n",
       "    <tr>\n",
       "      <th>665</th>\n",
       "      <td>++7Fx1LQKDAsjctHxn6p+YoSDe9iniEhjosrxBNFR6A=</td>\n",
       "      <td>2016-06-25</td>\n",
       "      <td>2016-07-25</td>\n",
       "      <td>0</td>\n",
       "    </tr>\n",
       "    <tr>\n",
       "      <th>666</th>\n",
       "      <td>++7Fx1LQKDAsjctHxn6p+YoSDe9iniEhjosrxBNFR6A=</td>\n",
       "      <td>2016-07-25</td>\n",
       "      <td>2016-08-25</td>\n",
       "      <td>0</td>\n",
       "    </tr>\n",
       "    <tr>\n",
       "      <th>667</th>\n",
       "      <td>++7Fx1LQKDAsjctHxn6p+YoSDe9iniEhjosrxBNFR6A=</td>\n",
       "      <td>2016-08-25</td>\n",
       "      <td>2016-09-25</td>\n",
       "      <td>0</td>\n",
       "    </tr>\n",
       "    <tr>\n",
       "      <th>668</th>\n",
       "      <td>++7Fx1LQKDAsjctHxn6p+YoSDe9iniEhjosrxBNFR6A=</td>\n",
       "      <td>2016-09-25</td>\n",
       "      <td>2016-10-25</td>\n",
       "      <td>0</td>\n",
       "    </tr>\n",
       "    <tr>\n",
       "      <th>669</th>\n",
       "      <td>++7Fx1LQKDAsjctHxn6p+YoSDe9iniEhjosrxBNFR6A=</td>\n",
       "      <td>2016-10-25</td>\n",
       "      <td>2016-11-25</td>\n",
       "      <td>0</td>\n",
       "    </tr>\n",
       "    <tr>\n",
       "      <th>670</th>\n",
       "      <td>++7Fx1LQKDAsjctHxn6p+YoSDe9iniEhjosrxBNFR6A=</td>\n",
       "      <td>2016-11-25</td>\n",
       "      <td>2016-12-25</td>\n",
       "      <td>0</td>\n",
       "    </tr>\n",
       "    <tr>\n",
       "      <th>671</th>\n",
       "      <td>++7Fx1LQKDAsjctHxn6p+YoSDe9iniEhjosrxBNFR6A=</td>\n",
       "      <td>2016-12-25</td>\n",
       "      <td>2017-01-25</td>\n",
       "      <td>0</td>\n",
       "    </tr>\n",
       "    <tr>\n",
       "      <th>672</th>\n",
       "      <td>++7Fx1LQKDAsjctHxn6p+YoSDe9iniEhjosrxBNFR6A=</td>\n",
       "      <td>2017-01-25</td>\n",
       "      <td>2017-02-25</td>\n",
       "      <td>0</td>\n",
       "    </tr>\n",
       "    <tr>\n",
       "      <th>673</th>\n",
       "      <td>++7Fx1LQKDAsjctHxn6p+YoSDe9iniEhjosrxBNFR6A=</td>\n",
       "      <td>2017-02-25</td>\n",
       "      <td>2017-03-25</td>\n",
       "      <td>0</td>\n",
       "    </tr>\n",
       "    <tr>\n",
       "      <th>674</th>\n",
       "      <td>++7Fx1LQKDAsjctHxn6p+YoSDe9iniEhjosrxBNFR6A=</td>\n",
       "      <td>2017-03-25</td>\n",
       "      <td>2017-04-25</td>\n",
       "      <td>0</td>\n",
       "    </tr>\n",
       "  </tbody>\n",
       "</table>\n",
       "</div>"
      ],
      "text/plain": [
       "                                             msno transaction_date  \\\n",
       "654  ++7Fx1LQKDAsjctHxn6p+YoSDe9iniEhjosrxBNFR6A=       2015-07-25   \n",
       "655  ++7Fx1LQKDAsjctHxn6p+YoSDe9iniEhjosrxBNFR6A=       2015-08-25   \n",
       "656  ++7Fx1LQKDAsjctHxn6p+YoSDe9iniEhjosrxBNFR6A=       2015-09-25   \n",
       "657  ++7Fx1LQKDAsjctHxn6p+YoSDe9iniEhjosrxBNFR6A=       2015-10-25   \n",
       "658  ++7Fx1LQKDAsjctHxn6p+YoSDe9iniEhjosrxBNFR6A=       2015-11-25   \n",
       "659  ++7Fx1LQKDAsjctHxn6p+YoSDe9iniEhjosrxBNFR6A=       2015-12-25   \n",
       "660  ++7Fx1LQKDAsjctHxn6p+YoSDe9iniEhjosrxBNFR6A=       2016-01-25   \n",
       "661  ++7Fx1LQKDAsjctHxn6p+YoSDe9iniEhjosrxBNFR6A=       2016-02-25   \n",
       "662  ++7Fx1LQKDAsjctHxn6p+YoSDe9iniEhjosrxBNFR6A=       2016-03-25   \n",
       "663  ++7Fx1LQKDAsjctHxn6p+YoSDe9iniEhjosrxBNFR6A=       2016-04-25   \n",
       "664  ++7Fx1LQKDAsjctHxn6p+YoSDe9iniEhjosrxBNFR6A=       2016-05-25   \n",
       "665  ++7Fx1LQKDAsjctHxn6p+YoSDe9iniEhjosrxBNFR6A=       2016-06-25   \n",
       "666  ++7Fx1LQKDAsjctHxn6p+YoSDe9iniEhjosrxBNFR6A=       2016-07-25   \n",
       "667  ++7Fx1LQKDAsjctHxn6p+YoSDe9iniEhjosrxBNFR6A=       2016-08-25   \n",
       "668  ++7Fx1LQKDAsjctHxn6p+YoSDe9iniEhjosrxBNFR6A=       2016-09-25   \n",
       "669  ++7Fx1LQKDAsjctHxn6p+YoSDe9iniEhjosrxBNFR6A=       2016-10-25   \n",
       "670  ++7Fx1LQKDAsjctHxn6p+YoSDe9iniEhjosrxBNFR6A=       2016-11-25   \n",
       "671  ++7Fx1LQKDAsjctHxn6p+YoSDe9iniEhjosrxBNFR6A=       2016-12-25   \n",
       "672  ++7Fx1LQKDAsjctHxn6p+YoSDe9iniEhjosrxBNFR6A=       2017-01-25   \n",
       "673  ++7Fx1LQKDAsjctHxn6p+YoSDe9iniEhjosrxBNFR6A=       2017-02-25   \n",
       "674  ++7Fx1LQKDAsjctHxn6p+YoSDe9iniEhjosrxBNFR6A=       2017-03-25   \n",
       "\n",
       "    membership_expire_date  is_cancel  \n",
       "654             2015-08-25          0  \n",
       "655             2015-09-25          0  \n",
       "656             2015-10-25          0  \n",
       "657             2015-11-25          0  \n",
       "658             2015-12-25          0  \n",
       "659             2016-01-25          0  \n",
       "660             2016-02-25          0  \n",
       "661             2016-03-25          0  \n",
       "662             2016-04-25          0  \n",
       "663             2016-05-25          0  \n",
       "664             2016-06-25          0  \n",
       "665             2016-07-25          0  \n",
       "666             2016-08-25          0  \n",
       "667             2016-09-25          0  \n",
       "668             2016-10-25          0  \n",
       "669             2016-11-25          0  \n",
       "670             2016-12-25          0  \n",
       "671             2017-01-25          0  \n",
       "672             2017-02-25          0  \n",
       "673             2017-03-25          0  \n",
       "674             2017-04-25          0  "
      ]
     },
     "execution_count": 99,
     "metadata": {},
     "output_type": "execute_result"
    }
   ],
   "source": [
    "transactions[transactions.msno == '++7Fx1LQKDAsjctHxn6p+YoSDe9iniEhjosrxBNFR6A=']"
   ]
  },
  {
   "cell_type": "code",
   "execution_count": 68,
   "metadata": {},
   "outputs": [
    {
     "name": "stdout",
     "output_type": "stream",
     "text": [
      "<class 'pandas.core.frame.DataFrame'>\n",
      "Int64Index: 22964064 entries, 0 to 5741015\n",
      "Data columns (total 4 columns):\n",
      "msno                      object\n",
      "transaction_date          object\n",
      "membership_expire_date    object\n",
      "is_cancel                 int64\n",
      "dtypes: int64(1), object(3)\n",
      "memory usage: 876.0+ MB\n"
     ]
    }
   ],
   "source": [
    "transactions.info()# 不要讀取此檔案用不到的欄位,可以大量減少讀進電腦的記憶體"
   ]
  },
  {
   "cell_type": "code",
   "execution_count": 15,
   "metadata": {},
   "outputs": [],
   "source": [
    "#transactions = transactions.sample(9999) # 為了加速, 後面要去掉"
   ]
  },
  {
   "cell_type": "code",
   "execution_count": 16,
   "metadata": {},
   "outputs": [
    {
     "data": {
      "text/plain": [
       "0.22436189651489258"
      ]
     },
     "execution_count": 16,
     "metadata": {},
     "output_type": "execute_result"
    }
   ],
   "source": [
    "# s = time.time()\n",
    "# ##################################################\n",
    "# # Convert string to datetime format\n",
    "# ##################################################\n",
    "# transactions['membership_expire_date']  = transactions.membership_expire_date.apply(lambda x: datetime.strptime(x, '%Y-%m-%d'))\n",
    "# transactions['transaction_date']  = transactions.transaction_date.apply(lambda x: datetime.strptime(x, '%Y-%m-%d'))\n",
    "# e = time.time()\n",
    "# e-s # 469.64"
   ]
  },
  {
   "cell_type": "code",
   "execution_count": 69,
   "metadata": {},
   "outputs": [],
   "source": [
    "##################################################\n",
    "# Load train set user and test set user\n",
    "##################################################\n",
    "train = pd.read_csv('../input/train_v2.csv') #只用這個檔案, 然後做data augmentation\n",
    "test = pd.read_csv('../input/sample_submission_v2.csv')\n"
   ]
  },
  {
   "cell_type": "code",
   "execution_count": 71,
   "metadata": {},
   "outputs": [
    {
     "name": "stdout",
     "output_type": "stream",
     "text": [
      "<class 'pandas.core.frame.DataFrame'>\n",
      "Int64Index: 16245636 entries, 0 to 16245635\n",
      "Data columns (total 5 columns):\n",
      "msno                      object\n",
      "is_churn                  int64\n",
      "transaction_date          object\n",
      "membership_expire_date    object\n",
      "is_cancel                 int64\n",
      "dtypes: int64(2), object(3)\n",
      "memory usage: 743.7+ MB\n"
     ]
    }
   ],
   "source": [
    "train.info()"
   ]
  },
  {
   "cell_type": "code",
   "execution_count": 70,
   "metadata": {},
   "outputs": [],
   "source": [
    "train = pd.merge(train, transactions, on = 'msno', how = 'left')"
   ]
  },
  {
   "cell_type": "code",
   "execution_count": 56,
   "metadata": {},
   "outputs": [
    {
     "name": "stdout",
     "output_type": "stream",
     "text": [
      "<class 'pandas.core.frame.DataFrame'>\n",
      "Int64Index: 16245636 entries, 0 to 16245635\n",
      "Data columns (total 5 columns):\n",
      "msno                      object\n",
      "is_churn                  int64\n",
      "transaction_date          object\n",
      "membership_expire_date    object\n",
      "is_cancel                 int64\n",
      "dtypes: int64(2), object(3)\n",
      "memory usage: 743.7+ MB\n"
     ]
    }
   ],
   "source": [
    "train.info()"
   ]
  },
  {
   "cell_type": "code",
   "execution_count": 72,
   "metadata": {},
   "outputs": [],
   "source": [
    "del transactions"
   ]
  },
  {
   "cell_type": "code",
   "execution_count": 73,
   "metadata": {},
   "outputs": [],
   "source": [
    "train.sort_values(by = ['msno','transaction_date'], inplace = True)\n",
    "train = train.head(n = 500)"
   ]
  },
  {
   "cell_type": "code",
   "execution_count": 76,
   "metadata": {},
   "outputs": [
    {
     "data": {
      "text/plain": [
       "2493.9629707336426"
      ]
     },
     "execution_count": 76,
     "metadata": {},
     "output_type": "execute_result"
    }
   ],
   "source": [
    "##################################################\n",
    "# Convert string to datetime format\n",
    "##################################################\n",
    "train['membership_expire_date']  = train.membership_expire_date.apply(lambda x: datetime.strptime(x, '%Y-%m-%d'))\n",
    "train['transaction_date']  = train.transaction_date.apply(lambda x: datetime.strptime(x, '%Y-%m-%d'))\n",
    "e = time.time()\n",
    "e-s # 469.64"
   ]
  },
  {
   "cell_type": "markdown",
   "metadata": {},
   "source": [
    "# 以下沒在官方文件發現, 是自己推斷（切記過分推斷, 怪異的都做noise不考慮)\n",
    "\n",
    "    # 1.如果可以當作預測的order發生兩次, 以最後一筆order當作判斷label的依據\n",
    "\n",
    "    # 2.如果剛好發生在check points(等號)貌似是churn\n",
    "    \n",
    "#Note:\n"
   ]
  },
  {
   "cell_type": "code",
   "execution_count": 183,
   "metadata": {},
   "outputs": [],
   "source": [
    "def filter_with_window_size(x, w = 0):\n",
    "    # w: window_size(short_window_back)\n",
    "    if w == 0:\n",
    "        df = x[(x.membership_expire_date >= datetime.strptime('2017-02-01', '%Y-%m-%d')  )\n",
    "                     &(x.membership_expire_date <= datetime.strptime('2017-02-28', '%Y-%m-%d')  )\n",
    "                     ] # 找出這個人在17年二月份中的有到期的交易紀錄\n",
    "        if df.empty:\n",
    "            # 如果這個交易紀錄是空的,把它濾掉\n",
    "            x['key'] = 1 # key = 1, 濾掉\n",
    "        else:\n",
    "            x['key'] = 0\n",
    "            x['w'] = w # # 代表這群人將會被預測在17年三月是否流失(true label is provided by train_v2)\n",
    "        return x\n",
    "    elif w == 1:\n",
    "        df = x[(x.membership_expire_date >= datetime.strptime('2017-01-01', '%Y-%m-%d')  )\n",
    "                     &(x.membership_expire_date <= datetime.strptime('2017-01-31', '%Y-%m-%d')  )\n",
    "                     ] # 找出這個人在17年一月份中的有到期的交易紀錄\n",
    "        if df.empty:\n",
    "            # 如果這個交易紀錄是空的,把它濾掉\n",
    "            x['key'] = 1 # key = 1, 濾掉\n",
    "        else:\n",
    "            x['key'] = 0\n",
    "            x['w'] = w # 代表這群人將會被預測在17年二月是否流失(true label is generated by below function)\n",
    "        return x\n",
    "    elif w == 2:\n",
    "        df = x[(x.membership_expire_date >= datetime.strptime('2016-12-01', '%Y-%m-%d')  )\n",
    "                     &(x.membership_expire_date <= datetime.strptime('2016-12-31', '%Y-%m-%d')  )\n",
    "                     ] # 找出這個人在16年十二月份中的有到期的交易紀錄\n",
    "        if df.empty:\n",
    "            # 如果這個交易紀錄是空的,把它濾掉\n",
    "            x['key'] = 1 # key = 1, 濾掉\n",
    "        else:\n",
    "            x['key'] = 0\n",
    "            x['w'] = w # 代表這群人將會被預測在17年一月是否流失(true label is generated by below function)\n",
    "        return x\n",
    "    \n",
    "def label_generation(x, w):\n",
    "    \n",
    "    if w == 1:\n",
    "        # 1. 先判斷哪一筆訂單的到期日是落17年在1月中\n",
    "        df = x[(x.membership_expire_date >= datetime.strptime('2017-01-01', '%Y-%m-%d')  )\n",
    "                         &(x.membership_expire_date <= datetime.strptime('2017-01-31', '%Y-%m-%d')  )\n",
    "                         ].tail(n = 1) #如果df有兩筆,取最後一筆\n",
    "        # 2.find check point\n",
    "        df['check_point'] = df.membership_expire_date + timedelta(30)\n",
    "        # 3.找出哪一筆訂單開始在scope of prediction(2月)的order會被拿來當作判斷是否churn的依據\n",
    "        future = x[(x.transaction_date >= datetime.strptime('2017-02-01', '%Y-%m-%d'))\n",
    "                   &(x.transaction_date <= datetime.strptime('2017-02-28', '%Y-%m-%d'))\n",
    "                  ].tail(n = 1)  \n",
    "        # 4. 判斷is_churn\n",
    "        if future.transaction_date.iloc[0] < df.check_point.iloc[0] and future.is_cancel.iloc[0] == 0:\n",
    "            x['is_churn'] = 0\n",
    "        else:\n",
    "            x['is_churn'] = 1\n",
    "        return x\n",
    "    elif w == 2:\n",
    "        # 1. 先判斷哪一筆訂單的到期日是落在16年12月中\n",
    "        df = x[(x.membership_expire_date >= datetime.strptime('2016-12-01', '%Y-%m-%d')  )\n",
    "                     &(x.membership_expire_date <= datetime.strptime('2016-12-31', '%Y-%m-%d')  )\n",
    "                     ].tail(n = 1) \n",
    "        # 2.find check point\n",
    "        df['check_point'] = df.membership_expire_date + timedelta(30)\n",
    "        # 3.找出哪一筆訂單開始在scope of prediction(17年1月)的order會被拿來當作判斷是否churn的依據\n",
    "        future = x[(x.transaction_date >= datetime.strptime('2017-01-01', '%Y-%m-%d'))\n",
    "                   &(x.transaction_date <= datetime.strptime('2017-01-31', '%Y-%m-%d'))\n",
    "                  ].tail(n = 1)  \n",
    "        # 4. 判斷is_churn\n",
    "        if future.transaction_date.iloc[0] < df.check_point.iloc[0] and future.is_cancel.iloc[0] == 0:\n",
    "            x['is_churn'] = 0\n",
    "        else:\n",
    "            x['is_churn'] = 1\n",
    "        return x\n"
   ]
  },
  {
   "cell_type": "markdown",
   "metadata": {},
   "source": [
    "# w = 0"
   ]
  },
  {
   "cell_type": "markdown",
   "metadata": {},
   "source": [
    "# output"
   ]
  },
  {
   "cell_type": "code",
   "execution_count": 184,
   "metadata": {},
   "outputs": [],
   "source": [
    "d = train.groupby('msno').apply(filter_with_window_size, w = 0)\n",
    "output_col = ['msno','is_churn','w']\n",
    "d[d.key != 1][output_col].reset_index(drop=True).to_csv('../input/preprocessed_data/trainW-0.csv', index = 'False')\n"
   ]
  },
  {
   "cell_type": "markdown",
   "metadata": {},
   "source": [
    "# w = 1"
   ]
  },
  {
   "cell_type": "code",
   "execution_count": 190,
   "metadata": {},
   "outputs": [
    {
     "data": {
      "text/plain": [
       "359"
      ]
     },
     "execution_count": 190,
     "metadata": {},
     "output_type": "execute_result"
    }
   ],
   "source": [
    "output_col = ['msno','is_churn','w']\n",
    "d = train.groupby('msno').apply(filter_with_window_size, w = 1)\n",
    "generate_label_col = ['msno','transaction_date','membership_expire_date','is_cancel','w']\n",
    "d = d[d.key != 1][generate_label_col].reset_index(drop=True) # 省記憶體(index也是一個欄位)\n",
    "\n",
    "d.groupby('msno').apply(label_generation, w = 1)[output_col].to_csv('../input/preprocessed_data/trainW-1.csv', index = 'False')\n",
    "gc.collect()"
   ]
  },
  {
   "cell_type": "markdown",
   "metadata": {},
   "source": [
    "# w = 2"
   ]
  },
  {
   "cell_type": "code",
   "execution_count": 186,
   "metadata": {},
   "outputs": [
    {
     "data": {
      "text/plain": [
       "378"
      ]
     },
     "execution_count": 186,
     "metadata": {},
     "output_type": "execute_result"
    }
   ],
   "source": [
    "d = train.groupby('msno').apply(filter_with_window_size, w = 2)\n",
    "generate_label_col = ['msno','transaction_date','membership_expire_date','is_cancel','w']\n",
    "d = d[d.key != 1][generate_label_col].reset_index(drop=True) # 省記憶體(index也是一個欄位)\n",
    "\n",
    "d =d.groupby('msno').apply(label_generation, w = 2)\n",
    "output_col = ['msno','is_churn','w']\n",
    "d[output_col].to_csv('../input/preprocessed_data/trainW-2.csv', index = 'False')\n",
    "gc.collect()"
   ]
  },
  {
   "cell_type": "code",
   "execution_count": null,
   "metadata": {},
   "outputs": [],
   "source": [
    "for i in range(2)"
   ]
  },
  {
   "cell_type": "code",
   "execution_count": null,
   "metadata": {},
   "outputs": [],
   "source": [
    "# 1. parallel processing\n",
    "def make(T):\n",
    "    output_col = ['msno','is_churn','w']\n",
    "    generate_label_col = ['msno','transaction_date','membership_expire_date','is_cancel','w']\n",
    "    if T == 0:\n",
    "        df = train.groupby('msno').apply(filter_with_window_size, w = 0)\n",
    "        df[df.key != 1][output_col].reset_index(drop=True).to_csv('../input/preprocessed_data/trainW-{0}.csv'.format(T), index = 'False')\n",
    "        gc.collect()\n",
    "    elif T == 1:\n",
    "        df = train.groupby('msno').apply(filter_with_window_size, w = 1)\n",
    "        df = df[df.key != 1][generate_label_col].reset_index(drop=True) # 省記憶體(index也是一個欄位)\n",
    "        df.groupby('msno').apply(label_generation, w = 1)[output_col].to_csv('../input/preprocessed_data/trainW-{0}.csv'.format(T), index = 'False')\n",
    "        gc.collect()    \n",
    "    elif T == 2:\n",
    "        df = train.groupby('msno').apply(filter_with_window_size, w = 2)\n",
    "        df = df[df.key != 1][generate_label_col].reset_index(drop=True) # 省記憶體(index也是一個欄位)\n",
    "        df.groupby('msno').apply(label_generation, w = 2)[output_col].to_csv('../input/preprocessed_data/trainW-{0}.csv'.format(T), index = 'False')\n",
    "        gc.collect()\n",
    "\n",
    "        "
   ]
  },
  {
   "cell_type": "code",
   "execution_count": null,
   "metadata": {},
   "outputs": [],
   "source": [
    "# multi processing\n",
    "mp_pool = mp.Pool(4)\n",
    "mp_pool.map(make, [0,1,2])"
   ]
  },
  {
   "cell_type": "code",
   "execution_count": null,
   "metadata": {},
   "outputs": [],
   "source": []
  },
  {
   "cell_type": "code",
   "execution_count": null,
   "metadata": {},
   "outputs": [],
   "source": []
  },
  {
   "cell_type": "code",
   "execution_count": null,
   "metadata": {},
   "outputs": [],
   "source": [
    "# 找出二月份(future)中沒有交易的人且也\n",
    "d = transactions[(transactions.transaction_date >= datetime.strptime('2017-03-01', '%Y-%m-%d') )\n",
    "                 &(transactions.transaction_date <=datetime.strptime('2017-04-30', '%Y-%m-%d') )\n",
    "                 ] #1.找出在三月份交易的人"
   ]
  },
  {
   "cell_type": "code",
   "execution_count": null,
   "metadata": {},
   "outputs": [],
   "source": []
  },
  {
   "cell_type": "code",
   "execution_count": null,
   "metadata": {},
   "outputs": [],
   "source": []
  }
 ],
 "metadata": {
  "kernelspec": {
   "display_name": "Python 3",
   "language": "python",
   "name": "python3"
  },
  "language_info": {
   "codemirror_mode": {
    "name": "ipython",
    "version": 3
   },
   "file_extension": ".py",
   "mimetype": "text/x-python",
   "name": "python",
   "nbconvert_exporter": "python",
   "pygments_lexer": "ipython3",
   "version": "3.6.3"
  }
 },
 "nbformat": 4,
 "nbformat_minor": 2
}
