{
 "cells": [
  {
   "cell_type": "code",
   "execution_count": 1,
   "metadata": {},
   "outputs": [
    {
     "name": "stderr",
     "output_type": "stream",
     "text": [
      "/usr/local/lib/python3.6/site-packages/sklearn/cross_validation.py:41: DeprecationWarning: This module was deprecated in version 0.18 in favor of the model_selection module into which all the refactored classes and functions are moved. Also note that the interface of the new CV iterators are different from that of this module. This module will be removed in 0.20.\n",
      "  \"This module will be removed in 0.20.\", DeprecationWarning)\n"
     ]
    }
   ],
   "source": [
    "#!/usr/bin/python3\n",
    "# -*-coding:utf-8\n",
    "'''\n",
    "Created on Fri Dec 1 22:22:35 2017\n",
    "\n",
    "@author: Ray\n",
    "\n",
    "'''\n",
    "\n",
    "import warnings\n",
    "warnings.filterwarnings(\"ignore\")\n",
    "import pandas as pd\n",
    "import numpy as np\n",
    "import gc\n",
    "import xgboost as xgb\n",
    "import utils\n",
    "\n",
    "\n"
   ]
  },
  {
   "cell_type": "code",
   "execution_count": 37,
   "metadata": {},
   "outputs": [
    {
     "name": "stdout",
     "output_type": "stream",
     "text": [
      "#==== print param ======\n",
      "DATE: 812_1\n",
      "seed: 71\n"
     ]
    }
   ],
   "source": [
    "# setting\n",
    "DATE = '812_1'\n",
    "LOOP = 2\n",
    "ESR = 40\n",
    "\n",
    "#seed = np.random.randint(99999)\n",
    "seed = 71\n",
    "\n",
    "np.random.seed(seed)\n",
    "\n",
    "valid_size = 0.05\n",
    "\n",
    "\n",
    "# XGB param\n",
    "nround = 1\n",
    "#nround = 10\n",
    "\n",
    "param = {'max_depth':10, \n",
    "         'eta':0.02,\n",
    "         'colsample_bytree':0.4,\n",
    "         'subsample':0.75,\n",
    "         'silent':1,\n",
    "         'nthread':27,\n",
    "         'eval_metric':'logloss',\n",
    "         'objective':'binary:logistic',\n",
    "         'tree_method':'auto'\n",
    "         }\n",
    "\n",
    "print(\"\"\"#==== print param ======\"\"\")\n",
    "print('DATE:', DATE)\n",
    "print('seed:', seed)\n",
    "\n"
   ]
  },
  {
   "cell_type": "code",
   "execution_count": null,
   "metadata": {},
   "outputs": [],
   "source": [
    "#==============================================================================\n",
    "# prepare\n",
    "#==============================================================================\n",
    "train = pd.concat([utils.load_pred_feature('trainW-0', keep_all = True),\n",
    "                   utils.load_pred_feature('trainW-1',keep_all = True),\n",
    "                   utils.load_pred_feature('trainW-2',keep_all = True)\n",
    "                   ], ignore_index=True)\n"
   ]
  },
  {
   "cell_type": "code",
   "execution_count": null,
   "metadata": {},
   "outputs": [],
   "source": [
    "train.info()"
   ]
  },
  {
   "cell_type": "code",
   "execution_count": null,
   "metadata": {},
   "outputs": [],
   "source": [
    "#==============================================================================\n",
    "print('reduce memory')\n",
    "#==============================================================================\n",
    "utils.reduce_memory(train)\n",
    "train.info()"
   ]
  },
  {
   "cell_type": "code",
   "execution_count": null,
   "metadata": {},
   "outputs": [],
   "source": [
    "y_train = train['is_churn']\n",
    "X_train = train.drop('is_churn', axis=1)\n",
    "del train\n",
    "gc.collect()\n",
    "\n"
   ]
  },
  {
   "cell_type": "code",
   "execution_count": 6,
   "metadata": {},
   "outputs": [
    {
     "name": "stdout",
     "output_type": "stream",
     "text": [
      "drop []\n"
     ]
    }
   ],
   "source": [
    "# drop obj--> that's msno\n",
    "col = X_train.dtypes[X_train.dtypes=='object'].index.tolist()\n",
    "col.remove('msno')\n",
    "print('drop',col)\n",
    "X_train.drop(col, axis=1, inplace=True)\n",
    "\n",
    "X_train.fillna(-1, inplace=True)"
   ]
  },
  {
   "cell_type": "code",
   "execution_count": 19,
   "metadata": {},
   "outputs": [
    {
     "data": {
      "text/plain": [
       "True"
      ]
     },
     "execution_count": 19,
     "metadata": {},
     "output_type": "execute_result"
    }
   ],
   "source": [
    "'msno' in X_train.columns"
   ]
  },
  {
   "cell_type": "markdown",
   "metadata": {},
   "source": [
    "# train/val splitting"
   ]
  },
  {
   "cell_type": "code",
   "execution_count": 20,
   "metadata": {},
   "outputs": [],
   "source": [
    "train_user = X_train[['msno']].drop_duplicates()"
   ]
  },
  {
   "cell_type": "code",
   "execution_count": 21,
   "metadata": {},
   "outputs": [
    {
     "name": "stdout",
     "output_type": "stream",
     "text": [
      "<class 'pandas.core.frame.DataFrame'>\n",
      "Int64Index: 996693 entries, 0 to 2672075\n",
      "Data columns (total 1 columns):\n",
      "msno    996693 non-null object\n",
      "dtypes: object(1)\n",
      "memory usage: 15.2+ MB\n"
     ]
    }
   ],
   "source": [
    "train_user.info()"
   ]
  },
  {
   "cell_type": "code",
   "execution_count": 22,
   "metadata": {},
   "outputs": [
    {
     "data": {
      "text/html": [
       "<div>\n",
       "<style scoped>\n",
       "    .dataframe tbody tr th:only-of-type {\n",
       "        vertical-align: middle;\n",
       "    }\n",
       "\n",
       "    .dataframe tbody tr th {\n",
       "        vertical-align: top;\n",
       "    }\n",
       "\n",
       "    .dataframe thead th {\n",
       "        text-align: right;\n",
       "    }\n",
       "</style>\n",
       "<table border=\"1\" class=\"dataframe\">\n",
       "  <thead>\n",
       "    <tr style=\"text-align: right;\">\n",
       "      <th></th>\n",
       "      <th>msno</th>\n",
       "    </tr>\n",
       "  </thead>\n",
       "  <tbody>\n",
       "  </tbody>\n",
       "</table>\n",
       "</div>"
      ],
      "text/plain": [
       "Empty DataFrame\n",
       "Columns: [msno]\n",
       "Index: []"
      ]
     },
     "execution_count": 22,
     "metadata": {},
     "output_type": "execute_result"
    }
   ],
   "source": [
    "train_user[train_user.msno.duplicated()]"
   ]
  },
  {
   "cell_type": "code",
   "execution_count": 11,
   "metadata": {},
   "outputs": [
    {
     "data": {
      "text/plain": [
       "array([0, 0, 0, ..., 0, 0, 0])"
      ]
     },
     "execution_count": 11,
     "metadata": {},
     "output_type": "execute_result"
    }
   ],
   "source": [
    "np.random.choice([0,1], size=len(train_user), p=[1-valid_size, valid_size]) \n",
    "# p = [0.95,0.05]: the prob that randomly generate 1 is valid_size, 1 m"
   ]
  },
  {
   "cell_type": "code",
   "execution_count": 23,
   "metadata": {},
   "outputs": [
    {
     "name": "stdout",
     "output_type": "stream",
     "text": [
      "build user:946438, valid user:50255\n"
     ]
    }
   ],
   "source": [
    "train_user['is_valid'] = np.random.choice([0,1], size=len(train_user), \n",
    "                                          p=[1-valid_size, valid_size])\n",
    "# is_valid: 1 if the user is validating user else 0\n",
    "valid_n = train_user['is_valid'].sum()\n",
    "build_n = (train_user.shape[0] - valid_n)\n",
    "\n",
    "print('build user:{}, valid user:{}'.format(build_n, valid_n))\n",
    "valid_user = train_user[train_user['is_valid']==1].msno"
   ]
  },
  {
   "cell_type": "code",
   "execution_count": 13,
   "metadata": {},
   "outputs": [],
   "source": [
    "is_valid = X_train.msno.isin(valid_user)"
   ]
  },
  {
   "cell_type": "code",
   "execution_count": 14,
   "metadata": {},
   "outputs": [
    {
     "data": {
      "text/plain": [
       "0          False\n",
       "1          False\n",
       "2          False\n",
       "3          False\n",
       "4          False\n",
       "5          False\n",
       "6          False\n",
       "7          False\n",
       "8          False\n",
       "9          False\n",
       "10         False\n",
       "11         False\n",
       "12         False\n",
       "13         False\n",
       "14         False\n",
       "15         False\n",
       "16         False\n",
       "17         False\n",
       "18         False\n",
       "19         False\n",
       "20         False\n",
       "21         False\n",
       "22          True\n",
       "23         False\n",
       "24         False\n",
       "25         False\n",
       "26         False\n",
       "27         False\n",
       "28         False\n",
       "29         False\n",
       "           ...  \n",
       "2672047    False\n",
       "2672048    False\n",
       "2672049    False\n",
       "2672050    False\n",
       "2672051    False\n",
       "2672052    False\n",
       "2672053    False\n",
       "2672054    False\n",
       "2672055     True\n",
       "2672056    False\n",
       "2672057     True\n",
       "2672058    False\n",
       "2672059    False\n",
       "2672060    False\n",
       "2672061    False\n",
       "2672062    False\n",
       "2672063    False\n",
       "2672064    False\n",
       "2672065    False\n",
       "2672066    False\n",
       "2672067    False\n",
       "2672068     True\n",
       "2672069    False\n",
       "2672070    False\n",
       "2672071    False\n",
       "2672072    False\n",
       "2672073    False\n",
       "2672074    False\n",
       "2672075    False\n",
       "2672076     True\n",
       "Name: msno, Length: 2672077, dtype: bool"
      ]
     },
     "execution_count": 14,
     "metadata": {},
     "output_type": "execute_result"
    }
   ],
   "source": [
    "is_valid"
   ]
  },
  {
   "cell_type": "code",
   "execution_count": 15,
   "metadata": {},
   "outputs": [],
   "source": [
    "    dbuild = xgb.DMatrix(X_train[~is_valid].drop('msno', axis=1), y_train[~is_valid])\n",
    "    dvalid = xgb.DMatrix(X_train[is_valid].drop('msno', axis=1), label = y_train[is_valid])\n",
    "    watchlist = [(dbuild, 'build'),(dvalid, 'valid')]\n",
    " "
   ]
  },
  {
   "cell_type": "code",
   "execution_count": 16,
   "metadata": {},
   "outputs": [
    {
     "data": {
      "text/plain": [
       "[(<xgboost.core.DMatrix at 0x112326da0>, 'build'),\n",
       " (<xgboost.core.DMatrix at 0x112326240>, 'valid')]"
      ]
     },
     "execution_count": 16,
     "metadata": {},
     "output_type": "execute_result"
    }
   ],
   "source": [
    "watchlist"
   ]
  },
  {
   "cell_type": "code",
   "execution_count": null,
   "metadata": {},
   "outputs": [],
   "source": []
  },
  {
   "cell_type": "code",
   "execution_count": 24,
   "metadata": {},
   "outputs": [],
   "source": [
    "def split_build_valid():\n",
    "    # train/val split by user\n",
    "    train_user['is_valid'] = np.random.choice([0,1], size=len(train_user), \n",
    "                                              p=[1-valid_size, valid_size])\n",
    "    # is_valid: 1 if the user is validating user else 0\n",
    "    valid_n = train_user['is_valid'].sum()\n",
    "    build_n = (train_user.shape[0] - valid_n)\n",
    "    \n",
    "    print('build user:{}, valid user:{}'.format(build_n, valid_n))\n",
    "    valid_user = train_user[train_user['is_valid']==1].msno\n",
    "    is_valid = X_train.msno.isin(valid_user)\n",
    "    \n",
    "    dbuild = xgb.DMatrix(X_train[~is_valid].drop('msno', axis=1), y_train[~is_valid])\n",
    "    dvalid = xgb.DMatrix(X_train[is_valid].drop('msno', axis=1), label = y_train[is_valid])\n",
    "    watchlist = [(dbuild, 'build'),(dvalid, 'valid')]\n",
    "    \n",
    "    print('FINAL SHAPE')\n",
    "    print('dbuild.shape:{}  dvalid.shape:{}\\n'.format((dbuild.num_row(), dbuild.num_col()),\n",
    "                                                      (dvalid.num_row(), dvalid.num_col())))\n",
    "\n",
    "    return dbuild, dvalid, watchlist"
   ]
  },
  {
   "cell_type": "code",
   "execution_count": 33,
   "metadata": {},
   "outputs": [],
   "source": [
    "import os\n",
    "def mkdir_p(path):\n",
    "    if not os.path.isdir(path):\n",
    "        os.makedirs(path)"
   ]
  },
  {
   "cell_type": "code",
   "execution_count": 38,
   "metadata": {},
   "outputs": [
    {
     "name": "stdout",
     "output_type": "stream",
     "text": [
      "LOOP 0\n",
      "build user:947178, valid user:49515\n",
      "FINAL SHAPE\n",
      "dbuild.shape:(2539234, 290)  dvalid.shape:(132843, 290)\n",
      "\n",
      "[0]\tbuild-logloss:0.676224\tvalid-logloss:0.676254\n",
      "Multiple eval metrics have been passed: 'valid-logloss' will be used for early stopping.\n",
      "\n",
      "Will train until valid-logloss hasn't improved in 40 rounds.\n",
      "[5]\tbuild-logloss:0.600647\tvalid-logloss:0.600832\n",
      "[10]\tbuild-logloss:0.537685\tvalid-logloss:0.538034\n"
     ]
    },
    {
     "ename": "KeyboardInterrupt",
     "evalue": "",
     "output_type": "error",
     "traceback": [
      "\u001b[0;31m---------------------------------------------------------------------------\u001b[0m",
      "\u001b[0;31mKeyboardInterrupt\u001b[0m                         Traceback (most recent call last)",
      "\u001b[0;32m<ipython-input-38-c6f8ea90829e>\u001b[0m in \u001b[0;36m<module>\u001b[0;34m()\u001b[0m\n\u001b[1;32m     14\u001b[0m \u001b[0;34m\u001b[0m\u001b[0m\n\u001b[1;32m     15\u001b[0m     model = xgb.train(param, dbuild, nround, watchlist,\n\u001b[0;32m---> 16\u001b[0;31m                       early_stopping_rounds=ESR, verbose_eval=5)\n\u001b[0m\u001b[1;32m     17\u001b[0m     \u001b[0mmodels\u001b[0m\u001b[0;34m.\u001b[0m\u001b[0mappend\u001b[0m\u001b[0;34m(\u001b[0m\u001b[0mmodel\u001b[0m\u001b[0;34m)\u001b[0m\u001b[0;34m\u001b[0m\u001b[0m\n\u001b[1;32m     18\u001b[0m     \u001b[0mmodel\u001b[0m\u001b[0;34m.\u001b[0m\u001b[0msave_model\u001b[0m\u001b[0;34m(\u001b[0m\u001b[0;34m'../../output/model/{}/xgb_churn_{}.model'\u001b[0m\u001b[0;34m.\u001b[0m\u001b[0mformat\u001b[0m\u001b[0;34m(\u001b[0m\u001b[0mDATE\u001b[0m\u001b[0;34m,\u001b[0m \u001b[0mi\u001b[0m\u001b[0;34m)\u001b[0m\u001b[0;34m)\u001b[0m\u001b[0;34m\u001b[0m\u001b[0m\n",
      "\u001b[0;32m/usr/local/lib/python3.6/site-packages/xgboost/training.py\u001b[0m in \u001b[0;36mtrain\u001b[0;34m(params, dtrain, num_boost_round, evals, obj, feval, maximize, early_stopping_rounds, evals_result, verbose_eval, learning_rates, xgb_model, callbacks)\u001b[0m\n\u001b[1;32m    203\u001b[0m                            \u001b[0mevals\u001b[0m\u001b[0;34m=\u001b[0m\u001b[0mevals\u001b[0m\u001b[0;34m,\u001b[0m\u001b[0;34m\u001b[0m\u001b[0m\n\u001b[1;32m    204\u001b[0m                            \u001b[0mobj\u001b[0m\u001b[0;34m=\u001b[0m\u001b[0mobj\u001b[0m\u001b[0;34m,\u001b[0m \u001b[0mfeval\u001b[0m\u001b[0;34m=\u001b[0m\u001b[0mfeval\u001b[0m\u001b[0;34m,\u001b[0m\u001b[0;34m\u001b[0m\u001b[0m\n\u001b[0;32m--> 205\u001b[0;31m                            xgb_model=xgb_model, callbacks=callbacks)\n\u001b[0m\u001b[1;32m    206\u001b[0m \u001b[0;34m\u001b[0m\u001b[0m\n\u001b[1;32m    207\u001b[0m \u001b[0;34m\u001b[0m\u001b[0m\n",
      "\u001b[0;32m/usr/local/lib/python3.6/site-packages/xgboost/training.py\u001b[0m in \u001b[0;36m_train_internal\u001b[0;34m(params, dtrain, num_boost_round, evals, obj, feval, xgb_model, callbacks)\u001b[0m\n\u001b[1;32m     74\u001b[0m         \u001b[0;31m# Skip the first update if it is a recovery step.\u001b[0m\u001b[0;34m\u001b[0m\u001b[0;34m\u001b[0m\u001b[0m\n\u001b[1;32m     75\u001b[0m         \u001b[0;32mif\u001b[0m \u001b[0mversion\u001b[0m \u001b[0;34m%\u001b[0m \u001b[0;36m2\u001b[0m \u001b[0;34m==\u001b[0m \u001b[0;36m0\u001b[0m\u001b[0;34m:\u001b[0m\u001b[0;34m\u001b[0m\u001b[0m\n\u001b[0;32m---> 76\u001b[0;31m             \u001b[0mbst\u001b[0m\u001b[0;34m.\u001b[0m\u001b[0mupdate\u001b[0m\u001b[0;34m(\u001b[0m\u001b[0mdtrain\u001b[0m\u001b[0;34m,\u001b[0m \u001b[0mi\u001b[0m\u001b[0;34m,\u001b[0m \u001b[0mobj\u001b[0m\u001b[0;34m)\u001b[0m\u001b[0;34m\u001b[0m\u001b[0m\n\u001b[0m\u001b[1;32m     77\u001b[0m             \u001b[0mbst\u001b[0m\u001b[0;34m.\u001b[0m\u001b[0msave_rabit_checkpoint\u001b[0m\u001b[0;34m(\u001b[0m\u001b[0;34m)\u001b[0m\u001b[0;34m\u001b[0m\u001b[0m\n\u001b[1;32m     78\u001b[0m             \u001b[0mversion\u001b[0m \u001b[0;34m+=\u001b[0m \u001b[0;36m1\u001b[0m\u001b[0;34m\u001b[0m\u001b[0m\n",
      "\u001b[0;32m/usr/local/lib/python3.6/site-packages/xgboost/core.py\u001b[0m in \u001b[0;36mupdate\u001b[0;34m(self, dtrain, iteration, fobj)\u001b[0m\n\u001b[1;32m    804\u001b[0m \u001b[0;34m\u001b[0m\u001b[0m\n\u001b[1;32m    805\u001b[0m         \u001b[0;32mif\u001b[0m \u001b[0mfobj\u001b[0m \u001b[0;32mis\u001b[0m \u001b[0;32mNone\u001b[0m\u001b[0;34m:\u001b[0m\u001b[0;34m\u001b[0m\u001b[0m\n\u001b[0;32m--> 806\u001b[0;31m             \u001b[0m_check_call\u001b[0m\u001b[0;34m(\u001b[0m\u001b[0m_LIB\u001b[0m\u001b[0;34m.\u001b[0m\u001b[0mXGBoosterUpdateOneIter\u001b[0m\u001b[0;34m(\u001b[0m\u001b[0mself\u001b[0m\u001b[0;34m.\u001b[0m\u001b[0mhandle\u001b[0m\u001b[0;34m,\u001b[0m \u001b[0miteration\u001b[0m\u001b[0;34m,\u001b[0m \u001b[0mdtrain\u001b[0m\u001b[0;34m.\u001b[0m\u001b[0mhandle\u001b[0m\u001b[0;34m)\u001b[0m\u001b[0;34m)\u001b[0m\u001b[0;34m\u001b[0m\u001b[0m\n\u001b[0m\u001b[1;32m    807\u001b[0m         \u001b[0;32melse\u001b[0m\u001b[0;34m:\u001b[0m\u001b[0;34m\u001b[0m\u001b[0m\n\u001b[1;32m    808\u001b[0m             \u001b[0mpred\u001b[0m \u001b[0;34m=\u001b[0m \u001b[0mself\u001b[0m\u001b[0;34m.\u001b[0m\u001b[0mpredict\u001b[0m\u001b[0;34m(\u001b[0m\u001b[0mdtrain\u001b[0m\u001b[0;34m)\u001b[0m\u001b[0;34m\u001b[0m\u001b[0m\n",
      "\u001b[0;31mKeyboardInterrupt\u001b[0m: "
     ]
    }
   ],
   "source": [
    "DATE = '1212_1'\n",
    "mkdir_p('../../output/model/{}/'.format(DATE))\n",
    "mkdir_p('../../output/sub/{}/'.format(DATE))\n",
    "# hold out\n",
    "models = [] # for the following prediction\n",
    "for i in range(LOOP):\n",
    "    print('LOOP',i)\n",
    "    dbuild, dvalid, watchlist = split_build_valid()\n",
    "    \n",
    "    if i==0:\n",
    "        col_train = dbuild.feature_names \n",
    "        # col_train is built for testing cause u do not use all feature. \n",
    "        # we use feature with top importance\n",
    "        \n",
    "    model = xgb.train(param, dbuild, nround, watchlist,\n",
    "                      early_stopping_rounds=ESR, verbose_eval=5)\n",
    "    models.append(model)\n",
    "    model.save_model('../../output/model/{}/xgb_churn_{}.model'.format(DATE, i))\n",
    "    # VALID\n",
    "    valid_yhat = model.predict(dvalid) # y_hat is result of prediction\n",
    "    print('Valid Mean:', np.mean(valid_yhat))\n",
    "    del dbuild, dvalid, watchlist\n",
    "    gc.collect()\n",
    " "
   ]
  },
  {
   "cell_type": "code",
   "execution_count": null,
   "metadata": {},
   "outputs": [],
   "source": []
  },
  {
   "cell_type": "code",
   "execution_count": null,
   "metadata": {},
   "outputs": [],
   "source": []
  },
  {
   "cell_type": "code",
   "execution_count": null,
   "metadata": {},
   "outputs": [],
   "source": []
  }
 ],
 "metadata": {
  "kernelspec": {
   "display_name": "Python 3",
   "language": "python",
   "name": "python3"
  },
  "language_info": {
   "codemirror_mode": {
    "name": "ipython",
    "version": 3
   },
   "file_extension": ".py",
   "mimetype": "text/x-python",
   "name": "python",
   "nbconvert_exporter": "python",
   "pygments_lexer": "ipython3",
   "version": "3.6.3"
  }
 },
 "nbformat": 4,
 "nbformat_minor": 2
}
