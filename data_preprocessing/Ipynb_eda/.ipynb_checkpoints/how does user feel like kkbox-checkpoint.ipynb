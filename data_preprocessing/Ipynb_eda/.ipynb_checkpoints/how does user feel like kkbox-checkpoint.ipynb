{
 "cells": [
  {
   "cell_type": "code",
   "execution_count": 1,
   "metadata": {},
   "outputs": [],
   "source": [
    "#!/usr/bin/python3\n",
    "# -*-coding:utf-8\n",
    "'''\n",
    "Created on Fri Dec 1 22:22:35 2017\n",
    "\n",
    "@author: Ray\n",
    "\n",
    "'''\n",
    "import time\n",
    "import pandas as pd\n",
    "import numpy as np\n",
    "from tqdm import tqdm\n",
    "import os\n",
    "import utils # written by author\n",
    "from glob import glob\n",
    "from datetime import datetime, timedelta\n",
    "import multiprocessing as mp\n",
    "import gc # for automatic releasing memory\n"
   ]
  },
  {
   "cell_type": "code",
   "execution_count": 82,
   "metadata": {},
   "outputs": [
    {
     "name": "stderr",
     "output_type": "stream",
     "text": [
      "\n",
      "  0%|          | 0/4 [00:00<?, ?it/s]\u001b[A\n",
      " 25%|██▌       | 1/4 [00:07<00:23,  7.76s/it]\u001b[A\n",
      " 50%|█████     | 2/4 [00:15<00:15,  7.78s/it]\u001b[A\n",
      " 75%|███████▌  | 3/4 [00:22<00:07,  7.62s/it]\u001b[A\n",
      "100%|██████████| 4/4 [00:29<00:00,  7.46s/it]\u001b[A\n",
      "\u001b[A\n",
      "  0%|          | 0/4 [00:00<?, ?it/s]\u001b[A\n",
      "100%|██████████| 4/4 [00:00<00:00, 269.11it/s]\u001b[A"
     ]
    },
    {
     "data": {
      "text/plain": [
       "0"
      ]
     },
     "execution_count": 82,
     "metadata": {},
     "output_type": "execute_result"
    }
   ],
   "source": [
    "##################################################\n",
    "# Load  \n",
    "##################################################\n",
    "col = ['msno','plan_list_price','payment_plan_days','actual_amount_paid','payment_method_id','transaction_date','membership_expire_date']\n",
    "transactions = utils.read_multiple_csv('../../input/preprocessed_data/transactions', col) # 20,000,000\n",
    "\n",
    "transactions = transactions.head(n = 500)\n",
    "\n",
    "input_col = ['msno','t-1_transaction_date','t-1_membership_expire_date','t-1_actual_amount_paid',\n",
    "             'order_number','t-1_payment_method_id','t-1_plan_list_price','t-1_payment_plan_days']\n",
    "tran_time_diff = utils.read_multiple_csv('../../input/preprocessed_data/transactions_time_diff', input_col)\n",
    "tran_time_diff = tran_time_diff.dropna() # drop columns whose oder_number == 1\n",
    "\n",
    "tran_time_diff = tran_time_diff.head(n = 500)\n",
    "\n",
    "##################################################\n",
    "# Convert string to datetime format\n",
    "##################################################\n",
    "transactions['membership_expire_date']  = transactions.membership_expire_date.apply(lambda x: datetime.strptime(x, '%Y-%m-%d'))\n",
    "transactions['transaction_date']  = transactions.transaction_date.apply(lambda x: datetime.strptime(x, '%Y-%m-%d'))\n",
    "tran_time_diff['t-1_membership_expire_date']  = tran_time_diff['t-1_membership_expire_date'].apply(lambda x: datetime.strptime(x, '%Y-%m-%d'))\n",
    "tran_time_diff['t-1_transaction_date']  = tran_time_diff['t-1_transaction_date'].apply(lambda x: datetime.strptime(x, '%Y-%m-%d'))\n",
    "\n",
    "gc.collect()\n"
   ]
  },
  {
   "cell_type": "markdown",
   "metadata": {},
   "source": [
    "# how does user feel like kkbox"
   ]
  },
  {
   "cell_type": "code",
   "execution_count": 83,
   "metadata": {},
   "outputs": [],
   "source": [
    "def days_since_the_last_expiration(x):\n",
    "    # x: each row of dataframe, series\n",
    "    x['days_since_the_last_expiration'] = [i.days for i in (x.transaction_date - x['t-1_membership_expire_date'])]\n",
    "    return x\n",
    "def days_since_the_last_subscription(x):\n",
    "    x['days_since_the_last_subscription'] = [i.days for i in (x.transaction_date - x['t-1_transaction_date'])]\n",
    "    return x\n",
    "def is_subscribe_early(x):\n",
    "    x['is_subscribe_early'] = [1 if i <0 else 0 for i in x.days_since_the_last_expiration]\n",
    "    return x\n",
    "def creat_loyalty_trend(x):\n",
    "    # date\n",
    "    x['days_since_the_last_expiration-cumsum'] = x.days_since_the_last_expiration.cumsum()\n",
    "    x['days_since_the_last_expiration_ratio'] = x.days_since_the_last_expiration.cumsum()/ x.order_number\n",
    "    x['days_since_the_last_subscription_ratio'] = x.days_since_the_last_subscription.cumsum()/ x.order_number\n",
    "    x['days_since_the_last_expiration_diff'] = x.days_since_the_last_expiration - x.days_since_the_last_expiration.shift(1)\n",
    "    x['days_since_the_first_subscription'] = x.days_since_the_last_subscription.cumsum()\n",
    "    # payment_method\n",
    "    x['do_change_payment_method'] = [1 if p_m != t_1_p_m else 0 for p_m, t_1_p_m in x[['payment_method_id','t-1_payment_method_id']].values]\n",
    "    # plan_list_price(這次訂單,有選擇更高的價錢的方案麼)\n",
    "    x['do_spend_more_money'] = [p_price - t_1_p_price for p_price, t_1_p_price in x[['plan_list_price','t-1_plan_list_price']].values]\n",
    "    # payment_plan_days(這次訂單,有選擇天數更高的方案麼)\n",
    "    x['do_extend_payment_days'] = [p_p_days - t_1_p_days for p_p_days, t_1_p_days in x[['payment_plan_days','t-1_payment_plan_days']].values]\n",
    "    # (這次訂單,真實付的錢有比上次多麽)\n",
    "    x['do_paid_more'] = [a_paid - a_paid for a_paid, a_paid in x[['actual_amount_paid','t-1_actual_amount_paid']].values]\n",
    "    return x\n"
   ]
  },
  {
   "cell_type": "code",
   "execution_count": 84,
   "metadata": {},
   "outputs": [],
   "source": [
    "#==============================================================================\n",
    "# def\n",
    "#==============================================================================\n",
    "def make(T):\n",
    "    \"\"\"\n",
    "    T = 0\n",
    "    folder = 'trainW-0'\n",
    "    \"\"\"\n",
    "    if T ==-1:\n",
    "        folder = 'test'\n",
    "        test = pd.read_csv('../../input/sample_submission_v2.csv')\n",
    "    else:\n",
    "        folder = 'trainW-'+str(T)\n",
    "        train = pd.read_csv('../../input/preprocessed_data/trainW-{0}.csv'.format(T))\n",
    "    #merge data\n",
    "\n",
    "    if T == 0:\n",
    "        # w = 0:使用3月之前的資料當作history\n",
    "        df = pd.merge(train, \n",
    "        transactions[(transactions.transaction_date < datetime.strptime('2017-03-01', '%Y-%m-%d'))], \n",
    "        on='msno', \n",
    "        how='left') # 此時msno就是不重複\n",
    "        del train\n",
    "    elif T == 1:\n",
    "        # w = 1:使用2月之前的資料當作history\n",
    "        df = pd.merge(train, \n",
    "        transactions[(transactions.transaction_date < datetime.strptime('2017-02-01', '%Y-%m-%d'))],\n",
    "        on='msno', \n",
    "        how='left') # 此時msno就是不重複\n",
    "        del train\n",
    "    elif T == 2:\n",
    "        # w = 2:使用1月之前的資料當作history\n",
    "        df = pd.merge(train, \n",
    "        transactions[(transactions.transaction_date < datetime.strptime('2017-01-01', '%Y-%m-%d'))],\n",
    "        on='msno', \n",
    "        how='left') # 此時msno就是不重複\n",
    "        del train\n",
    "    elif T == -1:\n",
    "        # w = -1:使用4月之前的資料當作history\n",
    "        df = pd.merge(test, \n",
    "        transactions[(transactions.transaction_date < datetime.strptime('2017-04-01', '%Y-%m-%d'))],\n",
    "        on='msno', \n",
    "        how='left') # 此時msno就是不重複\n",
    "        del test\n",
    "        df['w'] = T \n",
    "    gc.collect()\n",
    "\n",
    "    df = pd.merge(df, tran_time_diff, on='msno', how='left').drop_duplicates(['msno','order_number'])   \n",
    "    \n",
    "    df = df.dropna()\n",
    "\n",
    "    # creating features\n",
    "    df = df.groupby('msno').apply(days_since_the_last_expiration)\n",
    "    df = df.groupby('msno').apply(days_since_the_last_subscription)\n",
    "    df = df.groupby('msno').apply(is_subscribe_early)\n",
    "    df = df.groupby('msno').apply(creat_loyalty_trend)\n",
    "\n",
    "    output_col = ['msno','w','days_since_the_last_expiration',\n",
    "            'days_since_the_last_subscription','is_subscribe_early','order_number',\n",
    "            'days_since_the_last_expiration-cumsum',\n",
    "            'days_since_the_last_expiration_ratio',\n",
    "            'days_since_the_last_subscription_ratio',\n",
    "            'days_since_the_last_expiration_diff',\n",
    "            'days_since_the_first_subscription',\n",
    "                  'do_change_payment_method',\n",
    "                  'do_spend_more_money',\n",
    "            ]\n",
    "    df = df[output_col] # msno is not unique\n",
    "    gc.collect()\n",
    "    print ('{0} done'.format(T))\n",
    "    return df"
   ]
  },
  {
   "cell_type": "code",
   "execution_count": 85,
   "metadata": {},
   "outputs": [
    {
     "ename": "KeyError",
     "evalue": "\"['payment_plan_days' 't-1_payment_plan_days'] not in index\"",
     "output_type": "error",
     "traceback": [
      "\u001b[0;31m---------------------------------------------------------------------------\u001b[0m",
      "\u001b[0;31mKeyError\u001b[0m                                  Traceback (most recent call last)",
      "\u001b[0;32m<ipython-input-85-3644ff50377d>\u001b[0m in \u001b[0;36m<module>\u001b[0;34m()\u001b[0m\n\u001b[0;32m----> 1\u001b[0;31m \u001b[0mdf\u001b[0m \u001b[0;34m=\u001b[0m \u001b[0mmake\u001b[0m\u001b[0;34m(\u001b[0m\u001b[0;36m0\u001b[0m\u001b[0;34m)\u001b[0m\u001b[0;34m\u001b[0m\u001b[0m\n\u001b[0m\u001b[1;32m      2\u001b[0m \u001b[0mdf\u001b[0m\u001b[0;34m\u001b[0m\u001b[0m\n",
      "\u001b[0;32m<ipython-input-84-09301f3abf25>\u001b[0m in \u001b[0;36mmake\u001b[0;34m(T)\u001b[0m\n\u001b[1;32m     54\u001b[0m     \u001b[0mdf\u001b[0m \u001b[0;34m=\u001b[0m \u001b[0mdf\u001b[0m\u001b[0;34m.\u001b[0m\u001b[0mgroupby\u001b[0m\u001b[0;34m(\u001b[0m\u001b[0;34m'msno'\u001b[0m\u001b[0;34m)\u001b[0m\u001b[0;34m.\u001b[0m\u001b[0mapply\u001b[0m\u001b[0;34m(\u001b[0m\u001b[0mdays_since_the_last_subscription\u001b[0m\u001b[0;34m)\u001b[0m\u001b[0;34m\u001b[0m\u001b[0m\n\u001b[1;32m     55\u001b[0m     \u001b[0mdf\u001b[0m \u001b[0;34m=\u001b[0m \u001b[0mdf\u001b[0m\u001b[0;34m.\u001b[0m\u001b[0mgroupby\u001b[0m\u001b[0;34m(\u001b[0m\u001b[0;34m'msno'\u001b[0m\u001b[0;34m)\u001b[0m\u001b[0;34m.\u001b[0m\u001b[0mapply\u001b[0m\u001b[0;34m(\u001b[0m\u001b[0mis_subscribe_early\u001b[0m\u001b[0;34m)\u001b[0m\u001b[0;34m\u001b[0m\u001b[0m\n\u001b[0;32m---> 56\u001b[0;31m     \u001b[0mdf\u001b[0m \u001b[0;34m=\u001b[0m \u001b[0mdf\u001b[0m\u001b[0;34m.\u001b[0m\u001b[0mgroupby\u001b[0m\u001b[0;34m(\u001b[0m\u001b[0;34m'msno'\u001b[0m\u001b[0;34m)\u001b[0m\u001b[0;34m.\u001b[0m\u001b[0mapply\u001b[0m\u001b[0;34m(\u001b[0m\u001b[0mcreat_loyalty_trend\u001b[0m\u001b[0;34m)\u001b[0m\u001b[0;34m\u001b[0m\u001b[0m\n\u001b[0m\u001b[1;32m     57\u001b[0m \u001b[0;34m\u001b[0m\u001b[0m\n\u001b[1;32m     58\u001b[0m     output_col = ['msno','w','days_since_the_last_expiration',\n",
      "\u001b[0;32m/usr/local/lib/python3.6/site-packages/pandas/core/groupby.py\u001b[0m in \u001b[0;36mapply\u001b[0;34m(self, func, *args, **kwargs)\u001b[0m\n\u001b[1;32m    719\u001b[0m         \u001b[0;31m# ignore SettingWithCopy here in case the user mutates\u001b[0m\u001b[0;34m\u001b[0m\u001b[0;34m\u001b[0m\u001b[0m\n\u001b[1;32m    720\u001b[0m         \u001b[0;32mwith\u001b[0m \u001b[0moption_context\u001b[0m\u001b[0;34m(\u001b[0m\u001b[0;34m'mode.chained_assignment'\u001b[0m\u001b[0;34m,\u001b[0m \u001b[0;32mNone\u001b[0m\u001b[0;34m)\u001b[0m\u001b[0;34m:\u001b[0m\u001b[0;34m\u001b[0m\u001b[0m\n\u001b[0;32m--> 721\u001b[0;31m             \u001b[0;32mreturn\u001b[0m \u001b[0mself\u001b[0m\u001b[0;34m.\u001b[0m\u001b[0m_python_apply_general\u001b[0m\u001b[0;34m(\u001b[0m\u001b[0mf\u001b[0m\u001b[0;34m)\u001b[0m\u001b[0;34m\u001b[0m\u001b[0m\n\u001b[0m\u001b[1;32m    722\u001b[0m \u001b[0;34m\u001b[0m\u001b[0m\n\u001b[1;32m    723\u001b[0m     \u001b[0;32mdef\u001b[0m \u001b[0m_python_apply_general\u001b[0m\u001b[0;34m(\u001b[0m\u001b[0mself\u001b[0m\u001b[0;34m,\u001b[0m \u001b[0mf\u001b[0m\u001b[0;34m)\u001b[0m\u001b[0;34m:\u001b[0m\u001b[0;34m\u001b[0m\u001b[0m\n",
      "\u001b[0;32m/usr/local/lib/python3.6/site-packages/pandas/core/groupby.py\u001b[0m in \u001b[0;36m_python_apply_general\u001b[0;34m(self, f)\u001b[0m\n\u001b[1;32m    723\u001b[0m     \u001b[0;32mdef\u001b[0m \u001b[0m_python_apply_general\u001b[0m\u001b[0;34m(\u001b[0m\u001b[0mself\u001b[0m\u001b[0;34m,\u001b[0m \u001b[0mf\u001b[0m\u001b[0;34m)\u001b[0m\u001b[0;34m:\u001b[0m\u001b[0;34m\u001b[0m\u001b[0m\n\u001b[1;32m    724\u001b[0m         keys, values, mutated = self.grouper.apply(f, self._selected_obj,\n\u001b[0;32m--> 725\u001b[0;31m                                                    self.axis)\n\u001b[0m\u001b[1;32m    726\u001b[0m \u001b[0;34m\u001b[0m\u001b[0m\n\u001b[1;32m    727\u001b[0m         return self._wrap_applied_output(\n",
      "\u001b[0;32m/usr/local/lib/python3.6/site-packages/pandas/core/groupby.py\u001b[0m in \u001b[0;36mapply\u001b[0;34m(self, f, data, axis)\u001b[0m\n\u001b[1;32m   1878\u001b[0m             \u001b[0;31m# group might be modified\u001b[0m\u001b[0;34m\u001b[0m\u001b[0;34m\u001b[0m\u001b[0m\n\u001b[1;32m   1879\u001b[0m             \u001b[0mgroup_axes\u001b[0m \u001b[0;34m=\u001b[0m \u001b[0m_get_axes\u001b[0m\u001b[0;34m(\u001b[0m\u001b[0mgroup\u001b[0m\u001b[0;34m)\u001b[0m\u001b[0;34m\u001b[0m\u001b[0m\n\u001b[0;32m-> 1880\u001b[0;31m             \u001b[0mres\u001b[0m \u001b[0;34m=\u001b[0m \u001b[0mf\u001b[0m\u001b[0;34m(\u001b[0m\u001b[0mgroup\u001b[0m\u001b[0;34m)\u001b[0m\u001b[0;34m\u001b[0m\u001b[0m\n\u001b[0m\u001b[1;32m   1881\u001b[0m             \u001b[0;32mif\u001b[0m \u001b[0;32mnot\u001b[0m \u001b[0m_is_indexed_like\u001b[0m\u001b[0;34m(\u001b[0m\u001b[0mres\u001b[0m\u001b[0;34m,\u001b[0m \u001b[0mgroup_axes\u001b[0m\u001b[0;34m)\u001b[0m\u001b[0;34m:\u001b[0m\u001b[0;34m\u001b[0m\u001b[0m\n\u001b[1;32m   1882\u001b[0m                 \u001b[0mmutated\u001b[0m \u001b[0;34m=\u001b[0m \u001b[0;32mTrue\u001b[0m\u001b[0;34m\u001b[0m\u001b[0m\n",
      "\u001b[0;32m<ipython-input-83-37cb866ca932>\u001b[0m in \u001b[0;36mcreat_loyalty_trend\u001b[0;34m(x)\u001b[0m\n\u001b[1;32m     21\u001b[0m     \u001b[0mx\u001b[0m\u001b[0;34m[\u001b[0m\u001b[0;34m'do_spend_more_money'\u001b[0m\u001b[0;34m]\u001b[0m \u001b[0;34m=\u001b[0m \u001b[0;34m[\u001b[0m\u001b[0mp_price\u001b[0m \u001b[0;34m-\u001b[0m \u001b[0mt_1_p_price\u001b[0m \u001b[0;32mfor\u001b[0m \u001b[0mp_price\u001b[0m\u001b[0;34m,\u001b[0m \u001b[0mt_1_p_price\u001b[0m \u001b[0;32min\u001b[0m \u001b[0mx\u001b[0m\u001b[0;34m[\u001b[0m\u001b[0;34m[\u001b[0m\u001b[0;34m'plan_list_price'\u001b[0m\u001b[0;34m,\u001b[0m\u001b[0;34m't-1_plan_list_price'\u001b[0m\u001b[0;34m]\u001b[0m\u001b[0;34m]\u001b[0m\u001b[0;34m.\u001b[0m\u001b[0mvalues\u001b[0m\u001b[0;34m]\u001b[0m\u001b[0;34m\u001b[0m\u001b[0m\n\u001b[1;32m     22\u001b[0m     \u001b[0;31m# payment_plan_days(這次訂單,有選擇天數更高的方案麼)\u001b[0m\u001b[0;34m\u001b[0m\u001b[0;34m\u001b[0m\u001b[0m\n\u001b[0;32m---> 23\u001b[0;31m     \u001b[0mx\u001b[0m\u001b[0;34m[\u001b[0m\u001b[0;34m'do_extend_payment_days'\u001b[0m\u001b[0;34m]\u001b[0m \u001b[0;34m=\u001b[0m \u001b[0;34m[\u001b[0m\u001b[0mp_p_days\u001b[0m \u001b[0;34m-\u001b[0m \u001b[0mt_1_p_days\u001b[0m \u001b[0;32mfor\u001b[0m \u001b[0mp_p_days\u001b[0m\u001b[0;34m,\u001b[0m \u001b[0mt_1_p_days\u001b[0m \u001b[0;32min\u001b[0m \u001b[0mx\u001b[0m\u001b[0;34m[\u001b[0m\u001b[0;34m[\u001b[0m\u001b[0;34m'payment_plan_days'\u001b[0m\u001b[0;34m,\u001b[0m\u001b[0;34m't-1_payment_plan_days'\u001b[0m\u001b[0;34m]\u001b[0m\u001b[0;34m]\u001b[0m\u001b[0;34m.\u001b[0m\u001b[0mvalues\u001b[0m\u001b[0;34m]\u001b[0m\u001b[0;34m\u001b[0m\u001b[0m\n\u001b[0m\u001b[1;32m     24\u001b[0m     \u001b[0;31m# (這次訂單,真實付的錢有比上次多麽)\u001b[0m\u001b[0;34m\u001b[0m\u001b[0;34m\u001b[0m\u001b[0m\n\u001b[1;32m     25\u001b[0m     \u001b[0mx\u001b[0m\u001b[0;34m[\u001b[0m\u001b[0;34m'do_paid_more'\u001b[0m\u001b[0;34m]\u001b[0m \u001b[0;34m=\u001b[0m \u001b[0;34m[\u001b[0m\u001b[0ma_paid\u001b[0m \u001b[0;34m-\u001b[0m \u001b[0ma_paid\u001b[0m \u001b[0;32mfor\u001b[0m \u001b[0ma_paid\u001b[0m\u001b[0;34m,\u001b[0m \u001b[0ma_paid\u001b[0m \u001b[0;32min\u001b[0m \u001b[0mx\u001b[0m\u001b[0;34m[\u001b[0m\u001b[0;34m[\u001b[0m\u001b[0;34m'actual_amount_paid'\u001b[0m\u001b[0;34m,\u001b[0m\u001b[0;34m't-1_actual_amount_paid'\u001b[0m\u001b[0;34m]\u001b[0m\u001b[0;34m]\u001b[0m\u001b[0;34m.\u001b[0m\u001b[0mvalues\u001b[0m\u001b[0;34m]\u001b[0m\u001b[0;34m\u001b[0m\u001b[0m\n",
      "\u001b[0;32m/usr/local/lib/python3.6/site-packages/pandas/core/frame.py\u001b[0m in \u001b[0;36m__getitem__\u001b[0;34m(self, key)\u001b[0m\n\u001b[1;32m   2131\u001b[0m         \u001b[0;32mif\u001b[0m \u001b[0misinstance\u001b[0m\u001b[0;34m(\u001b[0m\u001b[0mkey\u001b[0m\u001b[0;34m,\u001b[0m \u001b[0;34m(\u001b[0m\u001b[0mSeries\u001b[0m\u001b[0;34m,\u001b[0m \u001b[0mnp\u001b[0m\u001b[0;34m.\u001b[0m\u001b[0mndarray\u001b[0m\u001b[0;34m,\u001b[0m \u001b[0mIndex\u001b[0m\u001b[0;34m,\u001b[0m \u001b[0mlist\u001b[0m\u001b[0;34m)\u001b[0m\u001b[0;34m)\u001b[0m\u001b[0;34m:\u001b[0m\u001b[0;34m\u001b[0m\u001b[0m\n\u001b[1;32m   2132\u001b[0m             \u001b[0;31m# either boolean or fancy integer index\u001b[0m\u001b[0;34m\u001b[0m\u001b[0;34m\u001b[0m\u001b[0m\n\u001b[0;32m-> 2133\u001b[0;31m             \u001b[0;32mreturn\u001b[0m \u001b[0mself\u001b[0m\u001b[0;34m.\u001b[0m\u001b[0m_getitem_array\u001b[0m\u001b[0;34m(\u001b[0m\u001b[0mkey\u001b[0m\u001b[0;34m)\u001b[0m\u001b[0;34m\u001b[0m\u001b[0m\n\u001b[0m\u001b[1;32m   2134\u001b[0m         \u001b[0;32melif\u001b[0m \u001b[0misinstance\u001b[0m\u001b[0;34m(\u001b[0m\u001b[0mkey\u001b[0m\u001b[0;34m,\u001b[0m \u001b[0mDataFrame\u001b[0m\u001b[0;34m)\u001b[0m\u001b[0;34m:\u001b[0m\u001b[0;34m\u001b[0m\u001b[0m\n\u001b[1;32m   2135\u001b[0m             \u001b[0;32mreturn\u001b[0m \u001b[0mself\u001b[0m\u001b[0;34m.\u001b[0m\u001b[0m_getitem_frame\u001b[0m\u001b[0;34m(\u001b[0m\u001b[0mkey\u001b[0m\u001b[0;34m)\u001b[0m\u001b[0;34m\u001b[0m\u001b[0m\n",
      "\u001b[0;32m/usr/local/lib/python3.6/site-packages/pandas/core/frame.py\u001b[0m in \u001b[0;36m_getitem_array\u001b[0;34m(self, key)\u001b[0m\n\u001b[1;32m   2175\u001b[0m             \u001b[0;32mreturn\u001b[0m \u001b[0mself\u001b[0m\u001b[0;34m.\u001b[0m\u001b[0m_take\u001b[0m\u001b[0;34m(\u001b[0m\u001b[0mindexer\u001b[0m\u001b[0;34m,\u001b[0m \u001b[0maxis\u001b[0m\u001b[0;34m=\u001b[0m\u001b[0;36m0\u001b[0m\u001b[0;34m,\u001b[0m \u001b[0mconvert\u001b[0m\u001b[0;34m=\u001b[0m\u001b[0;32mFalse\u001b[0m\u001b[0;34m)\u001b[0m\u001b[0;34m\u001b[0m\u001b[0m\n\u001b[1;32m   2176\u001b[0m         \u001b[0;32melse\u001b[0m\u001b[0;34m:\u001b[0m\u001b[0;34m\u001b[0m\u001b[0m\n\u001b[0;32m-> 2177\u001b[0;31m             \u001b[0mindexer\u001b[0m \u001b[0;34m=\u001b[0m \u001b[0mself\u001b[0m\u001b[0;34m.\u001b[0m\u001b[0mloc\u001b[0m\u001b[0;34m.\u001b[0m\u001b[0m_convert_to_indexer\u001b[0m\u001b[0;34m(\u001b[0m\u001b[0mkey\u001b[0m\u001b[0;34m,\u001b[0m \u001b[0maxis\u001b[0m\u001b[0;34m=\u001b[0m\u001b[0;36m1\u001b[0m\u001b[0;34m)\u001b[0m\u001b[0;34m\u001b[0m\u001b[0m\n\u001b[0m\u001b[1;32m   2178\u001b[0m             \u001b[0;32mreturn\u001b[0m \u001b[0mself\u001b[0m\u001b[0;34m.\u001b[0m\u001b[0m_take\u001b[0m\u001b[0;34m(\u001b[0m\u001b[0mindexer\u001b[0m\u001b[0;34m,\u001b[0m \u001b[0maxis\u001b[0m\u001b[0;34m=\u001b[0m\u001b[0;36m1\u001b[0m\u001b[0;34m,\u001b[0m \u001b[0mconvert\u001b[0m\u001b[0;34m=\u001b[0m\u001b[0;32mTrue\u001b[0m\u001b[0;34m)\u001b[0m\u001b[0;34m\u001b[0m\u001b[0m\n\u001b[1;32m   2179\u001b[0m \u001b[0;34m\u001b[0m\u001b[0m\n",
      "\u001b[0;32m/usr/local/lib/python3.6/site-packages/pandas/core/indexing.py\u001b[0m in \u001b[0;36m_convert_to_indexer\u001b[0;34m(self, obj, axis, is_setter)\u001b[0m\n\u001b[1;32m   1267\u001b[0m                 \u001b[0;32mif\u001b[0m \u001b[0mmask\u001b[0m\u001b[0;34m.\u001b[0m\u001b[0many\u001b[0m\u001b[0;34m(\u001b[0m\u001b[0;34m)\u001b[0m\u001b[0;34m:\u001b[0m\u001b[0;34m\u001b[0m\u001b[0m\n\u001b[1;32m   1268\u001b[0m                     raise KeyError('{mask} not in index'\n\u001b[0;32m-> 1269\u001b[0;31m                                    .format(mask=objarr[mask]))\n\u001b[0m\u001b[1;32m   1270\u001b[0m \u001b[0;34m\u001b[0m\u001b[0m\n\u001b[1;32m   1271\u001b[0m                 \u001b[0;32mreturn\u001b[0m \u001b[0m_values_from_object\u001b[0m\u001b[0;34m(\u001b[0m\u001b[0mindexer\u001b[0m\u001b[0;34m)\u001b[0m\u001b[0;34m\u001b[0m\u001b[0m\n",
      "\u001b[0;31mKeyError\u001b[0m: \"['payment_plan_days' 't-1_payment_plan_days'] not in index\""
     ]
    }
   ],
   "source": [
    "df = make(0)\n",
    "df"
   ]
  },
  {
   "cell_type": "markdown",
   "metadata": {},
   "source": [
    "# 換的方案價錢有提高麼?有的話提高多少錢?\n"
   ]
  },
  {
   "cell_type": "code",
   "execution_count": null,
   "metadata": {},
   "outputs": [],
   "source": [
    "\n",
    "x['do_change_payment_method'] = [1 if p_m != t_1_p_m else 0 for p_m, t_1_p_m in x[['payment_method_id','t-1_payment_method_id']].values]"
   ]
  }
 ],
 "metadata": {
  "kernelspec": {
   "display_name": "Python 3",
   "language": "python",
   "name": "python3"
  },
  "language_info": {
   "codemirror_mode": {
    "name": "ipython",
    "version": 3
   },
   "file_extension": ".py",
   "mimetype": "text/x-python",
   "name": "python",
   "nbconvert_exporter": "python",
   "pygments_lexer": "ipython3",
   "version": "3.6.3"
  }
 },
 "nbformat": 4,
 "nbformat_minor": 2
}
