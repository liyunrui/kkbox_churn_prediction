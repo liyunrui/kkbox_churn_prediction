{
 "cells": [
  {
   "cell_type": "code",
   "execution_count": 2,
   "metadata": {},
   "outputs": [],
   "source": [
    "from glob import glob"
   ]
  },
  {
   "cell_type": "code",
   "execution_count": 28,
   "metadata": {},
   "outputs": [
    {
     "data": {
      "text/plain": [
       "['/days_since_the_first_subscription.csv',\n",
       " '/days_since_the_first_subscription_n1.csv',\n",
       " '/days_since_the_first_subscription_n5.csv',\n",
       " '/days_since_the_last_expiration-cumsum.csv',\n",
       " '/days_since_the_last_expiration-cumsum_n1.csv',\n",
       " '/days_since_the_last_expiration-cumsum_n5.csv',\n",
       " '/days_since_the_last_expiration.csv',\n",
       " '/days_since_the_last_expiration_n1.csv',\n",
       " '/days_since_the_last_expiration_n5.csv',\n",
       " '/days_since_the_last_expiration_ratio.csv',\n",
       " '/days_since_the_last_expiration_ratio_n1.csv',\n",
       " '/days_since_the_last_expiration_ratio_n5.csv',\n",
       " '/days_since_the_last_subscription.csv',\n",
       " '/days_since_the_last_subscription_n1.csv',\n",
       " '/days_since_the_last_subscription_n5.csv',\n",
       " '/days_since_the_last_subscription_ratio.csv',\n",
       " '/days_since_the_last_subscription_ratio_n1.csv',\n",
       " '/days_since_the_last_subscription_ratio_n5.csv',\n",
       " '/days_since_the_last_transactions',\n",
       " '/early_expiration_days.csv',\n",
       " '/early_expiration_days_n1.csv',\n",
       " '/early_expiration_days_n5.csv',\n",
       " '/membership_duration.csv',\n",
       " '/membership_duration_n1.csv',\n",
       " '/membership_duration_n5.csv',\n",
       " '/over_deadline.csv',\n",
       " '/over_deadline_n1.csv',\n",
       " '/over_deadline_n5.csv',\n",
       " '/regular_membership.csv',\n",
       " '/regular_membership_n1.csv',\n",
       " '/regular_membership_n5.csv']"
      ]
     },
     "execution_count": 28,
     "metadata": {},
     "output_type": "execute_result"
    }
   ],
   "source": [
    "path = '../../feature/test'\n",
    "test = glob(path+'/*')\n",
    "test\n",
    "[i[18:] for i in test]"
   ]
  },
  {
   "cell_type": "code",
   "execution_count": 15,
   "metadata": {},
   "outputs": [
    {
     "data": {
      "text/plain": [
       "['/days_since_the_first_subscription.csv',\n",
       " '/days_since_the_first_subscription_n1.csv',\n",
       " '/days_since_the_first_subscription_n5.csv',\n",
       " '/days_since_the_last_expiration-cumsum.csv',\n",
       " '/days_since_the_last_expiration-cumsum_n1.csv',\n",
       " '/days_since_the_last_expiration-cumsum_n5.csv',\n",
       " '/days_since_the_last_expiration.csv',\n",
       " '/days_since_the_last_expiration_n1.csv',\n",
       " '/days_since_the_last_expiration_n5.csv',\n",
       " '/days_since_the_last_expiration_ratio.csv',\n",
       " '/days_since_the_last_expiration_ratio_n1.csv',\n",
       " '/days_since_the_last_expiration_ratio_n5.csv',\n",
       " '/days_since_the_last_subscription.csv',\n",
       " '/days_since_the_last_subscription_n1.csv',\n",
       " '/days_since_the_last_subscription_n5.csv',\n",
       " '/days_since_the_last_subscription_ratio.csv',\n",
       " '/days_since_the_last_subscription_ratio_n1.csv',\n",
       " '/days_since_the_last_subscription_ratio_n5.csv',\n",
       " '/days_since_the_last_transactions',\n",
       " '/days_since_the_last_transactions.csv',\n",
       " '/early_expiration_days.csv',\n",
       " '/early_expiration_days_n1.csv',\n",
       " '/early_expiration_days_n5.csv',\n",
       " '/membership_duration.csv',\n",
       " '/membership_duration_n1.csv',\n",
       " '/membership_duration_n5.csv',\n",
       " '/over_deadline.csv',\n",
       " '/over_deadline_n1.csv',\n",
       " '/over_deadline_n5.csv',\n",
       " '/regular_membership.csv',\n",
       " '/regular_membership_n1.csv',\n",
       " '/regular_membership_n5.csv']"
      ]
     },
     "execution_count": 15,
     "metadata": {},
     "output_type": "execute_result"
    }
   ],
   "source": [
    "path = '../../feature/trainW-1'\n",
    "train = glob(path+'/*')\n",
    "train\n",
    "[i[22:] for i in train]"
   ]
  },
  {
   "cell_type": "code",
   "execution_count": 29,
   "metadata": {},
   "outputs": [
    {
     "data": {
      "text/plain": [
       "{'/days_since_the_last_transactions.csv'}"
      ]
     },
     "execution_count": 29,
     "metadata": {},
     "output_type": "execute_result"
    }
   ],
   "source": [
    "set([i[22:] for i in train]) - set([i[18:] for i in test])"
   ]
  },
  {
   "cell_type": "code",
   "execution_count": null,
   "metadata": {},
   "outputs": [],
   "source": []
  }
 ],
 "metadata": {
  "kernelspec": {
   "display_name": "Python 3",
   "language": "python",
   "name": "python3"
  },
  "language_info": {
   "codemirror_mode": {
    "name": "ipython",
    "version": 3
   },
   "file_extension": ".py",
   "mimetype": "text/x-python",
   "name": "python",
   "nbconvert_exporter": "python",
   "pygments_lexer": "ipython3",
   "version": "3.6.3"
  }
 },
 "nbformat": 4,
 "nbformat_minor": 2
}
