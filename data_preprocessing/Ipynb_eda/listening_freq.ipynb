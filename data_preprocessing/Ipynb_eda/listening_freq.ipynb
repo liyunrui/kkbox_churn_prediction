{
 "cells": [
  {
   "cell_type": "code",
   "execution_count": 151,
   "metadata": {},
   "outputs": [],
   "source": [
    "#!/usr/bin/python3\n",
    "# -*-coding:utf-8\n",
    "'''\n",
    "Created on Fri Dec 1 22:22:35 2017\n",
    "\n",
    "@author: Ray\n",
    "\n",
    "'''\n",
    "import time\n",
    "import pandas as pd\n",
    "import numpy as np\n",
    "from tqdm import tqdm\n",
    "import os\n",
    "import utils # written by author\n",
    "from glob import glob\n",
    "from datetime import datetime, timedelta\n",
    "import multiprocessing as mp\n",
    "import gc # for automatic releasing memory\n"
   ]
  },
  {
   "cell_type": "code",
   "execution_count": 152,
   "metadata": {},
   "outputs": [],
   "source": [
    "def within_n_days(x, T, n = 7):\n",
    "\t# n = 7, 14, 30, 60, 90,\n",
    "\t##################################################\n",
    "\t# Filtering accroding to w\n",
    "\t##################################################\n",
    "\tif T == 0:\n",
    "\t\t# w = 0:使用3月之前的資料當作history\n",
    "\t\tprediction_deadline = datetime.strptime('2017-03-01', '%Y-%m-%d')\n",
    "\telif T == 1:\n",
    "\t\t# w = 1:使用2月之前的資料當作history\n",
    "\t\tprediction_deadline = datetime.strptime('2017-02-01', '%Y-%m-%d')\n",
    "\telif T == 2:\n",
    "\t\t# w = 2:使用1月之前的資料當作history\n",
    "\t\tprediction_deadline = datetime.strptime('2017-01-01', '%Y-%m-%d')\n",
    "\telif T == -1:\n",
    "\t\t# w = -1:使用4月之前的資料當作history\n",
    "\t\tprediction_deadline = datetime.strptime('2017-04-01', '%Y-%m-%d')\n",
    "\tcheck_points = prediction_deadline - timedelta(n) # 往prediction_deadline前n天內\n",
    "\tx = x[ (x.date >= check_points )]\n",
    "\treturn x"
   ]
  },
  {
   "cell_type": "code",
   "execution_count": 162,
   "metadata": {},
   "outputs": [
    {
     "data": {
      "text/html": [
       "<div>\n",
       "<style scoped>\n",
       "    .dataframe tbody tr th:only-of-type {\n",
       "        vertical-align: middle;\n",
       "    }\n",
       "\n",
       "    .dataframe tbody tr th {\n",
       "        vertical-align: top;\n",
       "    }\n",
       "\n",
       "    .dataframe thead th {\n",
       "        text-align: right;\n",
       "    }\n",
       "</style>\n",
       "<table border=\"1\" class=\"dataframe\">\n",
       "  <thead>\n",
       "    <tr style=\"text-align: right;\">\n",
       "      <th></th>\n",
       "      <th>msno</th>\n",
       "      <th>date</th>\n",
       "      <th>num_25</th>\n",
       "      <th>num_100</th>\n",
       "    </tr>\n",
       "  </thead>\n",
       "  <tbody>\n",
       "    <tr>\n",
       "      <th>0</th>\n",
       "      <td>+++hVY1rZox/33YtvDgmKA2Frg/2qhkz12B9ylCvh8o=</td>\n",
       "      <td>2016-11-16</td>\n",
       "      <td>6.0</td>\n",
       "      <td>18.0</td>\n",
       "    </tr>\n",
       "    <tr>\n",
       "      <th>1</th>\n",
       "      <td>+++hVY1rZox/33YtvDgmKA2Frg/2qhkz12B9ylCvh8o=</td>\n",
       "      <td>2016-11-17</td>\n",
       "      <td>3.0</td>\n",
       "      <td>28.0</td>\n",
       "    </tr>\n",
       "    <tr>\n",
       "      <th>2</th>\n",
       "      <td>+++hVY1rZox/33YtvDgmKA2Frg/2qhkz12B9ylCvh8o=</td>\n",
       "      <td>2016-11-18</td>\n",
       "      <td>6.0</td>\n",
       "      <td>25.0</td>\n",
       "    </tr>\n",
       "    <tr>\n",
       "      <th>3</th>\n",
       "      <td>+++hVY1rZox/33YtvDgmKA2Frg/2qhkz12B9ylCvh8o=</td>\n",
       "      <td>2016-11-19</td>\n",
       "      <td>19.0</td>\n",
       "      <td>32.0</td>\n",
       "    </tr>\n",
       "    <tr>\n",
       "      <th>4</th>\n",
       "      <td>+++hVY1rZox/33YtvDgmKA2Frg/2qhkz12B9ylCvh8o=</td>\n",
       "      <td>2016-11-20</td>\n",
       "      <td>8.0</td>\n",
       "      <td>62.0</td>\n",
       "    </tr>\n",
       "  </tbody>\n",
       "</table>\n",
       "</div>"
      ],
      "text/plain": [
       "                                           msno       date  num_25  num_100\n",
       "0  +++hVY1rZox/33YtvDgmKA2Frg/2qhkz12B9ylCvh8o= 2016-11-16     6.0     18.0\n",
       "1  +++hVY1rZox/33YtvDgmKA2Frg/2qhkz12B9ylCvh8o= 2016-11-17     3.0     28.0\n",
       "2  +++hVY1rZox/33YtvDgmKA2Frg/2qhkz12B9ylCvh8o= 2016-11-18     6.0     25.0\n",
       "3  +++hVY1rZox/33YtvDgmKA2Frg/2qhkz12B9ylCvh8o= 2016-11-19    19.0     32.0\n",
       "4  +++hVY1rZox/33YtvDgmKA2Frg/2qhkz12B9ylCvh8o= 2016-11-20     8.0     62.0"
      ]
     },
     "execution_count": 162,
     "metadata": {},
     "output_type": "execute_result"
    }
   ],
   "source": [
    "input_col = ['msno','date','num_25','num_100']\n",
    "df = pd.read_csv('sampling_for_analyzing.csv', parse_dates = ['date'])[input_col]\n",
    "df.head()"
   ]
  },
  {
   "cell_type": "code",
   "execution_count": 163,
   "metadata": {},
   "outputs": [],
   "source": [
    "T = 0\n",
    "user_logs = df\n",
    "folder = 'trainW-'+ str(T)"
   ]
  },
  {
   "cell_type": "code",
   "execution_count": 159,
   "metadata": {},
   "outputs": [
    {
     "name": "stderr",
     "output_type": "stream",
     "text": [
      "/usr/local/lib/python3.6/site-packages/pandas/core/frame.py:3035: SettingWithCopyWarning: \n",
      "A value is trying to be set on a copy of a slice from a DataFrame\n",
      "\n",
      "See the caveats in the documentation: http://pandas.pydata.org/pandas-docs/stable/indexing.html#indexing-view-versus-copy\n",
      "  downcast=downcast, **kwargs)\n",
      "100%|██████████| 4/4 [00:00<00:00, 1246.54it/s]"
     ]
    },
    {
     "name": "stdout",
     "output_type": "stream",
     "text": [
      "<class 'pandas.core.frame.DataFrame'>\n",
      "RangeIndex: 50000 entries, 0 to 49999\n",
      "Data columns (total 4 columns):\n",
      "msno             50000 non-null object\n",
      "date             49966 non-null datetime64[ns]\n",
      "num_25_ratio     49445 non-null float64\n",
      "num_100_ratio    49445 non-null float64\n",
      "dtypes: datetime64[ns](1), float64(2), object(1)\n",
      "memory usage: 1.5+ MB\n"
     ]
    },
    {
     "name": "stderr",
     "output_type": "stream",
     "text": [
      "\n",
      "/usr/local/lib/python3.6/site-packages/pandas/core/frame.py:2540: SettingWithCopyWarning: \n",
      "A value is trying to be set on a copy of a slice from a DataFrame.\n",
      "Try using .loc[row_indexer,col_indexer] = value instead\n",
      "\n",
      "See the caveats in the documentation: http://pandas.pydata.org/pandas-docs/stable/indexing.html#indexing-view-versus-copy\n",
      "  self[k1] = value[k2]\n"
     ]
    }
   ],
   "source": [
    "# basic procedure\n",
    "##################################################\n",
    "#get_ratio\n",
    "user_logs.loc[:,\"num_25\":\"num_100\"] = user_logs.loc[:,\"num_25\":\"num_100\"].div(user_logs.loc[:,\"num_25\":\"num_100\"].sum(axis=1), axis=0)\n",
    "user_logs.rename(columns = {'num_25':'num_25_ratio', 'num_100':'num_100_ratio'}, inplace =True)\n",
    "user_logs.info()\n",
    "user_logs = user_logs.dropna()\n",
    "# #==============================================================================\n",
    "# print('reduce memory')\n",
    "# #==============================================================================\n",
    "utils.reduce_memory(user_logs)\n",
    "df = user_logs"
   ]
  },
  {
   "cell_type": "code",
   "execution_count": 160,
   "metadata": {},
   "outputs": [
    {
     "name": "stdout",
     "output_type": "stream",
     "text": [
      "<class 'pandas.core.frame.DataFrame'>\n",
      "Int64Index: 49445 entries, 0 to 49999\n",
      "Data columns (total 4 columns):\n",
      "msno             49445 non-null object\n",
      "date             49445 non-null datetime64[ns]\n",
      "num_25_ratio     49445 non-null float32\n",
      "num_100_ratio    49445 non-null float32\n",
      "dtypes: datetime64[ns](1), float32(2), object(1)\n",
      "memory usage: 1.5+ MB\n"
     ]
    }
   ],
   "source": [
    "df.info()"
   ]
  },
  {
   "cell_type": "code",
   "execution_count": 164,
   "metadata": {},
   "outputs": [
    {
     "name": "stderr",
     "output_type": "stream",
     "text": [
      "100%|██████████| 4/4 [00:00<00:00, 1479.34it/s]\n",
      "100%|██████████| 6/6 [00:00<00:00, 1477.82it/s]"
     ]
    },
    {
     "name": "stdout",
     "output_type": "stream",
     "text": [
      "reduce memory\n",
      "shape of df: (49445, 4)\n",
      "core1\n",
      "reduce memory\n"
     ]
    },
    {
     "name": "stderr",
     "output_type": "stream",
     "text": [
      "\n",
      "100%|██████████| 6/6 [00:00<00:00, 682.28it/s]\n"
     ]
    },
    {
     "name": "stdout",
     "output_type": "stream",
     "text": [
      "core2\n",
      "reduce memory\n"
     ]
    },
    {
     "name": "stderr",
     "output_type": "stream",
     "text": [
      "100%|██████████| 6/6 [00:00<00:00, 1513.64it/s]\n",
      "100%|██████████| 6/6 [00:00<00:00, 1303.52it/s]"
     ]
    },
    {
     "name": "stdout",
     "output_type": "stream",
     "text": [
      "core1\n",
      "reduce memory\n",
      "core2\n",
      "reduce memory\n"
     ]
    },
    {
     "name": "stderr",
     "output_type": "stream",
     "text": [
      "\n",
      "100%|██████████| 6/6 [00:00<00:00, 1163.47it/s]\n",
      "100%|██████████| 6/6 [00:00<00:00, 1311.81it/s]"
     ]
    },
    {
     "name": "stdout",
     "output_type": "stream",
     "text": [
      "core1\n",
      "reduce memory\n",
      "core2\n",
      "reduce memory\n"
     ]
    },
    {
     "name": "stderr",
     "output_type": "stream",
     "text": [
      "\n",
      "100%|██████████| 6/6 [00:00<00:00, 985.85it/s]\n",
      "  0%|          | 0/6 [00:00<?, ?it/s]"
     ]
    },
    {
     "name": "stdout",
     "output_type": "stream",
     "text": [
      "core1\n",
      "reduce memory\n",
      "core2\n",
      "reduce memory\n"
     ]
    },
    {
     "name": "stderr",
     "output_type": "stream",
     "text": [
      "100%|██████████| 6/6 [00:00<00:00, 882.61it/s]\n",
      "100%|██████████| 6/6 [00:00<00:00, 1139.60it/s]\n",
      "100%|██████████| 6/6 [00:00<00:00, 838.58it/s]"
     ]
    },
    {
     "name": "stdout",
     "output_type": "stream",
     "text": [
      "core1\n",
      "reduce memory\n",
      "core2\n",
      "reduce memory\n"
     ]
    },
    {
     "name": "stderr",
     "output_type": "stream",
     "text": [
      "\n",
      "100%|██████████| 6/6 [00:00<00:00, 1234.83it/s]\n",
      "100%|██████████| 6/6 [00:00<00:00, 1276.61it/s]"
     ]
    },
    {
     "name": "stdout",
     "output_type": "stream",
     "text": [
      "core1\n",
      "reduce memory\n",
      "core2\n",
      "reduce memory\n"
     ]
    },
    {
     "name": "stderr",
     "output_type": "stream",
     "text": [
      "\n"
     ]
    },
    {
     "data": {
      "text/plain": [
       "80"
      ]
     },
     "execution_count": 164,
     "metadata": {},
     "output_type": "execute_result"
    }
   ],
   "source": [
    "##################################################\n",
    "# basic procedure\n",
    "##################################################\n",
    "#get_ratio\n",
    "user_logs.loc[:,\"num_25\":\"num_100\"] = user_logs.loc[:,\"num_25\":\"num_100\"].div(user_logs.loc[:,\"num_25\":\"num_100\"].sum(axis=1), axis=0)\n",
    "user_logs.rename(columns = {'num_25':'num_25_ratio', 'num_100':'num_100_ratio'}, inplace =True)\n",
    "user_logs.dropna(inplace = True)\n",
    "#==============================================================================\n",
    "print('reduce memory')\n",
    "#==============================================================================\n",
    "utils.reduce_memory(user_logs)\n",
    "df = user_logs\n",
    "#df = pd.merge(train, user_logs, on = 'msno', how = 'left')\n",
    "del user_logs\n",
    "gc.collect()\n",
    "print ('shape of df:', df.shape)\n",
    "##################################################\n",
    "# All history\n",
    "##################################################\n",
    "#core1:num_25_ratio\n",
    "print ('core1')\n",
    "tbl = df.groupby('msno').num_25_ratio.mean().to_frame()\n",
    "tbl.columns = ['num_25_ratio-mean']\n",
    "tbl['num_25_ratio-min'] = df.groupby('msno').num_25_ratio.min()\n",
    "tbl['num_25_ratio-max'] = df.groupby('msno').num_25_ratio.max()\n",
    "tbl['num_25_ratio-median'] = df.groupby('msno').num_25_ratio.median()\n",
    "tbl['num_25_ratio-std'] = df.groupby('msno').num_25_ratio.std()\n",
    "tbl.reset_index(inplace = True)\n",
    "#==============================================================================\n",
    "print('reduce memory')\n",
    "#==============================================================================\n",
    "utils.reduce_memory(tbl)\n",
    "# write\n",
    "tbl.to_csv('../../feature/{}/num_25_ratio.csv'.format(folder), index = False)\n",
    "del tbl\n",
    "gc.collect()\n",
    "#core2:num_100_ratio\n",
    "print ('core2')\n",
    "tbl = df.groupby('msno').num_100_ratio.mean().to_frame()\n",
    "tbl.columns = ['num_100_ratio-mean']\n",
    "tbl['num_100_ratio-min'] = df.groupby('msno').num_100_ratio.min()\n",
    "tbl['num_100_ratio-max'] = df.groupby('msno').num_100_ratio.max()\n",
    "tbl['num_100_ratio-median'] = df.groupby('msno').num_100_ratio.median()\n",
    "tbl['num_100_ratio-std'] = df.groupby('msno').num_100_ratio.std()\n",
    "tbl.reset_index(inplace = True)\n",
    "#==============================================================================\n",
    "print('reduce memory')\n",
    "#==============================================================================\n",
    "utils.reduce_memory(tbl)\n",
    "# write\n",
    "tbl.to_csv('../../feature/{}/num_100_ratio.csv'.format(folder), index = False)\n",
    "del tbl\n",
    "gc.collect()\n",
    "##################################################\n",
    "# n = 7\n",
    "##################################################\n",
    "df_ = df.groupby('msno').apply(within_n_days,T, n = 7).reset_index(drop = True)\n",
    "#core1:num_25_ratio\n",
    "print ('core1')\n",
    "tbl = df_.groupby('msno').num_25_ratio.mean().to_frame()\n",
    "tbl.columns = ['num_25_ratio_during_t_7-mean']\n",
    "tbl['num_25_ratio_during_t_7-min'] = df_.groupby('msno').num_25_ratio.min()\n",
    "tbl['num_25_ratio_during_t_7-max'] = df_.groupby('msno').num_25_ratio.max()\n",
    "tbl['num_25_ratio_during_t_7-median'] = df_.groupby('msno').num_25_ratio.median()\n",
    "tbl['num_25_ratio_during_t_7-std'] = df_.groupby('msno').num_25_ratio.std()\n",
    "tbl.reset_index(inplace = True)\n",
    "#==============================================================================\n",
    "print('reduce memory')\n",
    "#==============================================================================\n",
    "utils.reduce_memory(tbl)\n",
    "# write\n",
    "tbl.to_csv('../../feature/{}/num_25_ratio_during_t_7.csv'.format(folder), index = False)\n",
    "del tbl\n",
    "gc.collect()\n",
    "#core2:num_100_ratio\n",
    "print ('core2')\n",
    "tbl = df_.groupby('msno').num_100_ratio.mean().to_frame()\n",
    "tbl.columns = ['num_repeated_songs_during_t_7-mean']\n",
    "tbl['num_100_ratio_during_t_7-min'] = df_.groupby('msno').num_100_ratio.min()\n",
    "tbl['num_100_ratio_during_t_7-max'] = df_.groupby('msno').num_100_ratio.max()\n",
    "tbl['num_100_ratio_during_t_7-median'] = df_.groupby('msno').num_100_ratio.median()\n",
    "tbl['num_100_ratio_during_t_7-std'] = df_.groupby('msno').num_100_ratio.std()\n",
    "tbl.reset_index(inplace = True)\n",
    "del df_\n",
    "gc.collect()\n",
    "#==============================================================================\n",
    "print('reduce memory')\n",
    "#==============================================================================\n",
    "utils.reduce_memory(tbl)\n",
    "# write\n",
    "tbl.to_csv('../../feature/{}/num_100_ratio_during_t_7.csv'.format(folder), index = False)\n",
    "del tbl\n",
    "gc.collect()\n",
    "\n",
    "##################################################\n",
    "# n = 14\n",
    "##################################################\n",
    "df_ = df.groupby('msno').apply(within_n_days,T, n = 14).reset_index(drop = True)\n",
    "#core1:completed_songs_ratio\n",
    "print ('core1')\n",
    "tbl = df_.groupby('msno').num_25_ratio.mean().to_frame()\n",
    "tbl.columns = ['num_25_ratio_during_t_14-mean']\n",
    "tbl['num_25_ratio_during_t_14-min'] = df_.groupby('msno').num_25_ratio.min()\n",
    "tbl['num_25_ratio_during_t_14-max'] = df_.groupby('msno').num_25_ratio.max()\n",
    "tbl['num_25_ratio_during_t_14-median'] = df_.groupby('msno').num_25_ratio.median()\n",
    "tbl['num_25_ratio_during_t_14-std'] = df_.groupby('msno').num_25_ratio.std()\n",
    "tbl.reset_index(inplace = True)\n",
    "#==============================================================================\n",
    "print('reduce memory')\n",
    "#==============================================================================\n",
    "utils.reduce_memory(tbl)\n",
    "# write\n",
    "tbl.to_csv('../../feature/{}/num_25_ratio_during_t_14.csv'.format(folder), index = False)\n",
    "del tbl\n",
    "gc.collect()\t\n",
    "#core2:num_repeated_songs\n",
    "print ('core2')\n",
    "tbl = df_.groupby('msno').num_100_ratio.mean().to_frame()\n",
    "tbl.columns = ['num_100_ratio_during_t_14-mean']\n",
    "tbl['num_100_ratio_during_t_14-min'] = df_.groupby('msno').num_100_ratio.min()\n",
    "tbl['num_100_ratio_during_t_14-max'] = df_.groupby('msno').num_100_ratio.max()\n",
    "tbl['num_100_ratio_during_t_14-median'] = df_.groupby('msno').num_100_ratio.median()\n",
    "tbl['num_100_ratio_during_t_14-std'] = df_.groupby('msno').num_100_ratio.std()\n",
    "tbl.reset_index(inplace = True)\n",
    "del df_\n",
    "gc.collect()\n",
    "#==============================================================================\n",
    "print('reduce memory')\n",
    "#==============================================================================\n",
    "utils.reduce_memory(tbl)\n",
    "# write\n",
    "tbl.to_csv('../../feature/{}/num_100_ratio_during_t_14.csv'.format(folder), index = False)\n",
    "del tbl\n",
    "gc.collect()\n",
    "\n",
    "##################################################\n",
    "# n = 30\n",
    "##################################################\n",
    "df_ = df.groupby('msno').apply(within_n_days,T, n = 30).reset_index(drop = True)\n",
    "#core1:completed_songs_ratio\n",
    "print ('core1')\n",
    "tbl = df_.groupby('msno').num_25_ratio.mean().to_frame()\n",
    "tbl.columns = ['num_25_ratio_during_t_30-mean']\n",
    "tbl['num_25_ratio_during_t_30-min'] = df_.groupby('msno').num_25_ratio.min()\n",
    "tbl['num_25_ratio_during_t_30-max'] = df_.groupby('msno').num_25_ratio.max()\n",
    "tbl['num_25_ratio_during_t_30-median'] = df_.groupby('msno').num_25_ratio.median()\n",
    "tbl['num_25_ratio_during_t_30-std'] = df_.groupby('msno').num_25_ratio.std()\n",
    "tbl.reset_index(inplace = True)\n",
    "#==============================================================================\n",
    "print('reduce memory')\n",
    "#==============================================================================\n",
    "utils.reduce_memory(tbl)\n",
    "# write\n",
    "tbl.to_csv('../../feature/{}/num_25_ratio_during_t_30.csv'.format(folder), index = False)\n",
    "del tbl\n",
    "gc.collect()\t\n",
    "#core2:num_repeated_songs\n",
    "print ('core2')\n",
    "tbl = df_.groupby('msno').num_100_ratio.mean().to_frame()\n",
    "tbl.columns = ['num_100_ratio_during_t_30-mean']\n",
    "tbl['num_100_ratio_during_t_30-min'] = df_.groupby('msno').num_100_ratio.min()\n",
    "tbl['num_100_ratio_during_t_30-max'] = df_.groupby('msno').num_100_ratio.max()\n",
    "tbl['num_100_ratio_during_t_30-median'] = df_.groupby('msno').num_100_ratio.median()\n",
    "tbl['num_100_ratio_during_t_30-std'] = df_.groupby('msno').num_100_ratio.std()\n",
    "tbl.reset_index(inplace = True)\n",
    "del df_\n",
    "gc.collect()\n",
    "#==============================================================================\n",
    "print('reduce memory')\n",
    "#==============================================================================\n",
    "utils.reduce_memory(tbl)\n",
    "# write\n",
    "tbl.to_csv('../../feature/{}/num_100_ratio_during_t_30.csv'.format(folder), index = False)\n",
    "del tbl\n",
    "gc.collect()\n",
    "##################################################\n",
    "# n = 60\n",
    "##################################################\n",
    "df_ = df.groupby('msno').apply(within_n_days,T, n = 60).reset_index(drop = True)\n",
    "#core1:completed_songs_ratio\n",
    "print ('core1')\n",
    "tbl = df_.groupby('msno').num_25_ratio.mean().to_frame()\n",
    "tbl.columns = ['num_25_ratio_during_t_60-mean']\n",
    "tbl['num_25_ratio_during_t_60-min'] = df_.groupby('msno').num_25_ratio.min()\n",
    "tbl['num_25_ratio_during_t_60-max'] = df_.groupby('msno').num_25_ratio.max()\n",
    "tbl['num_25_ratio_during_t_60-median'] = df_.groupby('msno').num_25_ratio.median()\n",
    "tbl['num_25_ratio_during_t_60-std'] = df_.groupby('msno').num_25_ratio.std()\n",
    "tbl.reset_index(inplace = True)\n",
    "#==============================================================================\n",
    "print('reduce memory')\n",
    "#==============================================================================\n",
    "utils.reduce_memory(tbl)\n",
    "# write\n",
    "tbl.to_csv('../../feature/{}/num_25_ratio_during_t_60.csv'.format(folder), index = False)\n",
    "del tbl\n",
    "gc.collect()\t\n",
    "#core2:num_repeated_songs\n",
    "print ('core2')\n",
    "tbl = df_.groupby('msno').num_100_ratio.mean().to_frame()\n",
    "tbl.columns = ['num_100_ratio_during_t_60-mean']\n",
    "tbl['num_100_ratio_during_t_60-min'] = df_.groupby('msno').num_100_ratio.min()\n",
    "tbl['num_100_ratio_during_t_60-max'] = df_.groupby('msno').num_100_ratio.max()\n",
    "tbl['num_100_ratio_during_t_60-median'] = df_.groupby('msno').num_100_ratio.median()\n",
    "tbl['num_100_ratio_during_t_60-std'] = df_.groupby('msno').num_100_ratio.std()\n",
    "tbl.reset_index(inplace = True)\n",
    "del df_\n",
    "gc.collect()\n",
    "#==============================================================================\n",
    "print('reduce memory')\n",
    "#==============================================================================\n",
    "utils.reduce_memory(tbl)\n",
    "# write\n",
    "tbl.to_csv('../../feature/{}/num_100_ratio_during_t_60.csv'.format(folder), index = False)\n",
    "del tbl\n",
    "gc.collect()\n",
    "##################################################\n",
    "# n = 90\n",
    "##################################################\n",
    "df_ = df.groupby('msno').apply(within_n_days,T, n = 90).reset_index(drop = True)\n",
    "#core1:completed_songs_ratio\n",
    "print ('core1')\n",
    "tbl = df_.groupby('msno').num_25_ratio.mean().to_frame()\n",
    "tbl.columns = ['num_25_ratio_during_t_90-mean']\n",
    "tbl['num_25_ratio_during_t_90-min'] = df_.groupby('msno').num_25_ratio.min()\n",
    "tbl['num_25_ratio_during_t_90-max'] = df_.groupby('msno').num_25_ratio.max()\n",
    "tbl['num_25_ratio_during_t_90-median'] = df_.groupby('msno').num_25_ratio.median()\n",
    "tbl['num_25_ratio_during_t_90-std'] = df_.groupby('msno').num_25_ratio.std()\n",
    "tbl.reset_index(inplace = True)\n",
    "#==============================================================================\n",
    "print('reduce memory')\n",
    "#==============================================================================\n",
    "utils.reduce_memory(tbl)\n",
    "# write\n",
    "tbl.to_csv('../../feature/{}/num_25_ratio_during_t_90.csv'.format(folder), index = False)\n",
    "del tbl\n",
    "gc.collect()\t\n",
    "#core2:num_repeated_songs\n",
    "print ('core2')\n",
    "tbl = df_.groupby('msno').num_100_ratio.mean().to_frame()\n",
    "tbl.columns = ['num_100_ratio_during_t_90-mean']\n",
    "tbl['num_100_ratio_during_t_90-min'] = df_.groupby('msno').num_100_ratio.min()\n",
    "tbl['num_100_ratio_during_t_90-max'] = df_.groupby('msno').num_100_ratio.max()\n",
    "tbl['num_100_ratio_during_t_90-median'] = df_.groupby('msno').num_100_ratio.median()\n",
    "tbl['num_100_ratio_during_t_90-std'] = df_.groupby('msno').num_100_ratio.std()\n",
    "tbl.reset_index(inplace = True)\n",
    "del df_\n",
    "gc.collect()\n",
    "#==============================================================================\n",
    "print('reduce memory')\n",
    "#==============================================================================\n",
    "utils.reduce_memory(tbl)\n",
    "# write\n",
    "tbl.to_csv('../../feature/{}/num_100_ratio_during_t_90.csv'.format(folder), index = False)\n",
    "del tbl\n",
    "gc.collect()\n"
   ]
  },
  {
   "cell_type": "code",
   "execution_count": null,
   "metadata": {},
   "outputs": [],
   "source": []
  },
  {
   "cell_type": "code",
   "execution_count": null,
   "metadata": {},
   "outputs": [],
   "source": []
  },
  {
   "cell_type": "code",
   "execution_count": null,
   "metadata": {},
   "outputs": [],
   "source": []
  },
  {
   "cell_type": "code",
   "execution_count": null,
   "metadata": {},
   "outputs": [],
   "source": []
  },
  {
   "cell_type": "code",
   "execution_count": null,
   "metadata": {},
   "outputs": [],
   "source": []
  }
 ],
 "metadata": {
  "kernelspec": {
   "display_name": "Python 3",
   "language": "python",
   "name": "python3"
  },
  "language_info": {
   "codemirror_mode": {
    "name": "ipython",
    "version": 3
   },
   "file_extension": ".py",
   "mimetype": "text/x-python",
   "name": "python",
   "nbconvert_exporter": "python",
   "pygments_lexer": "ipython3",
   "version": "3.6.3"
  }
 },
 "nbformat": 4,
 "nbformat_minor": 2
}
