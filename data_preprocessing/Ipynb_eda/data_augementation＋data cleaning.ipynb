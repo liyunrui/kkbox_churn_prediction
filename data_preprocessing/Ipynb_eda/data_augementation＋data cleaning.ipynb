{
 "cells": [
  {
   "cell_type": "code",
   "execution_count": 1,
   "metadata": {},
   "outputs": [],
   "source": [
    "import time\n",
    "import pandas as pd\n",
    "import numpy as np\n",
    "from tqdm import tqdm\n",
    "import os\n",
    "import utils # written by author\n",
    "from glob import glob\n",
    "from datetime import datetime, timedelta\n",
    "import multiprocessing as mp\n",
    "import gc # for automatic releasing memory"
   ]
  },
  {
   "cell_type": "code",
   "execution_count": 4,
   "metadata": {},
   "outputs": [
    {
     "name": "stderr",
     "output_type": "stream",
     "text": [
      "100%|██████████| 4/4 [00:29<00:00,  7.30s/it]\n"
     ]
    }
   ],
   "source": [
    "##################################################\n",
    "# Load transaction \n",
    "##################################################\n",
    "col = ['msno','transaction_date','membership_expire_date','is_cancel']\n",
    "transactions = utils.read_multiple_csv('../../input/preprocessed_data/transactions', col)\n",
    "\n",
    "transactions = transactions.head(n = 5000)\n",
    "##################################################\n",
    "# Convert string to datetime format\n",
    "##################################################\n",
    "transactions['membership_expire_date']  = transactions.membership_expire_date.apply(lambda x: datetime.strptime(x, '%Y-%m-%d'))\n",
    "transactions['transaction_date']  = transactions.transaction_date.apply(lambda x: datetime.strptime(x, '%Y-%m-%d'))\n"
   ]
  },
  {
   "cell_type": "markdown",
   "metadata": {},
   "source": [
    "# 以下沒在官方文件發現, 是自己推斷（切記過分推斷, 怪異的都做noise不考慮)\n",
    "\n",
    "    # 1.如果可以當作預測的order發生兩次, 以最後一筆order當作判斷label的依據\n",
    "\n",
    "    # 2.如果剛好發生在check points(等號)貌似是churn\n",
    "    \n",
    "#Note:\n"
   ]
  },
  {
   "cell_type": "code",
   "execution_count": 10,
   "metadata": {},
   "outputs": [],
   "source": [
    "def filter_with_window_size(x, w = 0):\n",
    "    # w: window_size(short_window_back)\n",
    "    if w == 0:\n",
    "        # for data cleaning: remove weird label \n",
    "        # 找出這個人在17年二月份中的有到期的交易紀錄\n",
    "        if x[(x.membership_expire_date >= datetime.strptime('2017-02-01', '%Y-%m-%d'))&(x.membership_expire_date <= datetime.strptime('2017-02-28', '%Y-%m-%d'))].empty:\n",
    "            # 如果這個交易紀錄是空的,把它濾掉\n",
    "            x['key'] = 1 # key = 1, 濾掉\n",
    "        else:\n",
    "            x['key'] = 0\n",
    "            x['w'] = w # # 代表這群人將會被預測在17年三月是否流失(true label is provided by train_v2)\n",
    "        return x\n",
    "    elif w == 1:\n",
    "        # 找出這個人在17年一月份中的有到期的交易紀錄\n",
    "        if x[(x.membership_expire_date >= datetime.strptime('2017-01-01', '%Y-%m-%d'))&(x.membership_expire_date <= datetime.strptime('2017-01-31', '%Y-%m-%d'))].empty:\n",
    "            # 如果這個交易紀錄是空的,把它濾掉\n",
    "            x['key'] = 1 # key = 1, 濾掉\n",
    "        else:\n",
    "            x['key'] = 0\n",
    "        return x\n",
    "    elif w == 2:\n",
    "        # 找出這個人在16年十二月份中的有到期的交易紀錄\n",
    "        if x[(x.membership_expire_date >= datetime.strptime('2016-12-01', '%Y-%m-%d'))&(x.membership_expire_date <= datetime.strptime('2016-12-31', '%Y-%m-%d'))].empty:\n",
    "            # 如果這個交易紀錄是空的,把它濾掉\n",
    "            x['key'] = 1 # key = 1, 濾掉\n",
    "        else:\n",
    "            x['key'] = 0\n",
    "        return x\n",
    "def label_generation(x, w):   \n",
    "    if w == 1:\n",
    "        # 1. 先判斷哪一筆訂單的到期日是落17年在1月中\n",
    "        df = x[(x.membership_expire_date >= datetime.strptime('2017-01-01', '%Y-%m-%d')  )\n",
    "                         &(x.membership_expire_date <= datetime.strptime('2017-01-31', '%Y-%m-%d')  )\n",
    "                         ].tail(n = 1) #如果df有兩筆,取最後一筆\n",
    "        # 2.find check point\n",
    "        df['check_point'] = df.membership_expire_date + timedelta(30)\n",
    "        # 3.找出哪一筆訂單開始在scope of prediction(2月)的order會被拿來當作判斷是否churn的依據\n",
    "        future = x[(x.transaction_date >= datetime.strptime('2017-02-01', '%Y-%m-%d'))\n",
    "                   &(x.transaction_date <= datetime.strptime('2017-02-28', '%Y-%m-%d'))\n",
    "                  ].tail(n = 1)  \n",
    "        # 4. 判斷is_churn\n",
    "        if future.empty:\n",
    "            pass\n",
    "        else:\n",
    "            if future.transaction_date.iloc[0] < df.check_point.iloc[0] and future.is_cancel.iloc[0] == 0:\n",
    "                x['is_churn'] = 0\n",
    "            else:\n",
    "                x['is_churn'] = 1\n",
    "        return x\n",
    "    elif w == 2:\n",
    "        # 1. 先判斷哪一筆訂單的到期日是落在16年12月中\n",
    "        df = x[(x.membership_expire_date >= datetime.strptime('2016-12-01', '%Y-%m-%d')  )\n",
    "                     &(x.membership_expire_date <= datetime.strptime('2016-12-31', '%Y-%m-%d')  )\n",
    "                     ].tail(n = 1) \n",
    "        # 2.find check point\n",
    "        df['check_point'] = df.membership_expire_date + timedelta(30)\n",
    "        # 3.找出哪一筆訂單開始在scope of prediction(17年1月)的order會被拿來當作判斷是否churn的依據\n",
    "        future = x[(x.transaction_date >= datetime.strptime('2017-01-01', '%Y-%m-%d'))\n",
    "                   &(x.transaction_date <= datetime.strptime('2017-01-31', '%Y-%m-%d'))\n",
    "                  ].tail(n = 1)  \n",
    "        # 4. 判斷is_churn\n",
    "        if future.empty:\n",
    "            pass\n",
    "        else:\n",
    "            if future.transaction_date.iloc[0] < df.check_point.iloc[0] and future.is_cancel.iloc[0] == 0:\n",
    "                x['is_churn'] = 0\n",
    "            else:\n",
    "                x['is_churn'] = 1\n",
    "        return x\n"
   ]
  },
  {
   "cell_type": "markdown",
   "metadata": {},
   "source": [
    "# w = 0"
   ]
  },
  {
   "cell_type": "markdown",
   "metadata": {},
   "source": [
    "# output"
   ]
  },
  {
   "cell_type": "code",
   "execution_count": 22,
   "metadata": {},
   "outputs": [],
   "source": [
    "d = train.groupby('msno').apply(filter_with_window_size, w = 0)\n",
    "output_col = ['msno','is_churn','w']\n",
    "d = d[d.key != 1][output_col].reset_index(drop=True).to_csv('../../input/preprocessed_data/trainW-0.csv', index = 'False')\n"
   ]
  },
  {
   "cell_type": "code",
   "execution_count": 32,
   "metadata": {},
   "outputs": [
    {
     "name": "stdout",
     "output_type": "stream",
     "text": [
      "<class 'pandas.core.frame.DataFrame'>\n",
      "Int64Index: 22 entries, 81609 to 946911\n",
      "Data columns (total 3 columns):\n",
      "msno        22 non-null object\n",
      "is_churn    22 non-null int64\n",
      "w           22 non-null float64\n",
      "dtypes: float64(1), int64(1), object(1)\n",
      "memory usage: 704.0+ bytes\n"
     ]
    }
   ],
   "source": [
    "d = train.groupby('msno').apply(filter_with_window_size, w = 0)\n",
    "output_col = ['msno','is_churn','w']\n",
    "d = d[d.key != 1][output_col]\n",
    "d = d.drop_duplicates('msno', keep = 'last') #  因為前面有跟transactions merge起來\n",
    "d.info()"
   ]
  },
  {
   "cell_type": "markdown",
   "metadata": {},
   "source": [
    "# w = 1"
   ]
  },
  {
   "cell_type": "code",
   "execution_count": 47,
   "metadata": {},
   "outputs": [
    {
     "data": {
      "text/html": [
       "<div>\n",
       "<style scoped>\n",
       "    .dataframe tbody tr th:only-of-type {\n",
       "        vertical-align: middle;\n",
       "    }\n",
       "\n",
       "    .dataframe tbody tr th {\n",
       "        vertical-align: top;\n",
       "    }\n",
       "\n",
       "    .dataframe thead th {\n",
       "        text-align: right;\n",
       "    }\n",
       "</style>\n",
       "<table border=\"1\" class=\"dataframe\">\n",
       "  <thead>\n",
       "    <tr style=\"text-align: right;\">\n",
       "      <th></th>\n",
       "      <th>msno</th>\n",
       "      <th>transaction_date</th>\n",
       "      <th>membership_expire_date</th>\n",
       "      <th>is_cancel</th>\n",
       "    </tr>\n",
       "  </thead>\n",
       "  <tbody>\n",
       "    <tr>\n",
       "      <th>5732337</th>\n",
       "      <td>zyGHNWQXe5eyHc3r5iuPPfRKDesYh4/WZi3Jxzp9STM=</td>\n",
       "      <td>2017-01-13</td>\n",
       "      <td>2017-02-13</td>\n",
       "      <td>0</td>\n",
       "    </tr>\n",
       "  </tbody>\n",
       "</table>\n",
       "</div>"
      ],
      "text/plain": [
       "                                                 msno transaction_date  \\\n",
       "5732337  zyGHNWQXe5eyHc3r5iuPPfRKDesYh4/WZi3Jxzp9STM=       2017-01-13   \n",
       "\n",
       "        membership_expire_date  is_cancel  \n",
       "5732337             2017-02-13          0  "
      ]
     },
     "execution_count": 47,
     "metadata": {},
     "output_type": "execute_result"
    }
   ],
   "source": [
    "transactions[transactions.msno == 'zyGHNWQXe5eyHc3r5iuPPfRKDesYh4/WZi3Jxzp9STM=']"
   ]
  },
  {
   "cell_type": "code",
   "execution_count": 12,
   "metadata": {},
   "outputs": [
    {
     "name": "stdout",
     "output_type": "stream",
     "text": [
      "shape of trainW-1 (197, 3)\n"
     ]
    }
   ],
   "source": [
    "T = 1\n",
    "output_col = ['msno','is_churn']\n",
    "generate_label_col = ['msno','transaction_date','membership_expire_date','is_cancel']\n",
    "\n",
    "df = transactions.groupby('msno').apply(filter_with_window_size, w = 1)\n",
    "df = df[df.key != 1][generate_label_col].reset_index(drop=True).groupby('msno').apply(label_generation, w = 1)[output_col].dropna()\n",
    "df = df.drop_duplicates('msno', keep = 'last')\n",
    "df['w'] = T # w = 1代表這群人將會被預測在17年二月是否流失(true label is generated by below function)        \n",
    "print ('shape of trainW-{0}'.format(T), df.shape)\n"
   ]
  },
  {
   "cell_type": "code",
   "execution_count": 25,
   "metadata": {},
   "outputs": [
    {
     "name": "stdout",
     "output_type": "stream",
     "text": [
      "<class 'pandas.core.frame.DataFrame'>\n",
      "RangeIndex: 379 entries, 0 to 378\n",
      "Data columns (total 6 columns):\n",
      "is_cancel                 379 non-null int64\n",
      "is_churn                  375 non-null float64\n",
      "membership_expire_date    379 non-null datetime64[ns]\n",
      "msno                      379 non-null object\n",
      "transaction_date          379 non-null datetime64[ns]\n",
      "w                         379 non-null float64\n",
      "dtypes: datetime64[ns](2), float64(2), int64(1), object(1)\n",
      "memory usage: 17.8+ KB\n"
     ]
    }
   ],
   "source": [
    "d.info()"
   ]
  },
  {
   "cell_type": "code",
   "execution_count": 31,
   "metadata": {},
   "outputs": [
    {
     "name": "stdout",
     "output_type": "stream",
     "text": [
      "<class 'pandas.core.frame.DataFrame'>\n",
      "Int64Index: 23 entries, 1 to 378\n",
      "Data columns (total 6 columns):\n",
      "is_cancel                 23 non-null int64\n",
      "is_churn                  21 non-null float64\n",
      "membership_expire_date    23 non-null datetime64[ns]\n",
      "msno                      23 non-null object\n",
      "transaction_date          23 non-null datetime64[ns]\n",
      "w                         23 non-null float64\n",
      "dtypes: datetime64[ns](2), float64(2), int64(1), object(1)\n",
      "memory usage: 1.3+ KB\n"
     ]
    }
   ],
   "source": [
    "d = d.drop_duplicates('msno', keep = 'first')\n",
    "d.info()"
   ]
  },
  {
   "cell_type": "markdown",
   "metadata": {},
   "source": [
    "# w = 2"
   ]
  },
  {
   "cell_type": "code",
   "execution_count": 34,
   "metadata": {},
   "outputs": [],
   "source": [
    "d = transactions.groupby('msno').apply(filter_with_window_size, w = 2)\n",
    "generate_label_col = ['msno','transaction_date','membership_expire_date','is_cancel','w']\n",
    "d = d[d.key != 1][generate_label_col].reset_index(drop=True) # 省記憶體(index也是一個欄位)\n",
    "\n",
    "d =d.groupby('msno').apply(label_generation, w = 2)\n",
    "output_col = ['msno','is_churn','w']\n"
   ]
  },
  {
   "cell_type": "code",
   "execution_count": 36,
   "metadata": {},
   "outputs": [
    {
     "name": "stdout",
     "output_type": "stream",
     "text": [
      "<class 'pandas.core.frame.DataFrame'>\n",
      "Int64Index: 25 entries, 0 to 357\n",
      "Data columns (total 6 columns):\n",
      "is_cancel                 25 non-null int64\n",
      "is_churn                  20 non-null float64\n",
      "membership_expire_date    25 non-null datetime64[ns]\n",
      "msno                      25 non-null object\n",
      "transaction_date          25 non-null datetime64[ns]\n",
      "w                         25 non-null float64\n",
      "dtypes: datetime64[ns](2), float64(2), int64(1), object(1)\n",
      "memory usage: 1.4+ KB\n"
     ]
    }
   ],
   "source": [
    "d = d.drop_duplicates('msno', keep = 'last')\n",
    "d.info()"
   ]
  },
  {
   "cell_type": "code",
   "execution_count": null,
   "metadata": {},
   "outputs": [],
   "source": [
    "for i in range(2)"
   ]
  },
  {
   "cell_type": "code",
   "execution_count": 210,
   "metadata": {},
   "outputs": [],
   "source": [
    "# 1. parallel processing\n",
    "def make(T):\n",
    "    output_col = ['msno','is_churn','w']\n",
    "    generate_label_col = ['msno','transaction_date','membership_expire_date','is_cancel','w']\n",
    "    if T == 0:\n",
    "        df = train.groupby('msno').apply(filter_with_window_size, w = 0)\n",
    "        df[df.key != 1][output_col].reset_index(drop=True).to_csv('../input/preprocessed_data/trainW-{0}.csv'.format(T), index = 'False')\n",
    "        gc.collect()\n",
    "    elif T == 1:\n",
    "        df = transactions.groupby('msno').apply(filter_with_window_size, w = 1)\n",
    "        df = df[df.key != 1][generate_label_col].reset_index(drop=True) # 省記憶體(index也是一個欄位)\n",
    "        df.groupby('msno').apply(label_generation, w = 1)[output_col].dropna().to_csv('../input/preprocessed_data/trainW-{0}.csv'.format(T), index = 'False')\n",
    "        gc.collect()    \n",
    "    elif T == 2:\n",
    "        df = transactions.groupby('msno').apply(filter_with_window_size, w = 2)\n",
    "        df = df[df.key != 1][generate_label_col].reset_index(drop=True) # 省記憶體(index也是一個欄位)\n",
    "        df.groupby('msno').apply(label_generation, w = 2)[output_col].dropna().to_csv('../input/preprocessed_data/trainW-{0}.csv'.format(T), index = 'False')\n",
    "        gc.collect()\n",
    "\n",
    "        "
   ]
  },
  {
   "cell_type": "code",
   "execution_count": 211,
   "metadata": {},
   "outputs": [
    {
     "data": {
      "text/plain": [
       "[None, None, None]"
      ]
     },
     "execution_count": 211,
     "metadata": {},
     "output_type": "execute_result"
    }
   ],
   "source": [
    "# multi processing\n",
    "mp_pool = mp.Pool(4)\n",
    "mp_pool.map(make, [0,1,2])"
   ]
  },
  {
   "cell_type": "code",
   "execution_count": null,
   "metadata": {},
   "outputs": [],
   "source": []
  },
  {
   "cell_type": "code",
   "execution_count": null,
   "metadata": {},
   "outputs": [],
   "source": []
  },
  {
   "cell_type": "code",
   "execution_count": null,
   "metadata": {},
   "outputs": [],
   "source": [
    "# 找出二月份(future)中沒有交易的人且也\n",
    "d = transactions[(transactions.transaction_date >= datetime.strptime('2017-03-01', '%Y-%m-%d') )\n",
    "                 &(transactions.transaction_date <=datetime.strptime('2017-04-30', '%Y-%m-%d') )\n",
    "                 ] #1.找出在三月份交易的人"
   ]
  },
  {
   "cell_type": "code",
   "execution_count": 4,
   "metadata": {},
   "outputs": [
    {
     "name": "stderr",
     "output_type": "stream",
     "text": [
      "100%|██████████| 4/4 [00:31<00:00,  7.75s/it]\n"
     ]
    }
   ],
   "source": [
    "##################################################\n",
    "# Load transaction \n",
    "##################################################\n",
    "col = ['msno','transaction_date','membership_expire_date','is_cancel']\n",
    "transactions = utils.read_multiple_csv('../../input/preprocessed_data/transactions', col)\n",
    "\n",
    "# ##################################################\n",
    "# # Convert string to datetime format\n",
    "# ##################################################\n",
    "# transactions['membership_expire_date']  = transactions.membership_expire_date.apply(lambda x: datetime.strptime(x, '%Y-%m-%d'))\n",
    "# transactions['transaction_date']  = transactions.transaction_date.apply(lambda x: datetime.strptime(x, '%Y-%m-%d'))\n",
    "\n",
    "##################################################\n",
    "# Load train set user and test set user\n",
    "##################################################\n",
    "train = pd.read_csv('../../input/train_v2.csv') #只用這個檔案, 然後做data augmentation\n",
    "#test = pd.read_csv('../input/sample_submission_v2.csv')\n",
    "\n",
    "\n"
   ]
  },
  {
   "cell_type": "code",
   "execution_count": 5,
   "metadata": {},
   "outputs": [
    {
     "name": "stdout",
     "output_type": "stream",
     "text": [
      "<class 'pandas.core.frame.DataFrame'>\n",
      "Int64Index: 16245636 entries, 0 to 16245635\n",
      "Data columns (total 5 columns):\n",
      "msno                      object\n",
      "is_churn                  int64\n",
      "transaction_date          object\n",
      "membership_expire_date    object\n",
      "is_cancel                 int64\n",
      "dtypes: int64(2), object(3)\n",
      "memory usage: 743.7+ MB\n"
     ]
    }
   ],
   "source": [
    "train_ = pd.merge(train, transactions, on = 'msno', how = 'left')\n",
    "train_.info()"
   ]
  },
  {
   "cell_type": "code",
   "execution_count": 6,
   "metadata": {},
   "outputs": [
    {
     "name": "stdout",
     "output_type": "stream",
     "text": [
      "<class 'pandas.core.frame.DataFrame'>\n",
      "Int64Index: 16245636 entries, 0 to 16245635\n",
      "Data columns (total 5 columns):\n",
      "msno                      object\n",
      "is_churn                  int64\n",
      "transaction_date          object\n",
      "membership_expire_date    object\n",
      "is_cancel                 int64\n",
      "dtypes: int64(2), object(3)\n",
      "memory usage: 743.7+ MB\n"
     ]
    }
   ],
   "source": [
    "train = pd.merge(train, transactions, on = 'msno', how = 'left')\n",
    "train = train.dropna()\n",
    "train.info()"
   ]
  },
  {
   "cell_type": "code",
   "execution_count": null,
   "metadata": {},
   "outputs": [],
   "source": []
  }
 ],
 "metadata": {
  "kernelspec": {
   "display_name": "Python 3",
   "language": "python",
   "name": "python3"
  },
  "language_info": {
   "codemirror_mode": {
    "name": "ipython",
    "version": 3
   },
   "file_extension": ".py",
   "mimetype": "text/x-python",
   "name": "python",
   "nbconvert_exporter": "python",
   "pygments_lexer": "ipython3",
   "version": "3.6.3"
  }
 },
 "nbformat": 4,
 "nbformat_minor": 2
}
