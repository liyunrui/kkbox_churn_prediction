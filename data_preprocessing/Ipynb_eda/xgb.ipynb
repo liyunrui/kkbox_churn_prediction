{
 "cells": [
  {
   "cell_type": "code",
   "execution_count": 1,
   "metadata": {},
   "outputs": [
    {
     "name": "stderr",
     "output_type": "stream",
     "text": [
      "/usr/local/lib/python3.6/site-packages/sklearn/cross_validation.py:41: DeprecationWarning: This module was deprecated in version 0.18 in favor of the model_selection module into which all the refactored classes and functions are moved. Also note that the interface of the new CV iterators are different from that of this module. This module will be removed in 0.20.\n",
      "  \"This module will be removed in 0.20.\", DeprecationWarning)\n"
     ]
    }
   ],
   "source": [
    "#!/usr/bin/python3\n",
    "# -*-coding:utf-8\n",
    "'''\n",
    "Created on Fri Dec 1 22:22:35 2017\n",
    "\n",
    "@author: Ray\n",
    "\n",
    "'''\n",
    "\n",
    "import warnings\n",
    "warnings.filterwarnings(\"ignore\")\n",
    "import pandas as pd\n",
    "import numpy as np\n",
    "import gc\n",
    "import xgboost as xgb\n",
    "import utils\n",
    "\n",
    "\n"
   ]
  },
  {
   "cell_type": "code",
   "execution_count": 39,
   "metadata": {},
   "outputs": [
    {
     "name": "stdout",
     "output_type": "stream",
     "text": [
      "#==== print param ======\n",
      "DATE: 812_1\n",
      "seed: 71\n"
     ]
    }
   ],
   "source": [
    "# setting\n",
    "DATE = '812_1'\n",
    "LOOP = 2\n",
    "ESR = 40\n",
    "\n",
    "#seed = np.random.randint(99999)\n",
    "seed = 71\n",
    "\n",
    "np.random.seed(seed)\n",
    "\n",
    "valid_size = 0.05\n",
    "\n",
    "\n",
    "# XGB param\n",
    "nround = 10000\n",
    "nround = 1\n",
    "\n",
    "param = {'max_depth':10, \n",
    "         'eta':0.02,\n",
    "         'colsample_bytree':0.4,\n",
    "         'subsample':0.75,\n",
    "         'silent':1,\n",
    "         'nthread':27,\n",
    "         'eval_metric':'logloss',\n",
    "         'objective':'binary:logistic',\n",
    "         'tree_method':'auto'\n",
    "         }\n",
    "\n",
    "print(\"\"\"#==== print param ======\"\"\")\n",
    "print('DATE:', DATE)\n",
    "print('seed:', seed)\n",
    "\n"
   ]
  },
  {
   "cell_type": "code",
   "execution_count": null,
   "metadata": {},
   "outputs": [],
   "source": [
    "#==============================================================================\n",
    "# prepare\n",
    "#==============================================================================\n",
    "train = pd.concat([utils.load_pred_feature('trainW-0', keep_all = True),\n",
    "                   utils.load_pred_feature('trainW-1',keep_all = True),\n",
    "                   utils.load_pred_feature('trainW-2',keep_all = True)\n",
    "                   ], ignore_index=True)\n"
   ]
  },
  {
   "cell_type": "code",
   "execution_count": null,
   "metadata": {},
   "outputs": [],
   "source": [
    "train.info()"
   ]
  },
  {
   "cell_type": "code",
   "execution_count": null,
   "metadata": {},
   "outputs": [],
   "source": [
    "#==============================================================================\n",
    "print('reduce memory')\n",
    "#==============================================================================\n",
    "utils.reduce_memory(train)\n",
    "train.info()"
   ]
  },
  {
   "cell_type": "code",
   "execution_count": null,
   "metadata": {},
   "outputs": [],
   "source": [
    "y_train = train['is_churn']\n",
    "X_train = train.drop('is_churn', axis=1)\n",
    "del train\n",
    "gc.collect()\n",
    "\n"
   ]
  },
  {
   "cell_type": "code",
   "execution_count": 6,
   "metadata": {},
   "outputs": [
    {
     "name": "stdout",
     "output_type": "stream",
     "text": [
      "drop []\n"
     ]
    }
   ],
   "source": [
    "# drop obj--> that's msno\n",
    "col = X_train.dtypes[X_train.dtypes=='object'].index.tolist()\n",
    "col.remove('msno')\n",
    "print('drop',col)\n",
    "X_train.drop(col, axis=1, inplace=True)\n",
    "\n",
    "X_train.fillna(-1, inplace=True)"
   ]
  },
  {
   "cell_type": "code",
   "execution_count": 19,
   "metadata": {},
   "outputs": [
    {
     "data": {
      "text/plain": [
       "True"
      ]
     },
     "execution_count": 19,
     "metadata": {},
     "output_type": "execute_result"
    }
   ],
   "source": [
    "'msno' in X_train.columns"
   ]
  },
  {
   "cell_type": "markdown",
   "metadata": {},
   "source": [
    "# train/val splitting"
   ]
  },
  {
   "cell_type": "code",
   "execution_count": 20,
   "metadata": {},
   "outputs": [],
   "source": [
    "train_user = X_train[['msno']].drop_duplicates()"
   ]
  },
  {
   "cell_type": "code",
   "execution_count": 21,
   "metadata": {},
   "outputs": [
    {
     "name": "stdout",
     "output_type": "stream",
     "text": [
      "<class 'pandas.core.frame.DataFrame'>\n",
      "Int64Index: 996693 entries, 0 to 2672075\n",
      "Data columns (total 1 columns):\n",
      "msno    996693 non-null object\n",
      "dtypes: object(1)\n",
      "memory usage: 15.2+ MB\n"
     ]
    }
   ],
   "source": [
    "train_user.info()"
   ]
  },
  {
   "cell_type": "code",
   "execution_count": 22,
   "metadata": {},
   "outputs": [
    {
     "data": {
      "text/html": [
       "<div>\n",
       "<style scoped>\n",
       "    .dataframe tbody tr th:only-of-type {\n",
       "        vertical-align: middle;\n",
       "    }\n",
       "\n",
       "    .dataframe tbody tr th {\n",
       "        vertical-align: top;\n",
       "    }\n",
       "\n",
       "    .dataframe thead th {\n",
       "        text-align: right;\n",
       "    }\n",
       "</style>\n",
       "<table border=\"1\" class=\"dataframe\">\n",
       "  <thead>\n",
       "    <tr style=\"text-align: right;\">\n",
       "      <th></th>\n",
       "      <th>msno</th>\n",
       "    </tr>\n",
       "  </thead>\n",
       "  <tbody>\n",
       "  </tbody>\n",
       "</table>\n",
       "</div>"
      ],
      "text/plain": [
       "Empty DataFrame\n",
       "Columns: [msno]\n",
       "Index: []"
      ]
     },
     "execution_count": 22,
     "metadata": {},
     "output_type": "execute_result"
    }
   ],
   "source": [
    "train_user[train_user.msno.duplicated()]"
   ]
  },
  {
   "cell_type": "code",
   "execution_count": 11,
   "metadata": {},
   "outputs": [
    {
     "data": {
      "text/plain": [
       "array([0, 0, 0, ..., 0, 0, 0])"
      ]
     },
     "execution_count": 11,
     "metadata": {},
     "output_type": "execute_result"
    }
   ],
   "source": [
    "np.random.choice([0,1], size=len(train_user), p=[1-valid_size, valid_size]) \n",
    "# p = [0.95,0.05]: the prob that randomly generate 1 is valid_size, 1 m"
   ]
  },
  {
   "cell_type": "code",
   "execution_count": 23,
   "metadata": {},
   "outputs": [
    {
     "name": "stdout",
     "output_type": "stream",
     "text": [
      "build user:946438, valid user:50255\n"
     ]
    }
   ],
   "source": [
    "train_user['is_valid'] = np.random.choice([0,1], size=len(train_user), \n",
    "                                          p=[1-valid_size, valid_size])\n",
    "# is_valid: 1 if the user is validating user else 0\n",
    "valid_n = train_user['is_valid'].sum()\n",
    "build_n = (train_user.shape[0] - valid_n)\n",
    "\n",
    "print('build user:{}, valid user:{}'.format(build_n, valid_n))\n",
    "valid_user = train_user[train_user['is_valid']==1].msno"
   ]
  },
  {
   "cell_type": "code",
   "execution_count": 13,
   "metadata": {},
   "outputs": [],
   "source": [
    "is_valid = X_train.msno.isin(valid_user)"
   ]
  },
  {
   "cell_type": "code",
   "execution_count": 14,
   "metadata": {},
   "outputs": [
    {
     "data": {
      "text/plain": [
       "0          False\n",
       "1          False\n",
       "2          False\n",
       "3          False\n",
       "4          False\n",
       "5          False\n",
       "6          False\n",
       "7          False\n",
       "8          False\n",
       "9          False\n",
       "10         False\n",
       "11         False\n",
       "12         False\n",
       "13         False\n",
       "14         False\n",
       "15         False\n",
       "16         False\n",
       "17         False\n",
       "18         False\n",
       "19         False\n",
       "20         False\n",
       "21         False\n",
       "22          True\n",
       "23         False\n",
       "24         False\n",
       "25         False\n",
       "26         False\n",
       "27         False\n",
       "28         False\n",
       "29         False\n",
       "           ...  \n",
       "2672047    False\n",
       "2672048    False\n",
       "2672049    False\n",
       "2672050    False\n",
       "2672051    False\n",
       "2672052    False\n",
       "2672053    False\n",
       "2672054    False\n",
       "2672055     True\n",
       "2672056    False\n",
       "2672057     True\n",
       "2672058    False\n",
       "2672059    False\n",
       "2672060    False\n",
       "2672061    False\n",
       "2672062    False\n",
       "2672063    False\n",
       "2672064    False\n",
       "2672065    False\n",
       "2672066    False\n",
       "2672067    False\n",
       "2672068     True\n",
       "2672069    False\n",
       "2672070    False\n",
       "2672071    False\n",
       "2672072    False\n",
       "2672073    False\n",
       "2672074    False\n",
       "2672075    False\n",
       "2672076     True\n",
       "Name: msno, Length: 2672077, dtype: bool"
      ]
     },
     "execution_count": 14,
     "metadata": {},
     "output_type": "execute_result"
    }
   ],
   "source": [
    "is_valid"
   ]
  },
  {
   "cell_type": "code",
   "execution_count": 15,
   "metadata": {},
   "outputs": [],
   "source": [
    "    dbuild = xgb.DMatrix(X_train[~is_valid].drop('msno', axis=1), y_train[~is_valid])\n",
    "    dvalid = xgb.DMatrix(X_train[is_valid].drop('msno', axis=1), label = y_train[is_valid])\n",
    "    watchlist = [(dbuild, 'build'),(dvalid, 'valid')]\n",
    " "
   ]
  },
  {
   "cell_type": "code",
   "execution_count": 16,
   "metadata": {},
   "outputs": [
    {
     "data": {
      "text/plain": [
       "[(<xgboost.core.DMatrix at 0x112326da0>, 'build'),\n",
       " (<xgboost.core.DMatrix at 0x112326240>, 'valid')]"
      ]
     },
     "execution_count": 16,
     "metadata": {},
     "output_type": "execute_result"
    }
   ],
   "source": [
    "watchlist"
   ]
  },
  {
   "cell_type": "code",
   "execution_count": null,
   "metadata": {},
   "outputs": [],
   "source": []
  },
  {
   "cell_type": "code",
   "execution_count": 24,
   "metadata": {},
   "outputs": [],
   "source": [
    "def split_build_valid():\n",
    "    # train/val split by user\n",
    "    train_user['is_valid'] = np.random.choice([0,1], size=len(train_user), \n",
    "                                              p=[1-valid_size, valid_size])\n",
    "    # is_valid: 1 if the user is validating user else 0\n",
    "    valid_n = train_user['is_valid'].sum()\n",
    "    build_n = (train_user.shape[0] - valid_n)\n",
    "    \n",
    "    print('build user:{}, valid user:{}'.format(build_n, valid_n))\n",
    "    valid_user = train_user[train_user['is_valid']==1].msno\n",
    "    is_valid = X_train.msno.isin(valid_user)\n",
    "    \n",
    "    dbuild = xgb.DMatrix(X_train[~is_valid].drop('msno', axis=1), y_train[~is_valid])\n",
    "    dvalid = xgb.DMatrix(X_train[is_valid].drop('msno', axis=1), label = y_train[is_valid])\n",
    "    watchlist = [(dbuild, 'build'),(dvalid, 'valid')]\n",
    "    \n",
    "    print('FINAL SHAPE')\n",
    "    print('dbuild.shape:{}  dvalid.shape:{}\\n'.format((dbuild.num_row(), dbuild.num_col()),\n",
    "                                                      (dvalid.num_row(), dvalid.num_col())))\n",
    "\n",
    "    return dbuild, dvalid, watchlist"
   ]
  },
  {
   "cell_type": "code",
   "execution_count": 33,
   "metadata": {},
   "outputs": [],
   "source": [
    "import os\n",
    "def mkdir_p(path):\n",
    "    if not os.path.isdir(path):\n",
    "        os.makedirs(path)"
   ]
  },
  {
   "cell_type": "code",
   "execution_count": 40,
   "metadata": {},
   "outputs": [
    {
     "name": "stdout",
     "output_type": "stream",
     "text": [
      "LOOP 0\n",
      "build user:947178, valid user:49515\n",
      "FINAL SHAPE\n",
      "dbuild.shape:(2539234, 290)  dvalid.shape:(132843, 290)\n",
      "\n",
      "[0]\tbuild-logloss:0.676224\tvalid-logloss:0.676254\n",
      "Multiple eval metrics have been passed: 'valid-logloss' will be used for early stopping.\n",
      "\n",
      "Will train until valid-logloss hasn't improved in 40 rounds.\n",
      "Valid Mean: 0.502087\n"
     ]
    },
    {
     "name": "stderr",
     "output_type": "stream",
     "text": [
      "Exception ignored in: <bound method DMatrix.__del__ of <xgboost.core.DMatrix object at 0x120a0d4a8>>\n",
      "Traceback (most recent call last):\n",
      "  File \"/usr/local/lib/python3.6/site-packages/xgboost/core.py\", line 324, in __del__\n",
      "    _check_call(_LIB.XGDMatrixFree(self.handle))\n",
      "AttributeError: 'DMatrix' object has no attribute 'handle'\n"
     ]
    },
    {
     "name": "stdout",
     "output_type": "stream",
     "text": [
      "LOOP 1\n",
      "build user:946773, valid user:49920\n",
      "FINAL SHAPE\n",
      "dbuild.shape:(2538058, 290)  dvalid.shape:(134019, 290)\n",
      "\n",
      "[0]\tbuild-logloss:0.676219\tvalid-logloss:0.676193\n",
      "Multiple eval metrics have been passed: 'valid-logloss' will be used for early stopping.\n",
      "\n",
      "Will train until valid-logloss hasn't improved in 40 rounds.\n",
      "Valid Mean: 0.502077\n"
     ]
    }
   ],
   "source": [
    "DATE = '1212_1'\n",
    "mkdir_p('../../output/model/{}/'.format(DATE))\n",
    "mkdir_p('../../output/sub/{}/'.format(DATE))\n",
    "# hold out\n",
    "models = [] # for the following prediction\n",
    "for i in range(LOOP):\n",
    "    print('LOOP',i)\n",
    "    dbuild, dvalid, watchlist = split_build_valid()\n",
    "    \n",
    "    if i==0:\n",
    "        col_train = dbuild.feature_names \n",
    "        # col_train is built for testing cause u do not use all feature. \n",
    "        # we use feature with top importance\n",
    "        \n",
    "    model = xgb.train(param, dbuild, nround, watchlist,\n",
    "                      early_stopping_rounds=ESR, verbose_eval=5)\n",
    "    models.append(model)\n",
    "    model.save_model('../../output/model/{}/xgb_churn_{}.model'.format(DATE, i))\n",
    "    # VALID\n",
    "    valid_yhat = model.predict(dvalid) # y_hat is result of prediction\n",
    "    print('Valid Mean:', np.mean(valid_yhat))\n",
    "    del dbuild, dvalid, watchlist\n",
    "    gc.collect()\n",
    " "
   ]
  },
  {
   "cell_type": "code",
   "execution_count": 42,
   "metadata": {},
   "outputs": [
    {
     "name": "stderr",
     "output_type": "stream",
     "text": [
      "\n",
      "  0%|          | 0/20 [00:00<?, ?it/s]\u001b[A"
     ]
    },
    {
     "name": "stdout",
     "output_type": "stream",
     "text": [
      "test\n"
     ]
    },
    {
     "name": "stderr",
     "output_type": "stream",
     "text": [
      "\n",
      "  5%|▌         | 1/20 [00:02<00:44,  2.36s/it]\u001b[A\n",
      " 10%|█         | 2/20 [00:04<00:38,  2.17s/it]\u001b[A\n",
      " 15%|█▌        | 3/20 [00:06<00:38,  2.28s/it]\u001b[A\n",
      " 20%|██        | 4/20 [00:09<00:37,  2.34s/it]\u001b[A\n",
      " 25%|██▌       | 5/20 [00:11<00:34,  2.28s/it]\u001b[A\n",
      " 30%|███       | 6/20 [00:13<00:31,  2.24s/it]\u001b[A\n",
      " 35%|███▌      | 7/20 [00:16<00:29,  2.30s/it]\u001b[A\n",
      " 40%|████      | 8/20 [00:18<00:28,  2.35s/it]\u001b[A\n",
      " 45%|████▌     | 9/20 [00:21<00:25,  2.35s/it]\u001b[A\n",
      " 50%|█████     | 10/20 [00:23<00:23,  2.31s/it]\u001b[A\n",
      " 55%|█████▌    | 11/20 [00:25<00:21,  2.34s/it]\u001b[A\n",
      " 60%|██████    | 12/20 [00:27<00:18,  2.30s/it]\u001b[A\n",
      " 65%|██████▌   | 13/20 [00:29<00:15,  2.28s/it]\u001b[A\n",
      " 70%|███████   | 14/20 [00:32<00:13,  2.29s/it]\u001b[A\n",
      " 75%|███████▌  | 15/20 [00:34<00:11,  2.29s/it]\u001b[A\n",
      " 80%|████████  | 16/20 [00:36<00:09,  2.27s/it]\u001b[A\n",
      " 85%|████████▌ | 17/20 [00:38<00:06,  2.25s/it]\u001b[A\n",
      " 90%|█████████ | 18/20 [00:40<00:04,  2.25s/it]\u001b[A\n",
      " 95%|█████████▌| 19/20 [00:42<00:02,  2.24s/it]\u001b[A\n",
      "100%|██████████| 20/20 [00:44<00:00,  2.22s/it]\u001b[A\n",
      "\u001b[A"
     ]
    },
    {
     "name": "stdout",
     "output_type": "stream",
     "text": [
      "test.shape:(907471, 293)\n",
      "\n"
     ]
    }
   ],
   "source": [
    "#==============================================================================\n",
    "print('test')\n",
    "#==============================================================================\n",
    "test = utils.load_pred_feature('test', keep_all = True).fillna(-1)\n",
    "\n",
    "sub_test = test[['msno']]\n",
    "\n",
    "dtest  = xgb.DMatrix(test[col_train])\n",
    "sub_test['yhat'] = 0\n"
   ]
  },
  {
   "cell_type": "code",
   "execution_count": 48,
   "metadata": {},
   "outputs": [
    {
     "name": "stdout",
     "output_type": "stream",
     "text": [
      "Test Mean: 0.99008106791\n"
     ]
    }
   ],
   "source": [
    "for model in models:\n",
    "    sub_test['yhat'] += model.predict(dtest)\n",
    "sub_test['yhat'] /= LOOP\n",
    "print('Test Mean:', sub_test['yhat'].mean())\n",
    "\n",
    "# sub_test.to_pickle('../output/sub/{}/sub_test.p'.format(DATE))\n"
   ]
  },
  {
   "cell_type": "code",
   "execution_count": 47,
   "metadata": {},
   "outputs": [
    {
     "data": {
      "text/html": [
       "<div>\n",
       "<style scoped>\n",
       "    .dataframe tbody tr th:only-of-type {\n",
       "        vertical-align: middle;\n",
       "    }\n",
       "\n",
       "    .dataframe tbody tr th {\n",
       "        vertical-align: top;\n",
       "    }\n",
       "\n",
       "    .dataframe thead th {\n",
       "        text-align: right;\n",
       "    }\n",
       "</style>\n",
       "<table border=\"1\" class=\"dataframe\">\n",
       "  <thead>\n",
       "    <tr style=\"text-align: right;\">\n",
       "      <th></th>\n",
       "      <th>msno</th>\n",
       "      <th>yhat</th>\n",
       "    </tr>\n",
       "  </thead>\n",
       "  <tbody>\n",
       "    <tr>\n",
       "      <th>0</th>\n",
       "      <td>4n+fXlyJvfQnTeKXTWT507Ll4JVYGrOC8LHCfwBmPE4=</td>\n",
       "      <td>0.980669</td>\n",
       "    </tr>\n",
       "    <tr>\n",
       "      <th>1</th>\n",
       "      <td>aNmbC1GvFUxQyQUidCVmfbQ0YeCuwkPzEdQ0RwWyeZM=</td>\n",
       "      <td>1.000273</td>\n",
       "    </tr>\n",
       "    <tr>\n",
       "      <th>2</th>\n",
       "      <td>rFC9eSG/tMuzpre6cwcMLZHEYM89xY02qcz7HL4//jc=</td>\n",
       "      <td>0.981195</td>\n",
       "    </tr>\n",
       "    <tr>\n",
       "      <th>3</th>\n",
       "      <td>WZ59dLyrQcE7ft06MZ5dj40BnlYQY7PHgg/54+HaCSE=</td>\n",
       "      <td>0.980669</td>\n",
       "    </tr>\n",
       "    <tr>\n",
       "      <th>4</th>\n",
       "      <td>aky/Iv8hMp1/V/yQHLtaVuEmmAxkB5GuasQZePJ7NU4=</td>\n",
       "      <td>1.011035</td>\n",
       "    </tr>\n",
       "    <tr>\n",
       "      <th>5</th>\n",
       "      <td>nu1jZ/flvSaXRg0U9Es+xmo2KlAXq/q+mhcWFStwm9w=</td>\n",
       "      <td>1.004315</td>\n",
       "    </tr>\n",
       "    <tr>\n",
       "      <th>6</th>\n",
       "      <td>biDTtgK83fEWXJDaxzD1eh22dion/h3odeIbS7qJMmY=</td>\n",
       "      <td>1.000093</td>\n",
       "    </tr>\n",
       "    <tr>\n",
       "      <th>7</th>\n",
       "      <td>k/8uwi/iM9LZmRAIWXLqpZY6ENomXAscwsQsh6PxcTw=</td>\n",
       "      <td>1.002191</td>\n",
       "    </tr>\n",
       "    <tr>\n",
       "      <th>8</th>\n",
       "      <td>18rQ/746SjA6nBx325UsyhfsDhu4tK01FXFxHWZjw20=</td>\n",
       "      <td>0.980669</td>\n",
       "    </tr>\n",
       "    <tr>\n",
       "      <th>9</th>\n",
       "      <td>2V13OCoWx6vqKr/ZzNmKFrmnC2FtR4SWMz5C5Hi02PY=</td>\n",
       "      <td>1.000093</td>\n",
       "    </tr>\n",
       "    <tr>\n",
       "      <th>10</th>\n",
       "      <td>1l/ZwduFxS/q/hZeyssAYH27espkp8Yw6uAnUxfEbTI=</td>\n",
       "      <td>0.980669</td>\n",
       "    </tr>\n",
       "    <tr>\n",
       "      <th>11</th>\n",
       "      <td>azfnO16ZeQsbJF6LcqkQhbA3NWiqHYWqaq7AFjsJVaQ=</td>\n",
       "      <td>0.998720</td>\n",
       "    </tr>\n",
       "    <tr>\n",
       "      <th>12</th>\n",
       "      <td>RPOzeEr8mSbhj6wrF29+7KciuiNrj7IvkzxJ9rgCTks=</td>\n",
       "      <td>1.000093</td>\n",
       "    </tr>\n",
       "    <tr>\n",
       "      <th>13</th>\n",
       "      <td>NAzfjSM2EOyFhV4rIm/RO9pXCbyti6scBfcmV/t+CaU=</td>\n",
       "      <td>0.980669</td>\n",
       "    </tr>\n",
       "    <tr>\n",
       "      <th>14</th>\n",
       "      <td>1DCd06ON0rWFHI1bNrY1l/hPW9d80fmmrmroHqpGvNA=</td>\n",
       "      <td>0.980669</td>\n",
       "    </tr>\n",
       "    <tr>\n",
       "      <th>15</th>\n",
       "      <td>D9QAV8ZNF8qU96dTBLMzO0sguzlmAIBf4302l0W6jj0=</td>\n",
       "      <td>0.980669</td>\n",
       "    </tr>\n",
       "    <tr>\n",
       "      <th>16</th>\n",
       "      <td>5HKzLDUVVbIxWMH9aH67ALAGVPvorE4NvmO5xqO7SMk=</td>\n",
       "      <td>1.011394</td>\n",
       "    </tr>\n",
       "    <tr>\n",
       "      <th>17</th>\n",
       "      <td>XwnlNj6nq2MMHe0KoyRRM4ih+RAwj5idHvlS4pTMTbg=</td>\n",
       "      <td>0.980916</td>\n",
       "    </tr>\n",
       "    <tr>\n",
       "      <th>18</th>\n",
       "      <td>lNmNPLZZiMwVbRFdBmDYmRdEgo8TWN2Y3m+z5XVl4aQ=</td>\n",
       "      <td>0.980468</td>\n",
       "    </tr>\n",
       "    <tr>\n",
       "      <th>19</th>\n",
       "      <td>5NlNga4bsKiYyj3B3I/SihUQH4wb2suNWBcxQMd9oJ8=</td>\n",
       "      <td>0.980669</td>\n",
       "    </tr>\n",
       "    <tr>\n",
       "      <th>20</th>\n",
       "      <td>eXWvD4/UBTi6mA9GMYTpY7/buu5xKCyXlu7hFM+ELHU=</td>\n",
       "      <td>0.980669</td>\n",
       "    </tr>\n",
       "    <tr>\n",
       "      <th>21</th>\n",
       "      <td>Y1V2qDdKt+5CHqFSvpm82QkPJrwRxkbP5hs7DbtU+tA=</td>\n",
       "      <td>1.005083</td>\n",
       "    </tr>\n",
       "    <tr>\n",
       "      <th>22</th>\n",
       "      <td>sLyKNXQo6PGK/CE0a4cUQ9+lVd/oCERRMuCSgZ6KN4Y=</td>\n",
       "      <td>0.980669</td>\n",
       "    </tr>\n",
       "    <tr>\n",
       "      <th>23</th>\n",
       "      <td>2TaTUEET5XAOiHPC2qKnKUK2wSqbcbA9YwM4eHTeawE=</td>\n",
       "      <td>1.018574</td>\n",
       "    </tr>\n",
       "    <tr>\n",
       "      <th>24</th>\n",
       "      <td>Rrh9afbenme6MuAYudJRn41u9IrLpSi9aQ8p3I34RT0=</td>\n",
       "      <td>0.980669</td>\n",
       "    </tr>\n",
       "    <tr>\n",
       "      <th>25</th>\n",
       "      <td>5sjnJjeZd2roOarPgSYK6559VTIhEmeunzJAd2kcuhg=</td>\n",
       "      <td>0.980669</td>\n",
       "    </tr>\n",
       "    <tr>\n",
       "      <th>26</th>\n",
       "      <td>FsR4+VSNjAortRRTmx2q9K2q9HtSdQ69PE1FNKKqpKk=</td>\n",
       "      <td>0.980669</td>\n",
       "    </tr>\n",
       "    <tr>\n",
       "      <th>27</th>\n",
       "      <td>5LgzR73HtjaKDQzMcUrveEUcvWPCuwAZrizNdCAqRnU=</td>\n",
       "      <td>0.992771</td>\n",
       "    </tr>\n",
       "    <tr>\n",
       "      <th>28</th>\n",
       "      <td>3rgFPp+e+xMWuKAw8wgVB4EUYotVuaWYvGuEDyNo9fc=</td>\n",
       "      <td>0.980492</td>\n",
       "    </tr>\n",
       "    <tr>\n",
       "      <th>29</th>\n",
       "      <td>QOE4ibjDwKrJvCZze8fKh4yxk7sHEEbffUMTmkUSfhA=</td>\n",
       "      <td>0.980669</td>\n",
       "    </tr>\n",
       "    <tr>\n",
       "      <th>...</th>\n",
       "      <td>...</td>\n",
       "      <td>...</td>\n",
       "    </tr>\n",
       "    <tr>\n",
       "      <th>45344</th>\n",
       "      <td>dAul8FUrhRCyF5RjZ/WluIQyK+00GpejLJHri54ToJY=</td>\n",
       "      <td>0.996988</td>\n",
       "    </tr>\n",
       "    <tr>\n",
       "      <th>45345</th>\n",
       "      <td>l5BE/FDAQDDLuwSo1hZEXlZy+wmgkH57ceUkGQtKQ78=</td>\n",
       "      <td>0.980669</td>\n",
       "    </tr>\n",
       "    <tr>\n",
       "      <th>45346</th>\n",
       "      <td>muhMeZrR8GL+/RkoWCx93SJJD6FjLl11cgbkIhfraQA=</td>\n",
       "      <td>0.996988</td>\n",
       "    </tr>\n",
       "    <tr>\n",
       "      <th>45347</th>\n",
       "      <td>IQ5BBoxrOr8ldbrDhHv0V48JmsxWOjCWqdD5G5TefoU=</td>\n",
       "      <td>1.000093</td>\n",
       "    </tr>\n",
       "    <tr>\n",
       "      <th>45348</th>\n",
       "      <td>sO7kGnGLNWIfW8/4RncHlNzc6KErwWvR6NFZDcmlLS4=</td>\n",
       "      <td>0.980669</td>\n",
       "    </tr>\n",
       "    <tr>\n",
       "      <th>45349</th>\n",
       "      <td>+UUU5Y9ZFQTA7k8HlLuxwdmTwS4Y/8MwMNonkvpK5o8=</td>\n",
       "      <td>0.998720</td>\n",
       "    </tr>\n",
       "    <tr>\n",
       "      <th>45350</th>\n",
       "      <td>cNe2OBXTGSBlJkxWwvGiyRfFJ68caDTMxdWprpgzTVQ=</td>\n",
       "      <td>0.980669</td>\n",
       "    </tr>\n",
       "    <tr>\n",
       "      <th>45351</th>\n",
       "      <td>sIBNS8vqW2CTRcnGzb709VqP2VDAMywd6tCSPOqqZ0U=</td>\n",
       "      <td>0.990352</td>\n",
       "    </tr>\n",
       "    <tr>\n",
       "      <th>45352</th>\n",
       "      <td>cmYfq45y5q5Yx6EG9YI38g4plJej4chaa1PNN0BhK0E=</td>\n",
       "      <td>0.980492</td>\n",
       "    </tr>\n",
       "    <tr>\n",
       "      <th>45353</th>\n",
       "      <td>LXHOvANpLJ0azDomrOmduUiAPUdZn4NSLHl4krMAvyQ=</td>\n",
       "      <td>0.980671</td>\n",
       "    </tr>\n",
       "    <tr>\n",
       "      <th>45354</th>\n",
       "      <td>FmWphZ1mgU9H8zQ8Vm3zs1p5kPYJljf//j71tLj/vlE=</td>\n",
       "      <td>1.004066</td>\n",
       "    </tr>\n",
       "    <tr>\n",
       "      <th>45355</th>\n",
       "      <td>H8Up+RkU7GRh322e9v5fl0lpnNgznD+ytWy4aOXHmjo=</td>\n",
       "      <td>0.980669</td>\n",
       "    </tr>\n",
       "    <tr>\n",
       "      <th>45356</th>\n",
       "      <td>FgHlX+4hszGj1VlAEZbrBK7XDSHJYL4PbqzGZyz+MUk=</td>\n",
       "      <td>1.000273</td>\n",
       "    </tr>\n",
       "    <tr>\n",
       "      <th>45357</th>\n",
       "      <td>ICDEfwOWJOEnB6gBo1c8MEGOAqps7NKEA7PraHOTFp4=</td>\n",
       "      <td>1.000273</td>\n",
       "    </tr>\n",
       "    <tr>\n",
       "      <th>45358</th>\n",
       "      <td>J2vv6kIK17MDu+TtiBgAtFJ+bJm7T1Bv6MhDuOohxoE=</td>\n",
       "      <td>0.980669</td>\n",
       "    </tr>\n",
       "    <tr>\n",
       "      <th>45359</th>\n",
       "      <td>+jWiVQp0rj1HpsBFmk4SwZyQj0UrswbExx+BR1iQXgA=</td>\n",
       "      <td>0.980669</td>\n",
       "    </tr>\n",
       "    <tr>\n",
       "      <th>45360</th>\n",
       "      <td>xfCjyR0m7GVtCoMseecUGMSRzqkUbjGTeEh3/gnRfbE=</td>\n",
       "      <td>0.980916</td>\n",
       "    </tr>\n",
       "    <tr>\n",
       "      <th>45361</th>\n",
       "      <td>+r/xFNKzT+bGSjDV3U8tWoT3+pndr0l7xcKDoHFokIo=</td>\n",
       "      <td>1.000093</td>\n",
       "    </tr>\n",
       "    <tr>\n",
       "      <th>45362</th>\n",
       "      <td>STJupQ9IBm5EC1HHZl2mTP9iGW+P3qLmhfZLj7Lif+k=</td>\n",
       "      <td>0.980669</td>\n",
       "    </tr>\n",
       "    <tr>\n",
       "      <th>45363</th>\n",
       "      <td>H73hKR4w+SdnP2Imd2GdVp5sj1Rol56eVPH0KZSvh08=</td>\n",
       "      <td>0.986449</td>\n",
       "    </tr>\n",
       "    <tr>\n",
       "      <th>45364</th>\n",
       "      <td>5Zv2bO96VUFnNKjJguUZxSx1NTsvuPUNzEYc0IRICw4=</td>\n",
       "      <td>0.980671</td>\n",
       "    </tr>\n",
       "    <tr>\n",
       "      <th>45365</th>\n",
       "      <td>WBuVd4cbyN7FShMSfgzxq1z4O0Pya2GW6H89d5sW3Ds=</td>\n",
       "      <td>1.000273</td>\n",
       "    </tr>\n",
       "    <tr>\n",
       "      <th>45366</th>\n",
       "      <td>VcFy0ND3gDoa/zUFr9uDpqEZJxMX6NJx9mo4BY2NplM=</td>\n",
       "      <td>1.000093</td>\n",
       "    </tr>\n",
       "    <tr>\n",
       "      <th>45367</th>\n",
       "      <td>0beZrs9joYEtO3BJiUogfKvxbnIQ6vzfYKSaUaDWcS4=</td>\n",
       "      <td>1.000347</td>\n",
       "    </tr>\n",
       "    <tr>\n",
       "      <th>45368</th>\n",
       "      <td>7WMvqmw9jS2gKNfo5Hp/osGbnBoyjBrOKvF/H3b5BVM=</td>\n",
       "      <td>0.980468</td>\n",
       "    </tr>\n",
       "    <tr>\n",
       "      <th>45369</th>\n",
       "      <td>lWQhiAg/2GkL8X63usxhCzDzI4wSjQQOBPpKkoGVdrI=</td>\n",
       "      <td>0.980468</td>\n",
       "    </tr>\n",
       "    <tr>\n",
       "      <th>45370</th>\n",
       "      <td>Mmj8P0TZVqLyepU1/S/xQGToa+m+eKMey8w8EhVzA1A=</td>\n",
       "      <td>0.997395</td>\n",
       "    </tr>\n",
       "    <tr>\n",
       "      <th>45371</th>\n",
       "      <td>5jtsqFEgTWFzqsjXfpkWXs/9nMGTtwHgTMScGvte7P4=</td>\n",
       "      <td>0.980916</td>\n",
       "    </tr>\n",
       "    <tr>\n",
       "      <th>45372</th>\n",
       "      <td>vMOGTTeHZcqae/Iq5r9jccr4m49+g2IdG7j9xQx+Za8=</td>\n",
       "      <td>1.009983</td>\n",
       "    </tr>\n",
       "    <tr>\n",
       "      <th>45373</th>\n",
       "      <td>WfSJTEolyGb6YceyifeHlT6qGUpgNNLGf2TT/ZEDM3c=</td>\n",
       "      <td>1.000093</td>\n",
       "    </tr>\n",
       "  </tbody>\n",
       "</table>\n",
       "<p>907471 rows × 2 columns</p>\n",
       "</div>"
      ],
      "text/plain": [
       "                                               msno      yhat\n",
       "0      4n+fXlyJvfQnTeKXTWT507Ll4JVYGrOC8LHCfwBmPE4=  0.980669\n",
       "1      aNmbC1GvFUxQyQUidCVmfbQ0YeCuwkPzEdQ0RwWyeZM=  1.000273\n",
       "2      rFC9eSG/tMuzpre6cwcMLZHEYM89xY02qcz7HL4//jc=  0.981195\n",
       "3      WZ59dLyrQcE7ft06MZ5dj40BnlYQY7PHgg/54+HaCSE=  0.980669\n",
       "4      aky/Iv8hMp1/V/yQHLtaVuEmmAxkB5GuasQZePJ7NU4=  1.011035\n",
       "5      nu1jZ/flvSaXRg0U9Es+xmo2KlAXq/q+mhcWFStwm9w=  1.004315\n",
       "6      biDTtgK83fEWXJDaxzD1eh22dion/h3odeIbS7qJMmY=  1.000093\n",
       "7      k/8uwi/iM9LZmRAIWXLqpZY6ENomXAscwsQsh6PxcTw=  1.002191\n",
       "8      18rQ/746SjA6nBx325UsyhfsDhu4tK01FXFxHWZjw20=  0.980669\n",
       "9      2V13OCoWx6vqKr/ZzNmKFrmnC2FtR4SWMz5C5Hi02PY=  1.000093\n",
       "10     1l/ZwduFxS/q/hZeyssAYH27espkp8Yw6uAnUxfEbTI=  0.980669\n",
       "11     azfnO16ZeQsbJF6LcqkQhbA3NWiqHYWqaq7AFjsJVaQ=  0.998720\n",
       "12     RPOzeEr8mSbhj6wrF29+7KciuiNrj7IvkzxJ9rgCTks=  1.000093\n",
       "13     NAzfjSM2EOyFhV4rIm/RO9pXCbyti6scBfcmV/t+CaU=  0.980669\n",
       "14     1DCd06ON0rWFHI1bNrY1l/hPW9d80fmmrmroHqpGvNA=  0.980669\n",
       "15     D9QAV8ZNF8qU96dTBLMzO0sguzlmAIBf4302l0W6jj0=  0.980669\n",
       "16     5HKzLDUVVbIxWMH9aH67ALAGVPvorE4NvmO5xqO7SMk=  1.011394\n",
       "17     XwnlNj6nq2MMHe0KoyRRM4ih+RAwj5idHvlS4pTMTbg=  0.980916\n",
       "18     lNmNPLZZiMwVbRFdBmDYmRdEgo8TWN2Y3m+z5XVl4aQ=  0.980468\n",
       "19     5NlNga4bsKiYyj3B3I/SihUQH4wb2suNWBcxQMd9oJ8=  0.980669\n",
       "20     eXWvD4/UBTi6mA9GMYTpY7/buu5xKCyXlu7hFM+ELHU=  0.980669\n",
       "21     Y1V2qDdKt+5CHqFSvpm82QkPJrwRxkbP5hs7DbtU+tA=  1.005083\n",
       "22     sLyKNXQo6PGK/CE0a4cUQ9+lVd/oCERRMuCSgZ6KN4Y=  0.980669\n",
       "23     2TaTUEET5XAOiHPC2qKnKUK2wSqbcbA9YwM4eHTeawE=  1.018574\n",
       "24     Rrh9afbenme6MuAYudJRn41u9IrLpSi9aQ8p3I34RT0=  0.980669\n",
       "25     5sjnJjeZd2roOarPgSYK6559VTIhEmeunzJAd2kcuhg=  0.980669\n",
       "26     FsR4+VSNjAortRRTmx2q9K2q9HtSdQ69PE1FNKKqpKk=  0.980669\n",
       "27     5LgzR73HtjaKDQzMcUrveEUcvWPCuwAZrizNdCAqRnU=  0.992771\n",
       "28     3rgFPp+e+xMWuKAw8wgVB4EUYotVuaWYvGuEDyNo9fc=  0.980492\n",
       "29     QOE4ibjDwKrJvCZze8fKh4yxk7sHEEbffUMTmkUSfhA=  0.980669\n",
       "...                                             ...       ...\n",
       "45344  dAul8FUrhRCyF5RjZ/WluIQyK+00GpejLJHri54ToJY=  0.996988\n",
       "45345  l5BE/FDAQDDLuwSo1hZEXlZy+wmgkH57ceUkGQtKQ78=  0.980669\n",
       "45346  muhMeZrR8GL+/RkoWCx93SJJD6FjLl11cgbkIhfraQA=  0.996988\n",
       "45347  IQ5BBoxrOr8ldbrDhHv0V48JmsxWOjCWqdD5G5TefoU=  1.000093\n",
       "45348  sO7kGnGLNWIfW8/4RncHlNzc6KErwWvR6NFZDcmlLS4=  0.980669\n",
       "45349  +UUU5Y9ZFQTA7k8HlLuxwdmTwS4Y/8MwMNonkvpK5o8=  0.998720\n",
       "45350  cNe2OBXTGSBlJkxWwvGiyRfFJ68caDTMxdWprpgzTVQ=  0.980669\n",
       "45351  sIBNS8vqW2CTRcnGzb709VqP2VDAMywd6tCSPOqqZ0U=  0.990352\n",
       "45352  cmYfq45y5q5Yx6EG9YI38g4plJej4chaa1PNN0BhK0E=  0.980492\n",
       "45353  LXHOvANpLJ0azDomrOmduUiAPUdZn4NSLHl4krMAvyQ=  0.980671\n",
       "45354  FmWphZ1mgU9H8zQ8Vm3zs1p5kPYJljf//j71tLj/vlE=  1.004066\n",
       "45355  H8Up+RkU7GRh322e9v5fl0lpnNgznD+ytWy4aOXHmjo=  0.980669\n",
       "45356  FgHlX+4hszGj1VlAEZbrBK7XDSHJYL4PbqzGZyz+MUk=  1.000273\n",
       "45357  ICDEfwOWJOEnB6gBo1c8MEGOAqps7NKEA7PraHOTFp4=  1.000273\n",
       "45358  J2vv6kIK17MDu+TtiBgAtFJ+bJm7T1Bv6MhDuOohxoE=  0.980669\n",
       "45359  +jWiVQp0rj1HpsBFmk4SwZyQj0UrswbExx+BR1iQXgA=  0.980669\n",
       "45360  xfCjyR0m7GVtCoMseecUGMSRzqkUbjGTeEh3/gnRfbE=  0.980916\n",
       "45361  +r/xFNKzT+bGSjDV3U8tWoT3+pndr0l7xcKDoHFokIo=  1.000093\n",
       "45362  STJupQ9IBm5EC1HHZl2mTP9iGW+P3qLmhfZLj7Lif+k=  0.980669\n",
       "45363  H73hKR4w+SdnP2Imd2GdVp5sj1Rol56eVPH0KZSvh08=  0.986449\n",
       "45364  5Zv2bO96VUFnNKjJguUZxSx1NTsvuPUNzEYc0IRICw4=  0.980671\n",
       "45365  WBuVd4cbyN7FShMSfgzxq1z4O0Pya2GW6H89d5sW3Ds=  1.000273\n",
       "45366  VcFy0ND3gDoa/zUFr9uDpqEZJxMX6NJx9mo4BY2NplM=  1.000093\n",
       "45367  0beZrs9joYEtO3BJiUogfKvxbnIQ6vzfYKSaUaDWcS4=  1.000347\n",
       "45368  7WMvqmw9jS2gKNfo5Hp/osGbnBoyjBrOKvF/H3b5BVM=  0.980468\n",
       "45369  lWQhiAg/2GkL8X63usxhCzDzI4wSjQQOBPpKkoGVdrI=  0.980468\n",
       "45370  Mmj8P0TZVqLyepU1/S/xQGToa+m+eKMey8w8EhVzA1A=  0.997395\n",
       "45371  5jtsqFEgTWFzqsjXfpkWXs/9nMGTtwHgTMScGvte7P4=  0.980916\n",
       "45372  vMOGTTeHZcqae/Iq5r9jccr4m49+g2IdG7j9xQx+Za8=  1.009983\n",
       "45373  WfSJTEolyGb6YceyifeHlT6qGUpgNNLGf2TT/ZEDM3c=  1.000093\n",
       "\n",
       "[907471 rows x 2 columns]"
      ]
     },
     "execution_count": 47,
     "metadata": {},
     "output_type": "execute_result"
    }
   ],
   "source": [
    "sub_test"
   ]
  },
  {
   "cell_type": "code",
   "execution_count": null,
   "metadata": {},
   "outputs": [],
   "source": []
  }
 ],
 "metadata": {
  "kernelspec": {
   "display_name": "Python 3",
   "language": "python",
   "name": "python3"
  },
  "language_info": {
   "codemirror_mode": {
    "name": "ipython",
    "version": 3
   },
   "file_extension": ".py",
   "mimetype": "text/x-python",
   "name": "python",
   "nbconvert_exporter": "python",
   "pygments_lexer": "ipython3",
   "version": "3.6.3"
  }
 },
 "nbformat": 4,
 "nbformat_minor": 2
}
