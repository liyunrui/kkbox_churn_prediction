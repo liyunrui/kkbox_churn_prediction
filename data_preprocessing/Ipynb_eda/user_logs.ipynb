{
 "cells": [
  {
   "cell_type": "code",
   "execution_count": 1,
   "metadata": {},
   "outputs": [],
   "source": [
    "#!/usr/bin/python3\n",
    "# -*-coding:utf-8\n",
    "'''\n",
    "Created on Fri Dec 1 22:22:35 2017\n",
    "\n",
    "@author: Ray\n",
    "\n",
    "'''\n",
    "import time\n",
    "import pandas as pd\n",
    "import numpy as np\n",
    "from tqdm import tqdm\n",
    "import os\n",
    "import utils # written by author\n",
    "from glob import glob\n",
    "from datetime import datetime, timedelta\n",
    "import multiprocessing as mp\n",
    "import gc # for automatic releasing memory\n"
   ]
  },
  {
   "cell_type": "code",
   "execution_count": null,
   "metadata": {},
   "outputs": [],
   "source": []
  },
  {
   "cell_type": "code",
   "execution_count": 2,
   "metadata": {},
   "outputs": [],
   "source": [
    "def reduce_memory(df):\n",
    "    int_cols = list(df.select_dtypes(include=['int']).columns)\n",
    "    for col in int_cols:\n",
    "        if ((np.max(df[col]) <= 127) and(np.min(df[col] >= -128))):\n",
    "            df[col] = df[col].astype(np.int8)\n",
    "        elif ((np.max(df[col]) <= 32767) and(np.min(df[col] >= -32768))):\n",
    "            df[col] = df[col].astype(np.int16)\n",
    "        elif ((np.max(df[col]) <= 2147483647) and(np.min(df[col] >= -2147483648))):\n",
    "            df[col] = df[col].astype(np.int32)\n",
    "        else:\n",
    "            df[col] = df[col].astype(np.int64)\n",
    "    float_cols = list(df.select_dtypes(include=['float']).columns)\n",
    "    for col in float_cols:\n",
    "        df[col] = df[col].astype(np.float32)\n",
    "    gc.collect()\n"
   ]
  },
  {
   "cell_type": "code",
   "execution_count": 3,
   "metadata": {},
   "outputs": [],
   "source": [
    "##################################################\n",
    "# Load user_logs \n",
    "##################################################\n",
    "user_logs = pd.read_csv('../../input/user_logs_v2.csv')\n",
    "#user_logs.sort_values(by = ['msno', 'date'],inplace = True)"
   ]
  },
  {
   "cell_type": "code",
   "execution_count": 4,
   "metadata": {},
   "outputs": [],
   "source": [
    "user_logs = user_logs.head(5000)"
   ]
  },
  {
   "cell_type": "code",
   "execution_count": 6,
   "metadata": {},
   "outputs": [
    {
     "name": "stdout",
     "output_type": "stream",
     "text": [
      "<class 'pandas.core.frame.DataFrame'>\n",
      "RangeIndex: 5000 entries, 0 to 4999\n",
      "Data columns (total 9 columns):\n",
      "msno          5000 non-null object\n",
      "date          5000 non-null int32\n",
      "num_25        5000 non-null int16\n",
      "num_50        5000 non-null int8\n",
      "num_75        5000 non-null int8\n",
      "num_985       5000 non-null int16\n",
      "num_100       5000 non-null int16\n",
      "num_unq       5000 non-null int16\n",
      "total_secs    5000 non-null float32\n",
      "dtypes: float32(1), int16(4), int32(1), int8(2), object(1)\n",
      "memory usage: 127.0+ KB\n"
     ]
    }
   ],
   "source": [
    "reduce_memory(user_logs)\n",
    "user_logs.info()"
   ]
  },
  {
   "cell_type": "code",
   "execution_count": null,
   "metadata": {},
   "outputs": [],
   "source": []
  },
  {
   "cell_type": "code",
   "execution_count": null,
   "metadata": {},
   "outputs": [],
   "source": []
  },
  {
   "cell_type": "code",
   "execution_count": 5,
   "metadata": {},
   "outputs": [],
   "source": [
    "user_logs = user_logs.head(n = 5000)"
   ]
  },
  {
   "cell_type": "code",
   "execution_count": 17,
   "metadata": {},
   "outputs": [
    {
     "data": {
      "text/html": [
       "<div>\n",
       "<style scoped>\n",
       "    .dataframe tbody tr th:only-of-type {\n",
       "        vertical-align: middle;\n",
       "    }\n",
       "\n",
       "    .dataframe tbody tr th {\n",
       "        vertical-align: top;\n",
       "    }\n",
       "\n",
       "    .dataframe thead th {\n",
       "        text-align: right;\n",
       "    }\n",
       "</style>\n",
       "<table border=\"1\" class=\"dataframe\">\n",
       "  <thead>\n",
       "    <tr style=\"text-align: right;\">\n",
       "      <th></th>\n",
       "      <th>msno</th>\n",
       "      <th>date</th>\n",
       "      <th>num_25</th>\n",
       "      <th>num_50</th>\n",
       "      <th>num_75</th>\n",
       "      <th>num_985</th>\n",
       "      <th>num_100</th>\n",
       "      <th>num_unq</th>\n",
       "      <th>total_secs</th>\n",
       "    </tr>\n",
       "  </thead>\n",
       "  <tbody>\n",
       "    <tr>\n",
       "      <th>7571198</th>\n",
       "      <td>+++IZseRRiQS9aaSkH6cMYU6bGDcxUieAi/tH67sC5s=</td>\n",
       "      <td>20170301</td>\n",
       "      <td>1</td>\n",
       "      <td>0</td>\n",
       "      <td>0</td>\n",
       "      <td>1</td>\n",
       "      <td>-117</td>\n",
       "      <td>-117</td>\n",
       "      <td>31748</td>\n",
       "    </tr>\n",
       "    <tr>\n",
       "      <th>8050276</th>\n",
       "      <td>+++IZseRRiQS9aaSkH6cMYU6bGDcxUieAi/tH67sC5s=</td>\n",
       "      <td>20170302</td>\n",
       "      <td>2</td>\n",
       "      <td>0</td>\n",
       "      <td>0</td>\n",
       "      <td>0</td>\n",
       "      <td>12</td>\n",
       "      <td>12</td>\n",
       "      <td>2882</td>\n",
       "    </tr>\n",
       "    <tr>\n",
       "      <th>12682180</th>\n",
       "      <td>+++IZseRRiQS9aaSkH6cMYU6bGDcxUieAi/tH67sC5s=</td>\n",
       "      <td>20170304</td>\n",
       "      <td>7</td>\n",
       "      <td>2</td>\n",
       "      <td>1</td>\n",
       "      <td>0</td>\n",
       "      <td>9</td>\n",
       "      <td>16</td>\n",
       "      <td>2582</td>\n",
       "    </tr>\n",
       "    <tr>\n",
       "      <th>16814224</th>\n",
       "      <td>+++IZseRRiQS9aaSkH6cMYU6bGDcxUieAi/tH67sC5s=</td>\n",
       "      <td>20170305</td>\n",
       "      <td>0</td>\n",
       "      <td>0</td>\n",
       "      <td>0</td>\n",
       "      <td>0</td>\n",
       "      <td>1</td>\n",
       "      <td>1</td>\n",
       "      <td>230</td>\n",
       "    </tr>\n",
       "    <tr>\n",
       "      <th>12318951</th>\n",
       "      <td>+++IZseRRiQS9aaSkH6cMYU6bGDcxUieAi/tH67sC5s=</td>\n",
       "      <td>20170307</td>\n",
       "      <td>1</td>\n",
       "      <td>0</td>\n",
       "      <td>1</td>\n",
       "      <td>1</td>\n",
       "      <td>9</td>\n",
       "      <td>11</td>\n",
       "      <td>2644</td>\n",
       "    </tr>\n",
       "  </tbody>\n",
       "</table>\n",
       "</div>"
      ],
      "text/plain": [
       "                                                  msno      date  num_25  \\\n",
       "7571198   +++IZseRRiQS9aaSkH6cMYU6bGDcxUieAi/tH67sC5s=  20170301       1   \n",
       "8050276   +++IZseRRiQS9aaSkH6cMYU6bGDcxUieAi/tH67sC5s=  20170302       2   \n",
       "12682180  +++IZseRRiQS9aaSkH6cMYU6bGDcxUieAi/tH67sC5s=  20170304       7   \n",
       "16814224  +++IZseRRiQS9aaSkH6cMYU6bGDcxUieAi/tH67sC5s=  20170305       0   \n",
       "12318951  +++IZseRRiQS9aaSkH6cMYU6bGDcxUieAi/tH67sC5s=  20170307       1   \n",
       "\n",
       "          num_50  num_75  num_985  num_100  num_unq  total_secs  \n",
       "7571198        0       0        1     -117     -117       31748  \n",
       "8050276        0       0        0       12       12        2882  \n",
       "12682180       2       1        0        9       16        2582  \n",
       "16814224       0       0        0        1        1         230  \n",
       "12318951       0       1        1        9       11        2644  "
      ]
     },
     "execution_count": 17,
     "metadata": {},
     "output_type": "execute_result"
    }
   ],
   "source": [
    "user_logs.head()"
   ]
  },
  {
   "cell_type": "markdown",
   "metadata": {},
   "source": [
    "# 此消費者聽歌佔一整天的比例-->把它分區間,判斷他是重度患者(>0.5),中度患者(), 低度患者(< 0.125)"
   ]
  },
  {
   "cell_type": "code",
   "execution_count": 22,
   "metadata": {},
   "outputs": [],
   "source": [
    "def habit_discrimination(x):\n",
    "    # 0.5: 一天聽12小時\n",
    "    # 0.333: 一天聽8小時\n",
    "    # 0.125: 一天聽3小時\n",
    "    # 0.0416: 一天聽1小時\n",
    "    if x > 0.5:\n",
    "        return 1 # 重度kkbox依賴者\n",
    "    elif 0.5 > x > 0.125:\n",
    "        return 2\n",
    "    elif 0.125 > x > 0.0416:\n",
    "        return 3\n",
    "    else:\n",
    "        return 4\n",
    "user_logs['total_secs_percentage'] = user_logs.total_secs.apply(lambda x: x / (24*60*60))\n",
    "user_logs['listening_habit_zone'] = user_logs.total_secs_percentage.apply(habit_discrimination)"
   ]
  },
  {
   "cell_type": "markdown",
   "metadata": {},
   "source": [
    "# 此消費者聽歌已累積多少時間 (Number of time user has logged on)"
   ]
  },
  {
   "cell_type": "code",
   "execution_count": 48,
   "metadata": {},
   "outputs": [],
   "source": [
    "def make_order_number(x):\n",
    "    x['order_number'] = [i+1 for i in range(x.shape[0])]\n",
    "    return x\n",
    "user_logs['num_of_time_the_user_has_logged_in'] = user_logs.groupby('msno').total_secs.cumsum()\n",
    "user_logs = user_logs.groupby('msno').apply(make_order_number)\n",
    "user_logs['num_of_time_the_user_has_logged_in_ratio'] = user_logs.num_of_time_the_user_has_logged_in / user_logs.order_number"
   ]
  },
  {
   "cell_type": "markdown",
   "metadata": {},
   "source": [
    "# 多少完整的歌和多少不完整的歌 (Number of completed songs against incomplete songs)\n",
    "# completed songs = num_100 + num_985\n",
    "# incompleted songs = num_75 + num_50 + num_25"
   ]
  },
  {
   "cell_type": "code",
   "execution_count": 26,
   "metadata": {},
   "outputs": [
    {
     "ename": "AttributeError",
     "evalue": "(\"'Series' object has no attribute 'num_100'\", 'occurred at index 0')",
     "output_type": "error",
     "traceback": [
      "\u001b[0;31m---------------------------------------------------------------------------\u001b[0m",
      "\u001b[0;31mAttributeError\u001b[0m                            Traceback (most recent call last)",
      "\u001b[0;32m<ipython-input-26-126ac0882cbe>\u001b[0m in \u001b[0;36m<module>\u001b[0;34m()\u001b[0m\n\u001b[1;32m      3\u001b[0m     \u001b[0mx\u001b[0m\u001b[0;34m[\u001b[0m\u001b[0;34m'num_incompleted_songs'\u001b[0m\u001b[0;34m]\u001b[0m \u001b[0;34m=\u001b[0m \u001b[0mx\u001b[0m\u001b[0;34m.\u001b[0m\u001b[0mnum_25\u001b[0m \u001b[0;34m+\u001b[0m \u001b[0mx\u001b[0m\u001b[0;34m.\u001b[0m\u001b[0mnum_50\u001b[0m \u001b[0;34m+\u001b[0m \u001b[0mx\u001b[0m\u001b[0;34m.\u001b[0m\u001b[0mnum_75\u001b[0m\u001b[0;34m\u001b[0m\u001b[0m\n\u001b[1;32m      4\u001b[0m     \u001b[0;32mreturn\u001b[0m \u001b[0mx\u001b[0m\u001b[0;34m\u001b[0m\u001b[0m\n\u001b[0;32m----> 5\u001b[0;31m \u001b[0muser_logs\u001b[0m \u001b[0;34m=\u001b[0m \u001b[0muser_logs\u001b[0m\u001b[0;34m.\u001b[0m\u001b[0mapply\u001b[0m\u001b[0;34m(\u001b[0m\u001b[0mcompleted_vs_incompleted_songs\u001b[0m\u001b[0;34m,\u001b[0m \u001b[0maxis\u001b[0m \u001b[0;34m=\u001b[0m \u001b[0;36m1\u001b[0m\u001b[0;34m)\u001b[0m\u001b[0;34m\u001b[0m\u001b[0m\n\u001b[0m",
      "\u001b[0;32m/usr/local/lib/python3.6/site-packages/pandas/core/frame.py\u001b[0m in \u001b[0;36mapply\u001b[0;34m(self, func, axis, broadcast, raw, reduce, args, **kwds)\u001b[0m\n\u001b[1;32m   4852\u001b[0m                         \u001b[0mf\u001b[0m\u001b[0;34m,\u001b[0m \u001b[0maxis\u001b[0m\u001b[0;34m,\u001b[0m\u001b[0;34m\u001b[0m\u001b[0m\n\u001b[1;32m   4853\u001b[0m                         \u001b[0mreduce\u001b[0m\u001b[0;34m=\u001b[0m\u001b[0mreduce\u001b[0m\u001b[0;34m,\u001b[0m\u001b[0;34m\u001b[0m\u001b[0m\n\u001b[0;32m-> 4854\u001b[0;31m                         ignore_failures=ignore_failures)\n\u001b[0m\u001b[1;32m   4855\u001b[0m             \u001b[0;32melse\u001b[0m\u001b[0;34m:\u001b[0m\u001b[0;34m\u001b[0m\u001b[0m\n\u001b[1;32m   4856\u001b[0m                 \u001b[0;32mreturn\u001b[0m \u001b[0mself\u001b[0m\u001b[0;34m.\u001b[0m\u001b[0m_apply_broadcast\u001b[0m\u001b[0;34m(\u001b[0m\u001b[0mf\u001b[0m\u001b[0;34m,\u001b[0m \u001b[0maxis\u001b[0m\u001b[0;34m)\u001b[0m\u001b[0;34m\u001b[0m\u001b[0m\n",
      "\u001b[0;32m/usr/local/lib/python3.6/site-packages/pandas/core/frame.py\u001b[0m in \u001b[0;36m_apply_standard\u001b[0;34m(self, func, axis, ignore_failures, reduce)\u001b[0m\n\u001b[1;32m   4948\u001b[0m             \u001b[0;32mtry\u001b[0m\u001b[0;34m:\u001b[0m\u001b[0;34m\u001b[0m\u001b[0m\n\u001b[1;32m   4949\u001b[0m                 \u001b[0;32mfor\u001b[0m \u001b[0mi\u001b[0m\u001b[0;34m,\u001b[0m \u001b[0mv\u001b[0m \u001b[0;32min\u001b[0m \u001b[0menumerate\u001b[0m\u001b[0;34m(\u001b[0m\u001b[0mseries_gen\u001b[0m\u001b[0;34m)\u001b[0m\u001b[0;34m:\u001b[0m\u001b[0;34m\u001b[0m\u001b[0m\n\u001b[0;32m-> 4950\u001b[0;31m                     \u001b[0mresults\u001b[0m\u001b[0;34m[\u001b[0m\u001b[0mi\u001b[0m\u001b[0;34m]\u001b[0m \u001b[0;34m=\u001b[0m \u001b[0mfunc\u001b[0m\u001b[0;34m(\u001b[0m\u001b[0mv\u001b[0m\u001b[0;34m)\u001b[0m\u001b[0;34m\u001b[0m\u001b[0m\n\u001b[0m\u001b[1;32m   4951\u001b[0m                     \u001b[0mkeys\u001b[0m\u001b[0;34m.\u001b[0m\u001b[0mappend\u001b[0m\u001b[0;34m(\u001b[0m\u001b[0mv\u001b[0m\u001b[0;34m.\u001b[0m\u001b[0mname\u001b[0m\u001b[0;34m)\u001b[0m\u001b[0;34m\u001b[0m\u001b[0m\n\u001b[1;32m   4952\u001b[0m             \u001b[0;32mexcept\u001b[0m \u001b[0mException\u001b[0m \u001b[0;32mas\u001b[0m \u001b[0me\u001b[0m\u001b[0;34m:\u001b[0m\u001b[0;34m\u001b[0m\u001b[0m\n",
      "\u001b[0;32m<ipython-input-26-126ac0882cbe>\u001b[0m in \u001b[0;36mcompleted_vs_incompleted_songs\u001b[0;34m(x)\u001b[0m\n\u001b[1;32m      1\u001b[0m \u001b[0;32mdef\u001b[0m \u001b[0mcompleted_vs_incompleted_songs\u001b[0m\u001b[0;34m(\u001b[0m\u001b[0mx\u001b[0m\u001b[0;34m)\u001b[0m\u001b[0;34m:\u001b[0m\u001b[0;34m\u001b[0m\u001b[0m\n\u001b[0;32m----> 2\u001b[0;31m     \u001b[0mx\u001b[0m\u001b[0;34m[\u001b[0m\u001b[0;34m'num_completed_songs'\u001b[0m\u001b[0;34m]\u001b[0m \u001b[0;34m=\u001b[0m \u001b[0mx\u001b[0m\u001b[0;34m.\u001b[0m\u001b[0mnum_100\u001b[0m \u001b[0;34m+\u001b[0m \u001b[0mx\u001b[0m\u001b[0;34m.\u001b[0m\u001b[0mnum_985\u001b[0m\u001b[0;34m\u001b[0m\u001b[0m\n\u001b[0m\u001b[1;32m      3\u001b[0m     \u001b[0mx\u001b[0m\u001b[0;34m[\u001b[0m\u001b[0;34m'num_incompleted_songs'\u001b[0m\u001b[0;34m]\u001b[0m \u001b[0;34m=\u001b[0m \u001b[0mx\u001b[0m\u001b[0;34m.\u001b[0m\u001b[0mnum_25\u001b[0m \u001b[0;34m+\u001b[0m \u001b[0mx\u001b[0m\u001b[0;34m.\u001b[0m\u001b[0mnum_50\u001b[0m \u001b[0;34m+\u001b[0m \u001b[0mx\u001b[0m\u001b[0;34m.\u001b[0m\u001b[0mnum_75\u001b[0m\u001b[0;34m\u001b[0m\u001b[0m\n\u001b[1;32m      4\u001b[0m     \u001b[0;32mreturn\u001b[0m \u001b[0mx\u001b[0m\u001b[0;34m\u001b[0m\u001b[0m\n\u001b[1;32m      5\u001b[0m \u001b[0muser_logs\u001b[0m \u001b[0;34m=\u001b[0m \u001b[0muser_logs\u001b[0m\u001b[0;34m.\u001b[0m\u001b[0mapply\u001b[0m\u001b[0;34m(\u001b[0m\u001b[0mcompleted_vs_incompleted_songs\u001b[0m\u001b[0;34m,\u001b[0m \u001b[0maxis\u001b[0m \u001b[0;34m=\u001b[0m \u001b[0;36m1\u001b[0m\u001b[0;34m)\u001b[0m\u001b[0;34m\u001b[0m\u001b[0m\n",
      "\u001b[0;32m/usr/local/lib/python3.6/site-packages/pandas/core/generic.py\u001b[0m in \u001b[0;36m__getattr__\u001b[0;34m(self, name)\u001b[0m\n\u001b[1;32m   3612\u001b[0m             \u001b[0;32mif\u001b[0m \u001b[0mname\u001b[0m \u001b[0;32min\u001b[0m \u001b[0mself\u001b[0m\u001b[0;34m.\u001b[0m\u001b[0m_info_axis\u001b[0m\u001b[0;34m:\u001b[0m\u001b[0;34m\u001b[0m\u001b[0m\n\u001b[1;32m   3613\u001b[0m                 \u001b[0;32mreturn\u001b[0m \u001b[0mself\u001b[0m\u001b[0;34m[\u001b[0m\u001b[0mname\u001b[0m\u001b[0;34m]\u001b[0m\u001b[0;34m\u001b[0m\u001b[0m\n\u001b[0;32m-> 3614\u001b[0;31m             \u001b[0;32mreturn\u001b[0m \u001b[0mobject\u001b[0m\u001b[0;34m.\u001b[0m\u001b[0m__getattribute__\u001b[0m\u001b[0;34m(\u001b[0m\u001b[0mself\u001b[0m\u001b[0;34m,\u001b[0m \u001b[0mname\u001b[0m\u001b[0;34m)\u001b[0m\u001b[0;34m\u001b[0m\u001b[0m\n\u001b[0m\u001b[1;32m   3615\u001b[0m \u001b[0;34m\u001b[0m\u001b[0m\n\u001b[1;32m   3616\u001b[0m     \u001b[0;32mdef\u001b[0m \u001b[0m__setattr__\u001b[0m\u001b[0;34m(\u001b[0m\u001b[0mself\u001b[0m\u001b[0;34m,\u001b[0m \u001b[0mname\u001b[0m\u001b[0;34m,\u001b[0m \u001b[0mvalue\u001b[0m\u001b[0;34m)\u001b[0m\u001b[0;34m:\u001b[0m\u001b[0;34m\u001b[0m\u001b[0m\n",
      "\u001b[0;31mAttributeError\u001b[0m: (\"'Series' object has no attribute 'num_100'\", 'occurred at index 0')"
     ]
    }
   ],
   "source": [
    "def completed_vs_incompleted_songs(x):\n",
    "    x['num_completed_songs'] = x.num_100 + x.num_985\n",
    "    x['num_incompleted_songs'] = x.num_25 + x.num_50 + x.num_75\n",
    "    return x\n",
    "user_logs = user_logs.apply(completed_vs_incompleted_songs, axis = 1)"
   ]
  },
  {
   "cell_type": "code",
   "execution_count": 37,
   "metadata": {},
   "outputs": [],
   "source": [
    "user_logs['completed_songs_ratio'] = user_logs.num_completed_songs/ (user_logs.num_incompleted_songs + user_logs.num_completed_songs)"
   ]
  },
  {
   "cell_type": "code",
   "execution_count": 42,
   "metadata": {},
   "outputs": [],
   "source": [
    "user_logs['is_satisfied'] = user_logs.completed_songs_ratio.apply(lambda x: 1 if x > 0.5 else 0)"
   ]
  },
  {
   "cell_type": "code",
   "execution_count": null,
   "metadata": {
    "collapsed": true
   },
   "outputs": [],
   "source": [
    "# user_logs.drop(['total_secs'], axis = 1,inplace = True)"
   ]
  },
  {
   "cell_type": "markdown",
   "metadata": {},
   "source": [
    "# num_100佔所有聽過的歌曲中的比例, 這個比例越高代表這天他們很穩定聽歌!\n",
    "# num_985佔所有聽過的歌曲中的比例\n",
    "# num_75佔所有聽過的歌曲中的比例\n",
    "# num_50佔所有聽過的歌曲中的比例\n",
    "# num_25佔所有聽過的歌曲中的比例, 這個比例越高代表這天他們一直在找歌!\n",
    "\n"
   ]
  },
  {
   "cell_type": "code",
   "execution_count": 7,
   "metadata": {},
   "outputs": [],
   "source": [
    "user_logs = user_logs.head(n = 5000)"
   ]
  },
  {
   "cell_type": "code",
   "execution_count": 6,
   "metadata": {},
   "outputs": [],
   "source": [
    "# # it's extremly time-consuming\n",
    "# def get_ratio(x):\n",
    "#     x['num_100_ratio'] = x.num_100/ (x.num_25 + x.num_50 + x.num_75 + x.num_985 + x.num_100)\n",
    "#     x['num_985_ratio'] = x.num_985/ (x.num_25 + x.num_50 + x.num_75 + x.num_985 + x.num_100)\n",
    "#     x['num_75_ratio'] = x.num_75/ (x.num_25 + x.num_50 + x.num_75 + x.num_985 + x.num_100)\n",
    "#     x['num_50_ratio'] = x.num_50/ (x.num_25 + x.num_50 + x.num_75 + x.num_985 + x.num_100)\n",
    "#     x['num_25_ratio'] = x.num_25/ (x.num_25 + x.num_50 + x.num_75 + x.num_985 + x.num_100)\n",
    "#     return x\n",
    "# user_logs = user_logs.apply(get_ratio, axis = 1)"
   ]
  },
  {
   "cell_type": "code",
   "execution_count": 8,
   "metadata": {},
   "outputs": [
    {
     "data": {
      "text/html": [
       "<div>\n",
       "<style scoped>\n",
       "    .dataframe tbody tr th:only-of-type {\n",
       "        vertical-align: middle;\n",
       "    }\n",
       "\n",
       "    .dataframe tbody tr th {\n",
       "        vertical-align: top;\n",
       "    }\n",
       "\n",
       "    .dataframe thead th {\n",
       "        text-align: right;\n",
       "    }\n",
       "</style>\n",
       "<table border=\"1\" class=\"dataframe\">\n",
       "  <thead>\n",
       "    <tr style=\"text-align: right;\">\n",
       "      <th></th>\n",
       "      <th>msno</th>\n",
       "      <th>date</th>\n",
       "      <th>num_25</th>\n",
       "      <th>num_50</th>\n",
       "      <th>num_75</th>\n",
       "      <th>num_985</th>\n",
       "      <th>num_100</th>\n",
       "      <th>num_unq</th>\n",
       "      <th>total_secs</th>\n",
       "    </tr>\n",
       "  </thead>\n",
       "  <tbody>\n",
       "    <tr>\n",
       "      <th>0</th>\n",
       "      <td>u9E91QDTvHLq6NXjEaWv8u4QIqhrHk72kE+w31Gnhdg=</td>\n",
       "      <td>20170331</td>\n",
       "      <td>8</td>\n",
       "      <td>4</td>\n",
       "      <td>0</td>\n",
       "      <td>1</td>\n",
       "      <td>21</td>\n",
       "      <td>18</td>\n",
       "      <td>6309.272949</td>\n",
       "    </tr>\n",
       "    <tr>\n",
       "      <th>1</th>\n",
       "      <td>nTeWW/eOZA/UHKdD5L7DEqKKFTjaAj3ALLPoAWsU8n0=</td>\n",
       "      <td>20170330</td>\n",
       "      <td>2</td>\n",
       "      <td>2</td>\n",
       "      <td>1</td>\n",
       "      <td>0</td>\n",
       "      <td>9</td>\n",
       "      <td>11</td>\n",
       "      <td>2390.698975</td>\n",
       "    </tr>\n",
       "    <tr>\n",
       "      <th>2</th>\n",
       "      <td>2UqkWXwZbIjs03dHLU9KHJNNEvEkZVzm69f3jCS+uLI=</td>\n",
       "      <td>20170331</td>\n",
       "      <td>52</td>\n",
       "      <td>3</td>\n",
       "      <td>5</td>\n",
       "      <td>3</td>\n",
       "      <td>84</td>\n",
       "      <td>110</td>\n",
       "      <td>23203.337891</td>\n",
       "    </tr>\n",
       "    <tr>\n",
       "      <th>3</th>\n",
       "      <td>ycwLc+m2O0a85jSLALtr941AaZt9ai8Qwlg9n0Nql5U=</td>\n",
       "      <td>20170331</td>\n",
       "      <td>176</td>\n",
       "      <td>4</td>\n",
       "      <td>2</td>\n",
       "      <td>2</td>\n",
       "      <td>19</td>\n",
       "      <td>191</td>\n",
       "      <td>7100.454102</td>\n",
       "    </tr>\n",
       "    <tr>\n",
       "      <th>4</th>\n",
       "      <td>EGcbTofOSOkMmQyN1NMLxHEXJ1yV3t/JdhGwQ9wXjnI=</td>\n",
       "      <td>20170331</td>\n",
       "      <td>2</td>\n",
       "      <td>1</td>\n",
       "      <td>0</td>\n",
       "      <td>1</td>\n",
       "      <td>112</td>\n",
       "      <td>93</td>\n",
       "      <td>28401.558594</td>\n",
       "    </tr>\n",
       "  </tbody>\n",
       "</table>\n",
       "</div>"
      ],
      "text/plain": [
       "                                           msno      date  num_25  num_50  \\\n",
       "0  u9E91QDTvHLq6NXjEaWv8u4QIqhrHk72kE+w31Gnhdg=  20170331       8       4   \n",
       "1  nTeWW/eOZA/UHKdD5L7DEqKKFTjaAj3ALLPoAWsU8n0=  20170330       2       2   \n",
       "2  2UqkWXwZbIjs03dHLU9KHJNNEvEkZVzm69f3jCS+uLI=  20170331      52       3   \n",
       "3  ycwLc+m2O0a85jSLALtr941AaZt9ai8Qwlg9n0Nql5U=  20170331     176       4   \n",
       "4  EGcbTofOSOkMmQyN1NMLxHEXJ1yV3t/JdhGwQ9wXjnI=  20170331       2       1   \n",
       "\n",
       "   num_75  num_985  num_100  num_unq    total_secs  \n",
       "0       0        1       21       18   6309.272949  \n",
       "1       1        0        9       11   2390.698975  \n",
       "2       5        3       84      110  23203.337891  \n",
       "3       2        2       19      191   7100.454102  \n",
       "4       0        1      112       93  28401.558594  "
      ]
     },
     "execution_count": 8,
     "metadata": {},
     "output_type": "execute_result"
    }
   ],
   "source": [
    "user_logs.head()"
   ]
  },
  {
   "cell_type": "code",
   "execution_count": 9,
   "metadata": {},
   "outputs": [],
   "source": [
    "user_logs.loc[:,\"num_25\":\"num_100\"] = user_logs.loc[:,\"num_25\":\"num_100\"].div(user_logs.loc[:,\"num_25\":\"num_100\"].sum(axis=1), axis=0)\n"
   ]
  },
  {
   "cell_type": "code",
   "execution_count": 23,
   "metadata": {},
   "outputs": [],
   "source": [
    "user_logs.rename(columns = {'num_25':'num_25_ratio','num_50':'num_50_ratio',\n",
    "                           'num_75':'num_75_ratio','num_985':'num_985_ratio',\n",
    "                           'num_100':'num_100_ratio'}, inplace =True)"
   ]
  },
  {
   "cell_type": "code",
   "execution_count": 25,
   "metadata": {},
   "outputs": [
    {
     "data": {
      "text/html": [
       "<div>\n",
       "<style scoped>\n",
       "    .dataframe tbody tr th:only-of-type {\n",
       "        vertical-align: middle;\n",
       "    }\n",
       "\n",
       "    .dataframe tbody tr th {\n",
       "        vertical-align: top;\n",
       "    }\n",
       "\n",
       "    .dataframe thead th {\n",
       "        text-align: right;\n",
       "    }\n",
       "</style>\n",
       "<table border=\"1\" class=\"dataframe\">\n",
       "  <thead>\n",
       "    <tr style=\"text-align: right;\">\n",
       "      <th></th>\n",
       "      <th>msno</th>\n",
       "      <th>date</th>\n",
       "      <th>num_25_ratio</th>\n",
       "      <th>num_50_ratio</th>\n",
       "      <th>num_75_ratio</th>\n",
       "      <th>num_985_ratio</th>\n",
       "      <th>num_100_ratio</th>\n",
       "      <th>num_unq</th>\n",
       "      <th>total_secs</th>\n",
       "    </tr>\n",
       "  </thead>\n",
       "  <tbody>\n",
       "    <tr>\n",
       "      <th>0</th>\n",
       "      <td>u9E91QDTvHLq6NXjEaWv8u4QIqhrHk72kE+w31Gnhdg=</td>\n",
       "      <td>20170331</td>\n",
       "      <td>0.235294</td>\n",
       "      <td>0.117647</td>\n",
       "      <td>0.000000</td>\n",
       "      <td>0.029412</td>\n",
       "      <td>0.617647</td>\n",
       "      <td>18</td>\n",
       "      <td>6309.272949</td>\n",
       "    </tr>\n",
       "    <tr>\n",
       "      <th>1</th>\n",
       "      <td>nTeWW/eOZA/UHKdD5L7DEqKKFTjaAj3ALLPoAWsU8n0=</td>\n",
       "      <td>20170330</td>\n",
       "      <td>0.142857</td>\n",
       "      <td>0.142857</td>\n",
       "      <td>0.071429</td>\n",
       "      <td>0.000000</td>\n",
       "      <td>0.642857</td>\n",
       "      <td>11</td>\n",
       "      <td>2390.698975</td>\n",
       "    </tr>\n",
       "    <tr>\n",
       "      <th>2</th>\n",
       "      <td>2UqkWXwZbIjs03dHLU9KHJNNEvEkZVzm69f3jCS+uLI=</td>\n",
       "      <td>20170331</td>\n",
       "      <td>0.353741</td>\n",
       "      <td>0.020408</td>\n",
       "      <td>0.034014</td>\n",
       "      <td>0.020408</td>\n",
       "      <td>0.571429</td>\n",
       "      <td>110</td>\n",
       "      <td>23203.337891</td>\n",
       "    </tr>\n",
       "    <tr>\n",
       "      <th>3</th>\n",
       "      <td>ycwLc+m2O0a85jSLALtr941AaZt9ai8Qwlg9n0Nql5U=</td>\n",
       "      <td>20170331</td>\n",
       "      <td>0.866995</td>\n",
       "      <td>0.019704</td>\n",
       "      <td>0.009852</td>\n",
       "      <td>0.009852</td>\n",
       "      <td>0.093596</td>\n",
       "      <td>191</td>\n",
       "      <td>7100.454102</td>\n",
       "    </tr>\n",
       "    <tr>\n",
       "      <th>4</th>\n",
       "      <td>EGcbTofOSOkMmQyN1NMLxHEXJ1yV3t/JdhGwQ9wXjnI=</td>\n",
       "      <td>20170331</td>\n",
       "      <td>0.017241</td>\n",
       "      <td>0.008621</td>\n",
       "      <td>0.000000</td>\n",
       "      <td>0.008621</td>\n",
       "      <td>0.965517</td>\n",
       "      <td>93</td>\n",
       "      <td>28401.558594</td>\n",
       "    </tr>\n",
       "  </tbody>\n",
       "</table>\n",
       "</div>"
      ],
      "text/plain": [
       "                                           msno      date  num_25_ratio  \\\n",
       "0  u9E91QDTvHLq6NXjEaWv8u4QIqhrHk72kE+w31Gnhdg=  20170331      0.235294   \n",
       "1  nTeWW/eOZA/UHKdD5L7DEqKKFTjaAj3ALLPoAWsU8n0=  20170330      0.142857   \n",
       "2  2UqkWXwZbIjs03dHLU9KHJNNEvEkZVzm69f3jCS+uLI=  20170331      0.353741   \n",
       "3  ycwLc+m2O0a85jSLALtr941AaZt9ai8Qwlg9n0Nql5U=  20170331      0.866995   \n",
       "4  EGcbTofOSOkMmQyN1NMLxHEXJ1yV3t/JdhGwQ9wXjnI=  20170331      0.017241   \n",
       "\n",
       "   num_50_ratio  num_75_ratio  num_985_ratio  num_100_ratio  num_unq  \\\n",
       "0      0.117647      0.000000       0.029412       0.617647       18   \n",
       "1      0.142857      0.071429       0.000000       0.642857       11   \n",
       "2      0.020408      0.034014       0.020408       0.571429      110   \n",
       "3      0.019704      0.009852       0.009852       0.093596      191   \n",
       "4      0.008621      0.000000       0.008621       0.965517       93   \n",
       "\n",
       "     total_secs  \n",
       "0   6309.272949  \n",
       "1   2390.698975  \n",
       "2  23203.337891  \n",
       "3   7100.454102  \n",
       "4  28401.558594  "
      ]
     },
     "execution_count": 25,
     "metadata": {},
     "output_type": "execute_result"
    }
   ],
   "source": [
    "user_logs.head()"
   ]
  },
  {
   "cell_type": "code",
   "execution_count": null,
   "metadata": {},
   "outputs": [],
   "source": []
  },
  {
   "cell_type": "code",
   "execution_count": null,
   "metadata": {},
   "outputs": [],
   "source": []
  },
  {
   "cell_type": "code",
   "execution_count": null,
   "metadata": {},
   "outputs": [],
   "source": []
  },
  {
   "cell_type": "code",
   "execution_count": null,
   "metadata": {},
   "outputs": [],
   "source": []
  },
  {
   "cell_type": "code",
   "execution_count": 31,
   "metadata": {},
   "outputs": [
    {
     "data": {
      "text/html": [
       "<div>\n",
       "<style scoped>\n",
       "    .dataframe tbody tr th:only-of-type {\n",
       "        vertical-align: middle;\n",
       "    }\n",
       "\n",
       "    .dataframe tbody tr th {\n",
       "        vertical-align: top;\n",
       "    }\n",
       "\n",
       "    .dataframe thead th {\n",
       "        text-align: right;\n",
       "    }\n",
       "</style>\n",
       "<table border=\"1\" class=\"dataframe\">\n",
       "  <thead>\n",
       "    <tr style=\"text-align: right;\">\n",
       "      <th></th>\n",
       "      <th>msno</th>\n",
       "      <th>date</th>\n",
       "      <th>num_25</th>\n",
       "      <th>num_50</th>\n",
       "      <th>num_75</th>\n",
       "      <th>num_985</th>\n",
       "      <th>num_100</th>\n",
       "    </tr>\n",
       "  </thead>\n",
       "  <tbody>\n",
       "    <tr>\n",
       "      <th>0</th>\n",
       "      <td>u9E91QDTvHLq6NXjEaWv8u4QIqhrHk72kE+w31Gnhdg=</td>\n",
       "      <td>20170331</td>\n",
       "      <td>0.235294</td>\n",
       "      <td>0.117647</td>\n",
       "      <td>0.000000</td>\n",
       "      <td>0.029412</td>\n",
       "      <td>0.617647</td>\n",
       "    </tr>\n",
       "    <tr>\n",
       "      <th>1</th>\n",
       "      <td>nTeWW/eOZA/UHKdD5L7DEqKKFTjaAj3ALLPoAWsU8n0=</td>\n",
       "      <td>20170330</td>\n",
       "      <td>0.142857</td>\n",
       "      <td>0.142857</td>\n",
       "      <td>0.071429</td>\n",
       "      <td>0.000000</td>\n",
       "      <td>0.642857</td>\n",
       "    </tr>\n",
       "    <tr>\n",
       "      <th>2</th>\n",
       "      <td>2UqkWXwZbIjs03dHLU9KHJNNEvEkZVzm69f3jCS+uLI=</td>\n",
       "      <td>20170331</td>\n",
       "      <td>0.353741</td>\n",
       "      <td>0.020408</td>\n",
       "      <td>0.034014</td>\n",
       "      <td>0.020408</td>\n",
       "      <td>0.571429</td>\n",
       "    </tr>\n",
       "    <tr>\n",
       "      <th>3</th>\n",
       "      <td>ycwLc+m2O0a85jSLALtr941AaZt9ai8Qwlg9n0Nql5U=</td>\n",
       "      <td>20170331</td>\n",
       "      <td>0.866995</td>\n",
       "      <td>0.019704</td>\n",
       "      <td>0.009852</td>\n",
       "      <td>0.009852</td>\n",
       "      <td>0.093596</td>\n",
       "    </tr>\n",
       "    <tr>\n",
       "      <th>4</th>\n",
       "      <td>EGcbTofOSOkMmQyN1NMLxHEXJ1yV3t/JdhGwQ9wXjnI=</td>\n",
       "      <td>20170331</td>\n",
       "      <td>0.017241</td>\n",
       "      <td>0.008621</td>\n",
       "      <td>0.000000</td>\n",
       "      <td>0.008621</td>\n",
       "      <td>0.965517</td>\n",
       "    </tr>\n",
       "    <tr>\n",
       "      <th>5</th>\n",
       "      <td>qR/ndQ5B+1cY+c9ihwLoiz+RFiqEnGyQKo32ZErEVKo=</td>\n",
       "      <td>20170331</td>\n",
       "      <td>0.071429</td>\n",
       "      <td>0.000000</td>\n",
       "      <td>0.000000</td>\n",
       "      <td>0.000000</td>\n",
       "      <td>0.928571</td>\n",
       "    </tr>\n",
       "    <tr>\n",
       "      <th>6</th>\n",
       "      <td>N6ch5ArfJixq9mvARJv9ip1D11uvDVazz6Qup5mX7DI=</td>\n",
       "      <td>20170330</td>\n",
       "      <td>0.321429</td>\n",
       "      <td>0.035714</td>\n",
       "      <td>0.000000</td>\n",
       "      <td>0.000000</td>\n",
       "      <td>0.642857</td>\n",
       "    </tr>\n",
       "    <tr>\n",
       "      <th>7</th>\n",
       "      <td>JEjl2W1ivEI6epeobW3n5rDg/r6PJm4OJhtmhwYaQIc=</td>\n",
       "      <td>20170331</td>\n",
       "      <td>0.581994</td>\n",
       "      <td>0.218650</td>\n",
       "      <td>0.016077</td>\n",
       "      <td>0.009646</td>\n",
       "      <td>0.173633</td>\n",
       "    </tr>\n",
       "    <tr>\n",
       "      <th>8</th>\n",
       "      <td>lPK4IYIFdfTT6pq7x2dSV1Vy9j9hNMWzf7XfYBUBz5E=</td>\n",
       "      <td>20170331</td>\n",
       "      <td>0.016129</td>\n",
       "      <td>0.000000</td>\n",
       "      <td>0.005376</td>\n",
       "      <td>0.005376</td>\n",
       "      <td>0.973118</td>\n",
       "    </tr>\n",
       "    <tr>\n",
       "      <th>9</th>\n",
       "      <td>cDgnvwQwCwru2m3zcSuK5oTr6pr1nMPQ/6RerOmxrs0=</td>\n",
       "      <td>20170331</td>\n",
       "      <td>0.121951</td>\n",
       "      <td>0.097561</td>\n",
       "      <td>0.024390</td>\n",
       "      <td>0.024390</td>\n",
       "      <td>0.731707</td>\n",
       "    </tr>\n",
       "    <tr>\n",
       "      <th>10</th>\n",
       "      <td>Cwk7eMLB8Gn8WuzECC2i/GboGXOfkGhS8ju6Brrk2F8=</td>\n",
       "      <td>20170331</td>\n",
       "      <td>0.081395</td>\n",
       "      <td>0.011628</td>\n",
       "      <td>0.023256</td>\n",
       "      <td>0.081395</td>\n",
       "      <td>0.802326</td>\n",
       "    </tr>\n",
       "    <tr>\n",
       "      <th>11</th>\n",
       "      <td>6eT/NGMljpNgEeqTYIdhkc/dvUik+b+41sBNrXJ0cBQ=</td>\n",
       "      <td>20170324</td>\n",
       "      <td>0.812500</td>\n",
       "      <td>0.052083</td>\n",
       "      <td>0.031250</td>\n",
       "      <td>0.020833</td>\n",
       "      <td>0.083333</td>\n",
       "    </tr>\n",
       "    <tr>\n",
       "      <th>12</th>\n",
       "      <td>PVoh0C3fQb1qPNLj7SZ0fKzFC8kStQ/uT2bV358G/1E=</td>\n",
       "      <td>20170325</td>\n",
       "      <td>0.132075</td>\n",
       "      <td>0.018868</td>\n",
       "      <td>0.000000</td>\n",
       "      <td>0.000000</td>\n",
       "      <td>0.849057</td>\n",
       "    </tr>\n",
       "    <tr>\n",
       "      <th>13</th>\n",
       "      <td>cK5XYJqbmsRYasnA48AkJzUna8Ijge8wAp/r3Is/N10=</td>\n",
       "      <td>20170324</td>\n",
       "      <td>0.055556</td>\n",
       "      <td>0.000000</td>\n",
       "      <td>0.000000</td>\n",
       "      <td>0.000000</td>\n",
       "      <td>0.944444</td>\n",
       "    </tr>\n",
       "    <tr>\n",
       "      <th>14</th>\n",
       "      <td>zv12NEuyP2XxcgTDu89mGnPLdnfq8xhBY4jQl8JYLxk=</td>\n",
       "      <td>20170325</td>\n",
       "      <td>0.111111</td>\n",
       "      <td>0.066667</td>\n",
       "      <td>0.044444</td>\n",
       "      <td>0.022222</td>\n",
       "      <td>0.755556</td>\n",
       "    </tr>\n",
       "    <tr>\n",
       "      <th>15</th>\n",
       "      <td>NCRcE4eNurBdOoRk0m+hwDz94xBN6+KL5PTwen4hmWU=</td>\n",
       "      <td>20170325</td>\n",
       "      <td>0.220994</td>\n",
       "      <td>0.033149</td>\n",
       "      <td>0.011050</td>\n",
       "      <td>0.011050</td>\n",
       "      <td>0.723757</td>\n",
       "    </tr>\n",
       "    <tr>\n",
       "      <th>16</th>\n",
       "      <td>q5iH4iDmaFeyz2ZhvQsWlwzhfMhL98chdm4usnV4Ugk=</td>\n",
       "      <td>20170324</td>\n",
       "      <td>0.046512</td>\n",
       "      <td>0.023256</td>\n",
       "      <td>0.000000</td>\n",
       "      <td>0.011628</td>\n",
       "      <td>0.918605</td>\n",
       "    </tr>\n",
       "    <tr>\n",
       "      <th>17</th>\n",
       "      <td>dgjSYdCsI6j51myzxWAdm9jebVRsdgbsvwGcigEUv+U=</td>\n",
       "      <td>20170325</td>\n",
       "      <td>0.018634</td>\n",
       "      <td>0.006211</td>\n",
       "      <td>0.000000</td>\n",
       "      <td>0.012422</td>\n",
       "      <td>0.962733</td>\n",
       "    </tr>\n",
       "    <tr>\n",
       "      <th>18</th>\n",
       "      <td>Q6XdUeVvsXNF/7o0IjPbcSg6dCsFlsRsdGLuiT5UIiI=</td>\n",
       "      <td>20170318</td>\n",
       "      <td>0.007194</td>\n",
       "      <td>0.007194</td>\n",
       "      <td>0.007194</td>\n",
       "      <td>0.000000</td>\n",
       "      <td>0.978417</td>\n",
       "    </tr>\n",
       "    <tr>\n",
       "      <th>19</th>\n",
       "      <td>TWrqEpm0U75ZWW6CHzdp3hVDE7WCQLBX4czgXMvyldY=</td>\n",
       "      <td>20170317</td>\n",
       "      <td>0.092784</td>\n",
       "      <td>0.005155</td>\n",
       "      <td>0.010309</td>\n",
       "      <td>0.015464</td>\n",
       "      <td>0.876289</td>\n",
       "    </tr>\n",
       "    <tr>\n",
       "      <th>20</th>\n",
       "      <td>IXGl03MIJlMcJi2OQX2uIsL6MOpQGmmbs0gv8hHya0g=</td>\n",
       "      <td>20170317</td>\n",
       "      <td>0.088889</td>\n",
       "      <td>0.000000</td>\n",
       "      <td>0.000000</td>\n",
       "      <td>0.000000</td>\n",
       "      <td>0.911111</td>\n",
       "    </tr>\n",
       "    <tr>\n",
       "      <th>21</th>\n",
       "      <td>6TUBGALub4mtanT3rrvgztKmyViZcUpJ5bn/1R5jaPE=</td>\n",
       "      <td>20170318</td>\n",
       "      <td>0.446809</td>\n",
       "      <td>0.148936</td>\n",
       "      <td>0.000000</td>\n",
       "      <td>0.000000</td>\n",
       "      <td>0.404255</td>\n",
       "    </tr>\n",
       "    <tr>\n",
       "      <th>22</th>\n",
       "      <td>MP3mnG9WcBVvToAfUT/ArhdyZ4SqEfnG3Ab/XsZF1jw=</td>\n",
       "      <td>20170318</td>\n",
       "      <td>0.191176</td>\n",
       "      <td>0.029412</td>\n",
       "      <td>0.044118</td>\n",
       "      <td>0.044118</td>\n",
       "      <td>0.691176</td>\n",
       "    </tr>\n",
       "    <tr>\n",
       "      <th>23</th>\n",
       "      <td>HlAmwB3IHrDG4ViLtgggCLZOodjpFxLRTFIide0Q0RI=</td>\n",
       "      <td>20170318</td>\n",
       "      <td>0.444444</td>\n",
       "      <td>0.010101</td>\n",
       "      <td>0.000000</td>\n",
       "      <td>0.020202</td>\n",
       "      <td>0.525253</td>\n",
       "    </tr>\n",
       "    <tr>\n",
       "      <th>24</th>\n",
       "      <td>1x5QHqWV6tTSqoVAQ1rX0lveYhkgLISDczHtibAIQxs=</td>\n",
       "      <td>20170318</td>\n",
       "      <td>0.142857</td>\n",
       "      <td>0.000000</td>\n",
       "      <td>0.000000</td>\n",
       "      <td>0.095238</td>\n",
       "      <td>0.761905</td>\n",
       "    </tr>\n",
       "    <tr>\n",
       "      <th>25</th>\n",
       "      <td>xZmokPACIvbzXoCrwp+nxnB3SLiLLT+QnFy6ZOYofLE=</td>\n",
       "      <td>20170318</td>\n",
       "      <td>0.000000</td>\n",
       "      <td>0.043478</td>\n",
       "      <td>0.000000</td>\n",
       "      <td>0.000000</td>\n",
       "      <td>0.956522</td>\n",
       "    </tr>\n",
       "    <tr>\n",
       "      <th>26</th>\n",
       "      <td>8CqUdcMrqjWnGSlDcJPySyOjQn3UALKPq+nqBNwhrAw=</td>\n",
       "      <td>20170318</td>\n",
       "      <td>0.022989</td>\n",
       "      <td>0.011494</td>\n",
       "      <td>0.000000</td>\n",
       "      <td>0.000000</td>\n",
       "      <td>0.965517</td>\n",
       "    </tr>\n",
       "    <tr>\n",
       "      <th>27</th>\n",
       "      <td>azWX70ixfwJqo5yIbjFmG8TG8wMpAwdL0SFu9B9uzMo=</td>\n",
       "      <td>20170318</td>\n",
       "      <td>0.065217</td>\n",
       "      <td>0.043478</td>\n",
       "      <td>0.021739</td>\n",
       "      <td>0.021739</td>\n",
       "      <td>0.847826</td>\n",
       "    </tr>\n",
       "    <tr>\n",
       "      <th>28</th>\n",
       "      <td>0h/f+mzEXO0nt5dZRZJQHfe8Du8tY8eQnmoN2GGuNYI=</td>\n",
       "      <td>20170318</td>\n",
       "      <td>0.200000</td>\n",
       "      <td>0.000000</td>\n",
       "      <td>0.000000</td>\n",
       "      <td>0.066667</td>\n",
       "      <td>0.733333</td>\n",
       "    </tr>\n",
       "    <tr>\n",
       "      <th>29</th>\n",
       "      <td>9Ok7Pg4TEjBi11/UCYzTvjpKUbSIqnEeMqHd2LjUlFs=</td>\n",
       "      <td>20170318</td>\n",
       "      <td>0.257143</td>\n",
       "      <td>0.000000</td>\n",
       "      <td>0.000000</td>\n",
       "      <td>0.000000</td>\n",
       "      <td>0.742857</td>\n",
       "    </tr>\n",
       "    <tr>\n",
       "      <th>...</th>\n",
       "      <td>...</td>\n",
       "      <td>...</td>\n",
       "      <td>...</td>\n",
       "      <td>...</td>\n",
       "      <td>...</td>\n",
       "      <td>...</td>\n",
       "      <td>...</td>\n",
       "    </tr>\n",
       "    <tr>\n",
       "      <th>4970</th>\n",
       "      <td>qvv784QSF1BXHihLCpErUzBB7XGqDMIBx0KTS34l1/E=</td>\n",
       "      <td>20170310</td>\n",
       "      <td>0.833333</td>\n",
       "      <td>0.166667</td>\n",
       "      <td>0.000000</td>\n",
       "      <td>0.000000</td>\n",
       "      <td>0.000000</td>\n",
       "    </tr>\n",
       "    <tr>\n",
       "      <th>4971</th>\n",
       "      <td>U8kRXBiKDKBzYysz60TsTBYYWxUIG9fsbJfobgxH3ro=</td>\n",
       "      <td>20170310</td>\n",
       "      <td>0.230769</td>\n",
       "      <td>0.000000</td>\n",
       "      <td>0.000000</td>\n",
       "      <td>0.000000</td>\n",
       "      <td>0.769231</td>\n",
       "    </tr>\n",
       "    <tr>\n",
       "      <th>4972</th>\n",
       "      <td>3vwT0KDgHL3beB/b6MUKLoG7xFcs+H1843AoTdYm7Uc=</td>\n",
       "      <td>20170310</td>\n",
       "      <td>0.153846</td>\n",
       "      <td>0.102564</td>\n",
       "      <td>0.076923</td>\n",
       "      <td>0.000000</td>\n",
       "      <td>0.666667</td>\n",
       "    </tr>\n",
       "    <tr>\n",
       "      <th>4973</th>\n",
       "      <td>IlDgJGmuOkkpIuSr+GNrCbwBKPhCygS+DJwwpp/SZbA=</td>\n",
       "      <td>20170312</td>\n",
       "      <td>0.000000</td>\n",
       "      <td>0.000000</td>\n",
       "      <td>0.000000</td>\n",
       "      <td>0.000000</td>\n",
       "      <td>1.000000</td>\n",
       "    </tr>\n",
       "    <tr>\n",
       "      <th>4974</th>\n",
       "      <td>lpbv/hiJkpq1Ax5ZcF65jjp0BDkRXITsUjg54hdWoDk=</td>\n",
       "      <td>20170312</td>\n",
       "      <td>0.033708</td>\n",
       "      <td>0.000000</td>\n",
       "      <td>0.000000</td>\n",
       "      <td>0.000000</td>\n",
       "      <td>0.966292</td>\n",
       "    </tr>\n",
       "    <tr>\n",
       "      <th>4975</th>\n",
       "      <td>qYjPApM4HnfxqfQTmlBI922UNLMUDXXgcu80N08J26I=</td>\n",
       "      <td>20170310</td>\n",
       "      <td>0.065217</td>\n",
       "      <td>0.021739</td>\n",
       "      <td>0.000000</td>\n",
       "      <td>0.000000</td>\n",
       "      <td>0.913043</td>\n",
       "    </tr>\n",
       "    <tr>\n",
       "      <th>4976</th>\n",
       "      <td>mOKEo4b+djJVRYOPzDgGsrC630++9kBjGl+uYXOoJBQ=</td>\n",
       "      <td>20170312</td>\n",
       "      <td>0.200000</td>\n",
       "      <td>0.000000</td>\n",
       "      <td>0.000000</td>\n",
       "      <td>0.600000</td>\n",
       "      <td>0.200000</td>\n",
       "    </tr>\n",
       "    <tr>\n",
       "      <th>4977</th>\n",
       "      <td>ypLH8Gtx2Vv/TXuIVbsLKpl4FgwwV46ferqODxeSjtE=</td>\n",
       "      <td>20170322</td>\n",
       "      <td>0.531250</td>\n",
       "      <td>0.000000</td>\n",
       "      <td>0.000000</td>\n",
       "      <td>0.062500</td>\n",
       "      <td>0.406250</td>\n",
       "    </tr>\n",
       "    <tr>\n",
       "      <th>4978</th>\n",
       "      <td>AnA+hHNb9+6x97J0P73at+nBvmXQBnEeTwGkOwbH74s=</td>\n",
       "      <td>20170330</td>\n",
       "      <td>0.297872</td>\n",
       "      <td>0.042553</td>\n",
       "      <td>0.021277</td>\n",
       "      <td>0.063830</td>\n",
       "      <td>0.574468</td>\n",
       "    </tr>\n",
       "    <tr>\n",
       "      <th>4979</th>\n",
       "      <td>/wj6r8HY0wFs7lgBdyq/SwYs7Wk0mZh4Rcv3GUlNmTw=</td>\n",
       "      <td>20170330</td>\n",
       "      <td>0.000000</td>\n",
       "      <td>0.000000</td>\n",
       "      <td>0.000000</td>\n",
       "      <td>0.000000</td>\n",
       "      <td>1.000000</td>\n",
       "    </tr>\n",
       "    <tr>\n",
       "      <th>4980</th>\n",
       "      <td>wIkI4AhiCeIBYxpCwJZggZyjl5o+4D6sNon6c4GLYNA=</td>\n",
       "      <td>20170329</td>\n",
       "      <td>0.277778</td>\n",
       "      <td>0.000000</td>\n",
       "      <td>0.083333</td>\n",
       "      <td>0.138889</td>\n",
       "      <td>0.500000</td>\n",
       "    </tr>\n",
       "    <tr>\n",
       "      <th>4981</th>\n",
       "      <td>e76gEBQ6urjtdLOmoDKWe3BPvpkvKEKtVAVOAtI7RxY=</td>\n",
       "      <td>20170304</td>\n",
       "      <td>0.300000</td>\n",
       "      <td>0.050000</td>\n",
       "      <td>0.000000</td>\n",
       "      <td>0.025000</td>\n",
       "      <td>0.625000</td>\n",
       "    </tr>\n",
       "    <tr>\n",
       "      <th>4982</th>\n",
       "      <td>BEslKfAnYXZPCDX0FwlyUQpgR1i0u4LO5NRMn27tSBk=</td>\n",
       "      <td>20170329</td>\n",
       "      <td>0.200000</td>\n",
       "      <td>0.000000</td>\n",
       "      <td>0.000000</td>\n",
       "      <td>0.000000</td>\n",
       "      <td>0.800000</td>\n",
       "    </tr>\n",
       "    <tr>\n",
       "      <th>4983</th>\n",
       "      <td>bERdWIQSpXrnBKGGzJfS2609buMMVH+ypXUat9Q2+1M=</td>\n",
       "      <td>20170322</td>\n",
       "      <td>0.000000</td>\n",
       "      <td>0.500000</td>\n",
       "      <td>0.000000</td>\n",
       "      <td>0.000000</td>\n",
       "      <td>0.500000</td>\n",
       "    </tr>\n",
       "    <tr>\n",
       "      <th>4984</th>\n",
       "      <td>Z9s6EWXcwUvvZdKpdVdhiKq1LiZGlFnbb4npRE5wZQY=</td>\n",
       "      <td>20170322</td>\n",
       "      <td>0.383333</td>\n",
       "      <td>0.016667</td>\n",
       "      <td>0.016667</td>\n",
       "      <td>0.016667</td>\n",
       "      <td>0.566667</td>\n",
       "    </tr>\n",
       "    <tr>\n",
       "      <th>4985</th>\n",
       "      <td>HbCNj27V1tKc4aIZsSCW4Sl8K21c71pKTJL0WBupBGA=</td>\n",
       "      <td>20170322</td>\n",
       "      <td>0.190476</td>\n",
       "      <td>0.000000</td>\n",
       "      <td>0.000000</td>\n",
       "      <td>0.000000</td>\n",
       "      <td>0.809524</td>\n",
       "    </tr>\n",
       "    <tr>\n",
       "      <th>4986</th>\n",
       "      <td>LZJbTA+c02L8dXNfFaFbJZV+ypzIxQXP4G+1y981gsY=</td>\n",
       "      <td>20170321</td>\n",
       "      <td>0.000000</td>\n",
       "      <td>0.000000</td>\n",
       "      <td>0.000000</td>\n",
       "      <td>0.000000</td>\n",
       "      <td>1.000000</td>\n",
       "    </tr>\n",
       "    <tr>\n",
       "      <th>4987</th>\n",
       "      <td>6HemZkiSlvozCCzaYpm7Z949msa+lBG8xKa+VpICz9w=</td>\n",
       "      <td>20170322</td>\n",
       "      <td>0.233333</td>\n",
       "      <td>0.100000</td>\n",
       "      <td>0.066667</td>\n",
       "      <td>0.000000</td>\n",
       "      <td>0.600000</td>\n",
       "    </tr>\n",
       "    <tr>\n",
       "      <th>4988</th>\n",
       "      <td>+2dRw14eM5Q5ahZY9moZRF6KDbccmm1cntTCHYdiAvo=</td>\n",
       "      <td>20170318</td>\n",
       "      <td>0.150000</td>\n",
       "      <td>0.025000</td>\n",
       "      <td>0.025000</td>\n",
       "      <td>0.125000</td>\n",
       "      <td>0.675000</td>\n",
       "    </tr>\n",
       "    <tr>\n",
       "      <th>4989</th>\n",
       "      <td>1ssnaFtS5+GVIgjy3kAuPR55DBLSaQAN+mDDLcvF6qM=</td>\n",
       "      <td>20170317</td>\n",
       "      <td>0.333333</td>\n",
       "      <td>0.000000</td>\n",
       "      <td>0.000000</td>\n",
       "      <td>0.000000</td>\n",
       "      <td>0.666667</td>\n",
       "    </tr>\n",
       "    <tr>\n",
       "      <th>4990</th>\n",
       "      <td>r46FbBuByJv/4YzoFG1Bn40zUkSsEUsYZhIj1W2I6z4=</td>\n",
       "      <td>20170317</td>\n",
       "      <td>0.000000</td>\n",
       "      <td>0.000000</td>\n",
       "      <td>0.000000</td>\n",
       "      <td>0.000000</td>\n",
       "      <td>1.000000</td>\n",
       "    </tr>\n",
       "    <tr>\n",
       "      <th>4991</th>\n",
       "      <td>XmC2a1zxX0MOB27AzAo1g0fHRZ+rOXRoAnOmrwnTXgw=</td>\n",
       "      <td>20170323</td>\n",
       "      <td>0.250000</td>\n",
       "      <td>0.000000</td>\n",
       "      <td>0.000000</td>\n",
       "      <td>0.125000</td>\n",
       "      <td>0.625000</td>\n",
       "    </tr>\n",
       "    <tr>\n",
       "      <th>4992</th>\n",
       "      <td>nPPEnpzQkdri5Y3N1XpC4Lm6lfC9VRJ3QWt1Mq9ey0k=</td>\n",
       "      <td>20170322</td>\n",
       "      <td>0.608696</td>\n",
       "      <td>0.043478</td>\n",
       "      <td>0.086957</td>\n",
       "      <td>0.130435</td>\n",
       "      <td>0.130435</td>\n",
       "    </tr>\n",
       "    <tr>\n",
       "      <th>4993</th>\n",
       "      <td>KWB2Q9AfmxGEaFH2nRBR/Dj3xyjWft/4+sZ9cqSpzfE=</td>\n",
       "      <td>20170321</td>\n",
       "      <td>0.022222</td>\n",
       "      <td>0.066667</td>\n",
       "      <td>0.000000</td>\n",
       "      <td>0.000000</td>\n",
       "      <td>0.911111</td>\n",
       "    </tr>\n",
       "    <tr>\n",
       "      <th>4994</th>\n",
       "      <td>5lssKlcHhUV2buyQqlEf7hZ0yNQ4cshyHmJaLZ0EQWs=</td>\n",
       "      <td>20170325</td>\n",
       "      <td>0.657143</td>\n",
       "      <td>0.000000</td>\n",
       "      <td>0.000000</td>\n",
       "      <td>0.028571</td>\n",
       "      <td>0.314286</td>\n",
       "    </tr>\n",
       "    <tr>\n",
       "      <th>4995</th>\n",
       "      <td>2MzrH7nuQERP2JkgBJ9gTnHFRSnt9D/pKfgeOOh8ecI=</td>\n",
       "      <td>20170321</td>\n",
       "      <td>0.333333</td>\n",
       "      <td>0.166667</td>\n",
       "      <td>0.000000</td>\n",
       "      <td>0.000000</td>\n",
       "      <td>0.500000</td>\n",
       "    </tr>\n",
       "    <tr>\n",
       "      <th>4996</th>\n",
       "      <td>vbbySSeRzIuVKLDAXWqJrg3RTUgDzlxjYbAp0yHsXJs=</td>\n",
       "      <td>20170311</td>\n",
       "      <td>0.111111</td>\n",
       "      <td>0.000000</td>\n",
       "      <td>0.000000</td>\n",
       "      <td>0.000000</td>\n",
       "      <td>0.888889</td>\n",
       "    </tr>\n",
       "    <tr>\n",
       "      <th>4997</th>\n",
       "      <td>qvSIs11U2o+sijWDvawatiCGP7vqhsl+gycqOswp+2U=</td>\n",
       "      <td>20170321</td>\n",
       "      <td>0.090909</td>\n",
       "      <td>0.000000</td>\n",
       "      <td>0.000000</td>\n",
       "      <td>0.000000</td>\n",
       "      <td>0.909091</td>\n",
       "    </tr>\n",
       "    <tr>\n",
       "      <th>4998</th>\n",
       "      <td>vg6/KbEBePOKak2TB5ZMH3iZYTyNVNWvSKW0fYNikBw=</td>\n",
       "      <td>20170325</td>\n",
       "      <td>0.000000</td>\n",
       "      <td>0.000000</td>\n",
       "      <td>0.047619</td>\n",
       "      <td>0.000000</td>\n",
       "      <td>0.952381</td>\n",
       "    </tr>\n",
       "    <tr>\n",
       "      <th>4999</th>\n",
       "      <td>hHePC3SYY14I6kcx05BybehhqnXaapTE4z6sfkXbPeQ=</td>\n",
       "      <td>20170317</td>\n",
       "      <td>0.090909</td>\n",
       "      <td>0.000000</td>\n",
       "      <td>0.000000</td>\n",
       "      <td>0.000000</td>\n",
       "      <td>0.909091</td>\n",
       "    </tr>\n",
       "  </tbody>\n",
       "</table>\n",
       "<p>5000 rows × 7 columns</p>\n",
       "</div>"
      ],
      "text/plain": [
       "                                              msno      date    num_25  \\\n",
       "0     u9E91QDTvHLq6NXjEaWv8u4QIqhrHk72kE+w31Gnhdg=  20170331  0.235294   \n",
       "1     nTeWW/eOZA/UHKdD5L7DEqKKFTjaAj3ALLPoAWsU8n0=  20170330  0.142857   \n",
       "2     2UqkWXwZbIjs03dHLU9KHJNNEvEkZVzm69f3jCS+uLI=  20170331  0.353741   \n",
       "3     ycwLc+m2O0a85jSLALtr941AaZt9ai8Qwlg9n0Nql5U=  20170331  0.866995   \n",
       "4     EGcbTofOSOkMmQyN1NMLxHEXJ1yV3t/JdhGwQ9wXjnI=  20170331  0.017241   \n",
       "5     qR/ndQ5B+1cY+c9ihwLoiz+RFiqEnGyQKo32ZErEVKo=  20170331  0.071429   \n",
       "6     N6ch5ArfJixq9mvARJv9ip1D11uvDVazz6Qup5mX7DI=  20170330  0.321429   \n",
       "7     JEjl2W1ivEI6epeobW3n5rDg/r6PJm4OJhtmhwYaQIc=  20170331  0.581994   \n",
       "8     lPK4IYIFdfTT6pq7x2dSV1Vy9j9hNMWzf7XfYBUBz5E=  20170331  0.016129   \n",
       "9     cDgnvwQwCwru2m3zcSuK5oTr6pr1nMPQ/6RerOmxrs0=  20170331  0.121951   \n",
       "10    Cwk7eMLB8Gn8WuzECC2i/GboGXOfkGhS8ju6Brrk2F8=  20170331  0.081395   \n",
       "11    6eT/NGMljpNgEeqTYIdhkc/dvUik+b+41sBNrXJ0cBQ=  20170324  0.812500   \n",
       "12    PVoh0C3fQb1qPNLj7SZ0fKzFC8kStQ/uT2bV358G/1E=  20170325  0.132075   \n",
       "13    cK5XYJqbmsRYasnA48AkJzUna8Ijge8wAp/r3Is/N10=  20170324  0.055556   \n",
       "14    zv12NEuyP2XxcgTDu89mGnPLdnfq8xhBY4jQl8JYLxk=  20170325  0.111111   \n",
       "15    NCRcE4eNurBdOoRk0m+hwDz94xBN6+KL5PTwen4hmWU=  20170325  0.220994   \n",
       "16    q5iH4iDmaFeyz2ZhvQsWlwzhfMhL98chdm4usnV4Ugk=  20170324  0.046512   \n",
       "17    dgjSYdCsI6j51myzxWAdm9jebVRsdgbsvwGcigEUv+U=  20170325  0.018634   \n",
       "18    Q6XdUeVvsXNF/7o0IjPbcSg6dCsFlsRsdGLuiT5UIiI=  20170318  0.007194   \n",
       "19    TWrqEpm0U75ZWW6CHzdp3hVDE7WCQLBX4czgXMvyldY=  20170317  0.092784   \n",
       "20    IXGl03MIJlMcJi2OQX2uIsL6MOpQGmmbs0gv8hHya0g=  20170317  0.088889   \n",
       "21    6TUBGALub4mtanT3rrvgztKmyViZcUpJ5bn/1R5jaPE=  20170318  0.446809   \n",
       "22    MP3mnG9WcBVvToAfUT/ArhdyZ4SqEfnG3Ab/XsZF1jw=  20170318  0.191176   \n",
       "23    HlAmwB3IHrDG4ViLtgggCLZOodjpFxLRTFIide0Q0RI=  20170318  0.444444   \n",
       "24    1x5QHqWV6tTSqoVAQ1rX0lveYhkgLISDczHtibAIQxs=  20170318  0.142857   \n",
       "25    xZmokPACIvbzXoCrwp+nxnB3SLiLLT+QnFy6ZOYofLE=  20170318  0.000000   \n",
       "26    8CqUdcMrqjWnGSlDcJPySyOjQn3UALKPq+nqBNwhrAw=  20170318  0.022989   \n",
       "27    azWX70ixfwJqo5yIbjFmG8TG8wMpAwdL0SFu9B9uzMo=  20170318  0.065217   \n",
       "28    0h/f+mzEXO0nt5dZRZJQHfe8Du8tY8eQnmoN2GGuNYI=  20170318  0.200000   \n",
       "29    9Ok7Pg4TEjBi11/UCYzTvjpKUbSIqnEeMqHd2LjUlFs=  20170318  0.257143   \n",
       "...                                            ...       ...       ...   \n",
       "4970  qvv784QSF1BXHihLCpErUzBB7XGqDMIBx0KTS34l1/E=  20170310  0.833333   \n",
       "4971  U8kRXBiKDKBzYysz60TsTBYYWxUIG9fsbJfobgxH3ro=  20170310  0.230769   \n",
       "4972  3vwT0KDgHL3beB/b6MUKLoG7xFcs+H1843AoTdYm7Uc=  20170310  0.153846   \n",
       "4973  IlDgJGmuOkkpIuSr+GNrCbwBKPhCygS+DJwwpp/SZbA=  20170312  0.000000   \n",
       "4974  lpbv/hiJkpq1Ax5ZcF65jjp0BDkRXITsUjg54hdWoDk=  20170312  0.033708   \n",
       "4975  qYjPApM4HnfxqfQTmlBI922UNLMUDXXgcu80N08J26I=  20170310  0.065217   \n",
       "4976  mOKEo4b+djJVRYOPzDgGsrC630++9kBjGl+uYXOoJBQ=  20170312  0.200000   \n",
       "4977  ypLH8Gtx2Vv/TXuIVbsLKpl4FgwwV46ferqODxeSjtE=  20170322  0.531250   \n",
       "4978  AnA+hHNb9+6x97J0P73at+nBvmXQBnEeTwGkOwbH74s=  20170330  0.297872   \n",
       "4979  /wj6r8HY0wFs7lgBdyq/SwYs7Wk0mZh4Rcv3GUlNmTw=  20170330  0.000000   \n",
       "4980  wIkI4AhiCeIBYxpCwJZggZyjl5o+4D6sNon6c4GLYNA=  20170329  0.277778   \n",
       "4981  e76gEBQ6urjtdLOmoDKWe3BPvpkvKEKtVAVOAtI7RxY=  20170304  0.300000   \n",
       "4982  BEslKfAnYXZPCDX0FwlyUQpgR1i0u4LO5NRMn27tSBk=  20170329  0.200000   \n",
       "4983  bERdWIQSpXrnBKGGzJfS2609buMMVH+ypXUat9Q2+1M=  20170322  0.000000   \n",
       "4984  Z9s6EWXcwUvvZdKpdVdhiKq1LiZGlFnbb4npRE5wZQY=  20170322  0.383333   \n",
       "4985  HbCNj27V1tKc4aIZsSCW4Sl8K21c71pKTJL0WBupBGA=  20170322  0.190476   \n",
       "4986  LZJbTA+c02L8dXNfFaFbJZV+ypzIxQXP4G+1y981gsY=  20170321  0.000000   \n",
       "4987  6HemZkiSlvozCCzaYpm7Z949msa+lBG8xKa+VpICz9w=  20170322  0.233333   \n",
       "4988  +2dRw14eM5Q5ahZY9moZRF6KDbccmm1cntTCHYdiAvo=  20170318  0.150000   \n",
       "4989  1ssnaFtS5+GVIgjy3kAuPR55DBLSaQAN+mDDLcvF6qM=  20170317  0.333333   \n",
       "4990  r46FbBuByJv/4YzoFG1Bn40zUkSsEUsYZhIj1W2I6z4=  20170317  0.000000   \n",
       "4991  XmC2a1zxX0MOB27AzAo1g0fHRZ+rOXRoAnOmrwnTXgw=  20170323  0.250000   \n",
       "4992  nPPEnpzQkdri5Y3N1XpC4Lm6lfC9VRJ3QWt1Mq9ey0k=  20170322  0.608696   \n",
       "4993  KWB2Q9AfmxGEaFH2nRBR/Dj3xyjWft/4+sZ9cqSpzfE=  20170321  0.022222   \n",
       "4994  5lssKlcHhUV2buyQqlEf7hZ0yNQ4cshyHmJaLZ0EQWs=  20170325  0.657143   \n",
       "4995  2MzrH7nuQERP2JkgBJ9gTnHFRSnt9D/pKfgeOOh8ecI=  20170321  0.333333   \n",
       "4996  vbbySSeRzIuVKLDAXWqJrg3RTUgDzlxjYbAp0yHsXJs=  20170311  0.111111   \n",
       "4997  qvSIs11U2o+sijWDvawatiCGP7vqhsl+gycqOswp+2U=  20170321  0.090909   \n",
       "4998  vg6/KbEBePOKak2TB5ZMH3iZYTyNVNWvSKW0fYNikBw=  20170325  0.000000   \n",
       "4999  hHePC3SYY14I6kcx05BybehhqnXaapTE4z6sfkXbPeQ=  20170317  0.090909   \n",
       "\n",
       "        num_50    num_75   num_985   num_100  \n",
       "0     0.117647  0.000000  0.029412  0.617647  \n",
       "1     0.142857  0.071429  0.000000  0.642857  \n",
       "2     0.020408  0.034014  0.020408  0.571429  \n",
       "3     0.019704  0.009852  0.009852  0.093596  \n",
       "4     0.008621  0.000000  0.008621  0.965517  \n",
       "5     0.000000  0.000000  0.000000  0.928571  \n",
       "6     0.035714  0.000000  0.000000  0.642857  \n",
       "7     0.218650  0.016077  0.009646  0.173633  \n",
       "8     0.000000  0.005376  0.005376  0.973118  \n",
       "9     0.097561  0.024390  0.024390  0.731707  \n",
       "10    0.011628  0.023256  0.081395  0.802326  \n",
       "11    0.052083  0.031250  0.020833  0.083333  \n",
       "12    0.018868  0.000000  0.000000  0.849057  \n",
       "13    0.000000  0.000000  0.000000  0.944444  \n",
       "14    0.066667  0.044444  0.022222  0.755556  \n",
       "15    0.033149  0.011050  0.011050  0.723757  \n",
       "16    0.023256  0.000000  0.011628  0.918605  \n",
       "17    0.006211  0.000000  0.012422  0.962733  \n",
       "18    0.007194  0.007194  0.000000  0.978417  \n",
       "19    0.005155  0.010309  0.015464  0.876289  \n",
       "20    0.000000  0.000000  0.000000  0.911111  \n",
       "21    0.148936  0.000000  0.000000  0.404255  \n",
       "22    0.029412  0.044118  0.044118  0.691176  \n",
       "23    0.010101  0.000000  0.020202  0.525253  \n",
       "24    0.000000  0.000000  0.095238  0.761905  \n",
       "25    0.043478  0.000000  0.000000  0.956522  \n",
       "26    0.011494  0.000000  0.000000  0.965517  \n",
       "27    0.043478  0.021739  0.021739  0.847826  \n",
       "28    0.000000  0.000000  0.066667  0.733333  \n",
       "29    0.000000  0.000000  0.000000  0.742857  \n",
       "...        ...       ...       ...       ...  \n",
       "4970  0.166667  0.000000  0.000000  0.000000  \n",
       "4971  0.000000  0.000000  0.000000  0.769231  \n",
       "4972  0.102564  0.076923  0.000000  0.666667  \n",
       "4973  0.000000  0.000000  0.000000  1.000000  \n",
       "4974  0.000000  0.000000  0.000000  0.966292  \n",
       "4975  0.021739  0.000000  0.000000  0.913043  \n",
       "4976  0.000000  0.000000  0.600000  0.200000  \n",
       "4977  0.000000  0.000000  0.062500  0.406250  \n",
       "4978  0.042553  0.021277  0.063830  0.574468  \n",
       "4979  0.000000  0.000000  0.000000  1.000000  \n",
       "4980  0.000000  0.083333  0.138889  0.500000  \n",
       "4981  0.050000  0.000000  0.025000  0.625000  \n",
       "4982  0.000000  0.000000  0.000000  0.800000  \n",
       "4983  0.500000  0.000000  0.000000  0.500000  \n",
       "4984  0.016667  0.016667  0.016667  0.566667  \n",
       "4985  0.000000  0.000000  0.000000  0.809524  \n",
       "4986  0.000000  0.000000  0.000000  1.000000  \n",
       "4987  0.100000  0.066667  0.000000  0.600000  \n",
       "4988  0.025000  0.025000  0.125000  0.675000  \n",
       "4989  0.000000  0.000000  0.000000  0.666667  \n",
       "4990  0.000000  0.000000  0.000000  1.000000  \n",
       "4991  0.000000  0.000000  0.125000  0.625000  \n",
       "4992  0.043478  0.086957  0.130435  0.130435  \n",
       "4993  0.066667  0.000000  0.000000  0.911111  \n",
       "4994  0.000000  0.000000  0.028571  0.314286  \n",
       "4995  0.166667  0.000000  0.000000  0.500000  \n",
       "4996  0.000000  0.000000  0.000000  0.888889  \n",
       "4997  0.000000  0.000000  0.000000  0.909091  \n",
       "4998  0.000000  0.047619  0.000000  0.952381  \n",
       "4999  0.000000  0.000000  0.000000  0.909091  \n",
       "\n",
       "[5000 rows x 7 columns]"
      ]
     },
     "execution_count": 31,
     "metadata": {},
     "output_type": "execute_result"
    }
   ],
   "source": [
    "col = ['msno','date','num_25','num_50','num_75','num_985','num_100']\n",
    "df = user_logs[col]\n",
    "#df.div(df.sum(axis=1), axis=0)\n",
    "df.loc[:,\"num_25\":\"num_100\"] = df.loc[:,\"num_25\":\"num_100\"].div(df.loc[:,\"num_25\":\"num_100\"].sum(axis=1), axis=0)\n",
    "df"
   ]
  },
  {
   "cell_type": "markdown",
   "metadata": {},
   "source": [
    "# number of repeated songs"
   ]
  },
  {
   "cell_type": "code",
   "execution_count": 15,
   "metadata": {},
   "outputs": [],
   "source": [
    "def num_repeated_songs(x):\n",
    "    x['num_repeated_songs'] = (x.num_100 + x.num_985 + x.num_75) / x.num_unq\n",
    "    return x\n",
    "user_logs = user_logs.apply(num_repeated_songs, axis = 1)"
   ]
  },
  {
   "cell_type": "code",
   "execution_count": null,
   "metadata": {
    "collapsed": true
   },
   "outputs": [],
   "source": []
  },
  {
   "cell_type": "markdown",
   "metadata": {},
   "source": [
    "# Personal Analysis"
   ]
  },
  {
   "cell_type": "code",
   "execution_count": 32,
   "metadata": {},
   "outputs": [],
   "source": [
    "df = user_logs[user_logs.msno == '+++IZseRRiQS9aaSkH6cMYU6bGDcxUieAi/tH67sC5s=']"
   ]
  },
  {
   "cell_type": "markdown",
   "metadata": {},
   "source": [
    "# 此消費者是連續每天都聽麼, 還是隔幾天聽 (Duration of Membership) [時間差的feature]"
   ]
  },
  {
   "cell_type": "code",
   "execution_count": 33,
   "metadata": {},
   "outputs": [
    {
     "data": {
      "text/html": [
       "<div>\n",
       "<style scoped>\n",
       "    .dataframe tbody tr th:only-of-type {\n",
       "        vertical-align: middle;\n",
       "    }\n",
       "\n",
       "    .dataframe tbody tr th {\n",
       "        vertical-align: top;\n",
       "    }\n",
       "\n",
       "    .dataframe thead th {\n",
       "        text-align: right;\n",
       "    }\n",
       "</style>\n",
       "<table border=\"1\" class=\"dataframe\">\n",
       "  <thead>\n",
       "    <tr style=\"text-align: right;\">\n",
       "      <th></th>\n",
       "      <th>msno</th>\n",
       "      <th>date</th>\n",
       "      <th>num_25</th>\n",
       "      <th>num_50</th>\n",
       "      <th>num_75</th>\n",
       "      <th>num_985</th>\n",
       "      <th>num_100</th>\n",
       "      <th>num_unq</th>\n",
       "      <th>total_secs</th>\n",
       "    </tr>\n",
       "  </thead>\n",
       "  <tbody>\n",
       "  </tbody>\n",
       "</table>\n",
       "</div>"
      ],
      "text/plain": [
       "Empty DataFrame\n",
       "Columns: [msno, date, num_25, num_50, num_75, num_985, num_100, num_unq, total_secs]\n",
       "Index: []"
      ]
     },
     "execution_count": 33,
     "metadata": {},
     "output_type": "execute_result"
    }
   ],
   "source": [
    "df"
   ]
  },
  {
   "cell_type": "code",
   "execution_count": null,
   "metadata": {
    "collapsed": true
   },
   "outputs": [],
   "source": []
  },
  {
   "cell_type": "code",
   "execution_count": null,
   "metadata": {
    "collapsed": true
   },
   "outputs": [],
   "source": []
  },
  {
   "cell_type": "code",
   "execution_count": null,
   "metadata": {
    "collapsed": true
   },
   "outputs": [],
   "source": []
  },
  {
   "cell_type": "code",
   "execution_count": null,
   "metadata": {
    "collapsed": true
   },
   "outputs": [],
   "source": []
  },
  {
   "cell_type": "code",
   "execution_count": null,
   "metadata": {
    "collapsed": true
   },
   "outputs": [],
   "source": []
  },
  {
   "cell_type": "markdown",
   "metadata": {},
   "source": [
    "# range of date"
   ]
  },
  {
   "cell_type": "code",
   "execution_count": 15,
   "metadata": {},
   "outputs": [
    {
     "data": {
      "text/plain": [
       "array([20170301, 20170302, 20170303, 20170304, 20170305, 20170306,\n",
       "       20170307, 20170308, 20170309, 20170310, 20170311, 20170312,\n",
       "       20170313, 20170314, 20170315, 20170316, 20170317, 20170318,\n",
       "       20170319, 20170320, 20170321, 20170322, 20170323, 20170324,\n",
       "       20170325, 20170326, 20170327, 20170328, 20170329, 20170330, 20170331])"
      ]
     },
     "execution_count": 15,
     "metadata": {},
     "output_type": "execute_result"
    }
   ],
   "source": [
    "user_logs.sort_values(by = 'date').date.unique()"
   ]
  },
  {
   "cell_type": "code",
   "execution_count": 8,
   "metadata": {
    "collapsed": true
   },
   "outputs": [],
   "source": [
    "test = pd.read_csv('../input/sample_submission_v2.csv')"
   ]
  },
  {
   "cell_type": "code",
   "execution_count": 11,
   "metadata": {},
   "outputs": [
    {
     "name": "stdout",
     "output_type": "stream",
     "text": [
      "<class 'pandas.core.frame.DataFrame'>\n",
      "RangeIndex: 907471 entries, 0 to 907470\n",
      "Data columns (total 2 columns):\n",
      "msno        907471 non-null object\n",
      "is_churn    907471 non-null int64\n",
      "dtypes: int64(1), object(1)\n",
      "memory usage: 13.8+ MB\n"
     ]
    }
   ],
   "source": [
    "test.info()"
   ]
  },
  {
   "cell_type": "markdown",
   "metadata": {},
   "source": [
    "# test中哪些user不再user_logs_v2中:總共有207242"
   ]
  },
  {
   "cell_type": "code",
   "execution_count": 15,
   "metadata": {},
   "outputs": [
    {
     "data": {
      "text/plain": [
       "(207242, 2)"
      ]
     },
     "execution_count": 15,
     "metadata": {},
     "output_type": "execute_result"
    }
   ],
   "source": [
    "test[~test.msno.isin(user_logs.msno)].shape # test中哪些user不再user_logs_v2中:總共有207242\n"
   ]
  },
  {
   "cell_type": "code",
   "execution_count": 13,
   "metadata": {
    "collapsed": true
   },
   "outputs": [],
   "source": [
    "train = pd.read_csv('../input/train_v2.csv')"
   ]
  },
  {
   "cell_type": "code",
   "execution_count": 31,
   "metadata": {},
   "outputs": [
    {
     "data": {
      "text/plain": [
       "True"
      ]
     },
     "execution_count": 31,
     "metadata": {},
     "output_type": "execute_result"
    }
   ],
   "source": [
    "type(train.as_matrix()) == type(train.values)"
   ]
  },
  {
   "cell_type": "markdown",
   "metadata": {},
   "source": [
    "# train中哪些user再user_logs_v2中:總共有754551"
   ]
  },
  {
   "cell_type": "code",
   "execution_count": 16,
   "metadata": {},
   "outputs": [
    {
     "data": {
      "text/plain": [
       "(754551, 2)"
      ]
     },
     "execution_count": 16,
     "metadata": {},
     "output_type": "execute_result"
    }
   ],
   "source": [
    "train[train.msno.isin(user_logs.msno)].shape"
   ]
  },
  {
   "cell_type": "markdown",
   "metadata": {
    "collapsed": true
   },
   "source": [
    "# The same user may appear in different output files."
   ]
  },
  {
   "cell_type": "code",
   "execution_count": null,
   "metadata": {
    "collapsed": true
   },
   "outputs": [],
   "source": [
    "##################################################\n",
    "# Load user_logs \n",
    "##################################################\n",
    "user_logs = pd.read_csv('../input/user_logs.csv') # 392,106,544 rows --> nealy 400 millions rows"
   ]
  },
  {
   "cell_type": "markdown",
   "metadata": {},
   "source": [
    "# splitting user_logs"
   ]
  },
  {
   "cell_type": "code",
   "execution_count": 21,
   "metadata": {
    "collapsed": true
   },
   "outputs": [],
   "source": [
    "import sklearn \n",
    "import matplotlib\n",
    "import matplotlib.pyplot as plt\n",
    "\n"
   ]
  },
  {
   "cell_type": "code",
   "execution_count": 2,
   "metadata": {
    "collapsed": true
   },
   "outputs": [],
   "source": [
    "def load_user_logs():\n",
    "    # 切割user_logs\n",
    "    print(\"Loading training Data\")\n",
    "    train = pd.read_csv(\"../../input/train_v2.csv\")\n",
    "    #==============================================================================\n",
    "    print('reduce memory')\n",
    "    #==============================================================================\n",
    "    utils.reduce_memory(train)\n",
    "    print(\"Loading test Data\")\n",
    "    test = pd.read_csv(\"../../input/sample_submission_v2.csv\")\n",
    "    #==============================================================================\n",
    "    print('reduce memory')\n",
    "    #==============================================================================\n",
    "    utils.reduce_memory(test)\n",
    "\n",
    "    valid_msno = pd.concat([train, test])['msno'].as_matrix() # DataFrame.as_matrix()  == DataFrame.values\n",
    "    train = []\n",
    "    test = []\n",
    "    # chunksize=10,000,000\n",
    "    user_logs_iter = pd.read_csv(\"../../input/user_logs_v2.csv\", chunksize=1000000, \n",
    "                iterator=True, low_memory=False, parse_dates=['date']) # return a generator\n",
    "    user_logs = pd.DataFrame()\n",
    "    user_log_counts = pd.DataFrame() # for append DataFrame\n",
    "\n",
    "    i = 0\n",
    "    for df in user_logs_iter:\n",
    "        df = df[df['msno'].isin(valid_msno)] # 找出chunked_user_logs中msno有在valid_msno的dataframe\n",
    "        #==============================================================================\n",
    "        print('reduce memory')\n",
    "        #==============================================================================\n",
    "        utils.reduce_memory(df)\n",
    "        if i is 0: \n",
    "            user_logs = df\n",
    "            user_log_counts = pd.DataFrame(user_logs['msno'].value_counts().reset_index())\n",
    "            user_log_counts.columns = ['msno','logs_count']\n",
    "        else:\n",
    "            temp_user_log_counts = pd.DataFrame(df['msno'].value_counts().reset_index())\n",
    "            temp_user_log_counts.columns = ['msno','logs_count']\n",
    "            user_logs = pd.concat([user_logs, df])\n",
    "            user_log_counts = pd.concat([user_log_counts, temp_user_log_counts])\n",
    "        \n",
    "        user_logs = user_logs.groupby([\"msno\"], as_index=False)[\"num_25\", \"num_50\", \"num_75\", \"num_985\", \"num_100\", \"num_unq\", \"total_secs\"].sum()        \n",
    "        user_log_counts = user_log_counts.groupby([\"msno\"], as_index=False)[\"logs_count\"].sum()        \n",
    "\n",
    "        print(\"User Logs {} df: {}\".format(str(i), user_logs.shape))\n",
    "        print(\"User Log Counts {} df: {}\".format(str(i), user_log_counts.shape))     \n",
    "        i = i+1\n",
    "            \n",
    "    print(user_logs.shape)\n",
    "    user_logs = pd.merge(user_logs, user_log_counts, how='left', on='msno')\n",
    "    print(user_logs.shape)\n",
    "    \n",
    "    return user_logs\n",
    "\n",
    "## Suggest commenting out all logs except for the user_logs when fetching user logs\n",
    "## and vice versa\n",
    "def raw_daq():\n",
    "    print(\"Loading user Log Data\")\n",
    "    user_logs = load_user_logs() # call\n",
    "    print(\"User Logs set shape {}\".format(user_logs.shape))\n",
    "    # write\n",
    "    path = '../../input/preprocessed_data/compressed_user_logs'\n",
    "    gc.collect()\n",
    "    utils.to_multiple_csv(user_logs, path, split_size = 40)"
   ]
  },
  {
   "cell_type": "code",
   "execution_count": 3,
   "metadata": {},
   "outputs": [
    {
     "name": "stdout",
     "output_type": "stream",
     "text": [
      "Getting raw data\n",
      "Loading user Log Data\n",
      "Loading training Data\n"
     ]
    },
    {
     "name": "stderr",
     "output_type": "stream",
     "text": [
      "100%|██████████| 2/2 [00:00<00:00, 1737.49it/s]"
     ]
    },
    {
     "name": "stdout",
     "output_type": "stream",
     "text": [
      "reduce memory\n",
      "Loading test Data\n"
     ]
    },
    {
     "name": "stderr",
     "output_type": "stream",
     "text": [
      "\n",
      "100%|██████████| 2/2 [00:00<00:00, 1757.51it/s]"
     ]
    },
    {
     "name": "stdout",
     "output_type": "stream",
     "text": [
      "reduce memory\n"
     ]
    },
    {
     "name": "stderr",
     "output_type": "stream",
     "text": [
      "\n",
      "100%|██████████| 9/9 [00:00<00:00, 1510.49it/s]"
     ]
    },
    {
     "name": "stdout",
     "output_type": "stream",
     "text": [
      "reduce memory\n"
     ]
    },
    {
     "name": "stderr",
     "output_type": "stream",
     "text": [
      "\n"
     ]
    },
    {
     "name": "stdout",
     "output_type": "stream",
     "text": [
      "User Logs 0 df: (479218, 8)\n",
      "User Log Counts 0 df: (479218, 2)\n"
     ]
    },
    {
     "name": "stderr",
     "output_type": "stream",
     "text": [
      "100%|██████████| 9/9 [00:00<00:00, 1784.64it/s]"
     ]
    },
    {
     "name": "stdout",
     "output_type": "stream",
     "text": [
      "reduce memory\n"
     ]
    },
    {
     "name": "stderr",
     "output_type": "stream",
     "text": [
      "\n"
     ]
    },
    {
     "name": "stdout",
     "output_type": "stream",
     "text": [
      "User Logs 1 df: (644408, 8)\n",
      "User Log Counts 1 df: (644408, 2)\n"
     ]
    },
    {
     "name": "stderr",
     "output_type": "stream",
     "text": [
      "100%|██████████| 9/9 [00:00<00:00, 1375.53it/s]"
     ]
    },
    {
     "name": "stdout",
     "output_type": "stream",
     "text": [
      "reduce memory\n"
     ]
    },
    {
     "name": "stderr",
     "output_type": "stream",
     "text": [
      "\n"
     ]
    },
    {
     "name": "stdout",
     "output_type": "stream",
     "text": [
      "User Logs 2 df: (713657, 8)\n",
      "User Log Counts 2 df: (713657, 2)\n"
     ]
    },
    {
     "name": "stderr",
     "output_type": "stream",
     "text": [
      "100%|██████████| 9/9 [00:00<00:00, 1653.54it/s]"
     ]
    },
    {
     "name": "stdout",
     "output_type": "stream",
     "text": [
      "reduce memory\n"
     ]
    },
    {
     "name": "stderr",
     "output_type": "stream",
     "text": [
      "\n"
     ]
    },
    {
     "name": "stdout",
     "output_type": "stream",
     "text": [
      "User Logs 3 df: (749513, 8)\n",
      "User Log Counts 3 df: (749513, 2)\n"
     ]
    },
    {
     "name": "stderr",
     "output_type": "stream",
     "text": [
      "100%|██████████| 9/9 [00:00<00:00, 1716.24it/s]"
     ]
    },
    {
     "name": "stdout",
     "output_type": "stream",
     "text": [
      "reduce memory\n"
     ]
    },
    {
     "name": "stderr",
     "output_type": "stream",
     "text": [
      "\n"
     ]
    },
    {
     "name": "stdout",
     "output_type": "stream",
     "text": [
      "User Logs 4 df: (771436, 8)\n",
      "User Log Counts 4 df: (771436, 2)\n"
     ]
    },
    {
     "name": "stderr",
     "output_type": "stream",
     "text": [
      "100%|██████████| 9/9 [00:00<00:00, 1564.91it/s]"
     ]
    },
    {
     "name": "stdout",
     "output_type": "stream",
     "text": [
      "reduce memory\n"
     ]
    },
    {
     "name": "stderr",
     "output_type": "stream",
     "text": [
      "\n"
     ]
    },
    {
     "name": "stdout",
     "output_type": "stream",
     "text": [
      "User Logs 5 df: (786417, 8)\n",
      "User Log Counts 5 df: (786417, 2)\n"
     ]
    },
    {
     "name": "stderr",
     "output_type": "stream",
     "text": [
      "100%|██████████| 9/9 [00:00<00:00, 1882.07it/s]"
     ]
    },
    {
     "name": "stdout",
     "output_type": "stream",
     "text": [
      "reduce memory\n"
     ]
    },
    {
     "name": "stderr",
     "output_type": "stream",
     "text": [
      "\n"
     ]
    },
    {
     "name": "stdout",
     "output_type": "stream",
     "text": [
      "User Logs 6 df: (797512, 8)\n",
      "User Log Counts 6 df: (797512, 2)\n"
     ]
    },
    {
     "name": "stderr",
     "output_type": "stream",
     "text": [
      "100%|██████████| 9/9 [00:00<00:00, 1792.52it/s]"
     ]
    },
    {
     "name": "stdout",
     "output_type": "stream",
     "text": [
      "reduce memory\n"
     ]
    },
    {
     "name": "stderr",
     "output_type": "stream",
     "text": [
      "\n"
     ]
    },
    {
     "name": "stdout",
     "output_type": "stream",
     "text": [
      "User Logs 7 df: (806041, 8)\n",
      "User Log Counts 7 df: (806041, 2)\n"
     ]
    },
    {
     "name": "stderr",
     "output_type": "stream",
     "text": [
      "100%|██████████| 9/9 [00:00<00:00, 1857.17it/s]"
     ]
    },
    {
     "name": "stdout",
     "output_type": "stream",
     "text": [
      "reduce memory\n"
     ]
    },
    {
     "name": "stderr",
     "output_type": "stream",
     "text": [
      "\n"
     ]
    },
    {
     "name": "stdout",
     "output_type": "stream",
     "text": [
      "User Logs 8 df: (812812, 8)\n",
      "User Log Counts 8 df: (812812, 2)\n"
     ]
    },
    {
     "name": "stderr",
     "output_type": "stream",
     "text": [
      "100%|██████████| 9/9 [00:00<00:00, 1761.98it/s]"
     ]
    },
    {
     "name": "stdout",
     "output_type": "stream",
     "text": [
      "reduce memory\n"
     ]
    },
    {
     "name": "stderr",
     "output_type": "stream",
     "text": [
      "\n"
     ]
    },
    {
     "name": "stdout",
     "output_type": "stream",
     "text": [
      "User Logs 9 df: (818342, 8)\n",
      "User Log Counts 9 df: (818342, 2)\n"
     ]
    },
    {
     "name": "stderr",
     "output_type": "stream",
     "text": [
      "100%|██████████| 9/9 [00:00<00:00, 1773.66it/s]"
     ]
    },
    {
     "name": "stdout",
     "output_type": "stream",
     "text": [
      "reduce memory\n"
     ]
    },
    {
     "name": "stderr",
     "output_type": "stream",
     "text": [
      "\n"
     ]
    },
    {
     "name": "stdout",
     "output_type": "stream",
     "text": [
      "User Logs 10 df: (822899, 8)\n",
      "User Log Counts 10 df: (822899, 2)\n"
     ]
    },
    {
     "name": "stderr",
     "output_type": "stream",
     "text": [
      "100%|██████████| 9/9 [00:00<00:00, 1688.23it/s]"
     ]
    },
    {
     "name": "stdout",
     "output_type": "stream",
     "text": [
      "reduce memory\n"
     ]
    },
    {
     "name": "stderr",
     "output_type": "stream",
     "text": [
      "\n"
     ]
    },
    {
     "name": "stdout",
     "output_type": "stream",
     "text": [
      "User Logs 11 df: (826724, 8)\n",
      "User Log Counts 11 df: (826724, 2)\n"
     ]
    },
    {
     "name": "stderr",
     "output_type": "stream",
     "text": [
      "100%|██████████| 9/9 [00:00<00:00, 1847.71it/s]"
     ]
    },
    {
     "name": "stdout",
     "output_type": "stream",
     "text": [
      "reduce memory\n"
     ]
    },
    {
     "name": "stderr",
     "output_type": "stream",
     "text": [
      "\n"
     ]
    },
    {
     "name": "stdout",
     "output_type": "stream",
     "text": [
      "User Logs 12 df: (830098, 8)\n",
      "User Log Counts 12 df: (830098, 2)\n"
     ]
    },
    {
     "name": "stderr",
     "output_type": "stream",
     "text": [
      "100%|██████████| 9/9 [00:00<00:00, 1821.06it/s]"
     ]
    },
    {
     "name": "stdout",
     "output_type": "stream",
     "text": [
      "reduce memory\n"
     ]
    },
    {
     "name": "stderr",
     "output_type": "stream",
     "text": [
      "\n"
     ]
    },
    {
     "name": "stdout",
     "output_type": "stream",
     "text": [
      "User Logs 13 df: (833006, 8)\n",
      "User Log Counts 13 df: (833006, 2)\n"
     ]
    },
    {
     "name": "stderr",
     "output_type": "stream",
     "text": [
      "100%|██████████| 9/9 [00:00<00:00, 1829.62it/s]"
     ]
    },
    {
     "name": "stdout",
     "output_type": "stream",
     "text": [
      "reduce memory\n"
     ]
    },
    {
     "name": "stderr",
     "output_type": "stream",
     "text": [
      "\n"
     ]
    },
    {
     "name": "stdout",
     "output_type": "stream",
     "text": [
      "User Logs 14 df: (835614, 8)\n",
      "User Log Counts 14 df: (835614, 2)\n"
     ]
    },
    {
     "name": "stderr",
     "output_type": "stream",
     "text": [
      "100%|██████████| 9/9 [00:00<00:00, 1486.93it/s]"
     ]
    },
    {
     "name": "stdout",
     "output_type": "stream",
     "text": [
      "reduce memory\n"
     ]
    },
    {
     "name": "stderr",
     "output_type": "stream",
     "text": [
      "\n"
     ]
    },
    {
     "name": "stdout",
     "output_type": "stream",
     "text": [
      "User Logs 15 df: (838008, 8)\n",
      "User Log Counts 15 df: (838008, 2)\n"
     ]
    },
    {
     "name": "stderr",
     "output_type": "stream",
     "text": [
      "100%|██████████| 9/9 [00:00<00:00, 1747.79it/s]"
     ]
    },
    {
     "name": "stdout",
     "output_type": "stream",
     "text": [
      "reduce memory\n"
     ]
    },
    {
     "name": "stderr",
     "output_type": "stream",
     "text": [
      "\n"
     ]
    },
    {
     "name": "stdout",
     "output_type": "stream",
     "text": [
      "User Logs 16 df: (840084, 8)\n",
      "User Log Counts 16 df: (840084, 2)\n"
     ]
    },
    {
     "name": "stderr",
     "output_type": "stream",
     "text": [
      "100%|██████████| 9/9 [00:00<00:00, 1799.70it/s]"
     ]
    },
    {
     "name": "stdout",
     "output_type": "stream",
     "text": [
      "reduce memory\n"
     ]
    },
    {
     "name": "stderr",
     "output_type": "stream",
     "text": [
      "\n"
     ]
    },
    {
     "name": "stdout",
     "output_type": "stream",
     "text": [
      "User Logs 17 df: (841972, 8)\n",
      "User Log Counts 17 df: (841972, 2)\n"
     ]
    },
    {
     "name": "stderr",
     "output_type": "stream",
     "text": [
      "100%|██████████| 9/9 [00:00<00:00, 1776.58it/s]"
     ]
    },
    {
     "name": "stdout",
     "output_type": "stream",
     "text": [
      "reduce memory\n"
     ]
    },
    {
     "name": "stderr",
     "output_type": "stream",
     "text": [
      "\n"
     ]
    },
    {
     "name": "stdout",
     "output_type": "stream",
     "text": [
      "User Logs 18 df: (842708, 8)\n",
      "User Log Counts 18 df: (842708, 2)\n",
      "(842708, 8)\n"
     ]
    },
    {
     "name": "stderr",
     "output_type": "stream",
     "text": [
      "\r",
      "  0%|          | 0/40 [00:00<?, ?it/s]"
     ]
    },
    {
     "name": "stdout",
     "output_type": "stream",
     "text": [
      "(842708, 9)\n",
      "User Logs set shape (842708, 9)\n"
     ]
    },
    {
     "name": "stderr",
     "output_type": "stream",
     "text": [
      "100%|██████████| 40/40 [00:06<00:00,  5.75it/s]\n"
     ]
    }
   ],
   "source": [
    "print(\"Getting raw data\")\n",
    "raw_daq()"
   ]
  },
  {
   "cell_type": "code",
   "execution_count": 11,
   "metadata": {},
   "outputs": [
    {
     "name": "stdout",
     "output_type": "stream",
     "text": [
      "Loading training Data\n"
     ]
    },
    {
     "name": "stderr",
     "output_type": "stream",
     "text": [
      "100%|██████████| 2/2 [00:00<00:00, 2444.95it/s]"
     ]
    },
    {
     "name": "stdout",
     "output_type": "stream",
     "text": [
      "reduce memory\n",
      "Loading test Data\n"
     ]
    },
    {
     "name": "stderr",
     "output_type": "stream",
     "text": [
      "\n",
      "100%|██████████| 2/2 [00:00<00:00, 2513.06it/s]"
     ]
    },
    {
     "name": "stdout",
     "output_type": "stream",
     "text": [
      "reduce memory\n"
     ]
    },
    {
     "name": "stderr",
     "output_type": "stream",
     "text": [
      "\n"
     ]
    }
   ],
   "source": [
    "# 切割user_logs\n",
    "print(\"Loading training Data\")\n",
    "train = pd.read_csv(\"../../input/train_v2.csv\")\n",
    "#==============================================================================\n",
    "print('reduce memory')\n",
    "#==============================================================================\n",
    "utils.reduce_memory(train)\n",
    "print(\"Loading test Data\")\n",
    "test = pd.read_csv(\"../../input/sample_submission_v2.csv\")\n",
    "#==============================================================================\n",
    "print('reduce memory')\n",
    "#==============================================================================\n",
    "utils.reduce_memory(test)\n",
    "\n",
    "valid_msno = pd.concat([train, test])['msno'].as_matrix() # DataFrame.as_matrix()  == DataFrame.values\n"
   ]
  },
  {
   "cell_type": "code",
   "execution_count": 37,
   "metadata": {},
   "outputs": [
    {
     "data": {
      "text/plain": [
       "(1878431,)"
      ]
     },
     "execution_count": 37,
     "metadata": {},
     "output_type": "execute_result"
    }
   ],
   "source": [
    "valid_msno.shape"
   ]
  },
  {
   "cell_type": "code",
   "execution_count": 7,
   "metadata": {
    "collapsed": true
   },
   "outputs": [],
   "source": [
    "user_logs_iter = pd.read_csv(\"../../input/user_logs_v2.csv\", chunksize=50000, \n",
    "                iterator=True, low_memory=False, parse_dates=['date'])\n"
   ]
  },
  {
   "cell_type": "code",
   "execution_count": 45,
   "metadata": {},
   "outputs": [
    {
     "name": "stderr",
     "output_type": "stream",
     "text": [
      "100%|██████████| 9/9 [00:00<00:00, 1161.18it/s]"
     ]
    },
    {
     "name": "stdout",
     "output_type": "stream",
     "text": [
      "reduce memory\n"
     ]
    },
    {
     "name": "stderr",
     "output_type": "stream",
     "text": [
      "\n"
     ]
    },
    {
     "name": "stdout",
     "output_type": "stream",
     "text": [
      "Index(['msno', 'num_25', 'num_50', 'num_75', 'num_985', 'num_100', 'num_unq',\n",
      "       'total_secs'],\n",
      "      dtype='object')\n",
      "Index(['msno', 'logs_count'], dtype='object')\n",
      "User Logs 0 df: (39354, 8)\n",
      "User Log Counts 0 df: (39354, 2)\n"
     ]
    },
    {
     "name": "stderr",
     "output_type": "stream",
     "text": [
      "100%|██████████| 9/9 [00:00<00:00, 1171.74it/s]"
     ]
    },
    {
     "name": "stdout",
     "output_type": "stream",
     "text": [
      "reduce memory\n"
     ]
    },
    {
     "name": "stderr",
     "output_type": "stream",
     "text": [
      "\n"
     ]
    },
    {
     "name": "stdout",
     "output_type": "stream",
     "text": [
      "Index(['msno', 'num_25', 'num_50', 'num_75', 'num_985', 'num_100', 'num_unq',\n",
      "       'total_secs'],\n",
      "      dtype='object')\n",
      "Index(['msno', 'logs_count'], dtype='object')\n",
      "User Logs 1 df: (76233, 8)\n",
      "User Log Counts 1 df: (76233, 2)\n"
     ]
    },
    {
     "name": "stderr",
     "output_type": "stream",
     "text": [
      "100%|██████████| 9/9 [00:00<00:00, 1213.75it/s]"
     ]
    },
    {
     "name": "stdout",
     "output_type": "stream",
     "text": [
      "reduce memory\n"
     ]
    },
    {
     "name": "stderr",
     "output_type": "stream",
     "text": [
      "\n"
     ]
    },
    {
     "name": "stdout",
     "output_type": "stream",
     "text": [
      "Index(['msno', 'num_25', 'num_50', 'num_75', 'num_985', 'num_100', 'num_unq',\n",
      "       'total_secs'],\n",
      "      dtype='object')\n",
      "Index(['msno', 'logs_count'], dtype='object')\n",
      "User Logs 2 df: (111141, 8)\n",
      "User Log Counts 2 df: (111141, 2)\n"
     ]
    },
    {
     "name": "stderr",
     "output_type": "stream",
     "text": [
      "100%|██████████| 9/9 [00:00<00:00, 1201.46it/s]"
     ]
    },
    {
     "name": "stdout",
     "output_type": "stream",
     "text": [
      "reduce memory\n"
     ]
    },
    {
     "name": "stderr",
     "output_type": "stream",
     "text": [
      "\n"
     ]
    },
    {
     "name": "stdout",
     "output_type": "stream",
     "text": [
      "Index(['msno', 'num_25', 'num_50', 'num_75', 'num_985', 'num_100', 'num_unq',\n",
      "       'total_secs'],\n",
      "      dtype='object')\n",
      "Index(['msno', 'logs_count'], dtype='object')\n",
      "User Logs 3 df: (144279, 8)\n",
      "User Log Counts 3 df: (144279, 2)\n"
     ]
    },
    {
     "name": "stderr",
     "output_type": "stream",
     "text": [
      "100%|██████████| 9/9 [00:00<00:00, 1287.03it/s]"
     ]
    },
    {
     "name": "stdout",
     "output_type": "stream",
     "text": [
      "reduce memory\n"
     ]
    },
    {
     "name": "stderr",
     "output_type": "stream",
     "text": [
      "\n"
     ]
    },
    {
     "name": "stdout",
     "output_type": "stream",
     "text": [
      "Index(['msno', 'num_25', 'num_50', 'num_75', 'num_985', 'num_100', 'num_unq',\n",
      "       'total_secs'],\n",
      "      dtype='object')\n",
      "Index(['msno', 'logs_count'], dtype='object')\n",
      "User Logs 4 df: (175301, 8)\n",
      "User Log Counts 4 df: (175301, 2)\n"
     ]
    },
    {
     "name": "stderr",
     "output_type": "stream",
     "text": [
      "100%|██████████| 9/9 [00:00<00:00, 1378.70it/s]"
     ]
    },
    {
     "name": "stdout",
     "output_type": "stream",
     "text": [
      "reduce memory\n"
     ]
    },
    {
     "name": "stderr",
     "output_type": "stream",
     "text": [
      "\n"
     ]
    },
    {
     "name": "stdout",
     "output_type": "stream",
     "text": [
      "Index(['msno', 'num_25', 'num_50', 'num_75', 'num_985', 'num_100', 'num_unq',\n",
      "       'total_secs'],\n",
      "      dtype='object')\n",
      "Index(['msno', 'logs_count'], dtype='object')\n",
      "User Logs 5 df: (204473, 8)\n",
      "User Log Counts 5 df: (204473, 2)\n"
     ]
    }
   ],
   "source": [
    "user_logs = pd.DataFrame()\n",
    "user_log_counts = pd.DataFrame()\n",
    "\n",
    "i = 0\n",
    "for df in user_logs_iter:\n",
    "    df = df[df['msno'].isin(valid_msno)] #找出chunked_user_logs中msno有在valid_msno的dataframe\n",
    "    #==============================================================================\n",
    "    print('reduce memory')\n",
    "    #==============================================================================\n",
    "    utils.reduce_memory(df)\n",
    "    if i is 0: \n",
    "        user_logs = df\n",
    "        user_log_counts = pd.DataFrame(user_logs['msno'].value_counts().reset_index())\n",
    "        user_log_counts.columns = ['msno','logs_count']\n",
    "    else:\n",
    "        temp_user_log_counts = pd.DataFrame(df['msno'].value_counts().reset_index())\n",
    "        temp_user_log_counts.columns = ['msno','logs_count']\n",
    "        user_logs = pd.concat([user_logs, df])\n",
    "        user_log_counts = pd.concat([user_log_counts, temp_user_log_counts])\n",
    "\n",
    "    user_logs = user_logs.groupby([\"msno\"], as_index=False)[\"num_25\", \"num_50\", \"num_75\", \"num_985\", \"num_100\", \"num_unq\", \"total_secs\"].sum()        \n",
    "    user_log_counts = user_log_counts.groupby([\"msno\"], as_index=False)[\"logs_count\"].sum()        \n",
    "    # \n",
    "    print (user_logs.columns)\n",
    "    print (user_log_counts.columns)\n",
    "    print(\"User Logs {} df: {}\".format(str(i), user_logs.shape))\n",
    "    print(\"User Log Counts {} df: {}\".format(str(i), user_log_counts.shape))     \n",
    "    i = i+1\n",
    "    if i > 5:\n",
    "        break\n",
    "# print(user_logs.shape)\n",
    "# user_logs = pd.merge(user_logs, user_log_counts, how='left', on='msno')\n",
    "# print(user_logs.shape)\n"
   ]
  },
  {
   "cell_type": "code",
   "execution_count": 26,
   "metadata": {},
   "outputs": [
    {
     "data": {
      "text/html": [
       "<div>\n",
       "<style scoped>\n",
       "    .dataframe tbody tr th:only-of-type {\n",
       "        vertical-align: middle;\n",
       "    }\n",
       "\n",
       "    .dataframe tbody tr th {\n",
       "        vertical-align: top;\n",
       "    }\n",
       "\n",
       "    .dataframe thead th {\n",
       "        text-align: right;\n",
       "    }\n",
       "</style>\n",
       "<table border=\"1\" class=\"dataframe\">\n",
       "  <thead>\n",
       "    <tr style=\"text-align: right;\">\n",
       "      <th></th>\n",
       "      <th>msno</th>\n",
       "      <th>date</th>\n",
       "      <th>num_25</th>\n",
       "      <th>num_50</th>\n",
       "      <th>num_75</th>\n",
       "      <th>num_985</th>\n",
       "      <th>num_100</th>\n",
       "      <th>num_unq</th>\n",
       "      <th>total_secs</th>\n",
       "    </tr>\n",
       "  </thead>\n",
       "  <tbody>\n",
       "    <tr>\n",
       "      <th>3750000</th>\n",
       "      <td>iNfXK2nICSuVxPbr0bcOKaI2N0AiAcqu0sLf8dKsweM=</td>\n",
       "      <td>2017-03-16</td>\n",
       "      <td>12</td>\n",
       "      <td>0</td>\n",
       "      <td>0</td>\n",
       "      <td>1</td>\n",
       "      <td>9</td>\n",
       "      <td>14</td>\n",
       "      <td>2370.635010</td>\n",
       "    </tr>\n",
       "    <tr>\n",
       "      <th>3750001</th>\n",
       "      <td>44FGuOUu81dmVySYYIZ0WnKI2/tatjLGmUAuMOGqRO0=</td>\n",
       "      <td>2017-03-15</td>\n",
       "      <td>0</td>\n",
       "      <td>0</td>\n",
       "      <td>1</td>\n",
       "      <td>0</td>\n",
       "      <td>8</td>\n",
       "      <td>8</td>\n",
       "      <td>1311.464966</td>\n",
       "    </tr>\n",
       "    <tr>\n",
       "      <th>3750002</th>\n",
       "      <td>OFIwwwQCT+VI3ZSOpHqh1ZFo0reAzWukpPkF8prwNns=</td>\n",
       "      <td>2017-03-13</td>\n",
       "      <td>3</td>\n",
       "      <td>0</td>\n",
       "      <td>0</td>\n",
       "      <td>0</td>\n",
       "      <td>19</td>\n",
       "      <td>22</td>\n",
       "      <td>4086.444092</td>\n",
       "    </tr>\n",
       "    <tr>\n",
       "      <th>3750003</th>\n",
       "      <td>B5NY2FogzQ09+E0Tl+IKb/l7+0FXAMftBLc41IYtn2E=</td>\n",
       "      <td>2017-03-14</td>\n",
       "      <td>0</td>\n",
       "      <td>1</td>\n",
       "      <td>0</td>\n",
       "      <td>0</td>\n",
       "      <td>5</td>\n",
       "      <td>1</td>\n",
       "      <td>1579.634033</td>\n",
       "    </tr>\n",
       "    <tr>\n",
       "      <th>3750004</th>\n",
       "      <td>u2Ss6qVNaKouQTukxNlCh8EuF39g4BqBnQAOeEPEDXY=</td>\n",
       "      <td>2017-03-25</td>\n",
       "      <td>1</td>\n",
       "      <td>0</td>\n",
       "      <td>0</td>\n",
       "      <td>0</td>\n",
       "      <td>5</td>\n",
       "      <td>6</td>\n",
       "      <td>1123.996948</td>\n",
       "    </tr>\n",
       "  </tbody>\n",
       "</table>\n",
       "</div>"
      ],
      "text/plain": [
       "                                                 msno       date  num_25  \\\n",
       "3750000  iNfXK2nICSuVxPbr0bcOKaI2N0AiAcqu0sLf8dKsweM= 2017-03-16      12   \n",
       "3750001  44FGuOUu81dmVySYYIZ0WnKI2/tatjLGmUAuMOGqRO0= 2017-03-15       0   \n",
       "3750002  OFIwwwQCT+VI3ZSOpHqh1ZFo0reAzWukpPkF8prwNns= 2017-03-13       3   \n",
       "3750003  B5NY2FogzQ09+E0Tl+IKb/l7+0FXAMftBLc41IYtn2E= 2017-03-14       0   \n",
       "3750004  u2Ss6qVNaKouQTukxNlCh8EuF39g4BqBnQAOeEPEDXY= 2017-03-25       1   \n",
       "\n",
       "         num_50  num_75  num_985  num_100  num_unq   total_secs  \n",
       "3750000       0       0        1        9       14  2370.635010  \n",
       "3750001       0       1        0        8        8  1311.464966  \n",
       "3750002       0       0        0       19       22  4086.444092  \n",
       "3750003       1       0        0        5        1  1579.634033  \n",
       "3750004       0       0        0        5        6  1123.996948  "
      ]
     },
     "execution_count": 26,
     "metadata": {},
     "output_type": "execute_result"
    }
   ],
   "source": [
    "user_logs.head()"
   ]
  },
  {
   "cell_type": "code",
   "execution_count": 41,
   "metadata": {},
   "outputs": [
    {
     "data": {
      "text/html": [
       "<div>\n",
       "<style scoped>\n",
       "    .dataframe tbody tr th:only-of-type {\n",
       "        vertical-align: middle;\n",
       "    }\n",
       "\n",
       "    .dataframe tbody tr th {\n",
       "        vertical-align: top;\n",
       "    }\n",
       "\n",
       "    .dataframe thead th {\n",
       "        text-align: right;\n",
       "    }\n",
       "</style>\n",
       "<table border=\"1\" class=\"dataframe\">\n",
       "  <thead>\n",
       "    <tr style=\"text-align: right;\">\n",
       "      <th></th>\n",
       "      <th>msno</th>\n",
       "      <th>date</th>\n",
       "      <th>num_25</th>\n",
       "      <th>num_50</th>\n",
       "      <th>num_75</th>\n",
       "      <th>num_985</th>\n",
       "      <th>num_100</th>\n",
       "      <th>num_unq</th>\n",
       "      <th>total_secs</th>\n",
       "    </tr>\n",
       "  </thead>\n",
       "  <tbody>\n",
       "    <tr>\n",
       "      <th>3768255</th>\n",
       "      <td>29V0Jm3Xli1dy9UFeEL/BH2EMOr62DgeGLeKAKfE07k=</td>\n",
       "      <td>2017-03-02</td>\n",
       "      <td>24</td>\n",
       "      <td>4</td>\n",
       "      <td>2</td>\n",
       "      <td>13</td>\n",
       "      <td>39</td>\n",
       "      <td>24</td>\n",
       "      <td>12968.190430</td>\n",
       "    </tr>\n",
       "    <tr>\n",
       "      <th>3772269</th>\n",
       "      <td>29V0Jm3Xli1dy9UFeEL/BH2EMOr62DgeGLeKAKfE07k=</td>\n",
       "      <td>2017-03-19</td>\n",
       "      <td>12</td>\n",
       "      <td>3</td>\n",
       "      <td>5</td>\n",
       "      <td>12</td>\n",
       "      <td>49</td>\n",
       "      <td>43</td>\n",
       "      <td>15661.371094</td>\n",
       "    </tr>\n",
       "    <tr>\n",
       "      <th>3782573</th>\n",
       "      <td>29V0Jm3Xli1dy9UFeEL/BH2EMOr62DgeGLeKAKfE07k=</td>\n",
       "      <td>2017-03-30</td>\n",
       "      <td>2</td>\n",
       "      <td>1</td>\n",
       "      <td>1</td>\n",
       "      <td>6</td>\n",
       "      <td>23</td>\n",
       "      <td>19</td>\n",
       "      <td>7025.250977</td>\n",
       "    </tr>\n",
       "  </tbody>\n",
       "</table>\n",
       "</div>"
      ],
      "text/plain": [
       "                                                 msno       date  num_25  \\\n",
       "3768255  29V0Jm3Xli1dy9UFeEL/BH2EMOr62DgeGLeKAKfE07k= 2017-03-02      24   \n",
       "3772269  29V0Jm3Xli1dy9UFeEL/BH2EMOr62DgeGLeKAKfE07k= 2017-03-19      12   \n",
       "3782573  29V0Jm3Xli1dy9UFeEL/BH2EMOr62DgeGLeKAKfE07k= 2017-03-30       2   \n",
       "\n",
       "         num_50  num_75  num_985  num_100  num_unq    total_secs  \n",
       "3768255       4       2       13       39       24  12968.190430  \n",
       "3772269       3       5       12       49       43  15661.371094  \n",
       "3782573       1       1        6       23       19   7025.250977  "
      ]
     },
     "execution_count": 41,
     "metadata": {},
     "output_type": "execute_result"
    }
   ],
   "source": [
    "user_logs[user_logs.msno == '29V0Jm3Xli1dy9UFeEL/BH2EMOr62DgeGLeKAKfE07k=']"
   ]
  },
  {
   "cell_type": "code",
   "execution_count": 27,
   "metadata": {},
   "outputs": [
    {
     "data": {
      "text/html": [
       "<div>\n",
       "<style scoped>\n",
       "    .dataframe tbody tr th:only-of-type {\n",
       "        vertical-align: middle;\n",
       "    }\n",
       "\n",
       "    .dataframe tbody tr th {\n",
       "        vertical-align: top;\n",
       "    }\n",
       "\n",
       "    .dataframe thead th {\n",
       "        text-align: right;\n",
       "    }\n",
       "</style>\n",
       "<table border=\"1\" class=\"dataframe\">\n",
       "  <thead>\n",
       "    <tr style=\"text-align: right;\">\n",
       "      <th></th>\n",
       "      <th>msno</th>\n",
       "      <th>logs_count</th>\n",
       "    </tr>\n",
       "  </thead>\n",
       "  <tbody>\n",
       "    <tr>\n",
       "      <th>0</th>\n",
       "      <td>29V0Jm3Xli1dy9UFeEL/BH2EMOr62DgeGLeKAKfE07k=</td>\n",
       "      <td>3</td>\n",
       "    </tr>\n",
       "    <tr>\n",
       "      <th>1</th>\n",
       "      <td>WQ1IOc6fnUMOFvN7wL2ec38KhyRUiASrgFlOcxg2oXM=</td>\n",
       "      <td>3</td>\n",
       "    </tr>\n",
       "    <tr>\n",
       "      <th>2</th>\n",
       "      <td>T7bE8mgakAqmTiwFnDqsAe9IdsLF59Ibx88J0rDdODU=</td>\n",
       "      <td>3</td>\n",
       "    </tr>\n",
       "    <tr>\n",
       "      <th>3</th>\n",
       "      <td>v76ZgdPjg6MluzDEaje2dbhI1v1leZq5gu0B5wCiOfE=</td>\n",
       "      <td>3</td>\n",
       "    </tr>\n",
       "    <tr>\n",
       "      <th>4</th>\n",
       "      <td>PMNmR1RE3b4roz/PW5VqVQ7tY9NU/SXaHrSDPYirh8U=</td>\n",
       "      <td>3</td>\n",
       "    </tr>\n",
       "  </tbody>\n",
       "</table>\n",
       "</div>"
      ],
      "text/plain": [
       "                                           msno  logs_count\n",
       "0  29V0Jm3Xli1dy9UFeEL/BH2EMOr62DgeGLeKAKfE07k=           3\n",
       "1  WQ1IOc6fnUMOFvN7wL2ec38KhyRUiASrgFlOcxg2oXM=           3\n",
       "2  T7bE8mgakAqmTiwFnDqsAe9IdsLF59Ibx88J0rDdODU=           3\n",
       "3  v76ZgdPjg6MluzDEaje2dbhI1v1leZq5gu0B5wCiOfE=           3\n",
       "4  PMNmR1RE3b4roz/PW5VqVQ7tY9NU/SXaHrSDPYirh8U=           3"
      ]
     },
     "execution_count": 27,
     "metadata": {},
     "output_type": "execute_result"
    }
   ],
   "source": [
    "user_log_counts.head()"
   ]
  },
  {
   "cell_type": "code",
   "execution_count": 39,
   "metadata": {},
   "outputs": [
    {
     "data": {
      "text/html": [
       "<div>\n",
       "<style scoped>\n",
       "    .dataframe tbody tr th:only-of-type {\n",
       "        vertical-align: middle;\n",
       "    }\n",
       "\n",
       "    .dataframe tbody tr th {\n",
       "        vertical-align: top;\n",
       "    }\n",
       "\n",
       "    .dataframe thead th {\n",
       "        text-align: right;\n",
       "    }\n",
       "</style>\n",
       "<table border=\"1\" class=\"dataframe\">\n",
       "  <thead>\n",
       "    <tr style=\"text-align: right;\">\n",
       "      <th></th>\n",
       "      <th>msno</th>\n",
       "      <th>num_25</th>\n",
       "      <th>num_50</th>\n",
       "      <th>num_75</th>\n",
       "      <th>num_985</th>\n",
       "      <th>num_100</th>\n",
       "      <th>num_unq</th>\n",
       "      <th>total_secs</th>\n",
       "    </tr>\n",
       "  </thead>\n",
       "  <tbody>\n",
       "    <tr>\n",
       "      <th>4996</th>\n",
       "      <td>29V0Jm3Xli1dy9UFeEL/BH2EMOr62DgeGLeKAKfE07k=</td>\n",
       "      <td>38</td>\n",
       "      <td>8</td>\n",
       "      <td>8.0</td>\n",
       "      <td>31</td>\n",
       "      <td>111</td>\n",
       "      <td>86</td>\n",
       "      <td>35654.8125</td>\n",
       "    </tr>\n",
       "  </tbody>\n",
       "</table>\n",
       "</div>"
      ],
      "text/plain": [
       "                                              msno  num_25  num_50  num_75  \\\n",
       "4996  29V0Jm3Xli1dy9UFeEL/BH2EMOr62DgeGLeKAKfE07k=      38       8     8.0   \n",
       "\n",
       "      num_985  num_100  num_unq  total_secs  \n",
       "4996       31      111       86  35654.8125  "
      ]
     },
     "execution_count": 39,
     "metadata": {},
     "output_type": "execute_result"
    }
   ],
   "source": [
    "col = [\"num_25\", \"num_50\", \"num_75\", \"num_985\", \"num_100\", \"num_unq\", \"total_secs\"] # remove date# ignore time dimension\n",
    "d = user_logs.groupby([\"msno\"], as_index=False)[col].sum()    \n",
    "d[d.msno == '29V0Jm3Xli1dy9UFeEL/BH2EMOr62DgeGLeKAKfE07k=']"
   ]
  },
  {
   "cell_type": "code",
   "execution_count": 38,
   "metadata": {},
   "outputs": [
    {
     "data": {
      "text/html": [
       "<div>\n",
       "<style scoped>\n",
       "    .dataframe tbody tr th:only-of-type {\n",
       "        vertical-align: middle;\n",
       "    }\n",
       "\n",
       "    .dataframe tbody tr th {\n",
       "        vertical-align: top;\n",
       "    }\n",
       "\n",
       "    .dataframe thead th {\n",
       "        text-align: right;\n",
       "    }\n",
       "</style>\n",
       "<table border=\"1\" class=\"dataframe\">\n",
       "  <thead>\n",
       "    <tr style=\"text-align: right;\">\n",
       "      <th></th>\n",
       "      <th>msno</th>\n",
       "      <th>logs_count</th>\n",
       "    </tr>\n",
       "  </thead>\n",
       "  <tbody>\n",
       "    <tr>\n",
       "      <th>4996</th>\n",
       "      <td>29V0Jm3Xli1dy9UFeEL/BH2EMOr62DgeGLeKAKfE07k=</td>\n",
       "      <td>3</td>\n",
       "    </tr>\n",
       "  </tbody>\n",
       "</table>\n",
       "</div>"
      ],
      "text/plain": [
       "                                              msno  logs_count\n",
       "4996  29V0Jm3Xli1dy9UFeEL/BH2EMOr62DgeGLeKAKfE07k=           3"
      ]
     },
     "execution_count": 38,
     "metadata": {},
     "output_type": "execute_result"
    }
   ],
   "source": [
    "e = user_log_counts.groupby([\"msno\"], as_index=False)[\"logs_count\"].sum()\n",
    "e[e.msno == '29V0Jm3Xli1dy9UFeEL/BH2EMOr62DgeGLeKAKfE07k=']"
   ]
  },
  {
   "cell_type": "code",
   "execution_count": 44,
   "metadata": {},
   "outputs": [
    {
     "data": {
      "text/html": [
       "<div>\n",
       "<style scoped>\n",
       "    .dataframe tbody tr th:only-of-type {\n",
       "        vertical-align: middle;\n",
       "    }\n",
       "\n",
       "    .dataframe tbody tr th {\n",
       "        vertical-align: top;\n",
       "    }\n",
       "\n",
       "    .dataframe thead th {\n",
       "        text-align: right;\n",
       "    }\n",
       "</style>\n",
       "<table border=\"1\" class=\"dataframe\">\n",
       "  <thead>\n",
       "    <tr style=\"text-align: right;\">\n",
       "      <th></th>\n",
       "      <th>msno</th>\n",
       "      <th>num_25</th>\n",
       "      <th>num_50</th>\n",
       "      <th>num_75</th>\n",
       "      <th>num_985</th>\n",
       "      <th>num_100</th>\n",
       "      <th>num_unq</th>\n",
       "      <th>total_secs</th>\n",
       "      <th>logs_count</th>\n",
       "    </tr>\n",
       "  </thead>\n",
       "  <tbody>\n",
       "    <tr>\n",
       "      <th>4996</th>\n",
       "      <td>29V0Jm3Xli1dy9UFeEL/BH2EMOr62DgeGLeKAKfE07k=</td>\n",
       "      <td>38</td>\n",
       "      <td>8</td>\n",
       "      <td>8.0</td>\n",
       "      <td>31</td>\n",
       "      <td>111</td>\n",
       "      <td>86</td>\n",
       "      <td>35654.8125</td>\n",
       "      <td>3</td>\n",
       "    </tr>\n",
       "  </tbody>\n",
       "</table>\n",
       "</div>"
      ],
      "text/plain": [
       "                                              msno  num_25  num_50  num_75  \\\n",
       "4996  29V0Jm3Xli1dy9UFeEL/BH2EMOr62DgeGLeKAKfE07k=      38       8     8.0   \n",
       "\n",
       "      num_985  num_100  num_unq  total_secs  logs_count  \n",
       "4996       31      111       86  35654.8125           3  "
      ]
     },
     "execution_count": 44,
     "metadata": {},
     "output_type": "execute_result"
    }
   ],
   "source": [
    "f = pd.merge(d, e, how='left', on='msno')\n",
    "f[f.msno == '29V0Jm3Xli1dy9UFeEL/BH2EMOr62DgeGLeKAKfE07k=']"
   ]
  },
  {
   "cell_type": "code",
   "execution_count": 4,
   "metadata": {
    "collapsed": true
   },
   "outputs": [],
   "source": [
    "#!/usr/bin/python3\n",
    "# -*-coding:utf-8\n",
    "'''\n",
    "Created on Fri Dec 1 22:22:35 2017\n",
    "\n",
    "@author: Ray\n",
    "\n",
    "'''\n",
    "import time\n",
    "import pandas as pd\n",
    "import numpy as np\n",
    "from tqdm import tqdm\n",
    "import os\n",
    "import utils # written by author\n",
    "from glob import glob\n",
    "from datetime import datetime, timedelta\n",
    "import multiprocessing as mp\n",
    "import gc # for automatic releasing memory\n",
    "\n",
    "\n",
    "##################################################\n",
    "# Load user_logs\n",
    "##################################################\n",
    "# chunksize=10,000,000 (10 millions)\n",
    "user_logs_iter = pd.read_csv(\"../../input/user_logs.csv\", chunksize=10000, \n",
    "            iterator=True, low_memory=False, parse_dates=['date'])\n",
    "\n",
    "#==============================================================================\n",
    "#def\n",
    "#==============================================================================\n",
    "\n",
    "def make(T):\n",
    "    if T == -1:\n",
    "        folder = 'test'\n",
    "        test = pd.read_csv('../../input/sample_submission_v2.csv')\n",
    "        #user_logs_march = pd.read_csv('../input/user_logs_v2.csv')\n",
    "        #==============================================================================\n",
    "        print('reduce memory')\n",
    "        #==============================================================================\n",
    "        utils.reduce_memory(test)\n",
    "        #utils.reduce_memory(user_logs_march)\n",
    "        \n",
    "        valid_msno = test['msno'].as_matrix()\n",
    "    else:\n",
    "        col = ['msno']\n",
    "        folder = 'trainW-'+str(T)\n",
    "        train = pd.read_csv('../input/preprocessed_data/trainW-{0}.csv'.format(T))[col]     \n",
    "        #==============================================================================\n",
    "        print('reduce memory')\n",
    "        #==============================================================================\n",
    "        utils.reduce_memory(train)\n",
    "        \n",
    "        valid_msno = train['msno'].as_matrix()  \n",
    "    ##################################################\n",
    "    #core\n",
    "    ##################################################\n",
    "    c = 0\n",
    "    chunked_user_logs = pd.DataFrame() \n",
    "    start_time = time.time()\n",
    "\n",
    "    for df in user_logs_iter:\n",
    "        c += 1\n",
    "        #==============================================================================\n",
    "        print('reduce memory')\n",
    "        #==============================================================================\n",
    "        utils.reduce_memory(df)\n",
    "\n",
    "        df = df[df['msno'].isin(valid_msno)] #找出chunked_user_logs中msno有在valid_msno的dataframe      \n",
    "        df.sort_values(by = ['msno','date']).reset_index(drop = True)\n",
    "        gc.collect()\n",
    "        ##################################################\n",
    "        # Convert string to datetime format\n",
    "        ##################################################\n",
    "        # 這邊每一個loop花5分鐘的話\n",
    "        #print ('befor',df)\n",
    "        df['date']  = df.date.apply(lambda x: datetime.strptime(str(x), '%Y-%m-%d %H:%M:%S'))\n",
    "        #print ('after',df)\n",
    "        ##################################################\n",
    "        # Filtering accroding to w\n",
    "        ##################################################\n",
    "        if T == 0:\n",
    "            # w = 0:使用3月之前的資料當作history\n",
    "            df = df[ (df.date < datetime.strptime('2017-03-01', '%Y-%m-%d'))]\n",
    "        elif T == 1:\n",
    "            # w = 1:使用2月之前的資料當作history\n",
    "            df = df[ (df.date < datetime.strptime('2017-02-01', '%Y-%m-%d'))]\n",
    "        elif T == 2:\n",
    "            # w = 2:使用1月之前的資料當作history\n",
    "            df = df[ (df.date < datetime.strptime('2017-01-01', '%Y-%m-%d'))]\n",
    "        elif T == -1:\n",
    "            # w = -1:使用4月之前的資料當作history\n",
    "            df = df[ (df.date < datetime.strptime('2017-04-01', '%Y-%m-%d'))]\n",
    "        chunked_user_logs = chunked_user_logs.append(df)\n",
    "        print(\"Loop \",c,\"took %s seconds\" % (time.time() - start_time))\n",
    "        #print(\"User Logs {} df: {}\".format(str(c), df.shape))\n",
    "        if c > 5:\n",
    "            break\n",
    "    print(\"Shape of Chunked User Logs: {}\".format(chunked_user_logs.shape))\n",
    "    ##################################################\n",
    "    # write\n",
    "    ##################################################\n",
    "    path = '../feature/{}/compressed_user_logs'.format(folder)\n",
    "    gc.collect()\n",
    "    utils.to_multiple_csv(chunked_user_logs,path, split_size = 40)\n",
    "\n"
   ]
  },
  {
   "cell_type": "code",
   "execution_count": 5,
   "metadata": {},
   "outputs": [
    {
     "name": "stderr",
     "output_type": "stream",
     "text": [
      "100%|██████████| 2/2 [00:00<00:00, 1311.54it/s]\n",
      "100%|██████████| 9/9 [00:00<00:00, 771.26it/s]"
     ]
    },
    {
     "name": "stdout",
     "output_type": "stream",
     "text": [
      "reduce memory\n",
      "reduce memory\n"
     ]
    },
    {
     "name": "stderr",
     "output_type": "stream",
     "text": [
      "\n",
      "100%|██████████| 9/9 [00:00<00:00, 541.81it/s]"
     ]
    },
    {
     "name": "stdout",
     "output_type": "stream",
     "text": [
      "Loop  1 took 0.884397029876709 seconds\n",
      "reduce memory\n"
     ]
    },
    {
     "name": "stderr",
     "output_type": "stream",
     "text": [
      "\n",
      "100%|██████████| 9/9 [00:00<00:00, 947.25it/s]"
     ]
    },
    {
     "name": "stdout",
     "output_type": "stream",
     "text": [
      "Loop  2 took 1.7838091850280762 seconds\n",
      "reduce memory\n"
     ]
    },
    {
     "name": "stderr",
     "output_type": "stream",
     "text": [
      "\n",
      "100%|██████████| 9/9 [00:00<00:00, 798.22it/s]"
     ]
    },
    {
     "name": "stdout",
     "output_type": "stream",
     "text": [
      "Loop  3 took 2.6077301502227783 seconds\n",
      "reduce memory\n"
     ]
    },
    {
     "name": "stderr",
     "output_type": "stream",
     "text": [
      "\n",
      "100%|██████████| 9/9 [00:00<00:00, 735.41it/s]"
     ]
    },
    {
     "name": "stdout",
     "output_type": "stream",
     "text": [
      "Loop  4 took 3.4124221801757812 seconds\n",
      "reduce memory\n"
     ]
    },
    {
     "name": "stderr",
     "output_type": "stream",
     "text": [
      "\n",
      "100%|██████████| 9/9 [00:00<00:00, 868.13it/s]"
     ]
    },
    {
     "name": "stdout",
     "output_type": "stream",
     "text": [
      "Loop  5 took 4.239886045455933 seconds\n",
      "reduce memory\n"
     ]
    },
    {
     "name": "stderr",
     "output_type": "stream",
     "text": [
      "\n",
      "  0%|          | 0/40 [00:00<?, ?it/s]"
     ]
    },
    {
     "name": "stdout",
     "output_type": "stream",
     "text": [
      "Loop  6 took 5.08499813079834 seconds\n",
      "Shape of Chunked User Logs: (30067, 9)\n"
     ]
    },
    {
     "name": "stderr",
     "output_type": "stream",
     "text": [
      "100%|██████████| 40/40 [00:02<00:00, 14.41it/s]"
     ]
    },
    {
     "name": "stdout",
     "output_type": "stream",
     "text": [
      "9.612336158752441\n"
     ]
    },
    {
     "name": "stderr",
     "output_type": "stream",
     "text": [
      "\n"
     ]
    }
   ],
   "source": [
    "##################################################\n",
    "# Main\n",
    "##################################################\n",
    "s = time.time()\n",
    "make(-1)\n",
    "e = time.time()\n",
    "print (e-s)\n"
   ]
  },
  {
   "cell_type": "code",
   "execution_count": 64,
   "metadata": {},
   "outputs": [
    {
     "name": "stderr",
     "output_type": "stream",
     "text": [
      "100%|██████████| 40/40 [05:19<00:00,  7.99s/it]\n"
     ]
    }
   ],
   "source": [
    "T = 0\n",
    "folder = 'trainW-'+str(T)\n",
    "user_logs = utils.read_multiple_csv('../../feature/{}/compressed_user_logs'.format(folder))\n"
   ]
  },
  {
   "cell_type": "code",
   "execution_count": 66,
   "metadata": {},
   "outputs": [
    {
     "data": {
      "text/html": [
       "<div>\n",
       "<style scoped>\n",
       "    .dataframe tbody tr th:only-of-type {\n",
       "        vertical-align: middle;\n",
       "    }\n",
       "\n",
       "    .dataframe tbody tr th {\n",
       "        vertical-align: top;\n",
       "    }\n",
       "\n",
       "    .dataframe thead th {\n",
       "        text-align: right;\n",
       "    }\n",
       "</style>\n",
       "<table border=\"1\" class=\"dataframe\">\n",
       "  <thead>\n",
       "    <tr style=\"text-align: right;\">\n",
       "      <th></th>\n",
       "      <th>msno</th>\n",
       "      <th>date</th>\n",
       "      <th>num_25</th>\n",
       "      <th>num_50</th>\n",
       "      <th>num_75</th>\n",
       "      <th>num_985</th>\n",
       "      <th>num_100</th>\n",
       "      <th>num_unq</th>\n",
       "      <th>total_secs</th>\n",
       "    </tr>\n",
       "  </thead>\n",
       "  <tbody>\n",
       "    <tr>\n",
       "      <th>5610836</th>\n",
       "      <td>hAuFB/XFISrQWRqm1bl30H3LM5my0fZs30S6BMB94Yc=</td>\n",
       "      <td>2015-08-29</td>\n",
       "      <td>-100</td>\n",
       "      <td>57</td>\n",
       "      <td>66</td>\n",
       "      <td>24</td>\n",
       "      <td>23</td>\n",
       "      <td>277</td>\n",
       "      <td>2.696392e+04</td>\n",
       "    </tr>\n",
       "    <tr>\n",
       "      <th>5611355</th>\n",
       "      <td>kp33qJsM9w/oH5+euYXOPHxxuNoVYs7TsBcEnQ6I3NM=</td>\n",
       "      <td>2015-10-09</td>\n",
       "      <td>-65</td>\n",
       "      <td>11</td>\n",
       "      <td>7</td>\n",
       "      <td>12</td>\n",
       "      <td>37</td>\n",
       "      <td>212</td>\n",
       "      <td>1.218050e+04</td>\n",
       "    </tr>\n",
       "    <tr>\n",
       "      <th>5612140</th>\n",
       "      <td>I9i01ZHvrJzNtZPdpwAikxVL48+hyNemZC31F4fTm2U=</td>\n",
       "      <td>2016-07-08</td>\n",
       "      <td>-55</td>\n",
       "      <td>6</td>\n",
       "      <td>0</td>\n",
       "      <td>1</td>\n",
       "      <td>0</td>\n",
       "      <td>193</td>\n",
       "      <td>2.758248e+03</td>\n",
       "    </tr>\n",
       "    <tr>\n",
       "      <th>5613106</th>\n",
       "      <td>UDQmx2h+l5QZcZ3Dsjk1EajXQSpR78o97vKzqnjYxYo=</td>\n",
       "      <td>2016-04-15</td>\n",
       "      <td>-123</td>\n",
       "      <td>5</td>\n",
       "      <td>5</td>\n",
       "      <td>6</td>\n",
       "      <td>84</td>\n",
       "      <td>219</td>\n",
       "      <td>2.388755e+04</td>\n",
       "    </tr>\n",
       "    <tr>\n",
       "      <th>5613212</th>\n",
       "      <td>rrrrCTU1y+LAD/Kv/LJpwi3t7qm74NrRSyELTUPRrt4=</td>\n",
       "      <td>2015-05-30</td>\n",
       "      <td>-125</td>\n",
       "      <td>7</td>\n",
       "      <td>0</td>\n",
       "      <td>3</td>\n",
       "      <td>78</td>\n",
       "      <td>179</td>\n",
       "      <td>1.922832e+04</td>\n",
       "    </tr>\n",
       "    <tr>\n",
       "      <th>5613660</th>\n",
       "      <td>HNEUQHGdMI090Xo3h2f/RhB9y09TsqxHIEuE/rhUYqU=</td>\n",
       "      <td>2016-03-05</td>\n",
       "      <td>-123</td>\n",
       "      <td>2</td>\n",
       "      <td>1</td>\n",
       "      <td>4</td>\n",
       "      <td>35</td>\n",
       "      <td>168</td>\n",
       "      <td>9.710256e+03</td>\n",
       "    </tr>\n",
       "    <tr>\n",
       "      <th>5616100</th>\n",
       "      <td>RJdd69KEPtNtyWXR4p0GJNH4WuEftf4awSwZmtZ8bVI=</td>\n",
       "      <td>2016-11-04</td>\n",
       "      <td>-75</td>\n",
       "      <td>14</td>\n",
       "      <td>5</td>\n",
       "      <td>13</td>\n",
       "      <td>53</td>\n",
       "      <td>177</td>\n",
       "      <td>1.922162e+04</td>\n",
       "    </tr>\n",
       "    <tr>\n",
       "      <th>5617558</th>\n",
       "      <td>9bfAfYAtY6EAel020S1UtgalxdR7nEE+xeTWknEsDOo=</td>\n",
       "      <td>2016-10-12</td>\n",
       "      <td>-110</td>\n",
       "      <td>7</td>\n",
       "      <td>12</td>\n",
       "      <td>1</td>\n",
       "      <td>38</td>\n",
       "      <td>189</td>\n",
       "      <td>1.407540e+04</td>\n",
       "    </tr>\n",
       "    <tr>\n",
       "      <th>5617638</th>\n",
       "      <td>m0IMiU7cB8GG2tE/io8YZZvKmVa9tSxiDnSoqFP6OSo=</td>\n",
       "      <td>2016-10-09</td>\n",
       "      <td>-27</td>\n",
       "      <td>15</td>\n",
       "      <td>8</td>\n",
       "      <td>3</td>\n",
       "      <td>53</td>\n",
       "      <td>169</td>\n",
       "      <td>1.799832e+04</td>\n",
       "    </tr>\n",
       "    <tr>\n",
       "      <th>5617901</th>\n",
       "      <td>5cd/yVuvXN0xAPE5rBsv083OU41HNHSFy4LrzYMobgs=</td>\n",
       "      <td>2016-12-27</td>\n",
       "      <td>-81</td>\n",
       "      <td>64</td>\n",
       "      <td>19</td>\n",
       "      <td>5</td>\n",
       "      <td>159</td>\n",
       "      <td>382</td>\n",
       "      <td>5.235464e+04</td>\n",
       "    </tr>\n",
       "    <tr>\n",
       "      <th>5617937</th>\n",
       "      <td>M8jgnWZYj82fpbkcnb2xPbZaqlHuAyDv1BLieckRg6M=</td>\n",
       "      <td>2015-11-13</td>\n",
       "      <td>-113</td>\n",
       "      <td>2</td>\n",
       "      <td>3</td>\n",
       "      <td>2</td>\n",
       "      <td>42</td>\n",
       "      <td>161</td>\n",
       "      <td>1.157071e+04</td>\n",
       "    </tr>\n",
       "    <tr>\n",
       "      <th>5618013</th>\n",
       "      <td>fFjqTHdpJu7PLT7WJINckzr3mplI899KjAUzf07U4Cc=</td>\n",
       "      <td>2015-02-19</td>\n",
       "      <td>-97</td>\n",
       "      <td>4</td>\n",
       "      <td>1</td>\n",
       "      <td>1</td>\n",
       "      <td>44</td>\n",
       "      <td>151</td>\n",
       "      <td>1.235338e+04</td>\n",
       "    </tr>\n",
       "    <tr>\n",
       "      <th>5618141</th>\n",
       "      <td>IXZWDP36oZvhTbhbcW6j9dmRFF1/fu8g4QmeVpGYCUQ=</td>\n",
       "      <td>2015-07-27</td>\n",
       "      <td>-124</td>\n",
       "      <td>59</td>\n",
       "      <td>50</td>\n",
       "      <td>109</td>\n",
       "      <td>692</td>\n",
       "      <td>130</td>\n",
       "      <td>2.210310e+05</td>\n",
       "    </tr>\n",
       "    <tr>\n",
       "      <th>5619712</th>\n",
       "      <td>C0FU2WIAWp9sLhp5BVrXu74zqV15jVlnsrlhPkZsaao=</td>\n",
       "      <td>2017-01-28</td>\n",
       "      <td>-106</td>\n",
       "      <td>38</td>\n",
       "      <td>29</td>\n",
       "      <td>11</td>\n",
       "      <td>47</td>\n",
       "      <td>201</td>\n",
       "      <td>2.019184e+04</td>\n",
       "    </tr>\n",
       "    <tr>\n",
       "      <th>5620586</th>\n",
       "      <td>WeiXtd9EtjXKAzghpaRMNSBKmxVLby07PYgvkcecFSA=</td>\n",
       "      <td>2016-06-25</td>\n",
       "      <td>-114</td>\n",
       "      <td>63</td>\n",
       "      <td>24</td>\n",
       "      <td>11</td>\n",
       "      <td>29</td>\n",
       "      <td>242</td>\n",
       "      <td>1.848034e+04</td>\n",
       "    </tr>\n",
       "    <tr>\n",
       "      <th>5621962</th>\n",
       "      <td>WvSUjUOdFnBCstL6QwGMF1xbalNDqDSgapbBdyl6vmM=</td>\n",
       "      <td>2016-06-16</td>\n",
       "      <td>-128</td>\n",
       "      <td>18</td>\n",
       "      <td>10</td>\n",
       "      <td>4</td>\n",
       "      <td>65</td>\n",
       "      <td>197</td>\n",
       "      <td>2.171955e+04</td>\n",
       "    </tr>\n",
       "    <tr>\n",
       "      <th>5622042</th>\n",
       "      <td>yl3h5lPzsXHP1EfY3s77xtS0D2TLL0iy/PaiSVmbRCU=</td>\n",
       "      <td>2016-01-20</td>\n",
       "      <td>-111</td>\n",
       "      <td>7</td>\n",
       "      <td>3</td>\n",
       "      <td>4</td>\n",
       "      <td>15</td>\n",
       "      <td>112</td>\n",
       "      <td>5.738153e+03</td>\n",
       "    </tr>\n",
       "    <tr>\n",
       "      <th>5622045</th>\n",
       "      <td>yl3h5lPzsXHP1EfY3s77xtS0D2TLL0iy/PaiSVmbRCU=</td>\n",
       "      <td>2016-07-17</td>\n",
       "      <td>-66</td>\n",
       "      <td>10</td>\n",
       "      <td>4</td>\n",
       "      <td>7</td>\n",
       "      <td>16</td>\n",
       "      <td>162</td>\n",
       "      <td>7.490293e+03</td>\n",
       "    </tr>\n",
       "    <tr>\n",
       "      <th>5622566</th>\n",
       "      <td>9ma91iR6yDlZH9kt3qXhXvUcsLCjRLCGfr0u+Ud5W9A=</td>\n",
       "      <td>2016-07-24</td>\n",
       "      <td>-126</td>\n",
       "      <td>121</td>\n",
       "      <td>12</td>\n",
       "      <td>3</td>\n",
       "      <td>42</td>\n",
       "      <td>269</td>\n",
       "      <td>2.642930e+04</td>\n",
       "    </tr>\n",
       "    <tr>\n",
       "      <th>5623764</th>\n",
       "      <td>GreGEKEMcH1zBRntcZ9LU7c0C9aq8/CwBzTB+cffXEs=</td>\n",
       "      <td>2015-09-07</td>\n",
       "      <td>-126</td>\n",
       "      <td>8</td>\n",
       "      <td>9</td>\n",
       "      <td>7</td>\n",
       "      <td>20</td>\n",
       "      <td>94</td>\n",
       "      <td>7.915121e+03</td>\n",
       "    </tr>\n",
       "    <tr>\n",
       "      <th>5624053</th>\n",
       "      <td>Cdahgw4Gd0JtIhxdCoBn9UK72xV/8DsvDy2gnA4lkQs=</td>\n",
       "      <td>2015-12-26</td>\n",
       "      <td>-84</td>\n",
       "      <td>20</td>\n",
       "      <td>4</td>\n",
       "      <td>11</td>\n",
       "      <td>84</td>\n",
       "      <td>153</td>\n",
       "      <td>2.670173e+04</td>\n",
       "    </tr>\n",
       "    <tr>\n",
       "      <th>5624572</th>\n",
       "      <td>jmpKXUSSswvou8emdctg+kkRLykuHYaOwA3+MaXG5bQ=</td>\n",
       "      <td>2015-08-08</td>\n",
       "      <td>-77</td>\n",
       "      <td>5</td>\n",
       "      <td>2</td>\n",
       "      <td>8</td>\n",
       "      <td>106</td>\n",
       "      <td>247</td>\n",
       "      <td>3.074889e+04</td>\n",
       "    </tr>\n",
       "    <tr>\n",
       "      <th>5624615</th>\n",
       "      <td>HY+YG7/Vw2MlEMKRiu9miCoLMd24gYAnXqU2ti8MvUc=</td>\n",
       "      <td>2016-03-20</td>\n",
       "      <td>-110</td>\n",
       "      <td>66</td>\n",
       "      <td>15</td>\n",
       "      <td>2</td>\n",
       "      <td>62</td>\n",
       "      <td>266</td>\n",
       "      <td>2.653626e+04</td>\n",
       "    </tr>\n",
       "    <tr>\n",
       "      <th>5626401</th>\n",
       "      <td>I7fEpAR6gbHgYK7iLLx5+B4+ppQ8ZMqWJ8e8+xVwq7g=</td>\n",
       "      <td>2015-11-08</td>\n",
       "      <td>-61</td>\n",
       "      <td>21</td>\n",
       "      <td>28</td>\n",
       "      <td>12</td>\n",
       "      <td>117</td>\n",
       "      <td>77</td>\n",
       "      <td>3.391708e+04</td>\n",
       "    </tr>\n",
       "    <tr>\n",
       "      <th>5627046</th>\n",
       "      <td>3BsllrkM3SyYEBMZVsK9IYiSVHKIFTkpxbON+jwwwNE=</td>\n",
       "      <td>2016-02-07</td>\n",
       "      <td>-109</td>\n",
       "      <td>3</td>\n",
       "      <td>3</td>\n",
       "      <td>9</td>\n",
       "      <td>22</td>\n",
       "      <td>113</td>\n",
       "      <td>8.217321e+03</td>\n",
       "    </tr>\n",
       "    <tr>\n",
       "      <th>5627143</th>\n",
       "      <td>gf/MDWqZoNSBT6J7iKY5o6GxbiAGyo3Zo+g1M3m1pJ8=</td>\n",
       "      <td>2016-12-29</td>\n",
       "      <td>-110</td>\n",
       "      <td>6</td>\n",
       "      <td>4</td>\n",
       "      <td>8</td>\n",
       "      <td>112</td>\n",
       "      <td>210</td>\n",
       "      <td>3.184095e+04</td>\n",
       "    </tr>\n",
       "    <tr>\n",
       "      <th>5627177</th>\n",
       "      <td>J2zS6cSr9hBIYkkgArndy13goiNqRnGEp5YxrxdPD2E=</td>\n",
       "      <td>2016-11-25</td>\n",
       "      <td>-128</td>\n",
       "      <td>1</td>\n",
       "      <td>0</td>\n",
       "      <td>2</td>\n",
       "      <td>51</td>\n",
       "      <td>157</td>\n",
       "      <td>1.278463e+04</td>\n",
       "    </tr>\n",
       "    <tr>\n",
       "      <th>5629025</th>\n",
       "      <td>hQ2Tzn6et9nY99FzluvSjZIvh8bcNF96BX3Gg3xE02M=</td>\n",
       "      <td>2016-11-18</td>\n",
       "      <td>-94</td>\n",
       "      <td>4</td>\n",
       "      <td>3</td>\n",
       "      <td>0</td>\n",
       "      <td>63</td>\n",
       "      <td>157</td>\n",
       "      <td>2.073115e+04</td>\n",
       "    </tr>\n",
       "    <tr>\n",
       "      <th>5629408</th>\n",
       "      <td>RTfC7xjm6fc7e/IRRbyFaqsCnew5XHCIlQtYljevmsM=</td>\n",
       "      <td>2016-09-05</td>\n",
       "      <td>-37</td>\n",
       "      <td>2</td>\n",
       "      <td>0</td>\n",
       "      <td>0</td>\n",
       "      <td>95</td>\n",
       "      <td>243</td>\n",
       "      <td>2.136113e+04</td>\n",
       "    </tr>\n",
       "    <tr>\n",
       "      <th>5629995</th>\n",
       "      <td>MZDYvOANFl4nrBV+GDKe8l7NaTTbyQPIdGY8iG3jyeU=</td>\n",
       "      <td>2015-01-22</td>\n",
       "      <td>-111</td>\n",
       "      <td>17</td>\n",
       "      <td>7</td>\n",
       "      <td>2</td>\n",
       "      <td>59</td>\n",
       "      <td>193</td>\n",
       "      <td>1.985178e+04</td>\n",
       "    </tr>\n",
       "    <tr>\n",
       "      <th>...</th>\n",
       "      <td>...</td>\n",
       "      <td>...</td>\n",
       "      <td>...</td>\n",
       "      <td>...</td>\n",
       "      <td>...</td>\n",
       "      <td>...</td>\n",
       "      <td>...</td>\n",
       "      <td>...</td>\n",
       "      <td>...</td>\n",
       "    </tr>\n",
       "    <tr>\n",
       "      <th>10965109</th>\n",
       "      <td>dCUjAgmsVkkAvnLTsmmDBlyS0F86bE0/w+4LLAmjv5U=</td>\n",
       "      <td>2016-03-30</td>\n",
       "      <td>-83</td>\n",
       "      <td>6</td>\n",
       "      <td>4</td>\n",
       "      <td>6</td>\n",
       "      <td>22</td>\n",
       "      <td>172</td>\n",
       "      <td>9.112969e+03</td>\n",
       "    </tr>\n",
       "    <tr>\n",
       "      <th>10965243</th>\n",
       "      <td>UV+VGbg+bHT2DqMayGGyTt1SIFx54BKvaC6MSZKCVfA=</td>\n",
       "      <td>2016-01-01</td>\n",
       "      <td>-90</td>\n",
       "      <td>5</td>\n",
       "      <td>2</td>\n",
       "      <td>0</td>\n",
       "      <td>85</td>\n",
       "      <td>223</td>\n",
       "      <td>2.226796e+04</td>\n",
       "    </tr>\n",
       "    <tr>\n",
       "      <th>10965987</th>\n",
       "      <td>FTrTnM+0H0BeS1WRWV0Hb92O37TqoMj82HJTigTHxSs=</td>\n",
       "      <td>2015-10-21</td>\n",
       "      <td>-125</td>\n",
       "      <td>4</td>\n",
       "      <td>4</td>\n",
       "      <td>2</td>\n",
       "      <td>32</td>\n",
       "      <td>154</td>\n",
       "      <td>9.339984e+03</td>\n",
       "    </tr>\n",
       "    <tr>\n",
       "      <th>10966122</th>\n",
       "      <td>jXxJUCx9MZhzzzYoC8MF3XQqunVOh7sOdZa18WV0ti0=</td>\n",
       "      <td>2015-09-30</td>\n",
       "      <td>-119</td>\n",
       "      <td>32</td>\n",
       "      <td>2</td>\n",
       "      <td>0</td>\n",
       "      <td>33</td>\n",
       "      <td>142</td>\n",
       "      <td>1.453720e+04</td>\n",
       "    </tr>\n",
       "    <tr>\n",
       "      <th>10966727</th>\n",
       "      <td>2vkvcL+nXPv7l9Wbn65vVPhMaBz35cItuVNPT4GhQWE=</td>\n",
       "      <td>2016-01-29</td>\n",
       "      <td>-61</td>\n",
       "      <td>9</td>\n",
       "      <td>1</td>\n",
       "      <td>5</td>\n",
       "      <td>20</td>\n",
       "      <td>168</td>\n",
       "      <td>6.903064e+03</td>\n",
       "    </tr>\n",
       "    <tr>\n",
       "      <th>10967157</th>\n",
       "      <td>ARylz6d2Pyk1C0A1DNNIkCmcQuP8g3RwyF2vN1gZVLs=</td>\n",
       "      <td>2016-10-16</td>\n",
       "      <td>-39</td>\n",
       "      <td>10</td>\n",
       "      <td>9</td>\n",
       "      <td>5</td>\n",
       "      <td>63</td>\n",
       "      <td>256</td>\n",
       "      <td>2.276987e+04</td>\n",
       "    </tr>\n",
       "    <tr>\n",
       "      <th>10967786</th>\n",
       "      <td>Xeies4csS0DoS5OmRYOdqJIsC7jXZnuuyyOK8nyqjYo=</td>\n",
       "      <td>2016-10-20</td>\n",
       "      <td>-104</td>\n",
       "      <td>1</td>\n",
       "      <td>0</td>\n",
       "      <td>0</td>\n",
       "      <td>1</td>\n",
       "      <td>148</td>\n",
       "      <td>1.277097e+03</td>\n",
       "    </tr>\n",
       "    <tr>\n",
       "      <th>10972197</th>\n",
       "      <td>gdJrH8rY7OCl0o39ynUNimGUjjctgW7wZjEJy91Dw7w=</td>\n",
       "      <td>2015-10-24</td>\n",
       "      <td>-123</td>\n",
       "      <td>7</td>\n",
       "      <td>1</td>\n",
       "      <td>8</td>\n",
       "      <td>35</td>\n",
       "      <td>162</td>\n",
       "      <td>1.111605e+04</td>\n",
       "    </tr>\n",
       "    <tr>\n",
       "      <th>10973010</th>\n",
       "      <td>1wabnApr+y5Zw8awF9FwvyqEsVNqis20cz1CJn0Vm+s=</td>\n",
       "      <td>2016-10-15</td>\n",
       "      <td>-122</td>\n",
       "      <td>3</td>\n",
       "      <td>3</td>\n",
       "      <td>6</td>\n",
       "      <td>39</td>\n",
       "      <td>171</td>\n",
       "      <td>1.081677e+04</td>\n",
       "    </tr>\n",
       "    <tr>\n",
       "      <th>10973174</th>\n",
       "      <td>wCzTvhGLCKolk1Q59K0iuRnauCcsyAzBhvE/h5Tltl0=</td>\n",
       "      <td>2016-02-20</td>\n",
       "      <td>-83</td>\n",
       "      <td>3</td>\n",
       "      <td>2</td>\n",
       "      <td>2</td>\n",
       "      <td>12</td>\n",
       "      <td>171</td>\n",
       "      <td>4.456123e+03</td>\n",
       "    </tr>\n",
       "    <tr>\n",
       "      <th>10974810</th>\n",
       "      <td>MW38q4DZaea9OrHgYVgSrKsRYR5p250kQ/EeZZ24DJY=</td>\n",
       "      <td>2016-09-02</td>\n",
       "      <td>-127</td>\n",
       "      <td>37</td>\n",
       "      <td>11</td>\n",
       "      <td>2</td>\n",
       "      <td>26</td>\n",
       "      <td>195</td>\n",
       "      <td>1.505977e+04</td>\n",
       "    </tr>\n",
       "    <tr>\n",
       "      <th>10976317</th>\n",
       "      <td>JMSHcK3GR81Egd0VLP32X+dIXK5yfFpvsKVlYXzsuJ8=</td>\n",
       "      <td>2016-09-17</td>\n",
       "      <td>-98</td>\n",
       "      <td>1</td>\n",
       "      <td>6</td>\n",
       "      <td>3</td>\n",
       "      <td>12</td>\n",
       "      <td>161</td>\n",
       "      <td>4.433542e+03</td>\n",
       "    </tr>\n",
       "    <tr>\n",
       "      <th>10976318</th>\n",
       "      <td>JMSHcK3GR81Egd0VLP32X+dIXK5yfFpvsKVlYXzsuJ8=</td>\n",
       "      <td>2016-11-09</td>\n",
       "      <td>-122</td>\n",
       "      <td>4</td>\n",
       "      <td>1</td>\n",
       "      <td>5</td>\n",
       "      <td>16</td>\n",
       "      <td>136</td>\n",
       "      <td>5.715936e+03</td>\n",
       "    </tr>\n",
       "    <tr>\n",
       "      <th>10977438</th>\n",
       "      <td>VBWgsqi9qDR3YPL70RTrGssxGinVV4hFoYaAxOIw8WY=</td>\n",
       "      <td>2015-01-09</td>\n",
       "      <td>-113</td>\n",
       "      <td>1</td>\n",
       "      <td>3</td>\n",
       "      <td>2</td>\n",
       "      <td>14</td>\n",
       "      <td>147</td>\n",
       "      <td>5.155645e+03</td>\n",
       "    </tr>\n",
       "    <tr>\n",
       "      <th>10977442</th>\n",
       "      <td>VBWgsqi9qDR3YPL70RTrGssxGinVV4hFoYaAxOIw8WY=</td>\n",
       "      <td>2015-08-27</td>\n",
       "      <td>-124</td>\n",
       "      <td>3</td>\n",
       "      <td>3</td>\n",
       "      <td>0</td>\n",
       "      <td>21</td>\n",
       "      <td>140</td>\n",
       "      <td>-9.223372e+15</td>\n",
       "    </tr>\n",
       "    <tr>\n",
       "      <th>10977777</th>\n",
       "      <td>cb53Gqt9FiURnrk9zJUXMaxh+rp5EIQRu+IiM8dt4nY=</td>\n",
       "      <td>2016-07-24</td>\n",
       "      <td>-63</td>\n",
       "      <td>1</td>\n",
       "      <td>1</td>\n",
       "      <td>1</td>\n",
       "      <td>40</td>\n",
       "      <td>131</td>\n",
       "      <td>1.120187e+04</td>\n",
       "    </tr>\n",
       "    <tr>\n",
       "      <th>10978025</th>\n",
       "      <td>v/2wSE12WpgDVJfMNn6AtVB6WVuBKi3sZIN2FzDPo/w=</td>\n",
       "      <td>2015-07-21</td>\n",
       "      <td>-115</td>\n",
       "      <td>4</td>\n",
       "      <td>3</td>\n",
       "      <td>1</td>\n",
       "      <td>125</td>\n",
       "      <td>238</td>\n",
       "      <td>3.308019e+04</td>\n",
       "    </tr>\n",
       "    <tr>\n",
       "      <th>10978040</th>\n",
       "      <td>N112ma3BL2gTWRit7PaqV6KGpdpQO31HXprBaB3Z8bA=</td>\n",
       "      <td>2015-11-22</td>\n",
       "      <td>-115</td>\n",
       "      <td>21</td>\n",
       "      <td>8</td>\n",
       "      <td>4</td>\n",
       "      <td>25</td>\n",
       "      <td>64</td>\n",
       "      <td>1.039502e+04</td>\n",
       "    </tr>\n",
       "    <tr>\n",
       "      <th>10978041</th>\n",
       "      <td>N112ma3BL2gTWRit7PaqV6KGpdpQO31HXprBaB3Z8bA=</td>\n",
       "      <td>2016-01-12</td>\n",
       "      <td>-110</td>\n",
       "      <td>14</td>\n",
       "      <td>10</td>\n",
       "      <td>8</td>\n",
       "      <td>165</td>\n",
       "      <td>179</td>\n",
       "      <td>4.465362e+04</td>\n",
       "    </tr>\n",
       "    <tr>\n",
       "      <th>10980220</th>\n",
       "      <td>fTKQ1G2UtuF1CGyB8d2mlOPGxGY88PMhCOuQB/ujZkw=</td>\n",
       "      <td>2015-03-12</td>\n",
       "      <td>-22</td>\n",
       "      <td>-94</td>\n",
       "      <td>-52</td>\n",
       "      <td>18</td>\n",
       "      <td>6</td>\n",
       "      <td>818</td>\n",
       "      <td>7.675085e+04</td>\n",
       "    </tr>\n",
       "    <tr>\n",
       "      <th>10980226</th>\n",
       "      <td>fTKQ1G2UtuF1CGyB8d2mlOPGxGY88PMhCOuQB/ujZkw=</td>\n",
       "      <td>2016-05-07</td>\n",
       "      <td>-84</td>\n",
       "      <td>41</td>\n",
       "      <td>69</td>\n",
       "      <td>9</td>\n",
       "      <td>70</td>\n",
       "      <td>770</td>\n",
       "      <td>6.168454e+04</td>\n",
       "    </tr>\n",
       "    <tr>\n",
       "      <th>10980810</th>\n",
       "      <td>iKIDAftATLqA+BjWlBTbxGSFzS+OLCzzdsp1XZ79iY0=</td>\n",
       "      <td>2016-01-18</td>\n",
       "      <td>-117</td>\n",
       "      <td>18</td>\n",
       "      <td>5</td>\n",
       "      <td>4</td>\n",
       "      <td>14</td>\n",
       "      <td>167</td>\n",
       "      <td>7.194307e+03</td>\n",
       "    </tr>\n",
       "    <tr>\n",
       "      <th>10981213</th>\n",
       "      <td>gtxlzQ54CufTVpqXo2cDwVh9YQvnNrSN9c3bm6SRxmI=</td>\n",
       "      <td>2015-07-26</td>\n",
       "      <td>-17</td>\n",
       "      <td>3</td>\n",
       "      <td>2</td>\n",
       "      <td>5</td>\n",
       "      <td>54</td>\n",
       "      <td>266</td>\n",
       "      <td>1.502053e+04</td>\n",
       "    </tr>\n",
       "    <tr>\n",
       "      <th>10981881</th>\n",
       "      <td>couAV1DxgTti/CsAO247AGYsILezEzjg4pdAgyuUgSU=</td>\n",
       "      <td>2016-11-12</td>\n",
       "      <td>-115</td>\n",
       "      <td>34</td>\n",
       "      <td>7</td>\n",
       "      <td>3</td>\n",
       "      <td>31</td>\n",
       "      <td>143</td>\n",
       "      <td>1.386333e+04</td>\n",
       "    </tr>\n",
       "    <tr>\n",
       "      <th>10981959</th>\n",
       "      <td>NX0u4iyFq2cywpYQwQWu8daF+tT7WKJoxWTKjP8c4XY=</td>\n",
       "      <td>2016-10-13</td>\n",
       "      <td>-125</td>\n",
       "      <td>5</td>\n",
       "      <td>3</td>\n",
       "      <td>7</td>\n",
       "      <td>21</td>\n",
       "      <td>136</td>\n",
       "      <td>7.328188e+03</td>\n",
       "    </tr>\n",
       "    <tr>\n",
       "      <th>10982205</th>\n",
       "      <td>8p44yafL1P1GRV0sO5d5l8mPIcLSGK0aXhFkzbqmVMs=</td>\n",
       "      <td>2016-01-03</td>\n",
       "      <td>-114</td>\n",
       "      <td>9</td>\n",
       "      <td>2</td>\n",
       "      <td>6</td>\n",
       "      <td>19</td>\n",
       "      <td>151</td>\n",
       "      <td>6.832675e+03</td>\n",
       "    </tr>\n",
       "    <tr>\n",
       "      <th>10982634</th>\n",
       "      <td>q8DRpyodeMbihIA/njd2/r4i089lfIQcd8Z9pPHHs7c=</td>\n",
       "      <td>2016-05-25</td>\n",
       "      <td>-124</td>\n",
       "      <td>2</td>\n",
       "      <td>2</td>\n",
       "      <td>6</td>\n",
       "      <td>51</td>\n",
       "      <td>94</td>\n",
       "      <td>1.529311e+04</td>\n",
       "    </tr>\n",
       "    <tr>\n",
       "      <th>10983720</th>\n",
       "      <td>45dydgis9wiNxOobGcn/oQ1/MxlEVxhSsrep6IJBW6E=</td>\n",
       "      <td>2016-06-30</td>\n",
       "      <td>-112</td>\n",
       "      <td>2</td>\n",
       "      <td>2</td>\n",
       "      <td>0</td>\n",
       "      <td>27</td>\n",
       "      <td>91</td>\n",
       "      <td>7.599299e+03</td>\n",
       "    </tr>\n",
       "    <tr>\n",
       "      <th>10983739</th>\n",
       "      <td>9ZvmCsg/PpUAofobPAGz9k7ihTkeC/fHcbTGx4w3R6o=</td>\n",
       "      <td>2016-10-10</td>\n",
       "      <td>-27</td>\n",
       "      <td>9</td>\n",
       "      <td>0</td>\n",
       "      <td>1</td>\n",
       "      <td>1</td>\n",
       "      <td>225</td>\n",
       "      <td>1.766141e+03</td>\n",
       "    </tr>\n",
       "    <tr>\n",
       "      <th>10985543</th>\n",
       "      <td>MnhvVckVD00TtBLNun9g79LqvbejCajecm8jhPNpadI=</td>\n",
       "      <td>2017-02-06</td>\n",
       "      <td>-109</td>\n",
       "      <td>7</td>\n",
       "      <td>6</td>\n",
       "      <td>2</td>\n",
       "      <td>42</td>\n",
       "      <td>129</td>\n",
       "      <td>1.342789e+04</td>\n",
       "    </tr>\n",
       "  </tbody>\n",
       "</table>\n",
       "<p>132543 rows × 9 columns</p>\n",
       "</div>"
      ],
      "text/plain": [
       "                                                  msno        date  num_25  \\\n",
       "5610836   hAuFB/XFISrQWRqm1bl30H3LM5my0fZs30S6BMB94Yc=  2015-08-29    -100   \n",
       "5611355   kp33qJsM9w/oH5+euYXOPHxxuNoVYs7TsBcEnQ6I3NM=  2015-10-09     -65   \n",
       "5612140   I9i01ZHvrJzNtZPdpwAikxVL48+hyNemZC31F4fTm2U=  2016-07-08     -55   \n",
       "5613106   UDQmx2h+l5QZcZ3Dsjk1EajXQSpR78o97vKzqnjYxYo=  2016-04-15    -123   \n",
       "5613212   rrrrCTU1y+LAD/Kv/LJpwi3t7qm74NrRSyELTUPRrt4=  2015-05-30    -125   \n",
       "5613660   HNEUQHGdMI090Xo3h2f/RhB9y09TsqxHIEuE/rhUYqU=  2016-03-05    -123   \n",
       "5616100   RJdd69KEPtNtyWXR4p0GJNH4WuEftf4awSwZmtZ8bVI=  2016-11-04     -75   \n",
       "5617558   9bfAfYAtY6EAel020S1UtgalxdR7nEE+xeTWknEsDOo=  2016-10-12    -110   \n",
       "5617638   m0IMiU7cB8GG2tE/io8YZZvKmVa9tSxiDnSoqFP6OSo=  2016-10-09     -27   \n",
       "5617901   5cd/yVuvXN0xAPE5rBsv083OU41HNHSFy4LrzYMobgs=  2016-12-27     -81   \n",
       "5617937   M8jgnWZYj82fpbkcnb2xPbZaqlHuAyDv1BLieckRg6M=  2015-11-13    -113   \n",
       "5618013   fFjqTHdpJu7PLT7WJINckzr3mplI899KjAUzf07U4Cc=  2015-02-19     -97   \n",
       "5618141   IXZWDP36oZvhTbhbcW6j9dmRFF1/fu8g4QmeVpGYCUQ=  2015-07-27    -124   \n",
       "5619712   C0FU2WIAWp9sLhp5BVrXu74zqV15jVlnsrlhPkZsaao=  2017-01-28    -106   \n",
       "5620586   WeiXtd9EtjXKAzghpaRMNSBKmxVLby07PYgvkcecFSA=  2016-06-25    -114   \n",
       "5621962   WvSUjUOdFnBCstL6QwGMF1xbalNDqDSgapbBdyl6vmM=  2016-06-16    -128   \n",
       "5622042   yl3h5lPzsXHP1EfY3s77xtS0D2TLL0iy/PaiSVmbRCU=  2016-01-20    -111   \n",
       "5622045   yl3h5lPzsXHP1EfY3s77xtS0D2TLL0iy/PaiSVmbRCU=  2016-07-17     -66   \n",
       "5622566   9ma91iR6yDlZH9kt3qXhXvUcsLCjRLCGfr0u+Ud5W9A=  2016-07-24    -126   \n",
       "5623764   GreGEKEMcH1zBRntcZ9LU7c0C9aq8/CwBzTB+cffXEs=  2015-09-07    -126   \n",
       "5624053   Cdahgw4Gd0JtIhxdCoBn9UK72xV/8DsvDy2gnA4lkQs=  2015-12-26     -84   \n",
       "5624572   jmpKXUSSswvou8emdctg+kkRLykuHYaOwA3+MaXG5bQ=  2015-08-08     -77   \n",
       "5624615   HY+YG7/Vw2MlEMKRiu9miCoLMd24gYAnXqU2ti8MvUc=  2016-03-20    -110   \n",
       "5626401   I7fEpAR6gbHgYK7iLLx5+B4+ppQ8ZMqWJ8e8+xVwq7g=  2015-11-08     -61   \n",
       "5627046   3BsllrkM3SyYEBMZVsK9IYiSVHKIFTkpxbON+jwwwNE=  2016-02-07    -109   \n",
       "5627143   gf/MDWqZoNSBT6J7iKY5o6GxbiAGyo3Zo+g1M3m1pJ8=  2016-12-29    -110   \n",
       "5627177   J2zS6cSr9hBIYkkgArndy13goiNqRnGEp5YxrxdPD2E=  2016-11-25    -128   \n",
       "5629025   hQ2Tzn6et9nY99FzluvSjZIvh8bcNF96BX3Gg3xE02M=  2016-11-18     -94   \n",
       "5629408   RTfC7xjm6fc7e/IRRbyFaqsCnew5XHCIlQtYljevmsM=  2016-09-05     -37   \n",
       "5629995   MZDYvOANFl4nrBV+GDKe8l7NaTTbyQPIdGY8iG3jyeU=  2015-01-22    -111   \n",
       "...                                                ...         ...     ...   \n",
       "10965109  dCUjAgmsVkkAvnLTsmmDBlyS0F86bE0/w+4LLAmjv5U=  2016-03-30     -83   \n",
       "10965243  UV+VGbg+bHT2DqMayGGyTt1SIFx54BKvaC6MSZKCVfA=  2016-01-01     -90   \n",
       "10965987  FTrTnM+0H0BeS1WRWV0Hb92O37TqoMj82HJTigTHxSs=  2015-10-21    -125   \n",
       "10966122  jXxJUCx9MZhzzzYoC8MF3XQqunVOh7sOdZa18WV0ti0=  2015-09-30    -119   \n",
       "10966727  2vkvcL+nXPv7l9Wbn65vVPhMaBz35cItuVNPT4GhQWE=  2016-01-29     -61   \n",
       "10967157  ARylz6d2Pyk1C0A1DNNIkCmcQuP8g3RwyF2vN1gZVLs=  2016-10-16     -39   \n",
       "10967786  Xeies4csS0DoS5OmRYOdqJIsC7jXZnuuyyOK8nyqjYo=  2016-10-20    -104   \n",
       "10972197  gdJrH8rY7OCl0o39ynUNimGUjjctgW7wZjEJy91Dw7w=  2015-10-24    -123   \n",
       "10973010  1wabnApr+y5Zw8awF9FwvyqEsVNqis20cz1CJn0Vm+s=  2016-10-15    -122   \n",
       "10973174  wCzTvhGLCKolk1Q59K0iuRnauCcsyAzBhvE/h5Tltl0=  2016-02-20     -83   \n",
       "10974810  MW38q4DZaea9OrHgYVgSrKsRYR5p250kQ/EeZZ24DJY=  2016-09-02    -127   \n",
       "10976317  JMSHcK3GR81Egd0VLP32X+dIXK5yfFpvsKVlYXzsuJ8=  2016-09-17     -98   \n",
       "10976318  JMSHcK3GR81Egd0VLP32X+dIXK5yfFpvsKVlYXzsuJ8=  2016-11-09    -122   \n",
       "10977438  VBWgsqi9qDR3YPL70RTrGssxGinVV4hFoYaAxOIw8WY=  2015-01-09    -113   \n",
       "10977442  VBWgsqi9qDR3YPL70RTrGssxGinVV4hFoYaAxOIw8WY=  2015-08-27    -124   \n",
       "10977777  cb53Gqt9FiURnrk9zJUXMaxh+rp5EIQRu+IiM8dt4nY=  2016-07-24     -63   \n",
       "10978025  v/2wSE12WpgDVJfMNn6AtVB6WVuBKi3sZIN2FzDPo/w=  2015-07-21    -115   \n",
       "10978040  N112ma3BL2gTWRit7PaqV6KGpdpQO31HXprBaB3Z8bA=  2015-11-22    -115   \n",
       "10978041  N112ma3BL2gTWRit7PaqV6KGpdpQO31HXprBaB3Z8bA=  2016-01-12    -110   \n",
       "10980220  fTKQ1G2UtuF1CGyB8d2mlOPGxGY88PMhCOuQB/ujZkw=  2015-03-12     -22   \n",
       "10980226  fTKQ1G2UtuF1CGyB8d2mlOPGxGY88PMhCOuQB/ujZkw=  2016-05-07     -84   \n",
       "10980810  iKIDAftATLqA+BjWlBTbxGSFzS+OLCzzdsp1XZ79iY0=  2016-01-18    -117   \n",
       "10981213  gtxlzQ54CufTVpqXo2cDwVh9YQvnNrSN9c3bm6SRxmI=  2015-07-26     -17   \n",
       "10981881  couAV1DxgTti/CsAO247AGYsILezEzjg4pdAgyuUgSU=  2016-11-12    -115   \n",
       "10981959  NX0u4iyFq2cywpYQwQWu8daF+tT7WKJoxWTKjP8c4XY=  2016-10-13    -125   \n",
       "10982205  8p44yafL1P1GRV0sO5d5l8mPIcLSGK0aXhFkzbqmVMs=  2016-01-03    -114   \n",
       "10982634  q8DRpyodeMbihIA/njd2/r4i089lfIQcd8Z9pPHHs7c=  2016-05-25    -124   \n",
       "10983720  45dydgis9wiNxOobGcn/oQ1/MxlEVxhSsrep6IJBW6E=  2016-06-30    -112   \n",
       "10983739  9ZvmCsg/PpUAofobPAGz9k7ihTkeC/fHcbTGx4w3R6o=  2016-10-10     -27   \n",
       "10985543  MnhvVckVD00TtBLNun9g79LqvbejCajecm8jhPNpadI=  2017-02-06    -109   \n",
       "\n",
       "          num_50  num_75  num_985  num_100  num_unq    total_secs  \n",
       "5610836       57      66       24       23      277  2.696392e+04  \n",
       "5611355       11       7       12       37      212  1.218050e+04  \n",
       "5612140        6       0        1        0      193  2.758248e+03  \n",
       "5613106        5       5        6       84      219  2.388755e+04  \n",
       "5613212        7       0        3       78      179  1.922832e+04  \n",
       "5613660        2       1        4       35      168  9.710256e+03  \n",
       "5616100       14       5       13       53      177  1.922162e+04  \n",
       "5617558        7      12        1       38      189  1.407540e+04  \n",
       "5617638       15       8        3       53      169  1.799832e+04  \n",
       "5617901       64      19        5      159      382  5.235464e+04  \n",
       "5617937        2       3        2       42      161  1.157071e+04  \n",
       "5618013        4       1        1       44      151  1.235338e+04  \n",
       "5618141       59      50      109      692      130  2.210310e+05  \n",
       "5619712       38      29       11       47      201  2.019184e+04  \n",
       "5620586       63      24       11       29      242  1.848034e+04  \n",
       "5621962       18      10        4       65      197  2.171955e+04  \n",
       "5622042        7       3        4       15      112  5.738153e+03  \n",
       "5622045       10       4        7       16      162  7.490293e+03  \n",
       "5622566      121      12        3       42      269  2.642930e+04  \n",
       "5623764        8       9        7       20       94  7.915121e+03  \n",
       "5624053       20       4       11       84      153  2.670173e+04  \n",
       "5624572        5       2        8      106      247  3.074889e+04  \n",
       "5624615       66      15        2       62      266  2.653626e+04  \n",
       "5626401       21      28       12      117       77  3.391708e+04  \n",
       "5627046        3       3        9       22      113  8.217321e+03  \n",
       "5627143        6       4        8      112      210  3.184095e+04  \n",
       "5627177        1       0        2       51      157  1.278463e+04  \n",
       "5629025        4       3        0       63      157  2.073115e+04  \n",
       "5629408        2       0        0       95      243  2.136113e+04  \n",
       "5629995       17       7        2       59      193  1.985178e+04  \n",
       "...          ...     ...      ...      ...      ...           ...  \n",
       "10965109       6       4        6       22      172  9.112969e+03  \n",
       "10965243       5       2        0       85      223  2.226796e+04  \n",
       "10965987       4       4        2       32      154  9.339984e+03  \n",
       "10966122      32       2        0       33      142  1.453720e+04  \n",
       "10966727       9       1        5       20      168  6.903064e+03  \n",
       "10967157      10       9        5       63      256  2.276987e+04  \n",
       "10967786       1       0        0        1      148  1.277097e+03  \n",
       "10972197       7       1        8       35      162  1.111605e+04  \n",
       "10973010       3       3        6       39      171  1.081677e+04  \n",
       "10973174       3       2        2       12      171  4.456123e+03  \n",
       "10974810      37      11        2       26      195  1.505977e+04  \n",
       "10976317       1       6        3       12      161  4.433542e+03  \n",
       "10976318       4       1        5       16      136  5.715936e+03  \n",
       "10977438       1       3        2       14      147  5.155645e+03  \n",
       "10977442       3       3        0       21      140 -9.223372e+15  \n",
       "10977777       1       1        1       40      131  1.120187e+04  \n",
       "10978025       4       3        1      125      238  3.308019e+04  \n",
       "10978040      21       8        4       25       64  1.039502e+04  \n",
       "10978041      14      10        8      165      179  4.465362e+04  \n",
       "10980220     -94     -52       18        6      818  7.675085e+04  \n",
       "10980226      41      69        9       70      770  6.168454e+04  \n",
       "10980810      18       5        4       14      167  7.194307e+03  \n",
       "10981213       3       2        5       54      266  1.502053e+04  \n",
       "10981881      34       7        3       31      143  1.386333e+04  \n",
       "10981959       5       3        7       21      136  7.328188e+03  \n",
       "10982205       9       2        6       19      151  6.832675e+03  \n",
       "10982634       2       2        6       51       94  1.529311e+04  \n",
       "10983720       2       2        0       27       91  7.599299e+03  \n",
       "10983739       9       0        1        1      225  1.766141e+03  \n",
       "10985543       7       6        2       42      129  1.342789e+04  \n",
       "\n",
       "[132543 rows x 9 columns]"
      ]
     },
     "execution_count": 66,
     "metadata": {},
     "output_type": "execute_result"
    }
   ],
   "source": [
    "user_logs[user_logs.num_25 <0]"
   ]
  },
  {
   "cell_type": "code",
   "execution_count": null,
   "metadata": {},
   "outputs": [],
   "source": [
    "user_logs[user_logs.num_25 <0]"
   ]
  }
 ],
 "metadata": {
  "kernelspec": {
   "display_name": "Python 3",
   "language": "python",
   "name": "python3"
  },
  "language_info": {
   "codemirror_mode": {
    "name": "ipython",
    "version": 3
   },
   "file_extension": ".py",
   "mimetype": "text/x-python",
   "name": "python",
   "nbconvert_exporter": "python",
   "pygments_lexer": "ipython3",
   "version": "3.6.3"
  }
 },
 "nbformat": 4,
 "nbformat_minor": 2
}
