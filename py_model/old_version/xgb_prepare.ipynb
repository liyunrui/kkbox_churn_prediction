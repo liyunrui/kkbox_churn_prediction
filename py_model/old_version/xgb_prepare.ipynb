{
 "cells": [
  {
   "cell_type": "code",
   "execution_count": 6,
   "metadata": {},
   "outputs": [],
   "source": [
    "#!/usr/bin/python3\n",
    "# -*-coding:utf-8\n",
    "'''\n",
    "Created on Fri Dec 1 22:22:35 2017\n",
    "\n",
    "@author: Ray\n",
    "\n",
    "'''\n",
    "\n",
    "import warnings\n",
    "warnings.filterwarnings(\"ignore\")\n",
    "import pandas as pd\n",
    "import numpy as np\n",
    "from glob import glob\n",
    "import os\n",
    "from tqdm import tqdm\n",
    "import time\n",
    "import gc\n",
    "from itertools import chain\n"
   ]
  },
  {
   "cell_type": "code",
   "execution_count": 7,
   "metadata": {},
   "outputs": [],
   "source": [
    "def read_multiple_csv(path, col = None):\n",
    "\n",
    "    # glob(path+'/*'): return a list, which consist of each files in path\n",
    "\n",
    "    if col is None:\n",
    "        df = pd.concat([pd.read_csv(f) for f in tqdm(sorted(glob(path+'/*')))])\n",
    "    else:\n",
    "        df = pd.concat([pd.read_csv(f)[col] for f in tqdm(sorted(glob(path+'/*')))])\n",
    "    return df\n",
    "def load_pred_feature(name, keep_all = False):\n",
    "    \n",
    "    if keep_all == False:\n",
    "        #==============================================================================\n",
    "        print('keep top imp')\n",
    "        #==============================================================================\n",
    "        col = keep_top_item()\n",
    "        if name=='test':\n",
    "            col.remove('is_churn')\n",
    "        df = read_multiple_csv('../feature/{}/all'.format(name), col)\n",
    "        \n",
    "    else:\n",
    "        #path = '../feature/{}/all_sampling_for_developing'.format(name)\n",
    "        df = read_multiple_csv('../feature/{}/all'.format(name)) # '../feature/{}/all'\n",
    "    \n",
    "    print('{}.shape:{}\\n'.format(name, df.shape))\n",
    "    \n",
    "    return df\n",
    "\n"
   ]
  },
  {
   "cell_type": "code",
   "execution_count": 8,
   "metadata": {
    "scrolled": true
   },
   "outputs": [
    {
     "name": "stderr",
     "output_type": "stream",
     "text": [
      "100%|██████████| 20/20 [01:56<00:00,  5.81s/it]\n",
      "  0%|          | 0/20 [00:00<?, ?it/s]"
     ]
    },
    {
     "name": "stdout",
     "output_type": "stream",
     "text": [
      "trainW-0.shape:(881896, 653)\n",
      "\n"
     ]
    },
    {
     "name": "stderr",
     "output_type": "stream",
     "text": [
      "100%|██████████| 20/20 [01:56<00:00,  5.82s/it]\n",
      "  0%|          | 0/20 [00:00<?, ?it/s]"
     ]
    },
    {
     "name": "stdout",
     "output_type": "stream",
     "text": [
      "trainW-1.shape:(884309, 653)\n",
      "\n"
     ]
    },
    {
     "name": "stderr",
     "output_type": "stream",
     "text": [
      "100%|██████████| 20/20 [02:04<00:00,  6.23s/it]\n"
     ]
    },
    {
     "name": "stdout",
     "output_type": "stream",
     "text": [
      "trainW-2.shape:(905872, 653)\n",
      "\n"
     ]
    },
    {
     "data": {
      "text/plain": [
       "154"
      ]
     },
     "execution_count": 8,
     "metadata": {},
     "output_type": "execute_result"
    }
   ],
   "source": [
    "#==============================================================================\n",
    "# prepare\n",
    "#==============================================================================\n",
    "train = pd.concat([load_pred_feature('trainW-0', keep_all = True),\n",
    "                   load_pred_feature('trainW-1', keep_all = True),\n",
    "                   load_pred_feature('trainW-2', keep_all = True)\n",
    "                   ], ignore_index=True)\n",
    "\n",
    "y_train = train['is_churn']\n",
    "X_train = train.drop('is_churn', axis=1)\n",
    "del train\n",
    "gc.collect()\n",
    "\n",
    "# # drop obj---That's, drop msno\n",
    "# drop_col = X_train.dtypes[X_train.dtypes=='object'].index.tolist()\n",
    "# drop_col.remove('msno') # for keeping msno\n",
    "# print('drop_col',drop_col)\n",
    "\n",
    "# X_train.drop(drop_col, axis=1, inplace=True)\n",
    "# X_train.fillna(-1, inplace = True)\n"
   ]
  },
  {
   "cell_type": "code",
   "execution_count": 9,
   "metadata": {},
   "outputs": [
    {
     "name": "stdout",
     "output_type": "stream",
     "text": [
      "<class 'pandas.core.frame.DataFrame'>\n",
      "RangeIndex: 2672077 entries, 0 to 2672076\n",
      "Columns: 652 entries, msno to log_in_ratio_delta2_by60\n",
      "dtypes: float64(381), int64(270), object(1)\n",
      "memory usage: 13.0+ GB\n"
     ]
    }
   ],
   "source": [
    "X_train.info()"
   ]
  },
  {
   "cell_type": "code",
   "execution_count": 3,
   "metadata": {},
   "outputs": [
    {
     "ename": "NameError",
     "evalue": "name 'train' is not defined",
     "output_type": "error",
     "traceback": [
      "\u001b[0;31m---------------------------------------------------------------------------\u001b[0m",
      "\u001b[0;31mNameError\u001b[0m                                 Traceback (most recent call last)",
      "\u001b[0;32m<ipython-input-3-ab1660af173e>\u001b[0m in \u001b[0;36m<module>\u001b[0;34m()\u001b[0m\n\u001b[0;32m----> 1\u001b[0;31m \u001b[0;32mfor\u001b[0m \u001b[0mi\u001b[0m \u001b[0;32min\u001b[0m \u001b[0mtrain\u001b[0m\u001b[0;34m.\u001b[0m\u001b[0mcolumns\u001b[0m\u001b[0;34m:\u001b[0m\u001b[0;34m\u001b[0m\u001b[0m\n\u001b[0m\u001b[1;32m      2\u001b[0m     \u001b[0mprint\u001b[0m \u001b[0;34m(\u001b[0m\u001b[0mi\u001b[0m\u001b[0;34m)\u001b[0m\u001b[0;34m\u001b[0m\u001b[0m\n",
      "\u001b[0;31mNameError\u001b[0m: name 'train' is not defined"
     ]
    }
   ],
   "source": [
    "for i in train.columns:\n",
    "    print (i)"
   ]
  },
  {
   "cell_type": "code",
   "execution_count": null,
   "metadata": {},
   "outputs": [],
   "source": [
    "\n"
   ]
  },
  {
   "cell_type": "code",
   "execution_count": null,
   "metadata": {},
   "outputs": [],
   "source": []
  },
  {
   "cell_type": "code",
   "execution_count": null,
   "metadata": {},
   "outputs": [],
   "source": []
  },
  {
   "cell_type": "code",
   "execution_count": null,
   "metadata": {},
   "outputs": [],
   "source": []
  },
  {
   "cell_type": "code",
   "execution_count": null,
   "metadata": {},
   "outputs": [],
   "source": []
  },
  {
   "cell_type": "code",
   "execution_count": null,
   "metadata": {},
   "outputs": [],
   "source": []
  },
  {
   "cell_type": "markdown",
   "metadata": {},
   "source": [
    "# test"
   ]
  },
  {
   "cell_type": "code",
   "execution_count": 21,
   "metadata": {},
   "outputs": [
    {
     "name": "stderr",
     "output_type": "stream",
     "text": [
      " 20%|██        | 4/20 [00:00<00:00, 34.30it/s]"
     ]
    },
    {
     "name": "stdout",
     "output_type": "stream",
     "text": [
      "test\n"
     ]
    },
    {
     "name": "stderr",
     "output_type": "stream",
     "text": [
      "100%|██████████| 20/20 [00:00<00:00, 38.32it/s]\n"
     ]
    },
    {
     "name": "stdout",
     "output_type": "stream",
     "text": [
      "test.shape:(500, 654)\n",
      "\n"
     ]
    }
   ],
   "source": [
    "\n",
    "#==============================================================================\n",
    "print('test')\n",
    "#==============================================================================\n",
    "test = utils.load_pred_feature('test', keep_all = True).fillna(-1)\n",
    "test.drop(['is_churn_x'], axis =1, inplace = True)\n",
    "sub_test = test[['msno']]\n"
   ]
  },
  {
   "cell_type": "code",
   "execution_count": 22,
   "metadata": {},
   "outputs": [
    {
     "data": {
      "text/plain": [
       "Index(['msno', 'days_since_the_first_subscription-mean',\n",
       "       'days_since_the_first_subscription-min',\n",
       "       'days_since_the_first_subscription-max',\n",
       "       'days_since_the_first_subscription-median',\n",
       "       'days_since_the_first_subscription-std',\n",
       "       'days_since_the_first_subscription-mean_n5',\n",
       "       'days_since_the_first_subscription-min_n5',\n",
       "       'days_since_the_first_subscription-max_n5',\n",
       "       'days_since_the_first_subscription-median_n5',\n",
       "       ...\n",
       "       'num_log_in_delta2_by60', 'log_in_ratio_delta1_by7',\n",
       "       'log_in_ratio_delta1_by14', 'log_in_ratio_delta1_by30',\n",
       "       'log_in_ratio_delta1_by60', 'log_in_ratio_delta1_by90',\n",
       "       'log_in_ratio_delta2_by7', 'log_in_ratio_delta2_by14',\n",
       "       'log_in_ratio_delta2_by30', 'log_in_ratio_delta2_by60'],\n",
       "      dtype='object', length=653)"
      ]
     },
     "execution_count": 22,
     "metadata": {},
     "output_type": "execute_result"
    }
   ],
   "source": [
    "test.columns"
   ]
  },
  {
   "cell_type": "code",
   "execution_count": 12,
   "metadata": {},
   "outputs": [
    {
     "data": {
      "text/html": [
       "<div>\n",
       "<style scoped>\n",
       "    .dataframe tbody tr th:only-of-type {\n",
       "        vertical-align: middle;\n",
       "    }\n",
       "\n",
       "    .dataframe tbody tr th {\n",
       "        vertical-align: top;\n",
       "    }\n",
       "\n",
       "    .dataframe thead th {\n",
       "        text-align: right;\n",
       "    }\n",
       "</style>\n",
       "<table border=\"1\" class=\"dataframe\">\n",
       "  <thead>\n",
       "    <tr style=\"text-align: right;\">\n",
       "      <th></th>\n",
       "      <th>msno</th>\n",
       "    </tr>\n",
       "  </thead>\n",
       "  <tbody>\n",
       "    <tr>\n",
       "      <th>0</th>\n",
       "      <td>4n+fXlyJvfQnTeKXTWT507Ll4JVYGrOC8LHCfwBmPE4=</td>\n",
       "    </tr>\n",
       "    <tr>\n",
       "      <th>1</th>\n",
       "      <td>aNmbC1GvFUxQyQUidCVmfbQ0YeCuwkPzEdQ0RwWyeZM=</td>\n",
       "    </tr>\n",
       "    <tr>\n",
       "      <th>2</th>\n",
       "      <td>rFC9eSG/tMuzpre6cwcMLZHEYM89xY02qcz7HL4//jc=</td>\n",
       "    </tr>\n",
       "    <tr>\n",
       "      <th>3</th>\n",
       "      <td>WZ59dLyrQcE7ft06MZ5dj40BnlYQY7PHgg/54+HaCSE=</td>\n",
       "    </tr>\n",
       "    <tr>\n",
       "      <th>4</th>\n",
       "      <td>aky/Iv8hMp1/V/yQHLtaVuEmmAxkB5GuasQZePJ7NU4=</td>\n",
       "    </tr>\n",
       "    <tr>\n",
       "      <th>5</th>\n",
       "      <td>nu1jZ/flvSaXRg0U9Es+xmo2KlAXq/q+mhcWFStwm9w=</td>\n",
       "    </tr>\n",
       "    <tr>\n",
       "      <th>6</th>\n",
       "      <td>biDTtgK83fEWXJDaxzD1eh22dion/h3odeIbS7qJMmY=</td>\n",
       "    </tr>\n",
       "    <tr>\n",
       "      <th>7</th>\n",
       "      <td>k/8uwi/iM9LZmRAIWXLqpZY6ENomXAscwsQsh6PxcTw=</td>\n",
       "    </tr>\n",
       "    <tr>\n",
       "      <th>8</th>\n",
       "      <td>18rQ/746SjA6nBx325UsyhfsDhu4tK01FXFxHWZjw20=</td>\n",
       "    </tr>\n",
       "    <tr>\n",
       "      <th>9</th>\n",
       "      <td>2V13OCoWx6vqKr/ZzNmKFrmnC2FtR4SWMz5C5Hi02PY=</td>\n",
       "    </tr>\n",
       "    <tr>\n",
       "      <th>10</th>\n",
       "      <td>1l/ZwduFxS/q/hZeyssAYH27espkp8Yw6uAnUxfEbTI=</td>\n",
       "    </tr>\n",
       "    <tr>\n",
       "      <th>11</th>\n",
       "      <td>azfnO16ZeQsbJF6LcqkQhbA3NWiqHYWqaq7AFjsJVaQ=</td>\n",
       "    </tr>\n",
       "    <tr>\n",
       "      <th>12</th>\n",
       "      <td>RPOzeEr8mSbhj6wrF29+7KciuiNrj7IvkzxJ9rgCTks=</td>\n",
       "    </tr>\n",
       "    <tr>\n",
       "      <th>13</th>\n",
       "      <td>NAzfjSM2EOyFhV4rIm/RO9pXCbyti6scBfcmV/t+CaU=</td>\n",
       "    </tr>\n",
       "    <tr>\n",
       "      <th>14</th>\n",
       "      <td>1DCd06ON0rWFHI1bNrY1l/hPW9d80fmmrmroHqpGvNA=</td>\n",
       "    </tr>\n",
       "    <tr>\n",
       "      <th>15</th>\n",
       "      <td>D9QAV8ZNF8qU96dTBLMzO0sguzlmAIBf4302l0W6jj0=</td>\n",
       "    </tr>\n",
       "    <tr>\n",
       "      <th>16</th>\n",
       "      <td>5HKzLDUVVbIxWMH9aH67ALAGVPvorE4NvmO5xqO7SMk=</td>\n",
       "    </tr>\n",
       "    <tr>\n",
       "      <th>17</th>\n",
       "      <td>XwnlNj6nq2MMHe0KoyRRM4ih+RAwj5idHvlS4pTMTbg=</td>\n",
       "    </tr>\n",
       "    <tr>\n",
       "      <th>18</th>\n",
       "      <td>lNmNPLZZiMwVbRFdBmDYmRdEgo8TWN2Y3m+z5XVl4aQ=</td>\n",
       "    </tr>\n",
       "    <tr>\n",
       "      <th>19</th>\n",
       "      <td>5NlNga4bsKiYyj3B3I/SihUQH4wb2suNWBcxQMd9oJ8=</td>\n",
       "    </tr>\n",
       "    <tr>\n",
       "      <th>20</th>\n",
       "      <td>eXWvD4/UBTi6mA9GMYTpY7/buu5xKCyXlu7hFM+ELHU=</td>\n",
       "    </tr>\n",
       "    <tr>\n",
       "      <th>21</th>\n",
       "      <td>Y1V2qDdKt+5CHqFSvpm82QkPJrwRxkbP5hs7DbtU+tA=</td>\n",
       "    </tr>\n",
       "    <tr>\n",
       "      <th>22</th>\n",
       "      <td>sLyKNXQo6PGK/CE0a4cUQ9+lVd/oCERRMuCSgZ6KN4Y=</td>\n",
       "    </tr>\n",
       "    <tr>\n",
       "      <th>23</th>\n",
       "      <td>2TaTUEET5XAOiHPC2qKnKUK2wSqbcbA9YwM4eHTeawE=</td>\n",
       "    </tr>\n",
       "    <tr>\n",
       "      <th>24</th>\n",
       "      <td>Rrh9afbenme6MuAYudJRn41u9IrLpSi9aQ8p3I34RT0=</td>\n",
       "    </tr>\n",
       "    <tr>\n",
       "      <th>0</th>\n",
       "      <td>5sjnJjeZd2roOarPgSYK6559VTIhEmeunzJAd2kcuhg=</td>\n",
       "    </tr>\n",
       "    <tr>\n",
       "      <th>1</th>\n",
       "      <td>FsR4+VSNjAortRRTmx2q9K2q9HtSdQ69PE1FNKKqpKk=</td>\n",
       "    </tr>\n",
       "    <tr>\n",
       "      <th>2</th>\n",
       "      <td>5LgzR73HtjaKDQzMcUrveEUcvWPCuwAZrizNdCAqRnU=</td>\n",
       "    </tr>\n",
       "    <tr>\n",
       "      <th>3</th>\n",
       "      <td>3rgFPp+e+xMWuKAw8wgVB4EUYotVuaWYvGuEDyNo9fc=</td>\n",
       "    </tr>\n",
       "    <tr>\n",
       "      <th>4</th>\n",
       "      <td>QOE4ibjDwKrJvCZze8fKh4yxk7sHEEbffUMTmkUSfhA=</td>\n",
       "    </tr>\n",
       "    <tr>\n",
       "      <th>...</th>\n",
       "      <td>...</td>\n",
       "    </tr>\n",
       "    <tr>\n",
       "      <th>20</th>\n",
       "      <td>cJ4+TFiJfi1wemCSoJROqm0JxlVrj7xH/3aNFRuLKAc=</td>\n",
       "    </tr>\n",
       "    <tr>\n",
       "      <th>21</th>\n",
       "      <td>U1QvB9nSgGdQdiqkDqqpl+rL1hc+0oUN8g6nmH9KvGU=</td>\n",
       "    </tr>\n",
       "    <tr>\n",
       "      <th>22</th>\n",
       "      <td>LkM0UmS1tAK6i/wApUciYGqTCDnixP3nhgUVaVC113c=</td>\n",
       "    </tr>\n",
       "    <tr>\n",
       "      <th>23</th>\n",
       "      <td>dJMxcuyYlzRxgVAoGWYx2frY+5rhx3h7AlVhogZbIy4=</td>\n",
       "    </tr>\n",
       "    <tr>\n",
       "      <th>24</th>\n",
       "      <td>vSuoo8nUi8hsyLq6dMvWlMgWGF81Ox3PQPZQmHPoCGA=</td>\n",
       "    </tr>\n",
       "    <tr>\n",
       "      <th>0</th>\n",
       "      <td>y0jjouDyM0+QGB78MIKmrCDkAr2bU6gt7+d1hgStiGA=</td>\n",
       "    </tr>\n",
       "    <tr>\n",
       "      <th>1</th>\n",
       "      <td>Hc1aQyyBGm/zBWEogPYOZHMls+Q/gA+uMjHd1lgf/wg=</td>\n",
       "    </tr>\n",
       "    <tr>\n",
       "      <th>2</th>\n",
       "      <td>6eg4WQQ5PofCs3RwisEBZQOLLS6559/Bbt+zvUR9Oho=</td>\n",
       "    </tr>\n",
       "    <tr>\n",
       "      <th>3</th>\n",
       "      <td>GaEXcHSeJA4QRZcYeSia9TiP40S0oH3WSjhWyotFR/Y=</td>\n",
       "    </tr>\n",
       "    <tr>\n",
       "      <th>4</th>\n",
       "      <td>uR8Zc3r6GwekYDAJJwl04SBPH9MFnmqAm2XVQofUM4A=</td>\n",
       "    </tr>\n",
       "    <tr>\n",
       "      <th>5</th>\n",
       "      <td>JLTI+XuJ6uu6OvuDxIhQP63WXFvY+kqkqvIVPuKci9M=</td>\n",
       "    </tr>\n",
       "    <tr>\n",
       "      <th>6</th>\n",
       "      <td>t3q/FDeZYbFmOBebX3244y0kTFnhFSPOyKBBxkMTLO8=</td>\n",
       "    </tr>\n",
       "    <tr>\n",
       "      <th>7</th>\n",
       "      <td>9AZ8YWx629E5uwNJh6/8UBqoZpxXa584rpuAXxOqS/c=</td>\n",
       "    </tr>\n",
       "    <tr>\n",
       "      <th>8</th>\n",
       "      <td>Q93j3uxVWNER9E0aX/MfjwBz7rSl3LISE0bm7ANnzWw=</td>\n",
       "    </tr>\n",
       "    <tr>\n",
       "      <th>9</th>\n",
       "      <td>/jZPOLp1uahQMTWQCqLYZvkrJL/pqumNGnY4P3K0KCY=</td>\n",
       "    </tr>\n",
       "    <tr>\n",
       "      <th>10</th>\n",
       "      <td>bU+xArY3Fd/Sp231B6/5yGq188FeMUB6UxAc9CmZKv0=</td>\n",
       "    </tr>\n",
       "    <tr>\n",
       "      <th>11</th>\n",
       "      <td>LKvxPNIoDvB6z4vSswADihbLTkStSZri8S5NUKL6sRw=</td>\n",
       "    </tr>\n",
       "    <tr>\n",
       "      <th>12</th>\n",
       "      <td>ZUU5hTrjqXK8C1qCa/tgXfmvQ8LUvbNZbSuqd7fMl5Q=</td>\n",
       "    </tr>\n",
       "    <tr>\n",
       "      <th>13</th>\n",
       "      <td>y+f0NpGydnR+n3CIBNUbmeseezZ9AIe5Pur4tVHtLy0=</td>\n",
       "    </tr>\n",
       "    <tr>\n",
       "      <th>14</th>\n",
       "      <td>VHcPWFE0Y9kyjXLSTQZuP7rjIBHIn964l+0Hjg2uoh4=</td>\n",
       "    </tr>\n",
       "    <tr>\n",
       "      <th>15</th>\n",
       "      <td>nHR+DK4rQhLzlB5EhaosqwDKuv5tKT7AvdzL9vTaNtw=</td>\n",
       "    </tr>\n",
       "    <tr>\n",
       "      <th>16</th>\n",
       "      <td>aGZIYjzuDHP3z6TjioHYqcTs8jbVLttEJQaYaYbdMt4=</td>\n",
       "    </tr>\n",
       "    <tr>\n",
       "      <th>17</th>\n",
       "      <td>ZdnDDrTGsnGF8kJuAcfLdUskP0fTAoyniz/E81JRnew=</td>\n",
       "    </tr>\n",
       "    <tr>\n",
       "      <th>18</th>\n",
       "      <td>WuqsAs4g8nYdsFX8Mdm+q8/TKjO0mOep1rCQSParCGM=</td>\n",
       "    </tr>\n",
       "    <tr>\n",
       "      <th>19</th>\n",
       "      <td>sG5tO/SAC3QsS0x5NARPNJJ0uVcoI1CeBWeCpA4YlUk=</td>\n",
       "    </tr>\n",
       "    <tr>\n",
       "      <th>20</th>\n",
       "      <td>aSbKeQjsMnmGI0Y/PHQnowivfymw/xcickx8QemS5Z0=</td>\n",
       "    </tr>\n",
       "    <tr>\n",
       "      <th>21</th>\n",
       "      <td>EklAjgwVFxshzG5ZyT5zdzXi90ESvvk9U9Fkic7zKkM=</td>\n",
       "    </tr>\n",
       "    <tr>\n",
       "      <th>22</th>\n",
       "      <td>0nh3juvFMB5SZCGqU+eF8Lg3Zq+k0WLWcd1ZbFf4ZOI=</td>\n",
       "    </tr>\n",
       "    <tr>\n",
       "      <th>23</th>\n",
       "      <td>gfS0cH2dnqC6qv+keGVap/O7C5QtTj5ys5zyGSNPWQo=</td>\n",
       "    </tr>\n",
       "    <tr>\n",
       "      <th>24</th>\n",
       "      <td>A5yBQYHqYf4Dw21IgoMqIhFv3MksxEy/CDBnv1ddiY4=</td>\n",
       "    </tr>\n",
       "  </tbody>\n",
       "</table>\n",
       "<p>500 rows × 1 columns</p>\n",
       "</div>"
      ],
      "text/plain": [
       "                                            msno\n",
       "0   4n+fXlyJvfQnTeKXTWT507Ll4JVYGrOC8LHCfwBmPE4=\n",
       "1   aNmbC1GvFUxQyQUidCVmfbQ0YeCuwkPzEdQ0RwWyeZM=\n",
       "2   rFC9eSG/tMuzpre6cwcMLZHEYM89xY02qcz7HL4//jc=\n",
       "3   WZ59dLyrQcE7ft06MZ5dj40BnlYQY7PHgg/54+HaCSE=\n",
       "4   aky/Iv8hMp1/V/yQHLtaVuEmmAxkB5GuasQZePJ7NU4=\n",
       "5   nu1jZ/flvSaXRg0U9Es+xmo2KlAXq/q+mhcWFStwm9w=\n",
       "6   biDTtgK83fEWXJDaxzD1eh22dion/h3odeIbS7qJMmY=\n",
       "7   k/8uwi/iM9LZmRAIWXLqpZY6ENomXAscwsQsh6PxcTw=\n",
       "8   18rQ/746SjA6nBx325UsyhfsDhu4tK01FXFxHWZjw20=\n",
       "9   2V13OCoWx6vqKr/ZzNmKFrmnC2FtR4SWMz5C5Hi02PY=\n",
       "10  1l/ZwduFxS/q/hZeyssAYH27espkp8Yw6uAnUxfEbTI=\n",
       "11  azfnO16ZeQsbJF6LcqkQhbA3NWiqHYWqaq7AFjsJVaQ=\n",
       "12  RPOzeEr8mSbhj6wrF29+7KciuiNrj7IvkzxJ9rgCTks=\n",
       "13  NAzfjSM2EOyFhV4rIm/RO9pXCbyti6scBfcmV/t+CaU=\n",
       "14  1DCd06ON0rWFHI1bNrY1l/hPW9d80fmmrmroHqpGvNA=\n",
       "15  D9QAV8ZNF8qU96dTBLMzO0sguzlmAIBf4302l0W6jj0=\n",
       "16  5HKzLDUVVbIxWMH9aH67ALAGVPvorE4NvmO5xqO7SMk=\n",
       "17  XwnlNj6nq2MMHe0KoyRRM4ih+RAwj5idHvlS4pTMTbg=\n",
       "18  lNmNPLZZiMwVbRFdBmDYmRdEgo8TWN2Y3m+z5XVl4aQ=\n",
       "19  5NlNga4bsKiYyj3B3I/SihUQH4wb2suNWBcxQMd9oJ8=\n",
       "20  eXWvD4/UBTi6mA9GMYTpY7/buu5xKCyXlu7hFM+ELHU=\n",
       "21  Y1V2qDdKt+5CHqFSvpm82QkPJrwRxkbP5hs7DbtU+tA=\n",
       "22  sLyKNXQo6PGK/CE0a4cUQ9+lVd/oCERRMuCSgZ6KN4Y=\n",
       "23  2TaTUEET5XAOiHPC2qKnKUK2wSqbcbA9YwM4eHTeawE=\n",
       "24  Rrh9afbenme6MuAYudJRn41u9IrLpSi9aQ8p3I34RT0=\n",
       "0   5sjnJjeZd2roOarPgSYK6559VTIhEmeunzJAd2kcuhg=\n",
       "1   FsR4+VSNjAortRRTmx2q9K2q9HtSdQ69PE1FNKKqpKk=\n",
       "2   5LgzR73HtjaKDQzMcUrveEUcvWPCuwAZrizNdCAqRnU=\n",
       "3   3rgFPp+e+xMWuKAw8wgVB4EUYotVuaWYvGuEDyNo9fc=\n",
       "4   QOE4ibjDwKrJvCZze8fKh4yxk7sHEEbffUMTmkUSfhA=\n",
       "..                                           ...\n",
       "20  cJ4+TFiJfi1wemCSoJROqm0JxlVrj7xH/3aNFRuLKAc=\n",
       "21  U1QvB9nSgGdQdiqkDqqpl+rL1hc+0oUN8g6nmH9KvGU=\n",
       "22  LkM0UmS1tAK6i/wApUciYGqTCDnixP3nhgUVaVC113c=\n",
       "23  dJMxcuyYlzRxgVAoGWYx2frY+5rhx3h7AlVhogZbIy4=\n",
       "24  vSuoo8nUi8hsyLq6dMvWlMgWGF81Ox3PQPZQmHPoCGA=\n",
       "0   y0jjouDyM0+QGB78MIKmrCDkAr2bU6gt7+d1hgStiGA=\n",
       "1   Hc1aQyyBGm/zBWEogPYOZHMls+Q/gA+uMjHd1lgf/wg=\n",
       "2   6eg4WQQ5PofCs3RwisEBZQOLLS6559/Bbt+zvUR9Oho=\n",
       "3   GaEXcHSeJA4QRZcYeSia9TiP40S0oH3WSjhWyotFR/Y=\n",
       "4   uR8Zc3r6GwekYDAJJwl04SBPH9MFnmqAm2XVQofUM4A=\n",
       "5   JLTI+XuJ6uu6OvuDxIhQP63WXFvY+kqkqvIVPuKci9M=\n",
       "6   t3q/FDeZYbFmOBebX3244y0kTFnhFSPOyKBBxkMTLO8=\n",
       "7   9AZ8YWx629E5uwNJh6/8UBqoZpxXa584rpuAXxOqS/c=\n",
       "8   Q93j3uxVWNER9E0aX/MfjwBz7rSl3LISE0bm7ANnzWw=\n",
       "9   /jZPOLp1uahQMTWQCqLYZvkrJL/pqumNGnY4P3K0KCY=\n",
       "10  bU+xArY3Fd/Sp231B6/5yGq188FeMUB6UxAc9CmZKv0=\n",
       "11  LKvxPNIoDvB6z4vSswADihbLTkStSZri8S5NUKL6sRw=\n",
       "12  ZUU5hTrjqXK8C1qCa/tgXfmvQ8LUvbNZbSuqd7fMl5Q=\n",
       "13  y+f0NpGydnR+n3CIBNUbmeseezZ9AIe5Pur4tVHtLy0=\n",
       "14  VHcPWFE0Y9kyjXLSTQZuP7rjIBHIn964l+0Hjg2uoh4=\n",
       "15  nHR+DK4rQhLzlB5EhaosqwDKuv5tKT7AvdzL9vTaNtw=\n",
       "16  aGZIYjzuDHP3z6TjioHYqcTs8jbVLttEJQaYaYbdMt4=\n",
       "17  ZdnDDrTGsnGF8kJuAcfLdUskP0fTAoyniz/E81JRnew=\n",
       "18  WuqsAs4g8nYdsFX8Mdm+q8/TKjO0mOep1rCQSParCGM=\n",
       "19  sG5tO/SAC3QsS0x5NARPNJJ0uVcoI1CeBWeCpA4YlUk=\n",
       "20  aSbKeQjsMnmGI0Y/PHQnowivfymw/xcickx8QemS5Z0=\n",
       "21  EklAjgwVFxshzG5ZyT5zdzXi90ESvvk9U9Fkic7zKkM=\n",
       "22  0nh3juvFMB5SZCGqU+eF8Lg3Zq+k0WLWcd1ZbFf4ZOI=\n",
       "23  gfS0cH2dnqC6qv+keGVap/O7C5QtTj5ys5zyGSNPWQo=\n",
       "24  A5yBQYHqYf4Dw21IgoMqIhFv3MksxEy/CDBnv1ddiY4=\n",
       "\n",
       "[500 rows x 1 columns]"
      ]
     },
     "execution_count": 12,
     "metadata": {},
     "output_type": "execute_result"
    }
   ],
   "source": [
    "sub_test"
   ]
  },
  {
   "cell_type": "code",
   "execution_count": null,
   "metadata": {},
   "outputs": [],
   "source": []
  }
 ],
 "metadata": {
  "kernelspec": {
   "display_name": "Python 3",
   "language": "python",
   "name": "python3"
  },
  "language_info": {
   "codemirror_mode": {
    "name": "ipython",
    "version": 3
   },
   "file_extension": ".py",
   "mimetype": "text/x-python",
   "name": "python",
   "nbconvert_exporter": "python",
   "pygments_lexer": "ipython3",
   "version": "3.6.3"
  }
 },
 "nbformat": 4,
 "nbformat_minor": 2
}
