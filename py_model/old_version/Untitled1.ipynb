{
 "cells": [
  {
   "cell_type": "code",
   "execution_count": 1,
   "metadata": {},
   "outputs": [],
   "source": [
    "#!/usr/bin/python3\n",
    "# -*-coding:utf-8\n",
    "'''\n",
    "Created on Fri Dec 1 22:22:35 2017\n",
    "\n",
    "@author: Ray\n",
    "\n",
    "'''\n",
    "\n",
    "import warnings\n",
    "warnings.filterwarnings(\"ignore\")\n",
    "import pandas as pd\n",
    "import numpy as np\n",
    "import gc\n",
    "import sys\n",
    "sys.path.append('/Users/yunruili/xgboost/python-package')\n",
    "import xgboost as xgb\n",
    "import utils"
   ]
  },
  {
   "cell_type": "code",
   "execution_count": 2,
   "metadata": {},
   "outputs": [],
   "source": [
    "models = [] # for the following prediction\n",
    "for i in range(2):\n",
    "    model = xgb.Booster({'nthread':27})\n",
    "    #model.load_model('../output/model/1215_1/xgb_churn_0.model')\n",
    "    model.load_model('../output/model/1215_1/xgb_churn_{0}.model'.format(i))\n",
    "    models.append(model)"
   ]
  },
  {
   "cell_type": "code",
   "execution_count": 3,
   "metadata": {},
   "outputs": [
    {
     "name": "stderr",
     "output_type": "stream",
     "text": [
      "\r",
      "  0%|          | 0/20 [00:00<?, ?it/s]"
     ]
    },
    {
     "name": "stdout",
     "output_type": "stream",
     "text": [
      "keep top imp\n"
     ]
    },
    {
     "name": "stderr",
     "output_type": "stream",
     "text": [
      "100%|██████████| 20/20 [02:02<00:00,  6.11s/it]\n"
     ]
    },
    {
     "name": "stdout",
     "output_type": "stream",
     "text": [
      "test.shape:(907471, 201)\n",
      "\n"
     ]
    }
   ],
   "source": [
    "test = utils.load_pred_feature('test').fillna(-1)"
   ]
  },
  {
   "cell_type": "code",
   "execution_count": 4,
   "metadata": {},
   "outputs": [
    {
     "data": {
      "text/plain": [
       "200"
      ]
     },
     "execution_count": 4,
     "metadata": {},
     "output_type": "execute_result"
    }
   ],
   "source": [
    "col_train = [\n",
    "# BEST 1215_1\n",
    "'auto_renew_total_count_n1',\n",
    " 'auto_renew_total_count_ratio_n1',\n",
    " 'days_since_the_last_expiration-max_n1',\n",
    " 'auto_renew_chance_n5_total_count_ratio_n5',\n",
    " 'cancel_total_count_ratio_n1',\n",
    " 'days_since_the_last_expiration-median_n1',\n",
    " 'days_since_the_last_expiration-mean_n1',\n",
    " 'days_since_the_last_expiration-min_n1',\n",
    " 'cancel_total_count_n1',\n",
    " 'membership_duration-max_n1',\n",
    " 'auto_renew_chance_n5_total_count_n5',\n",
    " 'membership_duration-median_n1',\n",
    " 'membership_duration-min_n1',\n",
    " 'membership_duration-mean_n1',\n",
    " 'days_since_the_last_subscription-median_n1',\n",
    " 'days_since_the_last_subscription-max_n1',\n",
    " 'days_longer_than_plan_days-max_n5',\n",
    " 'days_since_the_last_subscription-mean_n1',\n",
    " 'days_since_the_last_subscription-min_n1',\n",
    " 'amt_per_day-median_n1',\n",
    " 'auto_renew_total_count_ratio',\n",
    " 'is_auto_renew_chance_n5',\n",
    " 'cp_value-max_n1',\n",
    " 'days_longer_than_plan_days-mean_n5',\n",
    " 'days_longer_than_plan_days-median_n5',\n",
    " 'cp_value-median_n1',\n",
    " 'membership_duration-median_n5',\n",
    " 'amt_per_day-min_n1',\n",
    " 'amt_per_day-mean_n1',\n",
    " 'is_subscribe_early_count_n1',\n",
    " 'cp_value-min_n1',\n",
    " 'is_membership_duration_equal_to_plan_days_cnt_n1',\n",
    " 'cp_value-mean_n1',\n",
    " 'days_since_the_last_expiration-mean_n5',\n",
    " 'amt_per_day-max_n1',\n",
    " 'is_membership_duration_equal_to_plan_days_ratio_n1',\n",
    " 'days_since_the_first_subscription-max_n5',\n",
    " 'is_subscribe_early_ratio_n1',\n",
    " 'days_since_the_first_subscription-min_n1',\n",
    " 'days_since_the_first_subscription-max',\n",
    " 'is_cancel_chance_n5',\n",
    " 'days_since_the_first_subscription-mean_n1',\n",
    " 'days_since_the_first_subscription-max_n1',\n",
    " 'auto_renew_total_count',\n",
    " 'num_log_in_during_t_7',\n",
    " 'cancel_total_count_ratio_n5',\n",
    " 'membership_duration-min_n5',\n",
    " 'days_since_the_last_subscription-min_n5',\n",
    " 'cp_value-min',\n",
    " 'membership_duration-max_n5',\n",
    " 'amt_per_day-max_n5',\n",
    " 'is_membership_duration_equal_to_plan_days_cnt_n5',\n",
    " 'num_log_in_during_t_14',\n",
    " 'days_longer_than_plan_days-median',\n",
    " 'is_auto_renew_chance',\n",
    " 'days_longer_than_plan_days-std_n5',\n",
    " 'amt_per_day-std_n5',\n",
    " 'membership_duration-mean_n5',\n",
    " 'days_since_the_first_subscription-mean_n5',\n",
    " 'days_since_the_first_subscription-median_n5',\n",
    " 'cp_value-min_n5',\n",
    " 'num_log_in_delta1_by7',\n",
    " 'membership_duration-std_n5',\n",
    " 'days_since_the_last_subscription_ratio-median_n5',\n",
    " 'cp_value-max',\n",
    " 'listen_music_in_a_row_count_during_t_7',\n",
    " 'is_membership_duration_longer_than_plan_days_cnt',\n",
    " 'is_membership_duration_equal_to_plan_days_cnt',\n",
    " 'auto_renew_ratio_by_chance_n5',\n",
    " 'membership_duration-max',\n",
    " 'cp_value-median_n5',\n",
    " 'is_membership_duration_equal_to_plan_days_ratio',\n",
    " 'is_subscribe_early_ratio',\n",
    " 'days_since_the_last_subscription-mean_n5',\n",
    " 'amt_per_day-max',\n",
    " 'days_since_the_last_subscription_ratio-mean_n5',\n",
    " 'days_since_the_last_subscription_ratio-min_n1',\n",
    " 'days_since_the_last_expiration-median_n5',\n",
    " 'cp_value-mean_n5',\n",
    " 'do_change_payment_method_count_n1',\n",
    " 'days_since_the_first_subscription-min_n5',\n",
    " 'cp_value-max_n5',\n",
    " 'days_since_the_last_subscription-median_n5',\n",
    " 'days_since_the_first_subscription-median_n1',\n",
    " 'completed_songs_ratio_during_t_7-max',\n",
    " 'listen_music_in_a_row_ratio_during_t_7',\n",
    " 'days_longer_than_plan_days-mean_n1',\n",
    " 'completed_songs_ratio_during_t_7-std',\n",
    " 'membership_duration-median',\n",
    " 'num_25_ratio_during_t_7-std',\n",
    " 'discount-max_n5',\n",
    " 'gender_2.0',\n",
    " 'num_985-min',\n",
    " 'discount-std_n5',\n",
    " 'completed_songs_ratio_during_t_7-mean',\n",
    " 'num_log_in_during_t_30',\n",
    " 'days_since_the_last_subscription_ratio-median_n1',\n",
    " 'amt_per_day-min_n5',\n",
    " 'registered_via_7.0',\n",
    " 'days_longer_than_plan_days-std',\n",
    " 'is_early_expiration_ratio_n5',\n",
    " 'days_since_the_last_subscription-max_n5',\n",
    " 'membership_duration-std',\n",
    " 'discount-mean_n1',\n",
    " 'days_longer_than_plan_days-min_n1',\n",
    " 'do_spend_more_money-min_n5',\n",
    " 'days_since_the_last_subscription_ratio-max_n1',\n",
    " 'listen_music_in_a_row_count_during_t_14',\n",
    " 'days_since_the_last_subscription_ratio-mean_n1',\n",
    " 'num_25_ratio_during_t_14-max',\n",
    " 'num_100_ratio_during_t_7-mean',\n",
    " 'cp_value-median',\n",
    " 'discount-min_n1',\n",
    " 'is_subscribe_early_count_n5',\n",
    " 'days_since_the_last_subscription-std',\n",
    " 'num_100_ratio_during_t_14-mean',\n",
    " 'amt_per_day-mean',\n",
    " 'cancel_total_count_ratio',\n",
    " 'registered_via_2.0',\n",
    " 'num_100_ratio_during_t_14-max',\n",
    " 'completed_songs_ratio_during_t_7-min',\n",
    " 'num_log_in_delta1_by60',\n",
    " 'num_100_ratio_during_t_7-max',\n",
    " 'days_since_the_last_expiration-cumsum-std_n5',\n",
    " 'is_membership_duration_longer_than_plan_days_cnt_n5',\n",
    " 'date_diff_during_t_7-min',\n",
    " 'early_expiration_days-max_n1',\n",
    " 'num_100_ratio_during_t_30-max',\n",
    " 'transactions_count',\n",
    " 'discount-max_n1',\n",
    " 'is_membership_duration_longer_than_plan_days_ratio',\n",
    " 'num_100_ratio_during_t_7-std',\n",
    " 'amt_per_day-median_n5',\n",
    " 'listen_music_in_a_row_count_during_t_30',\n",
    " 'cp_value-std_n5',\n",
    " 'days_since_the_last_subscription_ratio-min_n5',\n",
    " 'cp_value-mean',\n",
    " 'days_since_the_first_subscription-mean',\n",
    " 'days_since_the_last_expiration_ratio-mean_n1',\n",
    " 'days_since_the_last_expiration_ratio-median_n1',\n",
    " 'days_since_the_last_expiration-cumsum-mean_n1',\n",
    " 'discount-mean_n5',\n",
    " 'num_25_ratio_during_t_7-max',\n",
    " 'is_membership_duration_equal_to_plan_days_ratio_n5',\n",
    " 'num_100_ratio_during_t_14-min',\n",
    " 'days_since_the_last_expiration-median',\n",
    " 'days_longer_than_plan_days-max',\n",
    " 'amt_per_day-mean_n5',\n",
    " 'days_since_the_last_expiration-min',\n",
    " 'days_longer_than_plan_days-min_n5',\n",
    " 'listen_music_in_a_row_ratio_during_t_30',\n",
    " 'is_membership_duration_longer_than_plan_days_ratio_n1',\n",
    " 'num_repeated_songs_during_t_7-std',\n",
    " 'do_extend_payment_days-mean_n1',\n",
    " 'days_since_the_last_expiration_ratio-min_n1',\n",
    " 'do_spend_more_money-std_n5',\n",
    " 'num_log_in_during_t_90',\n",
    " 'is_early_expiration_cnt_n5',\n",
    " 'days_longer_than_plan_days-max_n1',\n",
    " 'discount-median_n1',\n",
    " 'is_cancel_chance',\n",
    " 'num_repeated_songs_during_t_7-median',\n",
    " 'date_diff_during_t_90-max',\n",
    " 'date_diff_during_t_7-std',\n",
    " 'completed_songs_ratio_during_t_14-max',\n",
    " 'days_since_the_last_subscription_ratio-min',\n",
    " 'completed_songs_ratio_during_t_30-max',\n",
    " 'days_since_the_last_subscription-mean',\n",
    " 'days_since_the_last_subscription_ratio-std',\n",
    " 'city_1.0',\n",
    " 'is_discount_total_count_n5',\n",
    " 'is_subscribe_early_ratio_n5',\n",
    " 'membership_duration-mean',\n",
    " 'days_since_the_last_subscription-std_n5',\n",
    " 'do_extend_payment_days-std',\n",
    " 'is_discount_total_count_ratio_n5',\n",
    " 'listen_music_in_a_row_ratio_during_t_14',\n",
    " 'city_21.0',\n",
    " 'is_membership_duration_longer_than_plan_days_ratio_n5',\n",
    " 'do_extend_payment_days-max_n1',\n",
    " 'date_diff_during_t_7-mean',\n",
    " 'days_longer_than_plan_days-mean',\n",
    " 'num_repeated_songs_during_t_7-max',\n",
    " 'days_since_the_last_expiration-cumsum-max_n1',\n",
    " 'num_repeated_songs_during_t_7-mean',\n",
    " 'days_since_the_last_subscription_ratio-median',\n",
    " 'do_extend_payment_days-std_n5',\n",
    " 'num_100_ratio_during_t_7-min',\n",
    " 'days_since_the_last_expiration-max',\n",
    " 'do_extend_payment_days-min',\n",
    " 'bd',\n",
    " 'completed_songs_ratio_during_t_7-median',\n",
    " 'date_diff_delta2_by7',\n",
    " 'days_since_the_first_subscription-std',\n",
    " 'date_diff_during_t_90-std',\n",
    " 'do_extend_payment_days-min_n1',\n",
    " 'num_log_in_delta2_by7',\n",
    " 'num_log_in_during_t_60',\n",
    " 'days_since_the_last_expiration-cumsum-median_n5',\n",
    " 'city_7.0']\n",
    "len(col_train)"
   ]
  },
  {
   "cell_type": "code",
   "execution_count": 5,
   "metadata": {},
   "outputs": [],
   "source": [
    "sub_test = test[['msno']]\n"
   ]
  },
  {
   "cell_type": "code",
   "execution_count": 6,
   "metadata": {},
   "outputs": [
    {
     "data": {
      "text/plain": [
       "(907471, 1)"
      ]
     },
     "execution_count": 6,
     "metadata": {},
     "output_type": "execute_result"
    }
   ],
   "source": [
    "sub_test.shape"
   ]
  },
  {
   "cell_type": "code",
   "execution_count": 7,
   "metadata": {},
   "outputs": [],
   "source": [
    "dtest  = xgb.DMatrix(test[col_train])"
   ]
  },
  {
   "cell_type": "code",
   "execution_count": null,
   "metadata": {},
   "outputs": [],
   "source": [
    "sub_test['is_churn'] = 0"
   ]
  },
  {
   "cell_type": "code",
   "execution_count": null,
   "metadata": {},
   "outputs": [
    {
     "name": "stdout",
     "output_type": "stream",
     "text": [
      "a\n"
     ]
    }
   ],
   "source": [
    "for model in models:\n",
    "    print ('a')\n",
    "    sub_test['is_churn'] += model.predict(dtest)"
   ]
  },
  {
   "cell_type": "code",
   "execution_count": null,
   "metadata": {},
   "outputs": [],
   "source": [
    "LOOP = 2    \n",
    "sub_test['is_churn'] /= LOOP"
   ]
  },
  {
   "cell_type": "code",
   "execution_count": null,
   "metadata": {},
   "outputs": [],
   "source": []
  },
  {
   "cell_type": "code",
   "execution_count": null,
   "metadata": {},
   "outputs": [],
   "source": []
  },
  {
   "cell_type": "code",
   "execution_count": null,
   "metadata": {},
   "outputs": [],
   "source": []
  }
 ],
 "metadata": {
  "kernelspec": {
   "display_name": "Python 3",
   "language": "python",
   "name": "python3"
  },
  "language_info": {
   "codemirror_mode": {
    "name": "ipython",
    "version": 3
   },
   "file_extension": ".py",
   "mimetype": "text/x-python",
   "name": "python",
   "nbconvert_exporter": "python",
   "pygments_lexer": "ipython3",
   "version": "3.6.3"
  }
 },
 "nbformat": 4,
 "nbformat_minor": 2
}
