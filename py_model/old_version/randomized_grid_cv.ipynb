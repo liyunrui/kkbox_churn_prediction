{
 "cells": [
  {
   "cell_type": "code",
   "execution_count": 26,
   "metadata": {},
   "outputs": [],
   "source": [
    "#!/usr/bin/python3\n",
    "# -*-coding:utf-8\n",
    "'''\n",
    "Created on Fri Dec 1 22:22:35 2017\n",
    "\n",
    "@author: Ray\n",
    "\n",
    "'''\n",
    "\n",
    "import warnings\n",
    "warnings.filterwarnings(\"ignore\")\n",
    "import pandas as pd\n",
    "import numpy as np\n",
    "import gc\n",
    "import sys\n",
    "sys.path.append('/Users/yunruili/xgboost/python-package')\n",
    "import xgboost as xgb\n",
    "import utils\n",
    "from xgboost.sklearn import XGBClassifier\n",
    "from sklearn.model_selection import RandomizedSearchCV\n",
    "from sklearn.model_selection import StratifiedKFold"
   ]
  },
  {
   "cell_type": "code",
   "execution_count": 2,
   "metadata": {},
   "outputs": [
    {
     "name": "stderr",
     "output_type": "stream",
     "text": [
      "\r",
      "  0%|          | 0/20 [00:00<?, ?it/s]"
     ]
    },
    {
     "name": "stdout",
     "output_type": "stream",
     "text": [
      "keep top imp\n"
     ]
    },
    {
     "name": "stderr",
     "output_type": "stream",
     "text": [
      "100%|██████████| 20/20 [01:55<00:00,  5.78s/it]\n"
     ]
    },
    {
     "name": "stdout",
     "output_type": "stream",
     "text": [
      "trainW-0.shape:(881896, 202)\n",
      "\n"
     ]
    }
   ],
   "source": [
    "\n",
    "\n",
    "train = utils.load_pred_feature('trainW-0')\n",
    "\n",
    "X = train.drop('is_churn', axis=1)\n",
    "y = train['is_churn']\n",
    "\n",
    "\n"
   ]
  },
  {
   "cell_type": "code",
   "execution_count": 18,
   "metadata": {},
   "outputs": [
    {
     "data": {
      "text/plain": [
       "0        1\n",
       "1        1\n",
       "2        1\n",
       "3        1\n",
       "4        1\n",
       "5        1\n",
       "6        1\n",
       "7        1\n",
       "8        1\n",
       "9        1\n",
       "10       1\n",
       "11       1\n",
       "12       1\n",
       "13       1\n",
       "14       1\n",
       "15       1\n",
       "16       1\n",
       "17       1\n",
       "18       1\n",
       "19       1\n",
       "20       1\n",
       "21       1\n",
       "22       1\n",
       "23       1\n",
       "24       1\n",
       "25       1\n",
       "26       1\n",
       "27       1\n",
       "28       1\n",
       "29       1\n",
       "        ..\n",
       "44065    0\n",
       "44066    0\n",
       "44067    0\n",
       "44068    0\n",
       "44069    0\n",
       "44070    0\n",
       "44071    0\n",
       "44072    0\n",
       "44073    0\n",
       "44074    0\n",
       "44075    0\n",
       "44076    0\n",
       "44077    0\n",
       "44078    0\n",
       "44079    0\n",
       "44080    0\n",
       "44081    0\n",
       "44082    0\n",
       "44083    0\n",
       "44084    0\n",
       "44085    0\n",
       "44086    0\n",
       "44087    0\n",
       "44088    0\n",
       "44089    0\n",
       "44090    0\n",
       "44091    0\n",
       "44092    0\n",
       "44093    0\n",
       "44094    0\n",
       "Name: is_churn, Length: 881896, dtype: int64"
      ]
     },
     "execution_count": 18,
     "metadata": {},
     "output_type": "execute_result"
    }
   ],
   "source": [
    "y"
   ]
  },
  {
   "cell_type": "markdown",
   "metadata": {},
   "source": [
    "# cross_validation strategies"
   ]
  },
  {
   "cell_type": "markdown",
   "metadata": {},
   "source": [
    "# The splitting of data into training and validation sets “must” be done according to labels. \n",
    "# In case of any kind of classification problem, use stratified splitting. \n",
    "# In python, you can do this using scikit-learn very easily.\n",
    "\n"
   ]
  },
  {
   "cell_type": "code",
   "execution_count": 34,
   "metadata": {},
   "outputs": [],
   "source": [
    "'''\n",
    "Stratification is the process of rearranging the data as to ensure each fold \n",
    "is a good representative of the whole. For example in a binary classification problem \n",
    "where each class comprises 50% of the data, it is best to arrange the data such that in every fold,\n",
    "each class comprises around half the instances.\n",
    "\n",
    "\n",
    "'''\n",
    "# cross_validation strategies\n",
    "seed = 72\n",
    "cv = StratifiedKFold(n_splits = 10, shuffle = True, random_state = seed)\n"
   ]
  },
  {
   "cell_type": "markdown",
   "metadata": {},
   "source": [
    "# 1.GridSearchCV 2.RandomizedSearchCV"
   ]
  },
  {
   "cell_type": "code",
   "execution_count": 35,
   "metadata": {},
   "outputs": [],
   "source": [
    "rs_grid = RandomizedSearchCV(\n",
    "\testimator = XGBClassifier(**params_fixed, seed = seed),\n",
    "\tparam_distributions = params_dist_grid,\n",
    "\tn_iter = 1,\n",
    "\tcv = cv,\n",
    "\tscoring = 'neg_log_loss',\n",
    "\trandom_state = seed\n",
    "\t)\n"
   ]
  },
  {
   "cell_type": "code",
   "execution_count": 36,
   "metadata": {},
   "outputs": [
    {
     "name": "stdout",
     "output_type": "stream",
     "text": [
      "-0.279547674162\n",
      "{'min_child_weight': 3, 'max_depth': 5, 'learning_rate': 0.01, 'colsample_bytree': 0.4}\n"
     ]
    }
   ],
   "source": [
    "rs_grid.fit(X.drop('msno', axis=1),y)\n",
    "\n",
    "print (rs_grid.best_score_)\n",
    "print (rs_grid.best_params_)"
   ]
  },
  {
   "cell_type": "code",
   "execution_count": null,
   "metadata": {},
   "outputs": [],
   "source": [
    "# min_child_weight [default=1]: the larger, the more conservative the algorithm will be."
   ]
  },
  {
   "cell_type": "code",
   "execution_count": 37,
   "metadata": {},
   "outputs": [
    {
     "name": "stdout",
     "output_type": "stream",
     "text": [
      "{'mean_fit_time': array([ 481.88001621]), 'std_fit_time': array([ 11.82584722]), 'mean_score_time': array([ 0.69911435]), 'std_score_time': array([ 0.06716398]), 'param_min_child_weight': masked_array(data = [3],\n",
      "             mask = [False],\n",
      "       fill_value = ?)\n",
      ", 'param_max_depth': masked_array(data = [5],\n",
      "             mask = [False],\n",
      "       fill_value = ?)\n",
      ", 'param_learning_rate': masked_array(data = [0.01],\n",
      "             mask = [False],\n",
      "       fill_value = ?)\n",
      ", 'param_colsample_bytree': masked_array(data = [0.4],\n",
      "             mask = [False],\n",
      "       fill_value = ?)\n",
      ", 'params': [{'min_child_weight': 3, 'max_depth': 5, 'learning_rate': 0.01, 'colsample_bytree': 0.4}], 'split0_test_score': array([-0.27955913]), 'split1_test_score': array([-0.27950998]), 'split2_test_score': array([-0.27946148]), 'split3_test_score': array([-0.2801583]), 'split4_test_score': array([-0.27913754]), 'split5_test_score': array([-0.27979783]), 'split6_test_score': array([-0.27981513]), 'split7_test_score': array([-0.27973403]), 'split8_test_score': array([-0.27902165]), 'split9_test_score': array([-0.27928166]), 'mean_test_score': array([-0.27954767]), 'std_test_score': array([ 0.00032655]), 'rank_test_score': array([1], dtype=int32), 'split0_train_score': array([-0.27938225]), 'split1_train_score': array([-0.27942384]), 'split2_train_score': array([-0.27941794]), 'split3_train_score': array([-0.27930032]), 'split4_train_score': array([-0.2794967]), 'split5_train_score': array([-0.2793583]), 'split6_train_score': array([-0.27935738]), 'split7_train_score': array([-0.27939415]), 'split8_train_score': array([-0.27947707]), 'split9_train_score': array([-0.27943758]), 'mean_train_score': array([-0.27940455]), 'std_train_score': array([  5.58813358e-05])}\n"
     ]
    }
   ],
   "source": [
    "print (rs_grid.cv_results_)\n"
   ]
  },
  {
   "cell_type": "code",
   "execution_count": 15,
   "metadata": {},
   "outputs": [
    {
     "ename": "AttributeError",
     "evalue": "'RandomizedSearchCV' object has no attribute 'best_score_'",
     "output_type": "error",
     "traceback": [
      "\u001b[0;31m---------------------------------------------------------------------------\u001b[0m",
      "\u001b[0;31mAttributeError\u001b[0m                            Traceback (most recent call last)",
      "\u001b[0;32m<ipython-input-15-9cb6675f6e20>\u001b[0m in \u001b[0;36m<module>\u001b[0;34m()\u001b[0m\n\u001b[0;32m----> 1\u001b[0;31m \u001b[0mprint\u001b[0m \u001b[0;34m(\u001b[0m\u001b[0mrs_grid\u001b[0m\u001b[0;34m.\u001b[0m\u001b[0mbest_score_\u001b[0m\u001b[0;34m)\u001b[0m\u001b[0;34m\u001b[0m\u001b[0m\n\u001b[0m",
      "\u001b[0;31mAttributeError\u001b[0m: 'RandomizedSearchCV' object has no attribute 'best_score_'"
     ]
    }
   ],
   "source": [
    "print (rs_grid.best_score_)"
   ]
  },
  {
   "cell_type": "code",
   "execution_count": null,
   "metadata": {},
   "outputs": [],
   "source": []
  }
 ],
 "metadata": {
  "kernelspec": {
   "display_name": "Python 3",
   "language": "python",
   "name": "python3"
  },
  "language_info": {
   "codemirror_mode": {
    "name": "ipython",
    "version": 3
   },
   "file_extension": ".py",
   "mimetype": "text/x-python",
   "name": "python",
   "nbconvert_exporter": "python",
   "pygments_lexer": "ipython3",
   "version": "3.6.3"
  }
 },
 "nbformat": 4,
 "nbformat_minor": 2
}
