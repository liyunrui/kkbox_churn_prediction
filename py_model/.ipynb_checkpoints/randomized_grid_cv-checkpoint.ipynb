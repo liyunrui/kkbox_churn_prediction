{
 "cells": [
  {
   "cell_type": "code",
   "execution_count": 1,
   "metadata": {},
   "outputs": [],
   "source": [
    "#!/usr/bin/python3\n",
    "# -*-coding:utf-8\n",
    "'''\n",
    "Created on Fri Dec 1 22:22:35 2017\n",
    "\n",
    "@author: Ray\n",
    "\n",
    "'''\n",
    "\n",
    "import warnings\n",
    "warnings.filterwarnings(\"ignore\")\n",
    "import pandas as pd\n",
    "import numpy as np\n",
    "import gc\n",
    "import sys\n",
    "sys.path.append('/Users/yunruili/xgboost/python-package')\n",
    "import xgboost as xgb\n",
    "import utils\n",
    "from xgboost.sklearn import XGBClassifier\n",
    "from sklearn.model_selection import RandomizedSearchCV\n",
    "from sklearn.model_selection import StratifiedKFold"
   ]
  },
  {
   "cell_type": "code",
   "execution_count": 2,
   "metadata": {},
   "outputs": [
    {
     "name": "stderr",
     "output_type": "stream",
     "text": [
      "\r",
      "  0%|          | 0/20 [00:00<?, ?it/s]"
     ]
    },
    {
     "name": "stdout",
     "output_type": "stream",
     "text": [
      "keep top imp\n"
     ]
    },
    {
     "name": "stderr",
     "output_type": "stream",
     "text": [
      "100%|██████████| 20/20 [01:55<00:00,  5.78s/it]\n"
     ]
    },
    {
     "name": "stdout",
     "output_type": "stream",
     "text": [
      "trainW-0.shape:(881896, 202)\n",
      "\n"
     ]
    }
   ],
   "source": [
    "\n",
    "\n",
    "train = utils.load_pred_feature('trainW-0')\n",
    "\n",
    "X = train.drop('is_churn', axis=1)\n",
    "y = train['is_churn']\n",
    "\n",
    "\n"
   ]
  },
  {
   "cell_type": "markdown",
   "metadata": {},
   "source": [
    "# cross_validation strategies"
   ]
  },
  {
   "cell_type": "code",
   "execution_count": null,
   "metadata": {},
   "outputs": [],
   "source": [
    "# cross_validation strategies\n",
    "seed = 72\n",
    "cv = StratifiedKFold( n_splits = 10, shuffle = True, random_state = seed)\n",
    "'''\n",
    "Stratification is the process of rearranging the data as to ensure each fold \n",
    "is a good representative of the whole. For example in a binary classification problem \n",
    "where each class comprises 50% of the data, it is best to arrange the data such that in every fold,\n",
    "each class comprises around half the instances.\n",
    "\n",
    "\n",
    "'''"
   ]
  },
  {
   "cell_type": "markdown",
   "metadata": {},
   "source": [
    "# parameters"
   ]
  },
  {
   "cell_type": "code",
   "execution_count": 3,
   "metadata": {},
   "outputs": [],
   "source": [
    "# grid\n",
    "params_fixed = {\n",
    "\t         'silent':1,\n",
    "         'objective':'binary:logistic',\n",
    "}\n",
    "\n",
    "params_dist_grid = {\n",
    "\t'max_depth': [5,6,7,8,9,10],\n",
    "\t'min_child_weight': [1,3,5],\n",
    "\t'colsample_bytree': [0.4,0,6,0.8],\n",
    "    'eta':[0.02,0.01]\n",
    "}"
   ]
  },
  {
   "cell_type": "markdown",
   "metadata": {},
   "source": [
    "# 1.GridSearchCV 2.RandomizedSearchCV"
   ]
  },
  {
   "cell_type": "code",
   "execution_count": 5,
   "metadata": {},
   "outputs": [],
   "source": [
    "rs_grid = RandomizedSearchCV(\n",
    "\testimator = XGBClassifier(**params_fixed, seed = seed),\n",
    "\tparam_distributions = params_dist_grid,\n",
    "\tn_iter = 5,\n",
    "\tcv = cv,\n",
    "\tscoring = 'neg_log_loss',\n",
    "\trandom_state = seed\n",
    "\t)\n"
   ]
  },
  {
   "cell_type": "code",
   "execution_count": null,
   "metadata": {},
   "outputs": [],
   "source": [
    "rs_grid.fit(X.drop('msno', axis=1),y)\n",
    "\n",
    "print (rs_grid.best_estimator_)\n",
    "print (rs_grid.best_score_)\n",
    "print (rs_grid.best_params_)"
   ]
  },
  {
   "cell_type": "code",
   "execution_count": null,
   "metadata": {},
   "outputs": [],
   "source": [
    "# min_child_weight [default=1]: the larger, the more conservative the algorithm will be."
   ]
  },
  {
   "cell_type": "code",
   "execution_count": null,
   "metadata": {},
   "outputs": [],
   "source": []
  },
  {
   "cell_type": "code",
   "execution_count": null,
   "metadata": {},
   "outputs": [],
   "source": []
  }
 ],
 "metadata": {
  "kernelspec": {
   "display_name": "Python 3",
   "language": "python",
   "name": "python3"
  },
  "language_info": {
   "codemirror_mode": {
    "name": "ipython",
    "version": 3
   },
   "file_extension": ".py",
   "mimetype": "text/x-python",
   "name": "python",
   "nbconvert_exporter": "python",
   "pygments_lexer": "ipython3",
   "version": "3.6.3"
  }
 },
 "nbformat": 4,
 "nbformat_minor": 2
}
