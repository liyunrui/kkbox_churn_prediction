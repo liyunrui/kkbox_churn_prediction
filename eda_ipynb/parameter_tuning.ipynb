{
 "cells": [
  {
   "cell_type": "code",
   "execution_count": 1,
   "metadata": {},
   "outputs": [],
   "source": [
    "#!/usr/bin/python3\n",
    "# -*-coding:utf-8\n",
    "'''\n",
    "Created on Fri Dec 1 22:22:35 2017\n",
    "\n",
    "@author: Ray\n",
    "\n",
    "'''\n",
    "import warnings\n",
    "warnings.filterwarnings(\"ignore\")\n",
    "from glob import glob\n",
    "import gc\n",
    "import os\n",
    "from tqdm import tqdm\n",
    "import time\n",
    "from itertools import chain\n",
    "import pandas as pd\n",
    "import numpy as np\n",
    "from xgboost import plot_importance\n",
    "from xgboost import XGBClassifier\n",
    "from matplotlib import pyplot\n",
    "import utils # made by author for efficiently dealing with data\n",
    "\n",
    "seed = 72\n",
    "np.random.seed(seed)\n"
   ]
  },
  {
   "cell_type": "code",
   "execution_count": 3,
   "metadata": {},
   "outputs": [
    {
     "name": "stderr",
     "output_type": "stream",
     "text": [
      "\n",
      "  0%|          | 0/20 [00:00<?, ?it/s]\u001b[A"
     ]
    },
    {
     "name": "stdout",
     "output_type": "stream",
     "text": [
      "keep top imp\n",
      "True\n"
     ]
    },
    {
     "name": "stderr",
     "output_type": "stream",
     "text": [
      "\n",
      "  5%|▌         | 1/20 [00:06<02:03,  6.47s/it]\u001b[A\n",
      " 10%|█         | 2/20 [00:13<01:57,  6.51s/it]\u001b[A\n",
      " 15%|█▌        | 3/20 [00:19<01:48,  6.35s/it]\u001b[A\n",
      " 20%|██        | 4/20 [00:25<01:40,  6.26s/it]\u001b[A\n",
      " 25%|██▌       | 5/20 [00:32<01:36,  6.44s/it]\u001b[A\n",
      " 30%|███       | 6/20 [00:39<01:31,  6.55s/it]\u001b[A\n",
      " 35%|███▌      | 7/20 [00:46<01:26,  6.65s/it]\u001b[A\n",
      " 40%|████      | 8/20 [00:52<01:19,  6.62s/it]\u001b[A\n",
      " 45%|████▌     | 9/20 [00:59<01:12,  6.61s/it]\u001b[A\n",
      " 50%|█████     | 10/20 [01:06<01:06,  6.64s/it]\u001b[A\n",
      " 55%|█████▌    | 11/20 [01:13<00:59,  6.66s/it]\u001b[A\n",
      " 60%|██████    | 12/20 [01:19<00:52,  6.61s/it]\u001b[A\n",
      " 65%|██████▌   | 13/20 [01:25<00:46,  6.59s/it]\u001b[A\n",
      " 70%|███████   | 14/20 [01:31<00:39,  6.55s/it]\u001b[A\n",
      " 75%|███████▌  | 15/20 [01:37<00:32,  6.53s/it]\u001b[A\n",
      " 80%|████████  | 16/20 [01:44<00:26,  6.51s/it]\u001b[A\n",
      " 85%|████████▌ | 17/20 [01:50<00:19,  6.48s/it]\u001b[A\n",
      " 90%|█████████ | 18/20 [01:55<00:12,  6.44s/it]\u001b[A\n",
      " 95%|█████████▌| 19/20 [02:02<00:06,  6.45s/it]\u001b[A\n",
      "100%|██████████| 20/20 [02:09<00:00,  6.46s/it]\u001b[A\n",
      "\u001b[A\n",
      "  0%|          | 0/20 [00:00<?, ?it/s]\u001b[A"
     ]
    },
    {
     "name": "stdout",
     "output_type": "stream",
     "text": [
      "trainW-0.shape:(881896, 50)\n",
      "\n",
      "keep top imp\n",
      "True\n"
     ]
    },
    {
     "name": "stderr",
     "output_type": "stream",
     "text": [
      "\n",
      "  5%|▌         | 1/20 [00:06<02:08,  6.77s/it]\u001b[A\n",
      " 10%|█         | 2/20 [00:13<02:03,  6.83s/it]\u001b[A\n",
      " 15%|█▌        | 3/20 [00:20<01:54,  6.75s/it]\u001b[A\n",
      " 20%|██        | 4/20 [00:26<01:46,  6.66s/it]\u001b[A\n",
      " 25%|██▌       | 5/20 [00:33<01:40,  6.67s/it]\u001b[A\n",
      " 30%|███       | 6/20 [00:39<01:32,  6.58s/it]\u001b[A\n",
      " 35%|███▌      | 7/20 [00:45<01:24,  6.52s/it]\u001b[A\n",
      " 40%|████      | 8/20 [00:52<01:18,  6.51s/it]\u001b[A\n",
      " 45%|████▌     | 9/20 [00:58<01:11,  6.54s/it]\u001b[A\n",
      " 50%|█████     | 10/20 [01:05<01:05,  6.56s/it]\u001b[A\n",
      " 55%|█████▌    | 11/20 [01:12<00:59,  6.61s/it]\u001b[A\n",
      " 60%|██████    | 12/20 [01:19<00:53,  6.63s/it]\u001b[A\n",
      " 65%|██████▌   | 13/20 [01:25<00:46,  6.62s/it]\u001b[A\n",
      " 70%|███████   | 14/20 [01:32<00:39,  6.59s/it]\u001b[A\n",
      " 75%|███████▌  | 15/20 [01:39<00:33,  6.67s/it]\u001b[A\n",
      " 80%|████████  | 16/20 [01:47<00:26,  6.71s/it]\u001b[A\n",
      " 85%|████████▌ | 17/20 [01:55<00:20,  6.78s/it]\u001b[A\n",
      " 90%|█████████ | 18/20 [02:02<00:13,  6.78s/it]\u001b[A\n",
      " 95%|█████████▌| 19/20 [02:09<00:06,  6.79s/it]\u001b[A\n",
      "100%|██████████| 20/20 [02:15<00:00,  6.80s/it]\u001b[A\n",
      "\u001b[A\n",
      "  0%|          | 0/20 [00:00<?, ?it/s]\u001b[A"
     ]
    },
    {
     "name": "stdout",
     "output_type": "stream",
     "text": [
      "trainW-1.shape:(884309, 50)\n",
      "\n",
      "keep top imp\n",
      "True\n"
     ]
    },
    {
     "name": "stderr",
     "output_type": "stream",
     "text": [
      "\n",
      "  5%|▌         | 1/20 [00:08<02:35,  8.18s/it]\u001b[A\n",
      " 10%|█         | 2/20 [00:17<02:34,  8.60s/it]\u001b[A\n",
      " 15%|█▌        | 3/20 [00:24<02:20,  8.24s/it]\u001b[A\n",
      " 20%|██        | 4/20 [00:33<02:15,  8.49s/it]\u001b[A\n",
      " 25%|██▌       | 5/20 [00:45<02:16,  9.10s/it]\u001b[A\n",
      " 30%|███       | 6/20 [00:53<02:04,  8.88s/it]\u001b[A\n",
      " 35%|███▌      | 7/20 [00:59<01:51,  8.57s/it]\u001b[A\n",
      " 40%|████      | 8/20 [01:06<01:39,  8.33s/it]\u001b[A\n",
      " 45%|████▌     | 9/20 [01:16<01:33,  8.48s/it]\u001b[A\n",
      " 50%|█████     | 10/20 [01:23<01:23,  8.32s/it]\u001b[A\n",
      " 55%|█████▌    | 11/20 [01:29<01:13,  8.15s/it]\u001b[A\n",
      " 60%|██████    | 12/20 [01:39<01:06,  8.29s/it]\u001b[A\n",
      " 65%|██████▌   | 13/20 [01:48<00:58,  8.38s/it]\u001b[A\n",
      " 70%|███████   | 14/20 [01:57<00:50,  8.38s/it]\u001b[A\n",
      " 75%|███████▌  | 15/20 [02:04<00:41,  8.33s/it]\u001b[A\n",
      " 80%|████████  | 16/20 [02:12<00:33,  8.27s/it]\u001b[A\n",
      " 85%|████████▌ | 17/20 [02:19<00:24,  8.19s/it]\u001b[A\n",
      " 90%|█████████ | 18/20 [02:26<00:16,  8.13s/it]\u001b[A\n",
      " 95%|█████████▌| 19/20 [02:32<00:08,  8.05s/it]\u001b[A\n",
      "100%|██████████| 20/20 [02:39<00:00,  7.99s/it]\u001b[A\n",
      "\u001b[A"
     ]
    },
    {
     "name": "stdout",
     "output_type": "stream",
     "text": [
      "trainW-2.shape:(905872, 50)\n",
      "\n",
      "per_churned_in_train_0 0.0587484238504\n",
      "n_churned 10042\n",
      "per_churned_in_train_1 0.0554877139084\n",
      "per_churned_in_train_2 0.0554877139084\n"
     ]
    },
    {
     "data": {
      "text/plain": [
       "141"
      ]
     },
     "execution_count": 3,
     "metadata": {},
     "output_type": "execute_result"
    }
   ],
   "source": [
    "##########################################\n",
    "#load dataset\n",
    "##########################################\n",
    "\n",
    "# load dataset\n",
    "file_name = '../output/model/xgb_feature_tuning_seed_72.model'\n",
    "train_0 = utils.load_pred_feature('trainW-0', keep_all = False, model_file_name = file_name, n_top_features = 48)\n",
    "train_1 = utils.load_pred_feature('trainW-1', keep_all = False, model_file_name = file_name, n_top_features = 48)\n",
    "train_2 = utils.load_pred_feature('trainW-2', keep_all = False, model_file_name = file_name, n_top_features = 48)\n",
    "# make data augmentation having same label distribution with training set provided by the kkbox\n",
    "per_churned_in_train_0 = train_0[['is_churn']].describe().ix['mean'][0] \n",
    "n_churned = train_1[train_1.is_churn == 0].shape[0] * per_churned_in_train_0\n",
    "print('per_churned_in_train_0', per_churned_in_train_0)\n",
    "print('n_churned', int(n_churned))\n",
    "train_1 = pd.concat([train_1[train_1.is_churn == 0],\n",
    "                train_1[train_1.is_churn == 1].sample(n = int(n_churned), random_state = seed)\n",
    "               ], ignore_index=True)\n",
    "per_churned_in_train_1 = train_1[['is_churn']].describe().ix['mean'][0] \n",
    "print('per_churned_in_train_1', per_churned_in_train_1)\n",
    "train_2 = pd.concat([train_2[train_2.is_churn == 0],\n",
    "                train_2[train_2.is_churn == 1].sample(n = int(n_churned), random_state = seed)\n",
    "               ], ignore_index=True)\n",
    "per_churned_in_train_2 = train_1[['is_churn']].describe().ix['mean'][0] \n",
    "print('per_churned_in_train_2', per_churned_in_train_2)\n",
    "train = pd.concat([train_0, train_1, train_2], ignore_index=True)\n",
    "\n",
    "# reduce memory in python\n",
    "del train_0, train_1, train_2, per_churned_in_train_0, per_churned_in_train_1, per_churned_in_train_2, n_churned,\n",
    "gc.collect()"
   ]
  },
  {
   "cell_type": "code",
   "execution_count": 4,
   "metadata": {},
   "outputs": [
    {
     "name": "stdout",
     "output_type": "stream",
     "text": [
      "prepartion of training set is done\n",
      "(1130966, 48)\n",
      "(1130966,)\n"
     ]
    }
   ],
   "source": [
    "#==============================================================================\n",
    "# prepare training data\n",
    "#==============================================================================\n",
    "Y_train = train['is_churn'] \n",
    "X_train = train.drop('is_churn', axis=1)\n",
    "del train\n",
    "\n",
    "print ('prepartion of training set is done')\n",
    "##########################################\n",
    "#Step 1: Fix learning rate and number of estimators for tuning tree-based parameters\n",
    "##########################################\n",
    "from sklearn.learning_curve import validation_curve # Determine training and test scores for varying parameter values.\n",
    "from sklearn.cross_validation import StratifiedKFold\n",
    "from xgboost.sklearn import XGBClassifier\n",
    "from scipy.sparse import vstack\n",
    "'''\n",
    "Operation procedure:\n",
    "1. fixed learning_rate =0.1\n",
    "2. using cross-validation fisrt to find optimal number of trees, then use the fixed n_estimators\n",
    "    the following tree-based parameters are default value. Later on, we need to tune this parameters.\n",
    "    -max_depth = 6\n",
    "    -min_child_weight = 1\n",
    "    -gamma = 0\n",
    "    -subsample, colsample_bytree = 0.8 \n",
    "    -scale_pos_weight = 1\n",
    "    \n",
    "'''\n",
    "\n",
    "default_params = {\n",
    "    'objective': 'binary:logistic',\n",
    "    'learning_rate': 0.1,\n",
    "    'max_depth': 6,\n",
    "    'min_child_weight': 1,\n",
    "    'gamma' : 0,\n",
    "    'subsample': 0.8,\n",
    "    'colsample_bytree': 0.8,\n",
    "    'silent': 1.0\n",
    "}\n",
    "# prepare X,y\n",
    "print (X_train.values[:,1:].shape)\n",
    "print (Y_train.shape)"
   ]
  },
  {
   "cell_type": "code",
   "execution_count": 22,
   "metadata": {},
   "outputs": [],
   "source": [
    "X_train = X_train.values[:,1:]"
   ]
  },
  {
   "cell_type": "code",
   "execution_count": 10,
   "metadata": {},
   "outputs": [
    {
     "name": "stdout",
     "output_type": "stream",
     "text": [
      "Starting to find optimum n_estimators that we need to tune our tree-based paras\n",
      "n_estimators_range [  50  155  261  366  472  577  683  788  894 1000]\n"
     ]
    },
    {
     "ename": "NameError",
     "evalue": "name 'plt' is not defined",
     "output_type": "error",
     "traceback": [
      "\u001b[0;31m---------------------------------------------------------------------------\u001b[0m",
      "\u001b[0;31mNameError\u001b[0m                                 Traceback (most recent call last)",
      "\u001b[0;32m<ipython-input-10-54525b81ebee>\u001b[0m in \u001b[0;36m<module>\u001b[0;34m()\u001b[0m\n\u001b[1;32m     23\u001b[0m \u001b[0mtest_scores_std\u001b[0m \u001b[0;34m=\u001b[0m \u001b[0mnp\u001b[0m\u001b[0;34m.\u001b[0m\u001b[0mstd\u001b[0m\u001b[0;34m(\u001b[0m\u001b[0mtest_scores\u001b[0m\u001b[0;34m,\u001b[0m \u001b[0maxis\u001b[0m\u001b[0;34m=\u001b[0m\u001b[0;36m1\u001b[0m\u001b[0;34m)\u001b[0m\u001b[0;34m\u001b[0m\u001b[0m\n\u001b[1;32m     24\u001b[0m \u001b[0;34m\u001b[0m\u001b[0m\n\u001b[0;32m---> 25\u001b[0;31m \u001b[0mfig\u001b[0m \u001b[0;34m=\u001b[0m \u001b[0mplt\u001b[0m\u001b[0;34m.\u001b[0m\u001b[0mfigure\u001b[0m\u001b[0;34m(\u001b[0m\u001b[0mfigsize\u001b[0m\u001b[0;34m=\u001b[0m\u001b[0;34m(\u001b[0m\u001b[0;36m10\u001b[0m\u001b[0;34m,\u001b[0m \u001b[0;36m6\u001b[0m\u001b[0;34m)\u001b[0m\u001b[0;34m,\u001b[0m \u001b[0mdpi\u001b[0m\u001b[0;34m=\u001b[0m\u001b[0;36m100\u001b[0m\u001b[0;34m)\u001b[0m\u001b[0;34m\u001b[0m\u001b[0m\n\u001b[0m\u001b[1;32m     26\u001b[0m \u001b[0;31m# plot\u001b[0m\u001b[0;34m\u001b[0m\u001b[0;34m\u001b[0m\u001b[0m\n\u001b[1;32m     27\u001b[0m \u001b[0mplt\u001b[0m\u001b[0;34m.\u001b[0m\u001b[0mtitle\u001b[0m\u001b[0;34m(\u001b[0m\u001b[0;34m\"Validation Curve with XGBoost (eta = 0.1)\"\u001b[0m\u001b[0;34m)\u001b[0m\u001b[0;34m\u001b[0m\u001b[0m\n",
      "\u001b[0;31mNameError\u001b[0m: name 'plt' is not defined"
     ]
    }
   ],
   "source": [
    "#We will divide into 10 stratified folds (the same distibution of labels in each fold) for testing\n",
    "cv = StratifiedKFold(Y_train, n_folds=3, shuffle=True, random_state=seed)\n",
    "\n",
    "#Return evenly spaced numbers over a specified interval.\n",
    "n_estimators_range = np.linspace(start = 50, stop = 1000, num = 10).astype('int') \n",
    "\n",
    "print ('Starting to find optimum n_estimators that we need to tune our tree-based paras')\n",
    "# tuning n_estimators\n",
    "train_scores, test_scores = validation_curve(\n",
    "    XGBClassifier(**default_params),\n",
    "    X_train.values[:,1:], \n",
    "    Y_train.values,\n",
    "    param_name = 'n_estimators',\n",
    "    param_range = n_estimators_range,\n",
    "    cv=cv,\n",
    "    scoring='neg_log_loss' # Due to some problems, the bigger the score, the better the performance\n",
    ")\n",
    "print ('n_estimators_range', n_estimators_range)\n",
    "# for following plot\n",
    "train_scores_mean = np.mean(train_scores, axis=1)\n",
    "train_scores_std = np.std(train_scores, axis=1)\n",
    "test_scores_mean = np.mean(test_scores, axis=1)\n",
    "test_scores_std = np.std(test_scores, axis=1)\n",
    "\n"
   ]
  },
  {
   "cell_type": "code",
   "execution_count": 17,
   "metadata": {},
   "outputs": [
    {
     "data": {
      "image/png": "[encoded data removed]",
      "text/plain": [
       "<matplotlib.figure.Figure at 0x10f4b5588>"
      ]
     },
     "metadata": {},
     "output_type": "display_data"
    },
    {
     "name": "stdout",
     "output_type": "stream",
     "text": [
      "Best cross-validation result (-0.13) obtained for 577 trees\n"
     ]
    }
   ],
   "source": [
    "import matplotlib.pyplot as plt\n",
    "fig = plt.figure(figsize=(10, 6), dpi=100)\n",
    "# plot\n",
    "plt.title(\"Validation Curve with XGBoost (eta = 0.1)\")\n",
    "plt.xlabel(\"number of trees\")\n",
    "plt.ylabel(\"Accuracy\")\n",
    "plt.ylim(-0.3, 0)\n",
    "\n",
    "plt.plot(n_estimators_range,\n",
    "             train_scores_mean,\n",
    "             label=\"Training score\",\n",
    "             color=\"r\")\n",
    "\n",
    "plt.plot(n_estimators_range,\n",
    "             test_scores_mean, \n",
    "             label=\"Cross-validation score\",\n",
    "             color=\"g\")\n",
    "\n",
    "plt.fill_between(n_estimators_range, \n",
    "                 train_scores_mean - train_scores_std,\n",
    "                 train_scores_mean + train_scores_std, \n",
    "                 alpha=0.2, color=\"r\")\n",
    "\n",
    "plt.fill_between(n_estimators_range,\n",
    "                 test_scores_mean - test_scores_std,\n",
    "                 test_scores_mean + test_scores_std,\n",
    "                 alpha=0.2, color=\"g\")\n",
    "\n",
    "plt.axhline(y=1, color='k', ls='dashed')\n",
    "\n",
    "plt.legend(loc=\"best\")\n",
    "plt.show()\n",
    "\n",
    "best_i = np.argmax(test_scores_mean) # best index\n",
    "\n",
    "'''\n",
    "The model need to be trained 10(parameters_range) * 3 (K-fold = 10) : 30 \n",
    "Notice: 先初步找到range of n_estimators, In the end of hyperparameters tuning, \n",
    "we should lower the learning rate and add more trees. \n",
    "'''\n",
    "\n",
    "print(\"Best cross-validation result ({0:.2f}) obtained for {1} trees\".format(test_scores_mean[best_i], n_estimators_range[best_i]))\n"
   ]
  },
  {
   "cell_type": "code",
   "execution_count": 25,
   "metadata": {},
   "outputs": [
    {
     "data": {
      "text/plain": [
       "[3, 5, 7, 9]"
      ]
     },
     "execution_count": 25,
     "metadata": {},
     "output_type": "execute_result"
    }
   ],
   "source": [
    "[i for i in range(3,10,2)]"
   ]
  },
  {
   "cell_type": "code",
   "execution_count": 27,
   "metadata": {},
   "outputs": [
    {
     "name": "stderr",
     "output_type": "stream",
     "text": [
      "\n",
      "\n",
      "\n",
      "\n"
     ]
    },
    {
     "name": "stdout",
     "output_type": "stream",
     "text": [
      "results [mean: -0.13348, std: 0.00071, params: {'max_depth': 3, 'min_child_weight': 1}, mean: -0.13355, std: 0.00064, params: {'max_depth': 3, 'min_child_weight': 3}, mean: -0.13350, std: 0.00065, params: {'max_depth': 3, 'min_child_weight': 5}, mean: -0.12897, std: 0.00063, params: {'max_depth': 5, 'min_child_weight': 1}, mean: -0.12908, std: 0.00061, params: {'max_depth': 5, 'min_child_weight': 3}, mean: -0.12910, std: 0.00063, params: {'max_depth': 5, 'min_child_weight': 5}, mean: -0.12823, std: 0.00059, params: {'max_depth': 7, 'min_child_weight': 1}, mean: -0.12817, std: 0.00053, params: {'max_depth': 7, 'min_child_weight': 3}, mean: -0.12811, std: 0.00058, params: {'max_depth': 7, 'min_child_weight': 5}, mean: -0.13003, std: 0.00066, params: {'max_depth': 9, 'min_child_weight': 1}, mean: -0.12932, std: 0.00061, params: {'max_depth': 9, 'min_child_weight': 3}, mean: -0.12898, std: 0.00059, params: {'max_depth': 9, 'min_child_weight': 5}]\n",
      "best paras {'max_depth': 7, 'min_child_weight': 5}\n",
      "best_score_ -0.12810652765349884\n"
     ]
    },
    {
     "data": {
      "text/plain": [
       "'\\nHere we trained 12(parameters combinations) * 5 (K-fold = 3) : 50 models\\n'"
      ]
     },
     "execution_count": 27,
     "metadata": {},
     "output_type": "execute_result"
    }
   ],
   "source": [
    "from sklearn.grid_search import GridSearchCV\n",
    "############################\n",
    "#1. Start with wider range \n",
    "############################\n",
    "param_test1 = {\n",
    " 'max_depth':[i for i in range(3,10,2)], # star from 3 and end at 9 with step 2. For example, [3,5,7,9]\n",
    " 'min_child_weight':[i for i in range(1,6,2)] # [1,3,5]\n",
    "}\n",
    "fixed_estimator = 577\n",
    "\n",
    "cv = StratifiedKFold(Y_train, n_folds=3, shuffle=True, random_state=72)\n",
    "'''\n",
    "Here we trained 12(parameters combinations) * 3 (K-fold = 3) : 36 models\n",
    "\n",
    "'''\n",
    "gsearch1 = GridSearchCV(estimator = XGBClassifier( learning_rate =0.1, \n",
    "\tn_estimators = fixed_estimator, \n",
    "\tmax_depth=5,\n",
    " \tmin_child_weight=1, \n",
    " \tgamma=0, \n",
    " \tsubsample=0.8, \n",
    " \tcolsample_bytree=0.8,\n",
    " \tobjective= 'binary:logistic', \n",
    " \tnthread=4, \n",
    " \tscale_pos_weight=1, \n",
    " \tseed=seed), \n",
    " \tparam_grid = param_test1, \n",
    " \tscoring='neg_log_loss',\n",
    " \tn_jobs=4,\n",
    " \tcv=cv)\n",
    "# running\n",
    "gsearch1.fit(X_train, Y_train)\n",
    "\n",
    "print ('results',gsearch1.grid_scores_)\n",
    "print ('best paras',gsearch1.best_params_)\n",
    "\n"
   ]
  },
  {
   "cell_type": "code",
   "execution_count": 28,
   "metadata": {},
   "outputs": [
    {
     "data": {
      "text/plain": [
       "7"
      ]
     },
     "execution_count": 28,
     "metadata": {},
     "output_type": "execute_result"
    }
   ],
   "source": [
    "gsearch1.best_params_['max_depth']"
   ]
  },
  {
   "cell_type": "code",
   "execution_count": 30,
   "metadata": {},
   "outputs": [
    {
     "data": {
      "text/plain": [
       "5"
      ]
     },
     "execution_count": 30,
     "metadata": {},
     "output_type": "execute_result"
    }
   ],
   "source": [
    "gsearch1.best_params_['min_child_weight'] "
   ]
  },
  {
   "cell_type": "code",
   "execution_count": 31,
   "metadata": {},
   "outputs": [
    {
     "name": "stderr",
     "output_type": "stream",
     "text": [
      "\n",
      "\n",
      "\n",
      "\n"
     ]
    },
    {
     "name": "stdout",
     "output_type": "stream",
     "text": [
      "results [mean: -0.12826, std: 0.00055, params: {'max_depth': 6, 'min_child_weight': 4}, mean: -0.12830, std: 0.00059, params: {'max_depth': 6, 'min_child_weight': 5}, mean: -0.12829, std: 0.00063, params: {'max_depth': 6, 'min_child_weight': 6}, mean: -0.12808, std: 0.00057, params: {'max_depth': 7, 'min_child_weight': 4}, mean: -0.12811, std: 0.00058, params: {'max_depth': 7, 'min_child_weight': 5}, mean: -0.12813, std: 0.00065, params: {'max_depth': 7, 'min_child_weight': 6}, mean: -0.12842, std: 0.00060, params: {'max_depth': 8, 'min_child_weight': 4}, mean: -0.12838, std: 0.00064, params: {'max_depth': 8, 'min_child_weight': 5}, mean: -0.12836, std: 0.00057, params: {'max_depth': 8, 'min_child_weight': 6}]\n",
      "best paras {'max_depth': 7, 'min_child_weight': 4}\n",
      "best_score_ -0.12807966623946077\n"
     ]
    },
    {
     "data": {
      "text/plain": [
       "'\\n\\nHere we trained 9(parameters combinations) * 3 (K-fold = 3) : 27 models\\n\\nNotice that:\\n\\n'"
      ]
     },
     "execution_count": 31,
     "metadata": {},
     "output_type": "execute_result"
    }
   ],
   "source": [
    "############################\n",
    "#2. Lets go one step deeper(interval = 1) and look for optimum values.\n",
    "############################\n",
    "\n",
    "param_test2 = {\n",
    " 'max_depth':[gsearch1.best_params_['max_depth'] - 1, gsearch1.best_params_['max_depth'], gsearch1.best_params_['max_depth'] + 1],\n",
    " 'min_child_weight':[gsearch1.best_params_['min_child_weight'] - 1, gsearch1.best_params_['min_child_weight'], gsearch1.best_params_['min_child_weight'] + 1]\n",
    "}\n",
    "'''\n",
    "\n",
    "Here we trained 9(parameters combinations) * 3 (K-fold = 3) : 27 models\n",
    "\n",
    "\n",
    "'''\n",
    "gsearch2 = GridSearchCV(estimator = XGBClassifier( learning_rate =0.1, \n",
    "\tn_estimators = fixed_estimator, \n",
    "\tmax_depth=5,\n",
    " \tmin_child_weight=1, \n",
    " \tgamma=0, \n",
    " \tsubsample=0.8, \n",
    " \tcolsample_bytree=0.8,\n",
    " \tobjective= 'binary:logistic', \n",
    " \tnthread=4, \n",
    " \tscale_pos_weight=1, \n",
    " \tseed=seed), \n",
    " \tparam_grid = param_test2, \n",
    " \tscoring='neg_log_loss',\n",
    " \tn_jobs=4,\n",
    " \tcv=cv)\n",
    "# running\n",
    "gsearch2.fit(X_train, Y_train)\n",
    "\n",
    "print ('results',gsearch2.grid_scores_)\n",
    "print ('best paras',gsearch2.best_params_)\n",
    "print ('best_score_',gsearch2.best_score_)\n"
   ]
  },
  {
   "cell_type": "code",
   "execution_count": 37,
   "metadata": {},
   "outputs": [
    {
     "data": {
      "text/plain": [
       "4"
      ]
     },
     "execution_count": 37,
     "metadata": {},
     "output_type": "execute_result"
    }
   ],
   "source": [
    "'''\n",
    "\n",
    "g1: best_score_ -0.12810652765349884\n",
    "\n",
    "g2: best_score_ -0.12807966623946077 (Compared to g1, model inded get slightly inprovement)\n",
    "\n",
    "'''\n",
    "\n",
    "gsearch2.best_params_['min_child_weight']"
   ]
  },
  {
   "cell_type": "code",
   "execution_count": 38,
   "metadata": {},
   "outputs": [
    {
     "name": "stderr",
     "output_type": "stream",
     "text": [
      "\n",
      "\n",
      "\n",
      "\n"
     ]
    },
    {
     "name": "stdout",
     "output_type": "stream",
     "text": [
      "results [mean: -0.12808, std: 0.00057, params: {'gamma': 0.0}, mean: -0.12812, std: 0.00063, params: {'gamma': 0.1}, mean: -0.12822, std: 0.00058, params: {'gamma': 0.2}, mean: -0.12813, std: 0.00063, params: {'gamma': 0.3}, mean: -0.12815, std: 0.00062, params: {'gamma': 0.4}]\n",
      "best paras {'gamma': 0.0}\n",
      "best_score_ -0.12807966623946077\n"
     ]
    }
   ],
   "source": [
    "##########################################\n",
    "#Step 2: Tune gamma\n",
    "##########################################\n",
    "'''\n",
    "gamma: Minimum loss reduction required to make a further partition on a leaf node of the tree.\n",
    "The values depend on the loss function and should be tuned.\n",
    "\n",
    "Higher values make the algorithm conservative.\n",
    "'''\n",
    "param_test3 = {\n",
    " 'gamma':[i/10.0 for i in range(0,5)] # [0, 0.1, 0.2, 0.3, 0.4]\n",
    "}\n",
    "'''\n",
    "\n",
    "Here we trained 5(parameters combinations) * 3 (K-fold = 3) : 15 models\n",
    "\n",
    "\n",
    "'''\n",
    "gsearch3 = GridSearchCV(estimator = XGBClassifier( learning_rate =0.1, \n",
    "\tn_estimators = fixed_estimator, \n",
    "\tmax_depth = gsearch2.best_params_['max_depth'],\n",
    " \tmin_child_weight= gsearch2.best_params_['min_child_weight'], \n",
    " \tgamma=0, \n",
    " \tsubsample=0.8, \n",
    " \tcolsample_bytree=0.8,\n",
    " \tobjective= 'binary:logistic', \n",
    " \tnthread=4, \n",
    " \tscale_pos_weight=1, \n",
    " \tseed=seed), \n",
    " \tparam_grid = param_test3, \n",
    " \tscoring='neg_log_loss',\n",
    " \tn_jobs=4,\n",
    " \tcv=cv)\n",
    "# running\n",
    "gsearch3.fit(X_train, Y_train)\n",
    "\n",
    "print ('results',gsearch3.grid_scores_)\n",
    "print ('best paras',gsearch3.best_params_)\n",
    "print ('best_score_',gsearch3.best_score_)"
   ]
  },
  {
   "cell_type": "code",
   "execution_count": 39,
   "metadata": {},
   "outputs": [
    {
     "data": {
      "text/plain": [
       "0.0"
      ]
     },
     "execution_count": 39,
     "metadata": {},
     "output_type": "execute_result"
    }
   ],
   "source": [
    "gsearch3.best_params_['gamma']"
   ]
  },
  {
   "cell_type": "code",
   "execution_count": 40,
   "metadata": {},
   "outputs": [
    {
     "name": "stderr",
     "output_type": "stream",
     "text": [
      "\n",
      "\n",
      "\n",
      "\n"
     ]
    },
    {
     "name": "stdout",
     "output_type": "stream",
     "text": [
      "results [mean: -0.12872, std: 0.00060, params: {'colsample_bytree': 0.6, 'subsample': 0.6}, mean: -0.12838, std: 0.00062, params: {'colsample_bytree': 0.6, 'subsample': 0.7}, mean: -0.12803, std: 0.00066, params: {'colsample_bytree': 0.6, 'subsample': 0.8}, mean: -0.12787, std: 0.00062, params: {'colsample_bytree': 0.6, 'subsample': 0.9}, mean: -0.12862, std: 0.00053, params: {'colsample_bytree': 0.7, 'subsample': 0.6}, mean: -0.12834, std: 0.00063, params: {'colsample_bytree': 0.7, 'subsample': 0.7}, mean: -0.12810, std: 0.00065, params: {'colsample_bytree': 0.7, 'subsample': 0.8}, mean: -0.12787, std: 0.00069, params: {'colsample_bytree': 0.7, 'subsample': 0.9}, mean: -0.12862, std: 0.00063, params: {'colsample_bytree': 0.8, 'subsample': 0.6}, mean: -0.12842, std: 0.00065, params: {'colsample_bytree': 0.8, 'subsample': 0.7}, mean: -0.12808, std: 0.00057, params: {'colsample_bytree': 0.8, 'subsample': 0.8}, mean: -0.12789, std: 0.00064, params: {'colsample_bytree': 0.8, 'subsample': 0.9}, mean: -0.12865, std: 0.00065, params: {'colsample_bytree': 0.9, 'subsample': 0.6}, mean: -0.12852, std: 0.00060, params: {'colsample_bytree': 0.9, 'subsample': 0.7}, mean: -0.12817, std: 0.00071, params: {'colsample_bytree': 0.9, 'subsample': 0.8}, mean: -0.12790, std: 0.00059, params: {'colsample_bytree': 0.9, 'subsample': 0.9}]\n",
      "best paras {'colsample_bytree': 0.7, 'subsample': 0.9}\n",
      "best_score_ -0.12786623104386283\n"
     ]
    }
   ],
   "source": [
    "##########################################\n",
    "#Step 4: Tune subsample and colsample_bytree\n",
    "##########################################\n",
    "\n",
    "'''\n",
    "The reason we tune the two parameters is to add randomness for making training robust to noise\n",
    "\n",
    "subsample: subsample ratio of the training instance.\n",
    "colsample_bytree: subsample ratio of columns for each split, in each level.\n",
    "\n",
    "We'll tune this in 2 stages.\n",
    "1. To begin with, take values 0.6,0.7,0.8,0.9 for both to start with.\n",
    "2. Secondly, Now we should try values in 0.05 interval around optimum values we found above.\n",
    "'''\n",
    "\n",
    "############################\n",
    "#1. Start with wider range \n",
    "############################\n",
    "param_test4 = {\n",
    " 'subsample':[i/10.0 for i in range(6,10)], # [0,6, 0,7, 0.8, 0.9]\n",
    " 'colsample_bytree':[i/10.0 for i in range(6,10)] # [0,6, 0,7, 0.8, 0.9]\n",
    "}\n",
    "'''\n",
    "Here we trained 16(parameters combinations) * 3 (K-fold = 3) : 48 models\n",
    "\n",
    "'''\n",
    "gsearch4 = GridSearchCV(estimator = XGBClassifier( learning_rate =0.1, \n",
    "\tn_estimators = fixed_estimator, \n",
    "\tmax_depth= gsearch2.best_params_['max_depth'],\n",
    " \tmin_child_weight= gsearch2.best_params_['min_child_weight'], \n",
    " \tgamma= gsearch3.best_params_['gamma'], \n",
    " \tsubsample=0.8, \n",
    " \tcolsample_bytree=0.8,\n",
    " \tobjective= 'binary:logistic', \n",
    " \tnthread=4, \n",
    " \tscale_pos_weight=1, \n",
    " \tseed=seed), \n",
    " \tparam_grid = param_test4, \n",
    " \tscoring='neg_log_loss',\n",
    " \tn_jobs=4,\n",
    " \tcv=cv)\n",
    "# running\n",
    "gsearch4.fit(X_train, Y_train)\n",
    "\n",
    "print ('results',gsearch4.grid_scores_)\n",
    "print ('best paras',gsearch4.best_params_)\n",
    "print ('best_score_',gsearch4.best_score_)\n"
   ]
  },
  {
   "cell_type": "code",
   "execution_count": 44,
   "metadata": {},
   "outputs": [
    {
     "data": {
      "text/plain": [
       "[0.85, 0.9, 0.9500000000000001]"
      ]
     },
     "execution_count": 44,
     "metadata": {},
     "output_type": "execute_result"
    }
   ],
   "source": [
    "[gsearch4.best_params_['subsample']-0.05 ,gsearch4.best_params_['subsample'], gsearch4.best_params_['subsample'] + 0.05]"
   ]
  },
  {
   "cell_type": "code",
   "execution_count": 45,
   "metadata": {},
   "outputs": [
    {
     "name": "stderr",
     "output_type": "stream",
     "text": [
      "\n",
      "\n",
      "\n",
      "\n"
     ]
    },
    {
     "name": "stdout",
     "output_type": "stream",
     "text": [
      "results [mean: -0.12810, std: 0.00070, params: {'colsample_bytree': 0.6499999999999999, 'subsample': 0.85}, mean: -0.12786, std: 0.00067, params: {'colsample_bytree': 0.6499999999999999, 'subsample': 0.9}, mean: -0.12784, std: 0.00063, params: {'colsample_bytree': 0.6499999999999999, 'subsample': 0.9500000000000001}, mean: -0.12803, std: 0.00064, params: {'colsample_bytree': 0.7, 'subsample': 0.85}, mean: -0.12787, std: 0.00069, params: {'colsample_bytree': 0.7, 'subsample': 0.9}, mean: -0.12788, std: 0.00063, params: {'colsample_bytree': 0.7, 'subsample': 0.9500000000000001}, mean: -0.12804, std: 0.00067, params: {'colsample_bytree': 0.75, 'subsample': 0.85}, mean: -0.12788, std: 0.00067, params: {'colsample_bytree': 0.75, 'subsample': 0.9}, mean: -0.12779, std: 0.00062, params: {'colsample_bytree': 0.75, 'subsample': 0.9500000000000001}]\n",
      "best paras {'colsample_bytree': 0.75, 'subsample': 0.9500000000000001}\n",
      "best_score_ -0.1277880892465591\n"
     ]
    }
   ],
   "source": [
    "############################\n",
    "#2. Lets go one step deeper(interval = 0.05) and look for optimum values.\n",
    "############################\n",
    "param_test5 = {\n",
    " 'subsample':[gsearch4.best_params_['subsample']-0.05 ,gsearch4.best_params_['subsample'], gsearch4.best_params_['subsample'] + 0.05], # [0.85, 0.9, 0.95] \n",
    " 'colsample_bytree':[gsearch4.best_params_['colsample_bytree']-0.05 ,gsearch4.best_params_['colsample_bytree'], gsearch4.best_params_['colsample_bytree'] + 0.05] # # [0.65, 0.7, 0.75] \n",
    "}\n",
    "\n",
    "'''\n",
    "Here we trained 9(parameters combinations) * 3 (K-fold = 3) : 9 models\n",
    "\n",
    "'''\n",
    "gsearch5 = GridSearchCV(estimator = XGBClassifier( learning_rate =0.1, \n",
    "\tn_estimators = fixed_estimator, \n",
    "\tmax_depth= gsearch2.best_params_['max_depth'],\n",
    " \tmin_child_weight= gsearch2.best_params_['min_child_weight'], \n",
    " \tgamma= gsearch3.best_params_['gamma'], \n",
    " \tsubsample=0.8, \n",
    " \tcolsample_bytree= 0.8,\n",
    " \tobjective= 'binary:logistic', \n",
    " \tnthread=4, \n",
    " \tscale_pos_weight=1, \n",
    " \tseed=seed), \n",
    " \tparam_grid = param_test5, \n",
    " \tscoring='neg_log_loss',\n",
    " \tn_jobs=4,\n",
    " \tcv=cv)\n",
    "# running\n",
    "gsearch5.fit(X_train, Y_train)\n",
    "\n",
    "print ('results',gsearch5.grid_scores_)\n",
    "print ('best paras',gsearch5.best_params_)\n",
    "print ('best_score_',gsearch5.best_score_)"
   ]
  },
  {
   "cell_type": "code",
   "execution_count": 47,
   "metadata": {},
   "outputs": [
    {
     "data": {
      "text/plain": [
       "0.75"
      ]
     },
     "execution_count": 47,
     "metadata": {},
     "output_type": "execute_result"
    }
   ],
   "source": [
    "gsearch5.best_params_['colsample_bytree']"
   ]
  },
  {
   "cell_type": "code",
   "execution_count": 52,
   "metadata": {},
   "outputs": [
    {
     "name": "stderr",
     "output_type": "stream",
     "text": [
      "\n",
      "\n",
      "\n",
      "\n"
     ]
    },
    {
     "name": "stdout",
     "output_type": "stream",
     "text": [
      "results [mean: -0.12780, std: 0.00069, params: {'subsample': 1.0}]\n",
      "best paras {'subsample': 1.0}\n",
      "best_score_ -0.1277976053088933\n"
     ]
    }
   ],
   "source": [
    "############################\n",
    "#2. Lets go one step deeper(interval = 0.05) and look for optimum values.\n",
    "############################\n",
    "param_test6 = {\n",
    " 'subsample':[1.0]\n",
    "}\n",
    "'''\n",
    "Here we trained 1(parameters combinations) * 3 (K-fold = 3) : 3 models\n",
    "\n",
    "'''\n",
    "gsearch6 = GridSearchCV(estimator = XGBClassifier( learning_rate =0.1, \n",
    "\tn_estimators = fixed_estimator, \n",
    "\tmax_depth= gsearch2.best_params_['max_depth'],\n",
    " \tmin_child_weight= gsearch2.best_params_['min_child_weight'], \n",
    " \tgamma= gsearch3.best_params_['gamma'], \n",
    " \tsubsample=0.8, \n",
    " \tcolsample_bytree= gsearch5.best_params_['colsample_bytree'],\n",
    " \tobjective= 'binary:logistic', \n",
    " \tnthread=4, \n",
    " \tscale_pos_weight=1, \n",
    " \tseed=seed), \n",
    " \tparam_grid = param_test6, \n",
    " \tscoring='neg_log_loss',\n",
    " \tn_jobs=4,\n",
    " \tcv=cv)\n",
    "# running\n",
    "gsearch6.fit(X_train, Y_train)\n",
    "\n",
    "print ('results',gsearch6.grid_scores_)\n",
    "print ('best paras',gsearch6.best_params_)\n",
    "print ('best_score_',gsearch6.best_score_)"
   ]
  },
  {
   "cell_type": "code",
   "execution_count": 53,
   "metadata": {},
   "outputs": [
    {
     "data": {
      "text/plain": [
       "True"
      ]
     },
     "execution_count": 53,
     "metadata": {},
     "output_type": "execute_result"
    }
   ],
   "source": [
    "-0.1277880892465591 > -0.1277976053088933"
   ]
  },
  {
   "cell_type": "code",
   "execution_count": 55,
   "metadata": {},
   "outputs": [
    {
     "name": "stderr",
     "output_type": "stream",
     "text": [
      "\n",
      "\n",
      "\n",
      "\n"
     ]
    },
    {
     "name": "stdout",
     "output_type": "stream",
     "text": [
      "results [mean: -0.12792, std: 0.00075, params: {'reg_lambda': 1e-05}, mean: -0.12784, std: 0.00065, params: {'reg_lambda': 0.01}, mean: -0.12789, std: 0.00063, params: {'reg_lambda': 0.1}, mean: -0.12779, std: 0.00062, params: {'reg_lambda': 1}, mean: -0.12811, std: 0.00054, params: {'reg_lambda': 100}]\n",
      "best paras {'reg_lambda': 1}\n",
      "best_score_ -0.1277880892465591\n"
     ]
    }
   ],
   "source": [
    "##########################################\n",
    "#Step 5: Tuning Regularization Parameters\n",
    "##########################################\n",
    "\n",
    "'''\n",
    "lambda[default = 1]: L2 regularization term on weights, increase this value will make model more conservative.\n",
    "alphad[efault = 0]: L1 regularization term on weights, increase this value will make model more conservative.\n",
    "\n",
    "Theoretically, L1 is more unstable than L2.\n",
    "\n",
    "'''\n",
    "param_test7 = {\n",
    " 'reg_lambda':[1e-5, 1e-2, 0.1, 1, 10, 100]\n",
    "}\n",
    "\n",
    "\n",
    "gsearch7 = GridSearchCV(estimator = XGBClassifier( learning_rate =0.1, \n",
    "\tn_estimators = fixed_estimator, \n",
    "\tmax_depth= gsearch2.best_params_['max_depth'],\n",
    " \tmin_child_weight= gsearch2.best_params_['min_child_weight'], \n",
    " \tgamma= gsearch3.best_params_['gamma'], \n",
    " \tsubsample = 0.95, \n",
    " \tcolsample_bytree = 0.75,\n",
    " \tobjective= 'binary:logistic', \n",
    " \tnthread=4, \n",
    " \tscale_pos_weight=1, \n",
    " \tseed=seed), \n",
    " \tparam_grid = param_test7, \n",
    " \tscoring='neg_log_loss',\n",
    " \tn_jobs=4,\n",
    " \tcv=cv)\n",
    "# running\n",
    "gsearch7.fit(X_train, Y_train)\n",
    "\n",
    "print ('results',gsearch7.grid_scores_)\n",
    "print ('best paras',gsearch7.best_params_)\n",
    "print ('best_score_',gsearch7.best_score_)\n"
   ]
  },
  {
   "cell_type": "code",
   "execution_count": 65,
   "metadata": {},
   "outputs": [
    {
     "name": "stdout",
     "output_type": "stream",
     "text": [
      "0.05\n"
     ]
    }
   ],
   "source": [
    "print (0.1/2)"
   ]
  },
  {
   "cell_type": "code",
   "execution_count": null,
   "metadata": {},
   "outputs": [
    {
     "name": "stderr",
     "output_type": "stream",
     "text": [
      "\n",
      "\n",
      "\n",
      "\n"
     ]
    }
   ],
   "source": [
    "############################\n",
    "#2. Lets go smaller interval centering around the above optimum.\n",
    "############################\n",
    "param_test8 = {\n",
    " 'reg_lambda':[0.1, 0.5, 1,10]\n",
    "}\n",
    "\n",
    "\n",
    "gsearch8 = GridSearchCV(estimator = XGBClassifier( learning_rate =0.1, \n",
    "\tn_estimators = fixed_estimator, \n",
    "\tmax_depth= gsearch2.best_params_['max_depth'],\n",
    " \tmin_child_weight= gsearch2.best_params_['min_child_weight'], \n",
    " \tgamma= gsearch3.best_params_['gamma'], \n",
    " \tsubsample = 0.95, \n",
    " \tcolsample_bytree = 0.75,\n",
    " \tobjective= 'binary:logistic', \n",
    " \tnthread=4, \n",
    " \tscale_pos_weight=1, \n",
    " \tseed=seed,\n",
    "    reg_lambda=1), \n",
    " \tparam_grid = param_test8, \n",
    " \tscoring='neg_log_loss',\n",
    " \tn_jobs=4,\n",
    " \tcv=cv)\n",
    "# running\n",
    "gsearch8.fit(X_train, Y_train)\n",
    "\n",
    "print ('results',gsearch8.grid_scores_)\n",
    "print ('best paras',gsearch8.best_params_)\n",
    "print ('best_score_',gsearch8.best_score_)"
   ]
  },
  {
   "cell_type": "code",
   "execution_count": 68,
   "metadata": {},
   "outputs": [
    {
     "name": "stdout",
     "output_type": "stream",
     "text": [
      "results [mean: -0.12789, std: 0.00063, params: {'reg_lambda': 0.1}, mean: -0.12788, std: 0.00065, params: {'reg_lambda': 0.5}, mean: -0.12779, std: 0.00062, params: {'reg_lambda': 1}, mean: -0.12778, std: 0.00065, params: {'reg_lambda': 10}]\n",
      "best paras {'reg_lambda': 10}\n",
      "best_score_ -0.1277819217394043\n"
     ]
    }
   ],
   "source": [
    "print ('results',gsearch8.grid_scores_)\n",
    "print ('best paras',gsearch8.best_params_)\n",
    "print ('best_score_',gsearch8.best_score_)"
   ]
  },
  {
   "cell_type": "code",
   "execution_count": 69,
   "metadata": {},
   "outputs": [
    {
     "name": "stderr",
     "output_type": "stream",
     "text": [
      "\n",
      "\n",
      "\n",
      "\n"
     ]
    },
    {
     "name": "stdout",
     "output_type": "stream",
     "text": [
      "results [mean: -0.12777, std: 0.00067, params: {'reg_lambda': 2.5}, mean: -0.12775, std: 0.00072, params: {'reg_lambda': 5}, mean: -0.12776, std: 0.00066, params: {'reg_lambda': 7.5}]\n",
      "best paras {'reg_lambda': 5}\n",
      "best_score_ -0.12774503424335962\n"
     ]
    }
   ],
   "source": [
    "############################\n",
    "#3. Lets go smaller interval centering around the above optimum all over again\n",
    "############################\n",
    "param_test9 = {\n",
    " 'reg_lambda':[2.5 , 5, 7.5]\n",
    "}\n",
    "\n",
    "\n",
    "gsearch9 = GridSearchCV(estimator = XGBClassifier( learning_rate =0.1, \n",
    "\tn_estimators = fixed_estimator, \n",
    "\tmax_depth= gsearch2.best_params_['max_depth'],\n",
    " \tmin_child_weight= gsearch2.best_params_['min_child_weight'], \n",
    " \tgamma= gsearch3.best_params_['gamma'], \n",
    " \tsubsample = 0.95, \n",
    " \tcolsample_bytree = 0.75,\n",
    " \tobjective= 'binary:logistic', \n",
    " \tnthread=4, \n",
    " \tscale_pos_weight=1, \n",
    " \tseed=seed,\n",
    "    reg_lambda=1), \n",
    " \tparam_grid = param_test9, \n",
    " \tscoring='neg_log_loss',\n",
    " \tn_jobs=4,\n",
    " \tcv=cv)\n",
    "# running\n",
    "gsearch9.fit(X_train, Y_train)\n",
    "\n",
    "print ('results',gsearch9.grid_scores_)\n",
    "print ('best paras',gsearch9.best_params_)\n",
    "print ('best_score_',gsearch9.best_score_)"
   ]
  },
  {
   "cell_type": "code",
   "execution_count": 70,
   "metadata": {},
   "outputs": [
    {
     "data": {
      "text/plain": [
       "7"
      ]
     },
     "execution_count": 70,
     "metadata": {},
     "output_type": "execute_result"
    }
   ],
   "source": [
    "gsearch2.best_params_['max_depth']"
   ]
  },
  {
   "cell_type": "code",
   "execution_count": 71,
   "metadata": {},
   "outputs": [
    {
     "data": {
      "text/plain": [
       "4"
      ]
     },
     "execution_count": 71,
     "metadata": {},
     "output_type": "execute_result"
    }
   ],
   "source": [
    "gsearch2.best_params_['min_child_weight']"
   ]
  },
  {
   "cell_type": "code",
   "execution_count": 72,
   "metadata": {},
   "outputs": [
    {
     "data": {
      "text/plain": [
       "0.0"
      ]
     },
     "execution_count": 72,
     "metadata": {},
     "output_type": "execute_result"
    }
   ],
   "source": [
    "gsearch3.best_params_['gamma']"
   ]
  },
  {
   "cell_type": "code",
   "execution_count": null,
   "metadata": {},
   "outputs": [],
   "source": []
  }
 ],
 "metadata": {
  "kernelspec": {
   "display_name": "Python 3",
   "language": "python",
   "name": "python3"
  },
  "language_info": {
   "codemirror_mode": {
    "name": "ipython",
    "version": 3
   },
   "file_extension": ".py",
   "mimetype": "text/x-python",
   "name": "python",
   "nbconvert_exporter": "python",
   "pygments_lexer": "ipython3",
   "version": "3.6.4"
  }
 },
 "nbformat": 4,
 "nbformat_minor": 2
}
